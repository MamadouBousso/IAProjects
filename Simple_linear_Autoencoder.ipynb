{
  "nbformat": 4,
  "nbformat_minor": 0,
  "metadata": {
    "kernelspec": {
      "display_name": "Python [default]",
      "language": "python",
      "name": "python3"
    },
    "language_info": {
      "codemirror_mode": {
        "name": "ipython",
        "version": 3
      },
      "file_extension": ".py",
      "mimetype": "text/x-python",
      "name": "python",
      "nbconvert_exporter": "python",
      "pygments_lexer": "ipython3",
      "version": "3.6.4"
    },
    "colab": {
      "name": "Simple_linear_Autoencoder.ipynb",
      "provenance": [],
      "include_colab_link": true
    }
  },
  "cells": [
    {
      "cell_type": "markdown",
      "metadata": {
        "id": "view-in-github",
        "colab_type": "text"
      },
      "source": [
        "<a href=\"https://colab.research.google.com/github/MamadouBousso/IAProjects/blob/master/Simple_linear_Autoencoder.ipynb\" target=\"_parent\"><img src=\"https://colab.research.google.com/assets/colab-badge.svg\" alt=\"Open In Colab\"/></a>"
      ]
    },
    {
      "cell_type": "markdown",
      "metadata": {
        "id": "S-tFDv9sOtzB"
      },
      "source": [
        "# A Simple Autoencoder\n",
        "\n",
        "We'll start off by building a simple autoencoder to compress the MNIST dataset. With autoencoders, we pass input data through an encoder that makes a compressed representation of the input. Then, this representation is passed through a decoder to reconstruct the input data. Generally the encoder and decoder will be built with neural networks, then trained on example data.\n",
        "\n",
        "<img src='notebook_ims/autoencoder_1.png' />\n",
        "\n",
        "### Compressed Representation\n",
        "\n",
        "A compressed representation can be great for saving and sharing any kind of data in a way that is more efficient than storing raw data. In practice, the compressed representation often holds key information about an input image and we can use it for denoising images or oher kinds of reconstruction and transformation!\n",
        "\n",
        "<img src='notebook_ims/denoising.png' width=60%/>\n",
        "\n",
        "In this notebook, we'll be build a simple network architecture for the encoder and decoder. Let's get started by importing our libraries and getting the dataset."
      ]
    },
    {
      "cell_type": "code",
      "metadata": {
        "collapsed": true,
        "id": "_VS9JH7MOtzF"
      },
      "source": [
        "import torch\n",
        "import numpy as np\n",
        "from torchvision import datasets\n",
        "import torchvision.transforms as transforms\n",
        "\n",
        "# convert data to torch.FloatTensor\n",
        "transform = transforms.ToTensor()\n",
        "\n",
        "# load the training and test datasets\n",
        "train_data = datasets.MNIST(root='data', train=True,\n",
        "                                   download=True, transform=transform)\n",
        "test_data = datasets.MNIST(root='data', train=False,\n",
        "                                  download=True, transform=transform)"
      ],
      "execution_count": 12,
      "outputs": []
    },
    {
      "cell_type": "code",
      "metadata": {
        "collapsed": true,
        "id": "DW5MMNqrOtzG"
      },
      "source": [
        "# Create training and test dataloaders\n",
        "\n",
        "# number of subprocesses to use for data loading\n",
        "num_workers = 0\n",
        "# how many samples per batch to load\n",
        "batch_size = 20\n",
        "\n",
        "# prepare data loaders\n",
        "train_loader = torch.utils.data.DataLoader(train_data, batch_size=batch_size, num_workers=num_workers)\n",
        "test_loader = torch.utils.data.DataLoader(test_data, batch_size=batch_size, num_workers=num_workers)"
      ],
      "execution_count": 13,
      "outputs": []
    },
    {
      "cell_type": "markdown",
      "metadata": {
        "id": "76hL14DBOtzH"
      },
      "source": [
        "### Visualize the Data"
      ]
    },
    {
      "cell_type": "code",
      "metadata": {
        "id": "oJVawOGqOtzH",
        "colab": {
          "base_uri": "https://localhost:8080/",
          "height": 337
        },
        "outputId": "c8b5bb97-9a5a-4a7a-e599-f2516bcf452b"
      },
      "source": [
        "import matplotlib.pyplot as plt\n",
        "%matplotlib inline\n",
        "    \n",
        "# obtain one batch of training images\n",
        "dataiter = iter(train_loader)\n",
        "images, labels = dataiter.next()\n",
        "images = images.numpy()\n",
        "\n",
        "# get one image from the batch\n",
        "img = np.squeeze(images[0])\n",
        "\n",
        "fig = plt.figure(figsize = (5,5)) \n",
        "ax = fig.add_subplot(111)\n",
        "ax.imshow(img, cmap='gray')"
      ],
      "execution_count": 14,
      "outputs": [
        {
          "output_type": "execute_result",
          "data": {
            "text/plain": [
              "<matplotlib.image.AxesImage at 0x7fd419ba6b90>"
            ]
          },
          "metadata": {
            "tags": []
          },
          "execution_count": 14
        },
        {
          "output_type": "display_data",
          "data": {
            "image/png": "[encoded data removed]",
            "text/plain": [
              "<Figure size 360x360 with 1 Axes>"
            ]
          },
          "metadata": {
            "tags": [],
            "needs_background": "light"
          }
        }
      ]
    },
    {
      "cell_type": "markdown",
      "metadata": {
        "id": "OcKvcL1sOtzI"
      },
      "source": [
        "---\n",
        "## Linear Autoencoder\n",
        "\n",
        "\n",
        "\n",
        "Nous allons entraîner un encodeur automatique avec ces images en les aplatissant en des vecteurs de longueur 784. Les images de cet ensemble de données sont déjà normalisées de telle sorte que les valeurs soient comprises entre 0 et 1. Commençons par construire un simple auto-encodeur. L'encodeur et le décodeur doivent être constitués d'une **couche linéaire**. Les unités qui relient l'encodeur et le décodeur seront la _représentation compressée_.\n",
        "\n",
        "Étant donné que les images sont normalisées entre 0 et 1, nous devons utiliser une **activation sigmoïde sur la couche de sortie** pour obtenir des valeurs qui correspondent à cette plage de valeurs d'entrée.\n",
        "\n",
        "\n",
        "<img src='notebook_ims/simple_autoencoder.png' width=50% />\n",
        "\n",
        "\n",
        "\n",
        "\n",
        "#### A FAIRE : Construisez le graphique de l'encodeur automatique dans la cellule ci-dessous.\n",
        "> Les images d'entrée seront aplaties en des vecteurs de longueur 784. Les cibles sont les mêmes que les entrées.\n",
        "> L'encodeur et le décodeur seront constitués de deux couches linéaires, chacune.\n",
        "> Les dimensions de profondeur doivent changer comme suit : 784 entrées > **encoding_dim** > 784 sorties.\n",
        "> Toutes les couches auront des activations ReLu appliquées à l'exception de la couche de sortie finale, qui a une activation sigmoïde.\n",
        "\n",
        "**La représentation compressée doit être un vecteur de dimension `encoding_dim=32`.**"
      ]
    },
    {
      "cell_type": "code",
      "metadata": {
        "collapsed": true,
        "id": "snOagpEaOtzI",
        "colab": {
          "base_uri": "https://localhost:8080/"
        },
        "outputId": "aa47309b-884b-4292-c5ad-6b0cf12e2763"
      },
      "source": [
        "import torch.nn as nn\n",
        "import torch.nn.functional as F\n",
        "\n",
        "# define the NN architecture\n",
        "class Autoencoder(nn.Module):\n",
        "    def __init__(self, encoding_dim):\n",
        "        super(Autoencoder, self).__init__()\n",
        "        ## encoder ##\n",
        "        self.lin1 = nn.Linear(784,encoding_dim)\n",
        "        ## decoder ##\n",
        "        self.lin2 = nn.Linear(encoding_dim,784)\n",
        "        \n",
        "\n",
        "    def forward(self, x):\n",
        "        # define feedforward behavior \n",
        "        # and scale the *output* layer with a sigmoid activation function\n",
        "        x = self.lin1(x)\n",
        "        x = F.relu(x)\n",
        "        x = torch.sigmoid(self.lin2(x))\n",
        "\n",
        "        return x\n",
        "\n",
        "# initialize the NN\n",
        "encoding_dim = 32\n",
        "model = Autoencoder(encoding_dim)\n",
        "print(model)"
      ],
      "execution_count": 26,
      "outputs": [
        {
          "output_type": "stream",
          "text": [
            "Autoencoder(\n",
            "  (lin1): Linear(in_features=784, out_features=32, bias=True)\n",
            "  (lin2): Linear(in_features=32, out_features=784, bias=True)\n",
            ")\n"
          ],
          "name": "stdout"
        }
      ]
    },
    {
      "cell_type": "markdown",
      "metadata": {
        "id": "zK9ITgreOtzJ"
      },
      "source": [
        "---\n",
        "## Training\n",
        "\n",
        "Here I'll write a bit of code to train the network. I'm not too interested in validation here, so I'll just monitor the training loss and the test loss afterwards. \n",
        "\n",
        "We are not concerned with labels in this case, just images, which we can get from the `train_loader`. Because we're comparing pixel values in input and output images, it will be best to use a loss that is meant for a regression task. Regression is all about comparing _quantities_ rather than probabilistic values. So, in this case, I'll use `MSELoss`. And compare output images and input images as follows:\n",
        "Ici, je vais écrire un peu de code pour entraîner le réseau. Je ne suis pas trop intéressé par la validation ici, donc je surveillerai simplement le training loss et le test loss par la suite.\n",
        "\n",
        "Nous ne sommes pas concernés par les labels dans ce cas, juste les images, que nous pouvons obtenir à partir du `train_loader`. Étant donné que nous comparons les valeurs de pixels dans les images d'entrée et de sortie, il sera préférable d'utiliser une perte destinée qui a un sens pour une tâche de régression. La régression consiste à comparer des _quantités_ plutôt que des valeurs probabilistes. Donc, dans ce cas, j'utiliserai `MSELoss`. Et comparez les images de sortie et les images d'entrée comme suit :\n",
        "```\n",
        "loss = criterion(outputs, images)\n",
        "```\n",
        "\n"
      ]
    },
    {
      "cell_type": "code",
      "metadata": {
        "collapsed": true,
        "id": "NBhLOpTgOtzK"
      },
      "source": [
        "# specify loss function\n",
        "criterion = nn.MSELoss()\n",
        "\n",
        "# specify loss function\n",
        "optimizer = torch.optim.Adam(model.parameters(), lr=0.001)"
      ],
      "execution_count": 27,
      "outputs": []
    },
    {
      "cell_type": "code",
      "metadata": {
        "collapsed": true,
        "id": "ueYfHABBOtzK",
        "colab": {
          "base_uri": "https://localhost:8080/"
        },
        "outputId": "7730b81c-51ed-4a14-a924-6e8cc811789f"
      },
      "source": [
        "# number of epochs to train the model\n",
        "n_epochs = 30\n",
        "\n",
        "for epoch in range(1, n_epochs+1):\n",
        "    # monitor training loss\n",
        "    train_loss = 0.0\n",
        "    \n",
        "    ###################\n",
        "    # train the model #\n",
        "    ###################\n",
        "    for data in train_loader:\n",
        "        # _ stands in for labels, here\n",
        "        images, _ = data\n",
        "        # flatten images\n",
        "        images = images.view(images.size(0), -1)\n",
        "        # clear the gradients of all optimized variables\n",
        "        optimizer.zero_grad()\n",
        "        # forward pass: compute predicted outputs by passing inputs to the model\n",
        "        outputs = model(images)\n",
        "        # calculate the loss\n",
        "        loss = criterion(outputs, images)\n",
        "        # backward pass: compute gradient of the loss with respect to model parameters\n",
        "        loss.backward()\n",
        "        # perform a single optimization step (parameter update)\n",
        "        optimizer.step()\n",
        "        # update running training loss\n",
        "        train_loss += loss.item()*images.size(0)\n",
        "            \n",
        "    # print avg training statistics \n",
        "    train_loss = train_loss/len(train_loader)\n",
        "    print('Epoch: {} \\tTraining Loss: {:.6f}'.format(\n",
        "        epoch, \n",
        "        train_loss\n",
        "        ))"
      ],
      "execution_count": 28,
      "outputs": [
        {
          "output_type": "stream",
          "text": [
            "Epoch: 1 \tTraining Loss: 0.600887\n",
            "Epoch: 2 \tTraining Loss: 0.273446\n",
            "Epoch: 3 \tTraining Loss: 0.239214\n",
            "Epoch: 4 \tTraining Loss: 0.231943\n",
            "Epoch: 5 \tTraining Loss: 0.228690\n",
            "Epoch: 6 \tTraining Loss: 0.226660\n",
            "Epoch: 7 \tTraining Loss: 0.225174\n",
            "Epoch: 8 \tTraining Loss: 0.224023\n",
            "Epoch: 9 \tTraining Loss: 0.223163\n",
            "Epoch: 10 \tTraining Loss: 0.222440\n",
            "Epoch: 11 \tTraining Loss: 0.221599\n",
            "Epoch: 12 \tTraining Loss: 0.220978\n",
            "Epoch: 13 \tTraining Loss: 0.220479\n",
            "Epoch: 14 \tTraining Loss: 0.220023\n",
            "Epoch: 15 \tTraining Loss: 0.219603\n",
            "Epoch: 16 \tTraining Loss: 0.219202\n",
            "Epoch: 17 \tTraining Loss: 0.218845\n",
            "Epoch: 18 \tTraining Loss: 0.218515\n",
            "Epoch: 19 \tTraining Loss: 0.218207\n",
            "Epoch: 20 \tTraining Loss: 0.217914\n",
            "Epoch: 21 \tTraining Loss: 0.217639\n",
            "Epoch: 22 \tTraining Loss: 0.217379\n",
            "Epoch: 23 \tTraining Loss: 0.217120\n",
            "Epoch: 24 \tTraining Loss: 0.216868\n",
            "Epoch: 25 \tTraining Loss: 0.216633\n",
            "Epoch: 26 \tTraining Loss: 0.216413\n",
            "Epoch: 27 \tTraining Loss: 0.216201\n",
            "Epoch: 28 \tTraining Loss: 0.215995\n",
            "Epoch: 29 \tTraining Loss: 0.215785\n",
            "Epoch: 30 \tTraining Loss: 0.215588\n"
          ],
          "name": "stdout"
        }
      ]
    },
    {
      "cell_type": "markdown",
      "metadata": {
        "id": "dMZ_P9aOOtzL"
      },
      "source": [
        "## Checking out the results\n",
        "\n",
        "Below I've plotted some of the test images along with their reconstructions. For the most part these look pretty good except for some blurriness in some parts."
      ]
    },
    {
      "cell_type": "code",
      "metadata": {
        "collapsed": true,
        "id": "Jd42sck_OtzL",
        "colab": {
          "base_uri": "https://localhost:8080/",
          "height": 206
        },
        "outputId": "62351e00-e99b-4a2f-e2da-cf371cced1a2"
      },
      "source": [
        "# obtain one batch of test images\n",
        "dataiter = iter(test_loader)\n",
        "images, labels = dataiter.next()\n",
        "\n",
        "images_flatten = images.view(images.size(0), -1)\n",
        "# get sample outputs\n",
        "output = model(images_flatten)\n",
        "# prep images for display\n",
        "images = images.numpy()\n",
        "\n",
        "# output is resized into a batch of images\n",
        "output = output.view(batch_size, 1, 28, 28)\n",
        "# use detach when it's an output that requires_grad\n",
        "output = output.detach().numpy()\n",
        "\n",
        "# plot the first ten input images and then reconstructed images\n",
        "fig, axes = plt.subplots(nrows=2, ncols=10, sharex=True, sharey=True, figsize=(25,4))\n",
        "\n",
        "# input images on top row, reconstructions on bottom\n",
        "for images, row in zip([images, output], axes):\n",
        "    for img, ax in zip(images, row):\n",
        "        ax.imshow(np.squeeze(img), cmap='gray')\n",
        "        ax.get_xaxis().set_visible(False)\n",
        "        ax.get_yaxis().set_visible(False)"
      ],
      "execution_count": 29,
      "outputs": [
        {
          "output_type": "display_data",
          "data": {
            "image/png": "[encoded data removed]",
            "text/plain": [
              "<Figure size 1800x288 with 20 Axes>"
            ]
          },
          "metadata": {
            "tags": [],
            "needs_background": "light"
          }
        }
      ]
    },
    {
      "cell_type": "markdown",
      "metadata": {
        "collapsed": true,
        "id": "YDVzLObOOtzM"
      },
      "source": [
        "## Up Next\n",
        "\n",
        "We're dealing with images here, so we can (usually) get better performance using convolution layers. So, next we'll build a better autoencoder with convolutional layers."
      ]
    }
  ]
}