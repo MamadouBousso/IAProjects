{
  "nbformat": 4,
  "nbformat_minor": 0,
  "metadata": {
    "kernelspec": {
      "display_name": "Python [default]",
      "language": "python",
      "name": "python3"
    },
    "language_info": {
      "codemirror_mode": {
        "name": "ipython",
        "version": 3
      },
      "file_extension": ".py",
      "mimetype": "text/x-python",
      "name": "python",
      "nbconvert_exporter": "python",
      "pygments_lexer": "ipython3",
      "version": "3.6.4"
    },
    "colab": {
      "name": "Convolutional_Autoencoder.ipynb",
      "provenance": [],
      "collapsed_sections": [],
      "include_colab_link": true
    }
  },
  "cells": [
    {
      "cell_type": "markdown",
      "metadata": {
        "id": "view-in-github",
        "colab_type": "text"
      },
      "source": [
        "<a href=\"https://colab.research.google.com/github/MamadouBousso/IAProjects/blob/master/Convolutional_Autoencoder.ipynb\" target=\"_parent\"><img src=\"https://colab.research.google.com/assets/colab-badge.svg\" alt=\"Open In Colab\"/></a>"
      ]
    },
    {
      "cell_type": "markdown",
      "metadata": {
        "id": "rVnbklZYZtmY"
      },
      "source": [
        "# Convolutional Autoencoder\n",
        "\n",
        "Sticking with the MNIST dataset, let's improve our autoencoder's performance using convolutional layers. We'll build a convolutional autoencoder to compress the MNIST dataset. \n",
        "\n",
        ">The encoder portion will be made of convolutional and pooling layers and the decoder will be made of **transpose convolutional layers** that learn to \"upsample\" a compressed representation.\n",
        "\n",
        "<img src='notebook_ims/autoencoder_1.png' />\n",
        "![Capture d’écran 2021-07-08 à 23.04.15.png]"
      ]
    },
    {
      "cell_type": "code",
      "metadata": {
        "collapsed": true,
        "id": "4OlaXdH_wCOP"
      },
      "source": [
        "# Create training and test dataloaders\n",
        "\n",
        "num_workers = 0\n",
        "# how many samples per batch to load\n",
        "batch_size = 20\n",
        "\n",
        "# prepare data loaders\n",
        "train_loader = torch.utils.data.DataLoader(train_data, batch_size=batch_size, num_workers=num_workers)\n",
        "test_loader = torch.utils.data.DataLoader(test_data, batch_size=batch_size, num_workers=num_workers)"
      ],
      "execution_count": 2,
      "outputs": []
    },
    {
      "cell_type": "markdown",
      "metadata": {
        "id": "KxOHoFCEwCOP"
      },
      "source": [
        "### Visualize the Data"
      ]
    },
    {
      "cell_type": "code",
      "metadata": {
        "id": "V3c5_9QtwCOQ",
        "colab": {
          "base_uri": "https://localhost:8080/",
          "height": 337
        },
        "outputId": "bcfa3164-b942-4b61-c057-443a1c4e15d5"
      },
      "source": [
        "import matplotlib.pyplot as plt\n",
        "%matplotlib inline\n",
        "    \n",
        "# obtain one batch of training images\n",
        "dataiter = iter(train_loader)\n",
        "images, labels = dataiter.next()\n",
        "images = images.numpy()\n",
        "\n",
        "# get one image from the batch\n",
        "img = np.squeeze(images[0])\n",
        "\n",
        "fig = plt.figure(figsize = (5,5)) \n",
        "ax = fig.add_subplot(111)\n",
        "ax.imshow(img, cmap='gray')"
      ],
      "execution_count": 3,
      "outputs": [
        {
          "output_type": "execute_result",
          "data": {
            "text/plain": [
              "<matplotlib.image.AxesImage at 0x7f4bf3f0a210>"
            ]
          },
          "metadata": {
            "tags": []
          },
          "execution_count": 3
        },
        {
          "output_type": "display_data",
          "data": {
            "image/png": "[encoded data removed]",
            "text/plain": [
              "<Figure size 360x360 with 1 Axes>"
            ]
          },
          "metadata": {
            "tags": [],
            "needs_background": "light"
          }
        }
      ]
    },
    {
      "cell_type": "markdown",
      "metadata": {
        "id": "APX0gE9ywCOQ"
      },
      "source": [
        "---\n",
        "\n",
        "\n",
        "## Autoencodeur convolutif\n",
        "\n",
        "#### Encodeur\n",
        "La partie encodeur du réseau sera une pyramide convolutive. Chaque couche convolutive sera suivie d'une couche de max-pooling pour réduire les dimensions des couches.\n",
        "\n",
        "#### Décodeur\n",
        "\n",
        "Le décodeur pourrait être quelque chose de nouveau pour vous. Le décodeur doit passer d'une représentation d'image compressée à une image reconstruite. Par exemple, la représentation pourrait être une couche max-pool 7x7x4 qui est la sortie de l'encodeur, mais aussi l'entrée du décodeur. Nous voulons obtenir une image 28x28x1 du décodeur, nous devons donc remonter à partir de la représentation compressée. Un schéma du réseau est présenté ci-dessous.\n",
        "\n",
        "<img src='notebook_ims/conv_enc_1.png' width=640px>\n",
        "\n",
        "Ici, notre couche d'encodeur finale a une taille de 7x7x4 = 196. Les images originales ont une taille de 28x28 = 784, de sorte que le vecteur encodé correspond à 25% de la taille de l'image originale. Ce ne sont que des tailles suggérées pour chacune des couches. N'hésitez pas à modifier les profondeurs et les tailles, en fait, vous êtes encouragé à ajouter des couches supplémentaires pour rendre cette représentation encore plus petite ! N'oubliez pas que notre objectif ici est de trouver une petite représentation des données d'entrée.\n",
        "\n",
        "\n",
        "\n",
        "### Transpose Convolutions, Decodeur\n",
        "\n",
        "Ce décodeur utilise des couches **convolutives transposées** pour augmenter la largeur et la hauteur des couches d'entrée. Ils fonctionnent presque exactement de la même manière que les couches convolutives, mais à l'envers. Un stride dans la couche d'entrée entraîne un stride plus important dans la couche de convolution transposée. Par exemple, si vous avez un noyau 3x3, un patch 3x3 dans la couche d'entrée sera réduit à une unité dans une couche convolutive. Comparativement, une unité dans la couche d'entrée sera étendue à un chemin 3x3 dans une couche de convolution transposée. PyTorch nous fournit un moyen simple de créer les couches,[`nn.ConvTranspose2d`](https://pytorch.org/docs/stable/nn.html#convtranspose2d). \n",
        "\n",
        "\n",
        "Il est important de noter que la transposition des couches de convolution peut entraîner des artefacts dans les images finales, tels que des motifs en damier. Ceci est dû au chevauchement dans les noyaux qui peut être évité en définissant une même taille pour le stride et la taille du noyau. In [this Distill article](http://distill.pub/2016/deconv-checkerboard/) d'après Augustus Odena, *et al*, les auteurs montrent que ces artefacts en damier peuvent être évités en redimensionnant les couches en utilisant le plus proche voisin ou une interpolation bilinéaire (suréchantillonnage) suivie d'une couche convolutive.\n",
        "\n",
        "> Nous montrerons cette approche dans un autre notebook, afin que vous puissiez l'expérimenter et voir la différence.\n",
        "#### À FAIRE : Construisez le réseau illustré ci-dessus.\n",
        "> Construisez l'encodeur à partir d'une série de couches convolutives et de mise en commun.\n",
        "> Lors de la construction du décodeur, rappelez-vous que les couches convolutives transposées peuvent suréchantillonner une entrée d'un facteur 2 en utilisant un stride et un noyau de taille  2.\n",
        "\n",
        "\n"
      ]
    },
    {
      "cell_type": "code",
      "metadata": {
        "collapsed": true,
        "id": "fmelFzvhwCOR",
        "colab": {
          "base_uri": "https://localhost:8080/"
        },
        "outputId": "6f6cf1cb-7fb9-4fa9-ec5a-e7ab71e1d2e5"
      },
      "source": [
        "import torch.nn as nn\n",
        "import torch.nn.functional as F\n",
        "\n",
        "# define the NN architecture\n",
        "class ConvAutoencoder(nn.Module):\n",
        "    def __init__(self):\n",
        "        super(ConvAutoencoder, self).__init__()\n",
        "        ## encoder layers ##\n",
        "        self.conv1 = nn.Conv2d(1,16,3,padding=1)\n",
        "        self.conv2 = nn.Conv2d(16,32,3,padding=1)\n",
        "        \n",
        "        self.maxpool = nn.MaxPool2d(2)\n",
        "        \n",
        "        ## decoder layers ##\n",
        "        ## a kernel of 2 and a stride of 2 will increase the spatial dims by 2\n",
        "        self.t_conv1 = nn.ConvTranspose2d(32, 16, 2, stride=2)\n",
        "        self.t_conv2 = nn.ConvTranspose2d(16, 1, 2, stride=2)\n",
        "\n",
        "\n",
        "    def forward(self, x):\n",
        "        ## encode ##\n",
        "        \n",
        "        x = F.relu(self.conv1(x))\n",
        "        x = self.maxpool(x)\n",
        "        \n",
        "        x = F.relu(self.conv2(x))\n",
        "        x = self.maxpool(x)\n",
        "        \n",
        "        \n",
        "        ## decode ##\n",
        "        ## apply ReLu to all hidden layers *except for the output layer\n",
        "        ## apply a sigmoid to the output layer\n",
        "        x = self.t_conv1(x)\n",
        "        x = self.t_conv2(x)\n",
        "        x = torch.sigmoid(x)        \n",
        "        return x\n",
        "\n",
        "# initialize the NN\n",
        "model = ConvAutoencoder()\n",
        "print(model)"
      ],
      "execution_count": 35,
      "outputs": [
        {
          "output_type": "stream",
          "text": [
            "ConvAutoencoder(\n",
            "  (conv1): Conv2d(1, 16, kernel_size=(3, 3), stride=(1, 1), padding=(1, 1))\n",
            "  (conv2): Conv2d(16, 32, kernel_size=(3, 3), stride=(1, 1), padding=(1, 1))\n",
            "  (maxpool): MaxPool2d(kernel_size=2, stride=2, padding=0, dilation=1, ceil_mode=False)\n",
            "  (t_conv1): ConvTranspose2d(32, 16, kernel_size=(2, 2), stride=(2, 2))\n",
            "  (t_conv2): ConvTranspose2d(16, 1, kernel_size=(2, 2), stride=(2, 2))\n",
            ")\n"
          ],
          "name": "stdout"
        }
      ]
    },
    {
      "cell_type": "markdown",
      "metadata": {
        "id": "Gju9JbRfwCOS"
      },
      "source": [
        "---\n",
        "## Training\n",
        "\n",
        "Here I'll write a bit of code to train the network. I'm not too interested in validation here, so I'll just monitor the training loss and the test loss afterwards. \n",
        "\n",
        "We are not concerned with labels in this case, just images, which we can get from the `train_loader`. Because we're comparing pixel values in input and output images, it will be best to use a loss that is meant for a regression task. Regression is all about comparing quantities rather than probabilistic values. So, in this case, I'll use `MSELoss`. And compare output images and input images as follows:\n",
        "```\n",
        "loss = criterion(outputs, images)\n",
        "```\n",
        "\n",
        "Otherwise, this is pretty straightfoward training with PyTorch. Since this is a convlutional autoencoder, our images _do not_ need to be flattened before being passed in an input to our model."
      ]
    },
    {
      "cell_type": "code",
      "metadata": {
        "collapsed": true,
        "id": "PYc-xAIMwCOS"
      },
      "source": [
        "# specify loss function\n",
        "criterion = nn.MSELoss()\n",
        "\n",
        "# specify loss function\n",
        "optimizer = torch.optim.Adam(model.parameters(), lr=0.001)"
      ],
      "execution_count": 36,
      "outputs": []
    },
    {
      "cell_type": "code",
      "metadata": {
        "collapsed": true,
        "id": "XLIXAH7TwCOS",
        "colab": {
          "base_uri": "https://localhost:8080/"
        },
        "outputId": "77cd11a4-3e7c-4a62-efab-2b9dabeb6e76"
      },
      "source": [
        "# number of epochs to train the model\n",
        "n_epochs = 30\n",
        "\n",
        "for epoch in range(1, n_epochs+1):\n",
        "    # monitor training loss\n",
        "    train_loss = 0.0\n",
        "    \n",
        "    ###################\n",
        "    # train the model #\n",
        "    ###################\n",
        "    for data in train_loader:\n",
        "        # _ stands in for labels, here\n",
        "        # no need to flatten images\n",
        "        images, _ = data\n",
        "        # clear the gradients of all optimized variables\n",
        "        optimizer.zero_grad()\n",
        "        # forward pass: compute predicted outputs by passing inputs to the model\n",
        "        outputs = model(images)\n",
        "        \n",
        "        # calculate the loss\n",
        "        loss = criterion(outputs, images)\n",
        "        # backward pass: compute gradient of the loss with respect to model parameters\n",
        "        loss.backward()\n",
        "        # perform a single optimization step (parameter update)\n",
        "        optimizer.step()\n",
        "        # update running training loss\n",
        "        train_loss += loss.item()*images.size(0)\n",
        "            \n",
        "    # print avg training statistics \n",
        "    train_loss = train_loss/len(train_loader)\n",
        "    print('Epoch: {} \\tTraining Loss: {:.6f}'.format(\n",
        "        epoch, \n",
        "        train_loss\n",
        "        ))"
      ],
      "execution_count": 37,
      "outputs": [
        {
          "output_type": "stream",
          "text": [
            "Epoch: 1 \tTraining Loss: 0.213283\n",
            "Epoch: 2 \tTraining Loss: 0.067630\n",
            "Epoch: 3 \tTraining Loss: 0.059735\n",
            "Epoch: 4 \tTraining Loss: 0.055744\n",
            "Epoch: 5 \tTraining Loss: 0.053215\n",
            "Epoch: 6 \tTraining Loss: 0.051653\n",
            "Epoch: 7 \tTraining Loss: 0.050501\n",
            "Epoch: 8 \tTraining Loss: 0.049657\n",
            "Epoch: 9 \tTraining Loss: 0.049003\n",
            "Epoch: 10 \tTraining Loss: 0.048453\n",
            "Epoch: 11 \tTraining Loss: 0.047983\n",
            "Epoch: 12 \tTraining Loss: 0.047570\n",
            "Epoch: 13 \tTraining Loss: 0.047210\n",
            "Epoch: 14 \tTraining Loss: 0.046891\n",
            "Epoch: 15 \tTraining Loss: 0.046614\n",
            "Epoch: 16 \tTraining Loss: 0.046373\n",
            "Epoch: 17 \tTraining Loss: 0.046163\n",
            "Epoch: 18 \tTraining Loss: 0.045973\n",
            "Epoch: 19 \tTraining Loss: 0.045803\n",
            "Epoch: 20 \tTraining Loss: 0.045648\n",
            "Epoch: 21 \tTraining Loss: 0.045500\n",
            "Epoch: 22 \tTraining Loss: 0.045355\n",
            "Epoch: 23 \tTraining Loss: 0.045198\n",
            "Epoch: 24 \tTraining Loss: 0.045048\n",
            "Epoch: 25 \tTraining Loss: 0.044913\n",
            "Epoch: 26 \tTraining Loss: 0.044787\n",
            "Epoch: 27 \tTraining Loss: 0.044671\n",
            "Epoch: 28 \tTraining Loss: 0.044558\n",
            "Epoch: 29 \tTraining Loss: 0.044457\n",
            "Epoch: 30 \tTraining Loss: 0.044359\n"
          ],
          "name": "stdout"
        }
      ]
    },
    {
      "cell_type": "markdown",
      "metadata": {
        "id": "ff4wuHKJwCOT"
      },
      "source": [
        "## Checking out the results\n",
        "\n",
        "Below I've plotted some of the test images along with their reconstructions. These look a little rough around the edges, likely due to the checkerboard effect we mentioned above that tends to happen with transpose layers."
      ]
    },
    {
      "cell_type": "code",
      "metadata": {
        "collapsed": true,
        "id": "1ztBaXUZwCOT",
        "colab": {
          "base_uri": "https://localhost:8080/",
          "height": 206
        },
        "outputId": "9320f879-1300-461c-8eb0-ae1b657dff12"
      },
      "source": [
        "# obtain one batch of test images\n",
        "dataiter = iter(test_loader)\n",
        "images, labels = dataiter.next()\n",
        "\n",
        "# get sample outputs\n",
        "output = model(images)\n",
        "# prep images for display\n",
        "images = images.numpy()\n",
        "\n",
        "# output is resized into a batch of iages\n",
        "output = output.view(batch_size, 1, 28, 28)\n",
        "# use detach when it's an output that requires_grad\n",
        "output = output.detach().numpy()\n",
        "\n",
        "# plot the first ten input images and then reconstructed images\n",
        "fig, axes = plt.subplots(nrows=2, ncols=10, sharex=True, sharey=True, figsize=(25,4))\n",
        "\n",
        "# input images on top row, reconstructions on bottom\n",
        "for images, row in zip([images, output], axes):\n",
        "    for img, ax in zip(images, row):\n",
        "        ax.imshow(np.squeeze(img), cmap='gray')\n",
        "        ax.get_xaxis().set_visible(False)\n",
        "        ax.get_yaxis().set_visible(False)"
      ],
      "execution_count": 38,
      "outputs": [
        {
          "output_type": "display_data",
          "data": {
            "image/png": "[encoded data removed]",
            "text/plain": [
              "<Figure size 1800x288 with 20 Axes>"
            ]
          },
          "metadata": {
            "tags": [],
            "needs_background": "light"
          }
        }
      ]
    }
  ]
}