{
  "nbformat": 4,
  "nbformat_minor": 5,
  "metadata": {
    "kernelspec": {
      "display_name": "Python 3 (ipykernel)",
      "language": "python",
      "name": "python3"
    },
    "language_info": {
      "codemirror_mode": {
        "name": "ipython",
        "version": 3
      },
      "file_extension": ".py",
      "mimetype": "text/x-python",
      "name": "python",
      "nbconvert_exporter": "python",
      "pygments_lexer": "ipython3",
      "version": "3.9.6"
    },
    "colab": {
      "name": "Webscrapingnotebook.ipynb",
      "provenance": [],
      "collapsed_sections": [],
      "include_colab_link": true
    }
  },
  "cells": [
    {
      "cell_type": "markdown",
      "metadata": {
        "id": "view-in-github",
        "colab_type": "text"
      },
      "source": [
        "<a href=\"https://colab.research.google.com/github/MamadouBousso/IAProjects/blob/master/Webscrapingnotebook.ipynb\" target=\"_parent\"><img src=\"https://colab.research.google.com/assets/colab-badge.svg\" alt=\"Open In Colab\"/></a>"
      ]
    },
    {
      "cell_type": "markdown",
      "metadata": {
        "id": "ef7407bb"
      },
      "source": [
        "## requests library\n",
        "This is one of the most important library to work with when you want to do web scraping. It helps downloading web pages we need to scrape"
      ],
      "id": "ef7407bb"
    },
    {
      "cell_type": "code",
      "metadata": {
        "id": "f0e86277"
      },
      "source": [
        "# Let's install the library\n",
        "!pip install requests --upgrade --quiet"
      ],
      "id": "f0e86277",
      "execution_count": null,
      "outputs": []
    },
    {
      "cell_type": "code",
      "metadata": {
        "colab": {
          "base_uri": "https://localhost:8080/"
        },
        "id": "q49BN6LK_l1u",
        "outputId": "571e35db-2daa-4b92-aecb-82f1acc4be31"
      },
      "source": [
        "from google.colab import drive\n",
        "drive.mount('/content/drive')"
      ],
      "id": "q49BN6LK_l1u",
      "execution_count": null,
      "outputs": [
        {
          "output_type": "stream",
          "text": [
            "Mounted at /content/drive\n"
          ],
          "name": "stdout"
        }
      ]
    },
    {
      "cell_type": "code",
      "metadata": {
        "id": "1cd965a2"
      },
      "source": [
        "# Let's import the library\n",
        "import requests"
      ],
      "id": "1cd965a2",
      "execution_count": null,
      "outputs": []
    },
    {
      "cell_type": "markdown",
      "metadata": {
        "id": "19577702"
      },
      "source": [
        "### Job 1\n",
        "We will write a function that will help download a web page using request\n",
        "The requests.get function returns a response object with the page contents and some information indicating whether the request was successful, using a status code. Learn more about HTTP status codes here: https://developer.mozilla.org/en-US/docs/Web/HTTP/Status.\n",
        "If the request was successful, response.status_code is set to a value between 200 and 299."
      ],
      "id": "19577702"
    },
    {
      "cell_type": "code",
      "metadata": {
        "id": "adda7cf5"
      },
      "source": [
        "def getWebPage(topic_url):\n",
        "    '''\n",
        "    Get the content of the page you want to scrape\n",
        "    :param arg1: The URL of the page you want to scrape\n",
        "    :type arg1: str\n",
        "    :return : the status code of the response, content from this url or an assertion error\n",
        "    \n",
        "    '''\n",
        "    \n",
        "    response = requests.get(topic_url)\n",
        "     \n",
        "    try: \n",
        "      assert response.status_code  in [200,201,202,203,204,205,207,208,226]\n",
        "      return response.status_code, response.text\n",
        "    except AssertionError:\n",
        "      print(f\"Problem with your url or your request. Try to check it.status_code: {response.status_code}\")\n",
        "      return None,None"
      ],
      "id": "adda7cf5",
      "execution_count": null,
      "outputs": []
    },
    {
      "cell_type": "code",
      "metadata": {
        "colab": {
          "base_uri": "https://localhost:8080/"
        },
        "id": "d07d0a35",
        "outputId": "c84e1d12-86b9-429a-afde-0910e2399b1c"
      },
      "source": [
        "#Test\n",
        "topic_url = \"https://dagshub.com/Omdena/OmdenaLore\"\n",
        "code,pagecontent = getWebPage(topic_url)\n",
        "print(code)\n",
        "\n"
      ],
      "id": "d07d0a35",
      "execution_count": null,
      "outputs": [
        {
          "output_type": "stream",
          "text": [
            "Problem with your url or your request. Try to check it.status_code: 404\n",
            "None\n"
          ],
          "name": "stdout"
        }
      ]
    },
    {
      "cell_type": "code",
      "metadata": {
        "id": "1586f207"
      },
      "source": [
        "topic_url1 = \"https://developer.mozilla.org/en-US/docs/Web/HTTP/Status\"\n",
        "code2,pagecontent2 = getWebPage(topic_url1)\n",
        "\n",
        "\n"
      ],
      "id": "1586f207",
      "execution_count": null,
      "outputs": []
    },
    {
      "cell_type": "code",
      "metadata": {
        "colab": {
          "base_uri": "https://localhost:8080/",
          "height": 171
        },
        "id": "0bc5967b",
        "outputId": "0fc29ca5-63d3-43cb-f7ac-83e0ae078fa1"
      },
      "source": [
        "print(code2)\n",
        "pagecontent2[:1000]"
      ],
      "id": "0bc5967b",
      "execution_count": null,
      "outputs": [
        {
          "output_type": "stream",
          "text": [
            "200\n"
          ],
          "name": "stdout"
        },
        {
          "output_type": "execute_result",
          "data": {
            "application/vnd.google.colaboratory.intrinsic+json": {
              "type": "string"
            },
            "text/plain": [
              "'<!DOCTYPE html><html lang=\"en-US\" prefix=\"og: https://ogp.me/ns#\"><head><meta charset=\"utf-8\"><meta name=\"viewport\" content=\"width=device-width,initial-scale=1\"><link rel=\"icon\" href=\"/favicon-48x48.97046865.png\"><link rel=\"apple-touch-icon\" href=\"/apple-touch-icon.0ea0fa02.png\"><meta name=\"theme-color\" content=\"#ffffff\"><link rel=\"manifest\" href=\"/manifest.56b1cedc.json\"><script>Array.prototype.flat&&Array.prototype.includes||document.write(\\'<script src=\"https://polyfill.io/v3/polyfill.min.js?features=Array.prototype.flat%2Ces6\"><\\\\/script>\\')</script><title>HTTP response status codes - HTTP | MDN</title><link rel=\"preload\" as=\"font\" type=\"font/woff2\" crossorigin=\"\" href=\"/static/media/ZillaSlab-Bold.subset.0beac26b.woff2\"><link rel=\"alternate\" title=\"HTTP response status codes\" href=\"https://developer.mozilla.org/en-US/docs/Web/HTTP/Status\" hreflang=\"en\"><link rel=\"alternate\" title=\"HTTP 狀態碼\" href=\"https://developer.mozilla.org/zh-TW/docs/Web/HTTP/Status\" hreflang=\"zh-TW\"><link rel=\"al'"
            ]
          },
          "metadata": {
            "tags": []
          },
          "execution_count": 8
        }
      ]
    },
    {
      "cell_type": "markdown",
      "metadata": {
        "id": "NzeZ7dZ5gSsV"
      },
      "source": [
        "## Exercise\n",
        "\n",
        "Try to get contents of many web pages and analyse the status code you get in case of an error"
      ],
      "id": "NzeZ7dZ5gSsV"
    },
    {
      "cell_type": "markdown",
      "metadata": {
        "id": "c1db5d3c"
      },
      "source": [
        "### Job 2\n",
        "Write all the page contents in a file. We will use the function defined below"
      ],
      "id": "c1db5d3c"
    },
    {
      "cell_type": "code",
      "metadata": {
        "id": "69089e1d"
      },
      "source": [
        "def putContentFile(filename,contents, encoding=\"utf-8\"):\n",
        "  '''\n",
        "  Get a new html file where the content of a web page is written\n",
        "  :param arg1: name of the html file in which you want to put the content\n",
        "  :param arg2: the contents we will write in the file\n",
        "  :param arg3: the encoding of the file\n",
        "  :type arg1: str\n",
        "  :type arg2: object get from response object\n",
        "  :type arg3: str\n",
        "\n",
        "  '''\n",
        "  with open(filename,mode='w',encoding = encoding) as file:\n",
        "    file.write(contents)\n",
        "        "
      ],
      "id": "69089e1d",
      "execution_count": null,
      "outputs": []
    },
    {
      "cell_type": "code",
      "metadata": {
        "id": "52c7d7d5"
      },
      "source": [
        "putContentFile('status.html',pagecontent2)"
      ],
      "id": "52c7d7d5",
      "execution_count": null,
      "outputs": []
    },
    {
      "cell_type": "markdown",
      "metadata": {
        "id": "a7c4dc9a"
      },
      "source": [
        "### You can verify that the file status.html is created"
      ],
      "id": "a7c4dc9a"
    },
    {
      "cell_type": "markdown",
      "metadata": {
        "id": "6b796910"
      },
      "source": [
        "> **EXERCISE**: Download the web page for a different topic, e.g., https://github.com/topics/data-analysis using `requests` and save it to a file, e.g., `data-analysis.html`. "
      ],
      "id": "6b796910"
    },
    {
      "cell_type": "markdown",
      "metadata": {
        "id": "be395ba8"
      },
      "source": [
        "## Beautiful Soup library"
      ],
      "id": "be395ba8"
    },
    {
      "cell_type": "markdown",
      "metadata": {
        "id": "c2541f09"
      },
      "source": [
        "### JOB3:  Extracting information from HTML using Beautiful Soup\n",
        "\n",
        "To extract information from the HTML source code of a webpage programmatically, we can use the [Beautiful Soup](https://www.crummy.com/software/BeautifulSoup/bs4/doc/) library. Let's install the library and import the `BeautifulSoup` class from the `bs4` module."
      ],
      "id": "c2541f09"
    },
    {
      "cell_type": "code",
      "metadata": {
        "colab": {
          "base_uri": "https://localhost:8080/"
        },
        "id": "d8330a16",
        "outputId": "ec6e4d0d-a841-443a-9a3a-604636a0ff85"
      },
      "source": [
        "# Install the library\n",
        "!pip install beautifulsoup4 --upgrade --quiet"
      ],
      "id": "d8330a16",
      "execution_count": null,
      "outputs": [
        {
          "output_type": "stream",
          "text": [
            "\u001b[?25l\r\u001b[K     |██▉                             | 10 kB 23.1 MB/s eta 0:00:01\r\u001b[K     |█████▋                          | 20 kB 9.8 MB/s eta 0:00:01\r\u001b[K     |████████▌                       | 30 kB 8.4 MB/s eta 0:00:01\r\u001b[K     |███████████▎                    | 40 kB 7.6 MB/s eta 0:00:01\r\u001b[K     |██████████████▏                 | 51 kB 4.1 MB/s eta 0:00:01\r\u001b[K     |█████████████████               | 61 kB 4.4 MB/s eta 0:00:01\r\u001b[K     |███████████████████▉            | 71 kB 4.5 MB/s eta 0:00:01\r\u001b[K     |██████████████████████▋         | 81 kB 5.0 MB/s eta 0:00:01\r\u001b[K     |█████████████████████████▌      | 92 kB 5.0 MB/s eta 0:00:01\r\u001b[K     |████████████████████████████▎   | 102 kB 4.0 MB/s eta 0:00:01\r\u001b[K     |███████████████████████████████▏| 112 kB 4.0 MB/s eta 0:00:01\r\u001b[K     |████████████████████████████████| 115 kB 4.0 MB/s \n",
            "\u001b[?25h"
          ],
          "name": "stdout"
        }
      ]
    },
    {
      "cell_type": "code",
      "metadata": {
        "id": "d072d6ff"
      },
      "source": [
        "# Import the library\n",
        "from bs4 import BeautifulSoup"
      ],
      "id": "d072d6ff",
      "execution_count": null,
      "outputs": []
    },
    {
      "cell_type": "code",
      "metadata": {
        "id": "e4124e9d"
      },
      "source": [
        "# You can see all the documentation for beautiful soup\n",
        "?BeautifulSoup"
      ],
      "id": "e4124e9d",
      "execution_count": null,
      "outputs": []
    },
    {
      "cell_type": "code",
      "metadata": {
        "id": "751a328a"
      },
      "source": [
        "# Open a filename for lecteure\n",
        "def openFile(filename):\n",
        "    '''\n",
        "    Open the content scraped from a website \n",
        "    :param arg1: the name of an existing file\n",
        "    :return: the content of the file\n",
        "    '''\n",
        "    with open(filename, 'r') as f:\n",
        "        html_source = f.read()\n",
        "        return html_source"
      ],
      "id": "751a328a",
      "execution_count": null,
      "outputs": []
    },
    {
      "cell_type": "code",
      "metadata": {
        "id": "310726b3"
      },
      "source": [
        "html_source = openFile('status.html')"
      ],
      "id": "310726b3",
      "execution_count": null,
      "outputs": []
    },
    {
      "cell_type": "code",
      "metadata": {
        "colab": {
          "base_uri": "https://localhost:8080/",
          "height": 154
        },
        "id": "7a1022ed",
        "outputId": "2d65f1d8-e48f-459e-96a6-287fc054062d"
      },
      "source": [
        "html_source"
      ],
      "id": "7a1022ed",
      "execution_count": null,
      "outputs": [
        {
          "output_type": "execute_result",
          "data": {
            "application/vnd.google.colaboratory.intrinsic+json": {
              "type": "string"
            },
            "text/plain": [
              "'<!DOCTYPE html><html lang=\"en-US\" prefix=\"og: https://ogp.me/ns#\"><head><meta charset=\"utf-8\"><meta name=\"viewport\" content=\"width=device-width,initial-scale=1\"><link rel=\"icon\" href=\"/favicon-48x48.97046865.png\"><link rel=\"apple-touch-icon\" href=\"/apple-touch-icon.0ea0fa02.png\"><meta name=\"theme-color\" content=\"#ffffff\"><link rel=\"manifest\" href=\"/manifest.56b1cedc.json\"><script>Array.prototype.flat&&Array.prototype.includes||document.write(\\'<script src=\"https://polyfill.io/v3/polyfill.min.js?features=Array.prototype.flat%2Ces6\"><\\\\/script>\\')</script><title>HTTP response status codes - HTTP | MDN</title><link rel=\"preload\" as=\"font\" type=\"font/woff2\" crossorigin=\"\" href=\"/static/media/ZillaSlab-Bold.subset.0beac26b.woff2\"><link rel=\"alternate\" title=\"HTTP response status codes\" href=\"https://developer.mozilla.org/en-US/docs/Web/HTTP/Status\" hreflang=\"en\"><link rel=\"alternate\" title=\"HTTP 狀態碼\" href=\"https://developer.mozilla.org/zh-TW/docs/Web/HTTP/Status\" hreflang=\"zh-TW\"><link rel=\"alternate\" title=\"HTTP 响应代码\" href=\"https://developer.mozilla.org/zh-CN/docs/Web/HTTP/Status\" hreflang=\"zh\"><link rel=\"alternate\" title=\"Коды ответа HTTP\" href=\"https://developer.mozilla.org/ru/docs/Web/HTTP/Status\" hreflang=\"ru\"><link rel=\"alternate\" title=\"Códigos de status de respostas HTTP\" href=\"https://developer.mozilla.org/pt-BR/docs/Web/HTTP/Status\" hreflang=\"pt\"><link rel=\"alternate\" title=\"HTTP 상태 코드\" href=\"https://developer.mozilla.org/ko/docs/Web/HTTP/Status\" hreflang=\"ko\"><link rel=\"alternate\" title=\"HTTP レスポンスステータスコード\" href=\"https://developer.mozilla.org/ja/docs/Web/HTTP/Status\" hreflang=\"ja\"><link rel=\"alternate\" title=\"Codes de réponse HTTP\" href=\"https://developer.mozilla.org/fr/docs/Web/HTTP/Status\" hreflang=\"fr\"><link rel=\"alternate\" title=\"Códigos de estado de respuesta HTTP\" href=\"https://developer.mozilla.org/es/docs/Web/HTTP/Status\" hreflang=\"es\"><link rel=\"alternate\" title=\"HTTP response status codes\" href=\"https://developer.mozilla.org/de/docs/Web/HTTP/Status\" hreflang=\"de\"><meta name=\"description\" content=\"HTTP response status codes indicate whether a specific HTTP request has been successfully completed. Responses are grouped in five classes:\"><meta property=\"og:url\" content=\"https://developer.mozilla.org/en-US/docs/Web/HTTP/Status\"><meta property=\"og:title\" content=\"HTTP response status codes - HTTP | MDN\"><meta property=\"og:description\" content=\"HTTP response status codes indicate whether a specific HTTP request has been successfully completed. Responses are grouped in five classes:\"><meta property=\"og:locale\" content=\"en-US\"><meta property=\"og:image\" content=\"https://developer.mozilla.org/mdn-social-share.0ca9dbda.png\"><meta property=\"twitter:card\" content=\"summary_large_image\"><meta name=\"robots\" content=\"index, follow\"><link rel=\"canonical\" href=\"https://developer.mozilla.org/en-US/docs/Web/HTTP/Status\"><style media=\"print\">.breadcrumbs-container,.document-toc-container,.language-menu,.language-toggle,.on-github,.page-footer,.page-header-main,nav.sidebar,ul.prev-next{display:none!important}.main-page-content,.main-page-content pre{padding:2px}.main-page-content pre{border-left-width:2px}</style><link href=\"/static/css/main.03ca591e.chunk.css\" rel=\"stylesheet\"><script>LUX=(function(){var a=(\"undefined\"!==typeof(LUX)&&\"undefined\"!==typeof(LUX.gaMarks)?LUX.gaMarks:[]);var d=(\"undefined\"!==typeof(LUX)&&\"undefined\"!==typeof(LUX.gaMeasures)?LUX.gaMeasures:[]);var j=\"LUX_start\";var k=window.performance;var l=(\"undefined\"!==typeof(LUX)&&LUX.ns?LUX.ns:(Date.now?Date.now():+(new Date())));if(k&&k.timing&&k.timing.navigationStart){l=k.timing.navigationStart}function f(){if(k&&k.now){return k.now()}var o=Date.now?Date.now():+(new Date());return o-l}function b(n){if(k){if(k.mark){return k.mark(n)}else{if(k.webkitMark){return k.webkitMark(n)}}}a.push({name:n,entryType:\"mark\",startTime:f(),duration:0});return}function m(p,t,n){if(\"undefined\"===typeof(t)&&h(j)){t=j}if(k){if(k.measure){if(t){if(n){return k.measure(p,t,n)}else{return k.measure(p,t)}}else{return k.measure(p)}}else{if(k.webkitMeasure){return k.webkitMeasure(p,t,n)}}}var r=0,o=f();if(t){var s=h(t);if(s){r=s.startTime}else{if(k&&k.timing&&k.timing[t]){r=k.timing[t]-k.timing.navigationStart}else{return}}}if(n){var q=h(n);if(q){o=q.startTime}else{if(k&&k.timing&&k.timing[n]){o=k.timing[n]-k.timing.navigationStart}else{return}}}d.push({name:p,entryType:\"measure\",startTime:r,duration:(o-r)});return}function h(n){return c(n,g())}function c(p,o){for(i=o.length-1;i>=0;i--){var n=o[i];if(p===n.name){return n}}return undefined}function g(){if(k){if(k.getEntriesByType){return k.getEntriesByType(\"mark\")}else{if(k.webkitGetEntriesByType){return k.webkitGetEntriesByType(\"mark\")}}}return a}return{mark:b,measure:m,gaMarks:a,gaMeasures:d}})();LUX.ns=(Date.now?Date.now():+(new Date()));LUX.ac=[];LUX.cmd=function(a){LUX.ac.push(a)};LUX.init=function(){LUX.cmd([\"init\"])};LUX.send=function(){LUX.cmd([\"send\"])};LUX.addData=function(a,b){LUX.cmd([\"addData\",a,b])};LUX_ae=[];window.addEventListener(\"error\",function(a){LUX_ae.push(a)});LUX_al=[];if(\"function\"===typeof(PerformanceObserver)&&\"function\"===typeof(PerformanceLongTaskTiming)){var LongTaskObserver=new PerformanceObserver(function(c){var b=c.getEntries();for(var a=0;a<b.length;a++){var d=b[a];LUX_al.push(d)}});try{LongTaskObserver.observe({type:[\"longtask\"]})}catch(e){}};</script><script src=\"https://cdn.speedcurve.com/js/lux.js?id=108906238\" async=\"\" defer=\"\" crossorigin=\"anonymous\"></script><script defer=\"\" src=\"/static/js/ga.js\"></script><script src=\"/static/js/runtime-main.56059023.js\" defer=\"\"></script><script src=\"/static/js/3.2610117c.chunk.js\" defer=\"\"></script><script src=\"/static/js/main.dcadff35.chunk.js\" defer=\"\"></script></head><body><div id=\"root\"><ul id=\"nav-access\" class=\"a11y-nav\"><li><a id=\"skip-main\" href=\"#content\">Skip to main content</a></li><li><a id=\"skip-search\" href=\"#main-q\">Skip to search</a></li><li><a id=\"skip-select-language\" href=\"#select-language\">Skip to select language</a></li></ul><div class=\"page-wrapper document-page\"><header class=\"page-header\"><a href=\"/en-US/\" class=\"logo\" aria-label=\"MDN Web Docs\"><svg xmlns=\"http://www.w3.org/2000/svg\" viewBox=\"0 0 451.74 135\"><path d=\"M7.14 8.35v111.06h111.05V8.35zm103.71 56c-.48.92-1 1.79-1.46 2.71a3.44 3.44 0 01-3.54 2 2.4 2.4 0 00-1.55.5c-1.37.9-2.76 1.79-4.18 2.63a7.33 7.33 0 01-6.35.34 29.71 29.71 0 00-10.63-2 11.7 11.7 0 00-9.46 4.31 14.84 14.84 0 00-2.13 4.29c-1.24 3.07-2.3 21.38-2.3 26.05 0 0-17.62-3.42-34.15-20.34l4.31-11.32h-13.5l9.76-10.35h-16.8l9.77-10.34H12.69L30.45 34a40.9 40.9 0 0119.77-10.83c7.1-1.22 8.93-.53 13.31.77l2.43.73.85.25 3.1.95a12.56 12.56 0 006.21.09 11.37 11.37 0 018.25 1 8.24 8.24 0 014.1 6.22 7.29 7.29 0 003.61 5.49 59.45 59.45 0 009.32 4.11c2.27.86 4.54 1.84 6.79 2.72a6.81 6.81 0 012.86 2.06 4.81 4.81 0 011.1 2.73c.14 2 .37 4 .47 6a15.24 15.24 0 01-1.77 8.03zM320.12 39.62a5.42 5.42 0 00-4.53 2.13 7.36 7.36 0 00-1.7 4.43v2.36a6.28 6.28 0 001.7 4.46 5.63 5.63 0 004.3 1.82 5.12 5.12 0 004.57-2.27A9.7 9.7 0 00326 47a8.11 8.11 0 00-1.67-5.52 5.36 5.36 0 00-4.21-1.86zM387.38 39.53a5.52 5.52 0 00-4.7 2.15 8.8 8.8 0 00-1.63 5.49 9.23 9.23 0 001.58 5.45 5.38 5.38 0 004.7 2.25 5.61 5.61 0 004.74-2.2 8.91 8.91 0 001.68-5.59 8.24 8.24 0 00-1.75-5.52 5.76 5.76 0 00-4.62-2.03zM299.47 41.35a4.34 4.34 0 00-4-1.92 4.55 4.55 0 00-3.89 1.73 8.37 8.37 0 00-1.58 4.17h10.48a6.3 6.3 0 00-1.01-3.98zM357.74 30.75H352v23.31h5.72q5.47 0 8.35-3t2.93-8.65q0-5.43-2.88-8.55t-8.38-3.11z\"></path><path d=\"M121.55 8.35v70.8h323V8.35zm42.21 22.45h-4V54h3.68v3.73h-11.25V54h3.31V36.79h-.19l-9.63 19.12h-2.12l-10-19.4h-.19V54h3.45v3.73h-11.15V54h3.68V30.8h-4v-3.73H133l11.66 22.56h.19l11.18-22.56h7.7zm29.12 22.67q-4.11 4.28-11.38 4.28h-14.06v-3.69h3.73V30.75h-3.73v-3.68h13.83q7.59 0 11.66 4.29a15.4 15.4 0 014 11 15.33 15.33 0 01-4.05 11.11zm38.89-22.67h-3.68v27h-2.6L208.08 35h-.19v19h4.67v3.73h-12.22V54h3.49V30.8h-4v-3.73h7.08l16.9 22.09h.19V30.8h-4.58v-3.73h12.32zm43.8 27h-3.31l-7.83-23.18h-.19l-7.55 23.18h-3.35l-8.78-27h-2.65v-3.73H253v3.73h-3.87L255 50.71h.23l6.61-19.91H259v-3.73h11v3.73h-2.78l6.61 20.1h.23l5.43-20.1h-4.15v-3.73h11v3.73h-2.54zm26.71-1.51a9.66 9.66 0 01-6.42 2 10.2 10.2 0 01-7.41-2.74c-1.89-1.82-2.83-4.47-2.83-7.93a12.37 12.37 0 012.64-8.12 9 9 0 017.32-3.21 8.62 8.62 0 016.75 2.69 9.65 9.65 0 012.45 6.52 13.67 13.67 0 01-.28 2.69H290q.29 6.71 6.18 6.7a5.2 5.2 0 003.71-1.18 5.82 5.82 0 001.67-2.83l3.45.71a7.21 7.21 0 01-2.73 4.65zm25.77-1.63c-1.51 2.4-3.92 3.61-7.22 3.61s-5.84-1.29-7.22-3.87c0 .25-.1.82-.21 1.7s-.19 1.44-.22 1.7H309c.16-1 .31-2 .47-3.07a21.42 21.42 0 00.24-3.16v-23h-3.4v-3.3h7.55V40.9a9.76 9.76 0 012.67-3.28 7.33 7.33 0 014.74-1.4 8.48 8.48 0 016.5 2.78q2.55 2.74 2.55 7.74a14.6 14.6 0 01-2.27 7.87zm41.39-1.14q-4.11 4.28-11.37 4.28H344v-3.74h3.73V30.75H344v-3.68h13.83q7.59 0 11.66 4.29a15.41 15.41 0 014.06 11 15.34 15.34 0 01-4.11 11.11zm25.65 1.68a10.53 10.53 0 01-7.9 3.07 10 10 0 01-7.63-3 10.93 10.93 0 01-2.8-7.83 12.13 12.13 0 012.69-7.93q2.69-3.3 8-3.3t8 3.28a12 12 0 012.64 7.76 10.86 10.86 0 01-3 7.9zm22.61.57c-1.4 1.66-3.63 2.5-6.68 2.5a9.58 9.58 0 01-7.15-2.76q-2.72-2.76-2.71-7.91a12.25 12.25 0 012.69-8 9.17 9.17 0 017.5-3.28 15 15 0 013.82.48 10.37 10.37 0 013.5 1.65l.85 5.47-3.35.38-.76-3.54a8.07 8.07 0 00-4.11-1 4.9 4.9 0 00-4.39 2.15 9.93 9.93 0 00-1.41 5.55 8.9 8.9 0 001.5 5.38 5.23 5.23 0 004.44 2c2.92 0 4.67-1.7 5.23-5.1l3.5.71a10.34 10.34 0 01-2.47 5.27zm20.48.75a11.68 11.68 0 01-6.63 1.75 15.52 15.52 0 01-8.26-2.08L424 51l3.26.33-.1 2.74a7 7 0 002.06.66 12.63 12.63 0 002.19.19 8.68 8.68 0 003.66-.75 2.5 2.5 0 001.63-2.36 2.25 2.25 0 00-1.32-2.2 12.65 12.65 0 00-3.28-1 47.39 47.39 0 01-3.9-.82 7.5 7.5 0 01-3.25-1.7 4.67 4.67 0 01-1.33-3.66c0-2.36.88-4 2.62-4.91a12 12 0 015.6-1.37 15 15 0 014.08.55 16.65 16.65 0 013.47 1.39l.47 5.1-3.3.37-.48-3.3a9.5 9.5 0 00-4.06-.9 5.62 5.62 0 00-2.87.66 2.33 2.33 0 00-1.15 2.25 2.13 2.13 0 001.3 2.07 11.91 11.91 0 003.21.92 36.69 36.69 0 013.82.83 7.46 7.46 0 013.21 1.74 4.9 4.9 0 011.3 3.73 5.56 5.56 0 01-2.66 4.91z\"></path><path d=\"M181.17 30.75h-5.71v23.31h5.71q5.47 0 8.36-3t2.88-8.61q0-5.43-2.88-8.55t-8.36-3.15zM121.63 119.32V81.74h114.91v37.58zM153.22 109h-2v-6.85a4.8 4.8 0 00-1.58-4 5.57 5.57 0 00-3.55-1.26 5 5 0 00-4.92 3.26 4.19 4.19 0 00-1.88-2.46 5.82 5.82 0 00-3-.8 4.89 4.89 0 00-4.56 2.56v-2.21h-6.28v3.26h2v8.5h-2v3.23h9.11V109h-2.86v-5.25a4.4 4.4 0 01.69-2.56 2.47 2.47 0 012.21-1q2.57 0 2.56 3.63v8.41h6.29V109h-2v-5.25a4.47 4.47 0 01.67-2.56 2.42 2.42 0 012.19-1q2.63 0 2.63 3.63v8.41h6.28zm9.88-12.07q-4 0-6 2.36a8.41 8.41 0 00-2 5.66 7.25 7.25 0 002.17 5.62 8 8 0 005.65 2 8.54 8.54 0 005.94-2.11 7.27 7.27 0 002.34-5.67 8.21 8.21 0 00-2-5.51q-2.07-2.34-6.1-2.34zm-.1 12.35a3 3 0 01-2.63-1.33 5.68 5.68 0 01-.9-3.26 5 5 0 011-3.28 3.23 3.23 0 012.61-1.18 3.5 3.5 0 012.59 1.08 4.56 4.56 0 011.07 3.31 5.21 5.21 0 01-1 3.41 3.33 3.33 0 01-2.74 1.25zm25-2.3l-3.39-.29-.7 2.32H179l8.32-9.54-.32-2.23h-13.19l-.53 5.25 3.16.34.67-2.36h4.65l-8.25 9.53.44 2.26h13.13zm7.62-9.74h-4.46v5.39h4.46zm0 9.61h-4.46v5.39h4.46zm13.54-17.49h-4.23l-6.48 22.88h4.22zm8.68 0h-4.23l-6.45 22.88h4.19zm15 22.51l-.07-2.26a1.22 1.22 0 01-.56.1c-.69 0-1-.39-1-1.16v-6.49a4.39 4.39 0 00-1.8-3.84 7 7 0 00-4.16-1.28 14.55 14.55 0 00-3.16.3 24.14 24.14 0 00-3.29 1.06l-.56 3.46 3.39.4.5-1.69a2.78 2.78 0 011.08-.37 11.3 11.3 0 011.25-.07c1.19 0 1.89.37 2.09 1.1a8.55 8.55 0 01.3 2.26v.5a8.91 8.91 0 00-1.18-.11h-1.21a12.64 12.64 0 00-4.81.88 3.53 3.53 0 00-2.18 3.64 3.66 3.66 0 001.48 3.33 5.63 5.63 0 003.11 1 4.67 4.67 0 003-.91 6.78 6.78 0 001.8-2 3 3 0 003.33 3 5.54 5.54 0 002.66-.85zm-9.25-2.32a1.69 1.69 0 01-1.36-.52 1.81 1.81 0 01-.43-1.21 1.67 1.67 0 01.86-1.68 4.63 4.63 0 012-.42 7.69 7.69 0 011.07.07l1.06.13a3.58 3.58 0 01-1.08 2.74 3.24 3.24 0 01-2.11.89z\"></path></svg></a><button type=\"button\" class=\"ghost main-menu-toggle\" aria-haspopup=\"true\" aria-label=\"Show Menu\"></button><div class=\"page-header-main \"><nav class=\"main-nav\" aria-label=\"Main menu\"><ul class=\"main-menu nojs\"><li class=\"top-level-entry-container\"><button id=\"technologies-button\" type=\"button\" class=\"top-level-entry\" aria-haspopup=\"menu\" aria-expanded=\"false\">Technologies</button><ul class=\"technologies \" role=\"menu\" aria-labelledby=\"technologies-button\"><li role=\"none\"><a tabindex=\"-1\" href=\"/en-US/docs/Web\" role=\"menuitem\">Technologies Overview</a></li><li role=\"none\"><a tabindex=\"-1\" href=\"/en-US/docs/Web/HTML\" role=\"menuitem\">HTML</a></li><li role=\"none\"><a tabindex=\"-1\" href=\"/en-US/docs/Web/CSS\" role=\"menuitem\">CSS</a></li><li role=\"none\"><a tabindex=\"-1\" href=\"/en-US/docs/Web/JavaScript\" role=\"menuitem\">JavaScript</a></li><li role=\"none\"><a tabindex=\"-1\" href=\"/en-US/docs/Web/Guide/Graphics\" role=\"menuitem\">Graphics</a></li><li role=\"none\"><a tabindex=\"-1\" href=\"/en-US/docs/Web/HTTP\" role=\"menuitem\">HTTP</a></li><li role=\"none\"><a tabindex=\"-1\" href=\"/en-US/docs/Web/API\" role=\"menuitem\">APIs</a></li><li role=\"none\"><a tabindex=\"-1\" href=\"/en-US/docs/Mozilla/Add-ons/WebExtensions\" role=\"menuitem\">Browser Extensions</a></li><li role=\"none\"><a tabindex=\"-1\" href=\"/en-US/docs/Web/MathML\" role=\"menuitem\">MathML</a></li></ul></li><li class=\"top-level-entry-container\"><button id=\"references-guides-button\" type=\"button\" class=\"top-level-entry\" aria-haspopup=\"menu\" aria-expanded=\"false\">References &amp; Guides</button><ul class=\"references-guides \" role=\"menu\" aria-labelledby=\"references-guides-button\"><li role=\"none\"><a tabindex=\"-1\" href=\"/en-US/docs/Learn\" role=\"menuitem\">Learn web development</a></li><li role=\"none\"><a tabindex=\"-1\" href=\"/en-US/docs/Web/Tutorials\" role=\"menuitem\">Tutorials</a></li><li role=\"none\"><a tabindex=\"-1\" href=\"/en-US/docs/Web/Reference\" role=\"menuitem\">References</a></li><li role=\"none\"><a tabindex=\"-1\" href=\"/en-US/docs/Web/Guide\" role=\"menuitem\">Developer Guides</a></li><li role=\"none\"><a tabindex=\"-1\" href=\"/en-US/docs/Web/Accessibility\" role=\"menuitem\">Accessibility</a></li><li role=\"none\"><a tabindex=\"-1\" href=\"/en-US/docs/Games\" role=\"menuitem\">Game development</a></li><li role=\"none\"><a tabindex=\"-1\" href=\"/en-US/docs/Web\" role=\"menuitem\">...more docs</a></li></ul></li><li class=\"top-level-entry-container\"><button id=\"feedback-button\" type=\"button\" class=\"top-level-entry\" aria-haspopup=\"menu\" aria-expanded=\"false\">Feedback</button><ul class=\"feedback \" role=\"menu\" aria-labelledby=\"feedback-button\"><li role=\"none\"><a tabindex=\"-1\" href=\"/en-US/docs/MDN/Contribute/Feedback\" role=\"menuitem\">Send Feedback</a></li><li role=\"none\"><a tabindex=\"-1\" href=\"/en-US/docs/MDN/Contribute\" role=\"menuitem\">Contribute to MDN</a></li><li role=\"none\"><a tabindex=\"-1\" target=\"_blank\" rel=\"noopener noreferrer\" href=\"https://github.com/mdn/content/issues/new\" role=\"menuitem\">Report a content issue<!-- --> 🌐</a></li><li role=\"none\"><a tabindex=\"-1\" target=\"_blank\" rel=\"noopener noreferrer\" href=\"https://github.com/mdn/yari/issues/new\" role=\"menuitem\">Report a platform issue<!-- --> 🌐</a></li></ul></li></ul></nav><div class=\"header-search\"><form action=\"/en-US/search\" class=\"search-form search-widget\" role=\"search\"><label for=\"main-q\" class=\"visually-hidden\">Search MDN</label><input type=\"search\" name=\"q\" id=\"main-q\" class=\"search-input-field\" placeholder=\"Site search... (Press &quot;/&quot; to focus)\" pattern=\"(.|\\\\s)*\\\\S(.|\\\\s)*\" required=\"\" value=\"\"><input type=\"submit\" class=\"ghost search-button\" value=\"\" aria-label=\"Search\"></form></div><div class=\"auth-container\"></div></div></header><div class=\"breadcrumb-locale-container\"><nav class=\"breadcrumbs-container\" aria-label=\"Breadcrumb navigation\"><ol typeof=\"BreadcrumbList\" vocab=\"https://schema.org/\" aria-label=\"breadcrumbs\"><li property=\"itemListElement\" typeof=\"ListItem\"><a class=\"breadcrumb\" property=\"item\" typeof=\"WebPage\" href=\"/en-US/docs/Web\"><span property=\"name\">Web technology for developers</span></a><meta property=\"position\" content=\"1\"></li><li property=\"itemListElement\" typeof=\"ListItem\"><a class=\"breadcrumb-penultimate\" property=\"item\" typeof=\"WebPage\" href=\"/en-US/docs/Web/HTTP\"><span property=\"name\">HTTP</span></a><meta property=\"position\" content=\"2\"></li><li property=\"itemListElement\" typeof=\"ListItem\"><a class=\"breadcrumb-current-page\" property=\"item\" typeof=\"WebPage\" href=\"/en-US/docs/Web/HTTP/Status\"><span property=\"name\">HTTP response status codes</span></a><meta property=\"position\" content=\"3\"></li></ol></nav><ul class=\"language-toggle single-option\"><li><a href=\"#select-language\" class=\"language-icon\"><span class=\"show-desktop\">Change language</span></a></li></ul></div><aside class=\"document-toc-container\"><section class=\"document-toc\"><header><h2>Table of contents</h2><button type=\"button\" class=\"ghost toc-trigger-mobile\" aria-controls=\"toc-entries\" aria-expanded=\"false\">Table of contents</button></header><ul id=\"toc-entries\"><li><a href=\"#information_responses\">Information responses</a></li><li><a href=\"#successful_responses\">Successful responses</a></li><li><a href=\"#redirection_messages\">Redirection messages</a></li><li><a href=\"#client_error_responses\">Client error responses</a></li><li><a href=\"#server_error_responses\">Server error responses</a></li><li><a href=\"#browser_compatibility\">Browser compatibility</a></li><li><a href=\"#see_also\">See also</a></li></ul></section></aside><main id=\"content\" class=\"main-content\" role=\"main\"><article class=\"main-page-content\" lang=\"en-US\"><h1>HTTP response status codes</h1><div><div></div>\\n\\n<p class=\"summary\">HTTP response status codes indicate whether a specific <a href=\"/en-US/docs/Web/HTTP\">HTTP</a> request has been successfully completed. Responses are grouped in five classes:</p>\\n\\n<ol>\\n <li><a href=\"#information_responses\">Informational responses</a> (<code>100</code>–<code>199</code>)</li>\\n <li><a href=\"#successful_responses\">Successful responses</a> (<code>200</code>–<code>299</code>)</li>\\n <li><a href=\"#redirection_messages\">Redirects</a> (<code>300</code>–<code>399</code>)</li>\\n <li><a href=\"#client_error_responses\">Client errors</a> (<code>400</code>–<code>499</code>)</li>\\n <li><a href=\"#server_error_responses\">Server errors</a> (<code>500</code>–<code>599</code>)</li>\\n</ol>\\n\\n<p>The below status codes are defined by <a href=\"https://datatracker.ietf.org/doc/html/rfc2616#section-10\" class=\"external\" rel=\" noopener\">section 10 of RFC 2616</a>. You can find an updated specification in <a href=\"https://datatracker.ietf.org/doc/html/rfc7231#section-6.5.1\" class=\"external\" rel=\" noopener\">RFC 7231</a>.</p>\\n\\n<div class=\"notecard note\">\\n  <p><strong>Note:</strong> If you receive a response that is not in this list, it is a non-standard response, possibly custom to the server\\'s software.</p>\\n</div></div><h2 id=\"information_responses\"><a href=\"#information_responses\" title=\"Permalink to Information responses\">Information responses</a></h2><div><dl>\\n <dt><a href=\"/en-US/docs/Web/HTTP/Status/100\"><code>100 Continue</code></a></dt>\\n <dd>This interim response indicates that everything so far is OK and that the client should continue the request, or ignore the response if the request is already finished.</dd>\\n <dt><a href=\"/en-US/docs/Web/HTTP/Status/101\"><code>101 Switching Protocol</code></a></dt>\\n <dd>This code is sent in response to an <a href=\"/en-US/docs/Web/HTTP/Headers/Upgrade\"><code>Upgrade</code></a> request header from the client, and indicates the protocol the server is switching to.</dd>\\n <dt><a href=\"/en-US/docs/Web/HTTP/Status/102\" class=\"page-not-created\" title=\"This is a link to an unwritten page\"><code>102 Processing</code></a> (<a href=\"/en-US/docs/Glossary/WebDAV\">WebDAV</a>)</dt>\\n <dd>This code indicates that the server has received and is processing the request, but no response is available yet.</dd>\\n <dt><a href=\"/en-US/docs/Web/HTTP/Status/103\"><code>103 Early Hints</code></a></dt>\\n <dd>This status code is primarily intended to be used with the <a href=\"/en-US/docs/Web/HTTP/Headers/Link\"><code>Link</code></a> header, letting the user agent start <a href=\"/en-US/docs/Web/HTML/Link_types/preload\">preloading</a> resources while the server prepares a response.</dd>\\n</dl></div><h2 id=\"successful_responses\"><a href=\"#successful_responses\" title=\"Permalink to Successful responses\">Successful responses</a></h2><div><dl>\\n <dt><a href=\"/en-US/docs/Web/HTTP/Status/200\"><code>200 OK</code></a></dt>\\n <dd>The request has succeeded. The meaning of the success depends on the HTTP method:\\n <ul>\\n  <li><code>GET</code>: The resource has been fetched and is transmitted in the message body.</li>\\n  <li><code>HEAD</code>: The representation headers are included in the response without any&nbsp;message body.</li>\\n  <li><code>PUT</code> or <code>POST</code>: The resource describing the result of the action is transmitted in the message body.</li>\\n  <li><code>TRACE</code>: The message body contains the request message as received by the server.</li>\\n </ul>\\n </dd>\\n <dt><a href=\"/en-US/docs/Web/HTTP/Status/201\"><code>201 Created</code></a></dt>\\n <dd>The request has succeeded and a new resource has been created as a result. This is typically the response sent after <code>POST</code> requests, or some <code>PUT</code> requests.</dd>\\n <dt><a href=\"/en-US/docs/Web/HTTP/Status/202\"><code>202 Accepted</code></a></dt>\\n <dd>The request has been received but not yet acted upon. It is noncommittal, since there is no way in HTTP to later send an asynchronous response indicating the outcome of the request. It is intended for cases where another process or server handles the request, or for batch processing.</dd>\\n <dt><a href=\"/en-US/docs/Web/HTTP/Status/203\"><code>203 Non-Authoritative Information</code></a></dt>\\n <dd>This response code means the returned meta-information is not exactly the same as is available from the origin server, but is collected from a local or a third-party copy. This is mostly used for mirrors or backups of another resource. Except for that specific case, the \"200 OK\" response is preferred to this status.</dd>\\n <dt><a href=\"/en-US/docs/Web/HTTP/Status/204\"><code>204 No Content</code></a></dt>\\n <dd>There is no content to send for this request, but the headers may be useful. The user-agent may update its cached headers for this resource with the new ones.</dd>\\n <dt><a href=\"/en-US/docs/Web/HTTP/Status/205\"><code>205 Reset Content</code></a></dt>\\n <dd>Tells the user-agent to reset the document which sent this request.</dd>\\n <dt><a href=\"/en-US/docs/Web/HTTP/Status/206\"><code>206 Partial Content</code></a></dt>\\n <dd>This response code is used when the <a href=\"/en-US/docs/Web/HTTP/Headers/Range\"><code>Range</code></a> header is sent from the client to request only part of a resource.</dd>\\n <dt><a href=\"/en-US/docs/Web/HTTP/Status/207\" class=\"page-not-created\" title=\"This is a link to an unwritten page\"><code>207 Multi-Status</code></a> (<a href=\"/en-US/docs/Glossary/WebDAV\">WebDAV</a>)</dt>\\n <dd>Conveys information about multiple resources, for situations where multiple status codes might be appropriate.</dd>\\n <dt><a href=\"/en-US/docs/Web/HTTP/Status/208\" class=\"page-not-created\" title=\"This is a link to an unwritten page\"><code>208 Already Reported</code></a> (<a href=\"/en-US/docs/Glossary/WebDAV\">WebDAV</a>)</dt>\\n <dd>Used inside a <code>&lt;dav:propstat&gt;</code> response element to avoid repeatedly enumerating the internal members of multiple bindings to the same collection.</dd>\\n <dt><a href=\"/en-US/docs/Web/HTTP/Status/226\" class=\"page-not-created\" title=\"This is a link to an unwritten page\"><code>226 IM Used</code></a> (<a href=\"https://datatracker.ietf.org/doc/html/rfc3229\" class=\"external\" rel=\" noopener\">HTTP Delta encoding</a>)</dt>\\n <dd>The server has fulfilled a <code>GET</code> request for the resource, and the response is a representation of the result of one or more instance-manipulations applied to the current instance.</dd>\\n</dl></div><h2 id=\"redirection_messages\"><a href=\"#redirection_messages\" title=\"Permalink to Redirection messages\">Redirection messages</a></h2><div><dl>\\n <dt><a href=\"/en-US/docs/Web/HTTP/Status/300\"><code>300 Multiple Choice</code></a></dt>\\n <dd>The request has more than one possible response. The user-agent or user should choose one of them. (There is no standardized way of choosing one of the responses, but HTML links to the possibilities are recommended so the user can pick.)</dd>\\n <dt><a href=\"/en-US/docs/Web/HTTP/Status/301\"><code>301 Moved Permanently</code></a></dt>\\n <dd>The URL of the requested resource has been changed permanently. The new URL is given in the response.</dd>\\n <dt><a href=\"/en-US/docs/Web/HTTP/Status/302\"><code>302 Found</code></a></dt>\\n <dd>This response code means that the URI of requested resource has been changed <em>temporarily</em>. Further changes in the URI might be made in the future. Therefore, this same URI should be used by the client in future requests.</dd>\\n <dt><a href=\"/en-US/docs/Web/HTTP/Status/303\"><code>303 See Other</code></a></dt>\\n <dd>The server sent this response to direct the client to get the requested resource at another URI with a GET request.</dd>\\n <dt><a href=\"/en-US/docs/Web/HTTP/Status/304\"><code>304 Not Modified</code></a></dt>\\n <dd>This is used for caching purposes. It tells the client that the response has not been modified, so the client can continue to use the same cached version of the response.</dd>\\n <dt><code>305 Use Proxy</code> <svg class=\"icon icon-deprecated\" tabindex=\"0\">\\n    <use xlink:href=\"/assets/badges.svg#icon-deprecated\"></use>\\n</svg></dt>\\n <dd>Defined in a previous version of the HTTP specification to indicate that a requested response must be accessed by a proxy. It has been deprecated due to security concerns regarding in-band configuration of a proxy.</dd>\\n <dt><code>306 unused</code></dt>\\n <dd>This response code is no longer used; it is just reserved. It was used in a previous version of the HTTP/1.1 specification.</dd>\\n <dt><a href=\"/en-US/docs/Web/HTTP/Status/307\"><code>307 Temporary Redirect</code></a></dt>\\n <dd>The server sends this response to direct the client to get the requested resource at another URI with same method that was used in the prior request. This has the same semantics as the <code>302 Found</code> HTTP response code, with the exception that the user agent <em>must not</em> change the HTTP method used: If a <code>POST</code> was used in the first request, a <code>POST</code> must be used in the second request.</dd>\\n <dt><a href=\"/en-US/docs/Web/HTTP/Status/308\"><code>308 Permanent Redirect</code></a></dt>\\n <dd>This means that the resource is now permanently located at another URI, specified by the <code>Location:</code> HTTP Response header. This has the same semantics as the <code>301 Moved Permanently</code> HTTP response code, with the exception that the user agent <em>must not</em> change the HTTP method used: If a <code>POST</code> was used in the first request, a <code>POST</code> must be used in the second request.</dd>\\n</dl></div><h2 id=\"client_error_responses\"><a href=\"#client_error_responses\" title=\"Permalink to Client error responses\">Client error responses</a></h2><div><dl>\\n <dt><a href=\"/en-US/docs/Web/HTTP/Status/400\"><code>400 Bad Request</code></a></dt>\\n <dd>The server could not understand the request due to invalid syntax.</dd>\\n <dt><a href=\"/en-US/docs/Web/HTTP/Status/401\"><code>401 Unauthorized</code></a></dt>\\n <dd>Although the HTTP standard specifies \"unauthorized\", semantically this response means \"unauthenticated\". That is, the client must authenticate itself to get the requested response.</dd>\\n <dt><a href=\"/en-US/docs/Web/HTTP/Status/402\"><code>402 Payment Required</code></a> <svg class=\"icon icon-experimental\" tabindex=\"0\">\\n    <use xlink:href=\"/assets/badges.svg#icon-experimental\"></use>\\n</svg></dt>\\n <dd>This response code is reserved for future use. The initial aim for creating this code was using it for digital payment systems, however this status code is used very rarely and no standard convention exists.</dd>\\n <dt><a href=\"/en-US/docs/Web/HTTP/Status/403\"><code>403 Forbidden</code></a></dt>\\n <dd>The client does not have access rights to the content; that is, it is unauthorized, so the server is refusing to give the requested resource. Unlike 401, the client\\'s identity is known to the server.</dd>\\n <dt><a href=\"/en-US/docs/Web/HTTP/Status/404\"><code>404 Not Found</code></a></dt>\\n <dd>The server can not find the requested resource. In the browser, this means the URL is not recognized. In an API, this can also mean that the endpoint is valid but the resource itself does not exist. Servers may also send this response instead of 403 to hide the existence of a resource from an unauthorized client. This response code is probably the most famous one due to its frequent occurrence on the web.</dd>\\n <dt><a href=\"/en-US/docs/Web/HTTP/Status/405\"><code>405 Method Not Allowed</code></a></dt>\\n <dd>The request method is known by the server but is not supported by the target resource. For example, an API may forbid DELETE-ing a resource.</dd>\\n <dt><a href=\"/en-US/docs/Web/HTTP/Status/406\"><code>406 Not Acceptable</code></a></dt>\\n <dd>This response is sent when the web server, after performing <a href=\"/en-US/docs/Web/HTTP/Content_negotiation#server-driven_negotiation\">server-driven content negotiation</a>, doesn\\'t find any content that conforms to the criteria given by the user agent.</dd>\\n <dt><a href=\"/en-US/docs/Web/HTTP/Status/407\"><code>407 Proxy Authentication Required</code></a></dt>\\n <dd>This is similar to 401 but authentication is needed to be done by a proxy.</dd>\\n <dt><a href=\"/en-US/docs/Web/HTTP/Status/408\"><code>408 Request Timeout</code></a></dt>\\n <dd>This response is sent on an idle connection by some servers, even without any previous request by the client. It means that the server would like to shut down this unused connection. This response is used much more since some browsers, like Chrome, Firefox 27+, or IE9, use HTTP pre-connection mechanisms to speed up surfing. Also note that some servers merely shut down the connection without sending this message.</dd>\\n <dt><a href=\"/en-US/docs/Web/HTTP/Status/409\"><code>409 Conflict</code></a></dt>\\n <dd>This response is sent when a request conflicts with the current state of the server.</dd>\\n <dt><a href=\"/en-US/docs/Web/HTTP/Status/410\"><code>410 Gone</code></a></dt>\\n <dd>This response is sent when the requested content has been permanently deleted from server, with no forwarding address. Clients are expected to remove their caches and links to the resource. The HTTP specification intends this status code to be used for \"limited-time, promotional services\". APIs should not feel compelled to indicate resources that have been deleted with this status code.</dd>\\n <dt><a href=\"/en-US/docs/Web/HTTP/Status/411\"><code>411 Length Required</code></a></dt>\\n <dd>Server rejected the request because the <code>Content-Length</code> header field is not defined and the server requires it.</dd>\\n <dt><a href=\"/en-US/docs/Web/HTTP/Status/412\"><code>412 Precondition Failed</code></a></dt>\\n <dd>The client has indicated preconditions in its headers which the server does not meet.</dd>\\n <dt><a href=\"/en-US/docs/Web/HTTP/Status/413\"><code>413 Payload Too Large</code></a></dt>\\n <dd>Request entity is larger than limits defined by server; the server might close the connection or return an <code>Retry-After</code> header field.</dd>\\n <dt><a href=\"/en-US/docs/Web/HTTP/Status/414\"><code>414 URI Too Long</code></a></dt>\\n <dd>The URI requested by the client is longer than the server is willing to interpret.</dd>\\n <dt><a href=\"/en-US/docs/Web/HTTP/Status/415\"><code>415 Unsupported Media Type</code></a></dt>\\n <dd>The media format of the requested data is not supported by the server, so the server is rejecting the request.</dd>\\n <dt><a href=\"/en-US/docs/Web/HTTP/Status/416\"><code>416 Range Not Satisfiable</code></a></dt>\\n <dd>The range specified by the <code>Range</code> header field in the request can\\'t be fulfilled; it\\'s possible that the range is outside the size of the target URI\\'s data.</dd>\\n <dt><a href=\"/en-US/docs/Web/HTTP/Status/417\"><code>417 Expectation Failed</code></a></dt>\\n <dd>This response code means the expectation indicated by the <code>Expect</code> request header field can\\'t be met by the server.</dd>\\n <dt><a href=\"/en-US/docs/Web/HTTP/Status/418\"><code>418 I\\'m a teapot</code></a></dt>\\n <dd>The server refuses the attempt to brew coffee with a teapot.</dd>\\n <dt><a href=\"/en-US/docs/Web/HTTP/Status/421\" class=\"page-not-created\" title=\"This is a link to an unwritten page\"><code>421 Misdirected Request</code></a></dt>\\n <dd>The request was directed at a server that is not able to produce a response. This can be sent by a server that is not configured to produce responses for the combination of scheme and authority that are included in the request URI.</dd>\\n <dt><a href=\"/en-US/docs/Web/HTTP/Status/422\"><code>422 Unprocessable Entity</code></a> (<a href=\"/en-US/docs/Glossary/WebDAV\">WebDAV</a>)</dt>\\n <dd>The request was well-formed but was unable to be followed due to semantic errors.</dd>\\n <dt><a href=\"/en-US/docs/Web/HTTP/Status/423\" class=\"page-not-created\" title=\"This is a link to an unwritten page\"><code>423 Locked</code></a> (<a href=\"/en-US/docs/Glossary/WebDAV\">WebDAV</a>)</dt>\\n <dd>The resource that is being accessed is locked.</dd>\\n <dt><a href=\"/en-US/docs/Web/HTTP/Status/424\" class=\"page-not-created\" title=\"This is a link to an unwritten page\"><code>424 Failed Dependency</code></a> (<a href=\"/en-US/docs/Glossary/WebDAV\">WebDAV</a>)</dt>\\n <dd>The request failed due to failure of a previous request.</dd>\\n <dt><a href=\"/en-US/docs/Web/HTTP/Status/425\"><code>425 Too Early</code></a> <svg class=\"icon icon-experimental\" tabindex=\"0\">\\n    <use xlink:href=\"/assets/badges.svg#icon-experimental\"></use>\\n</svg></dt>\\n <dd>Indicates that the server is unwilling to risk processing a request that might be replayed.</dd>\\n <dt><a href=\"/en-US/docs/Web/HTTP/Status/426\"><code>426 Upgrade Required</code></a></dt>\\n <dd>The server refuses to perform the request using the current protocol but might be willing to do so after the client upgrades to a different protocol. The server sends an <a href=\"/en-US/docs/Web/HTTP/Headers/Upgrade\"><code>Upgrade</code></a> header in a 426 response to indicate the required protocol(s).</dd>\\n <dt><a href=\"/en-US/docs/Web/HTTP/Status/428\"><code>428 Precondition Required</code></a></dt>\\n <dd>The origin server requires the request to be conditional. This response is intended to prevent the \\'lost update\\' problem, where a client GETs a resource\\'s state, modifies it, and PUTs it back to the server, when meanwhile a third party has modified the state on the server, leading to a conflict.</dd>\\n <dt><a href=\"/en-US/docs/Web/HTTP/Status/429\"><code>429 Too Many Requests</code></a></dt>\\n <dd>The user has sent too many requests in a given amount of time (\"rate limiting\").</dd>\\n <dt><a href=\"/en-US/docs/Web/HTTP/Status/431\"><code>431 Request Header Fields Too Large</code></a></dt>\\n <dd>The server is unwilling to process the request because its header fields are too large. The request may be resubmitted after reducing the size of the request header fields.</dd>\\n <dt><a href=\"/en-US/docs/Web/HTTP/Status/451\"><code>451 Unavailable For Legal Reasons</code></a></dt>\\n <dd>The user-agent requested a resource that cannot legally be provided, such as a web page censored by a government.</dd>\\n</dl></div><h2 id=\"server_error_responses\"><a href=\"#server_error_responses\" title=\"Permalink to Server error responses\">Server error responses</a></h2><div><dl>\\n <dt><a href=\"/en-US/docs/Web/HTTP/Status/500\"><code>500 Internal Server Error</code></a></dt>\\n <dd>The server has encountered a situation it doesn\\'t know how to handle.</dd>\\n <dt><a href=\"/en-US/docs/Web/HTTP/Status/501\"><code>501 Not Implemented</code></a></dt>\\n <dd>The request method is not supported by the server and cannot be handled. The only methods that servers are required to support (and therefore that must not return this code) are <code>GET</code> and <code>HEAD</code>.</dd>\\n <dt><a href=\"/en-US/docs/Web/HTTP/Status/502\"><code>502 Bad Gateway</code></a></dt>\\n <dd>This error response means that the server, while working as a gateway to get a response needed to handle the request, got an invalid response.</dd>\\n <dt><a href=\"/en-US/docs/Web/HTTP/Status/503\"><code>503 Service Unavailable</code></a></dt>\\n <dd>The server is not ready to handle the request. Common causes are a server that is down for maintenance or that is overloaded. Note that together with this response, a user-friendly page explaining the problem should be sent. This response should be used for temporary conditions and the <code>Retry-After:</code> HTTP header should, if possible, contain the estimated time before the recovery of the service. The webmaster must also take care about the caching-related headers that are sent along with this response, as these temporary condition responses should usually not be cached.</dd>\\n <dt><a href=\"/en-US/docs/Web/HTTP/Status/504\"><code>504 Gateway Timeout</code></a></dt>\\n <dd>This error response is given when the server is acting as a gateway and cannot get a response in time.</dd>\\n <dt><a href=\"/en-US/docs/Web/HTTP/Status/505\"><code>505 HTTP Version Not Supported</code></a></dt>\\n <dd>The HTTP version used in the request is not supported by the server.</dd>\\n <dt><a href=\"/en-US/docs/Web/HTTP/Status/506\"><code>506 Variant Also Negotiates</code></a></dt>\\n <dd>The server has an internal configuration error: the chosen variant resource is configured to engage in transparent content negotiation itself, and is therefore not a proper end point in the negotiation process.</dd>\\n <dt><a href=\"/en-US/docs/Web/HTTP/Status/507\"><code>507 Insufficient Storage</code></a> (<a href=\"/en-US/docs/Glossary/WebDAV\">WebDAV</a>)</dt>\\n <dd>The method could not be performed on the resource because the server is unable to store the representation needed to successfully complete the request.</dd>\\n <dt><a href=\"/en-US/docs/Web/HTTP/Status/508\"><code>508 Loop Detected</code></a> (<a href=\"/en-US/docs/Glossary/WebDAV\">WebDAV</a>)</dt>\\n <dd>The server detected an infinite loop while processing the request.</dd>\\n <dt><a href=\"/en-US/docs/Web/HTTP/Status/510\"><code>510 Not Extended</code></a></dt>\\n <dd>Further extensions to the request are required for the server to fulfill it.</dd>\\n <dt><a href=\"/en-US/docs/Web/HTTP/Status/511\"><code>511 Network Authentication Required</code></a></dt>\\n <dd>The 511 status code indicates that the client needs to authenticate to gain network access.</dd>\\n</dl></div><h2 id=\"browser_compatibility\"><a href=\"#browser_compatibility\" title=\"Permalink to Browser compatibility\">Browser compatibility</a></h2><p>BCD tables only load in the browser</p><div><p></p><p></p></div><h2 id=\"see_also\"><a href=\"#see_also\" title=\"Permalink to See also\">See also</a></h2><div><ul>\\n <li><a href=\"https://en.wikipedia.org/wiki/List_of_HTTP_status_codes\" class=\"external\" rel=\" noopener\">List of HTTP status codes on Wikipedia</a></li>\\n <li><a href=\"https://www.iana.org/assignments/http-status-codes/http-status-codes.xhtml\" class=\"external\" rel=\" noopener\">IANA official registry of HTTP status codes </a></li>\\n</ul></div></article><aside class=\"metadata\"><div class=\"metadata-content-container\"><div id=\"on-github\" class=\"on-github\"><h3>Found a problem with this page?</h3><ul><li><a href=\"https://github.com/mdn/content/edit/main/files/en-us/web/http/status/index.html\" title=\"You\\'re going to need to sign in to GitHub first (Opens in a new tab)\" target=\"_blank\" rel=\"noopener noreferrer\">Edit on <b>GitHub</b></a></li><li><a href=\"https://github.com/mdn/content/blob/main/files/en-us/web/http/status/index.html\" title=\"Folder: en-us/web/http/status (Opens in a new tab)\" target=\"_blank\" rel=\"noopener noreferrer\">Source on <b>GitHub</b></a></li><li><a href=\"https://github.com/mdn/content/issues/new?body=MDN+URL%3A+https%3A%2F%2Fdeveloper.mozilla.org%2Fen-US%2Fdocs%2FWeb%2FHTTP%2FStatus%0A%0A%23%23%23%23+What+information+was+incorrect%2C+unhelpful%2C+or+incomplete%3F%0A%0A%0A%23%23%23%23+Specific+section+or+headline%3F%0A%0A%0A%23%23%23%23+What+did+you+expect+to+see%3F%0A%0A%0A%23%23%23%23+Did+you+test+this%3F+If+so%2C+how%3F%0A%0A%0A%3C%21--+Do+not+make+changes+below+this+line+--%3E%0A%3Cdetails%3E%0A%3Csummary%3EMDN+Content+page+report+details%3C%2Fsummary%3E%0A%0A*+Folder%3A+%60en-us%2Fweb%2Fhttp%2Fstatus%60%0A*+MDN+URL%3A+https%3A%2F%2Fdeveloper.mozilla.org%2Fen-US%2Fdocs%2FWeb%2FHTTP%2FStatus%0A*+GitHub+URL%3A+https%3A%2F%2Fgithub.com%2Fmdn%2Fcontent%2Fblob%2Fmain%2Ffiles%2Fen-us%2Fweb%2Fhttp%2Fstatus%2Findex.html%0A*+Last+commit%3A+https%3A%2F%2Fgithub.com%2Fmdn%2Fcontent%2Fcommit%2F1b5d81207cee7fc8c41bed8ba9673ef14a82c907%0A*+Document+last+modified%3A+2021-08-05T15%3A52%3A30.000Z%0A%0A%3C%2Fdetails%3E&amp;title=Issue+with+%22HTTP+response+status+codes%22%3A+%28short+summary+here+please%29&amp;labels=needs-triage%2CContent%3AHTTP\" title=\"This will take you to https://github.com/mdn/content to file a new issue\" target=\"_blank\" rel=\"noopener noreferrer\">Report a problem with this content on <b>GitHub</b></a></li><li>Want to fix the problem yourself? See<!-- --> <a href=\"https://github.com/mdn/content/blob/main/README.md\" target=\"_blank\" rel=\"noopener noreferrer\">our Contribution guide</a>.</li></ul></div><p class=\"last-modified-date\"><b>Last modified:</b> <time datetime=\"2021-08-05T15:52:30.000Z\">Aug 5, 2021</time>,<!-- --> <a href=\"/en-US/docs/Web/HTTP/Status/contributors.txt\">by MDN contributors</a></p><form class=\"language-menu\"><fieldset id=\"select-language\"><legend>Change your language</legend><label for=\"language-selector\" class=\"visually-hidden\">Select your preferred language</label> <select id=\"language-selector\" name=\"language\"><option selected=\"\" value=\"en-US\">English (US)</option><option value=\"de\">Deutsch</option><option value=\"es\">Español</option><option value=\"fr\">Français</option><option value=\"ja\">日本語</option><option value=\"ko\">한국어</option><option value=\"pt-BR\">Português (do&nbsp;Brasil)</option><option value=\"ru\">Русский</option><option value=\"zh-CN\">中文 (简体)</option><option value=\"zh-TW\">正體中文 (繁體)</option></select> <button type=\"submit\" class=\"button minimal\">Change language</button></fieldset></form></div></aside></main><nav id=\"sidebar-quicklinks\" class=\"sidebar\"><h4>Related Topics</h4><div>\\n  <ol>\\n    <li><a href=\"/en-US/docs/Web/HTTP\"><strong><em>HTTP</em></strong></a></li>\\n    <li><strong>Guides:</strong></li>\\n    <li class=\"toggle\">\\n        <details>\\n            <summary>Resources and URIs</summary>\\n            <ol>\\n                <li><a href=\"/en-US/docs/Web/HTTP/Basics_of_HTTP/Identifying_resources_on_the_Web\">Identifying resources on the Web</a></li>\\n                <li><a href=\"/en-US/docs/Web/HTTP/Basics_of_HTTP/Data_URIs\">Data URIs</a></li>\\n                <li><a href=\"/en-US/docs/Web/HTTP/Basics_of_HTTP/MIME_Types\">Introduction to MIME types</a></li>\\n                <li><a href=\"/en-US/docs/Web/HTTP/Basics_of_HTTP/MIME_types/Common_types\">Common MIME types</a></li>\\n                <li><a href=\"/en-US/docs/Web/HTTP/Basics_of_HTTP/Choosing_between_www_and_non-www_URLs\">Choosing between www and non-www URLs</a></li>\\n            </ol>\\n        </details>\\n    </li>\\n    <li class=\"toggle\">\\n        <details>\\n            <summary>HTTP guide</summary>\\n            <ol>\\n                <li><a href=\"/en-US/docs/Web/HTTP/Basics_of_HTTP\">Basics of HTTP</a></li>\\n                <li><a href=\"/en-US/docs/Web/HTTP/Overview\">Overview of HTTP</a></li>\\n                <li><a href=\"/en-US/docs/Web/HTTP/Basics_of_HTTP/Evolution_of_HTTP\">Evolution of HTTP</a></li>\\n                <li><a href=\"/en-US/docs/Web/HTTP/Messages\">HTTP Messages</a></li>\\n                <li><a href=\"/en-US/docs/Web/HTTP/Session\">A typical HTTP session</a></li>\\n                <li><a href=\"/en-US/docs/Web/HTTP/Connection_management_in_HTTP_1.x\">Connection management in HTTP/1.x</a></li>\\n                <li><a href=\"/en-US/docs/Web/HTTP/Protocol_upgrade_mechanism\">Protocol upgrade mechanism</a></li>\\n            </ol>\\n        </details>\\n    </li>\\n    <li class=\"toggle\">\\n        <details>\\n            <summary>HTTP security</summary>\\n            <ol>\\n                <li><a href=\"/en-US/docs/Web/HTTP/CSP\">Content Security Policy (CSP)</a></li>\\n                <li><a href=\"/en-US/docs/Web/HTTP/Public_Key_Pinning\">HTTP Public Key Pinning (HPKP)</a></li>\\n                <li><a href=\"/en-US/docs/Web/HTTP/Headers/Strict-Transport-Security\">HTTP Strict Transport Security (HSTS)</a></li>\\n                <li><a href=\"/en-US/docs/Web/HTTP/Cookies#Secure_and_HttpOnly_cookies\">Cookie security</a></li>\\n                <li><a href=\"/en-US/docs/Web/HTTP/Headers/X-Content-Type-Options\">X-Content-Type-Options</a></li>\\n                <li><a href=\"/en-US/docs/Web/HTTP/Headers/X-Frame-Options\">X-Frame-Options</a></li>\\n                <li><a href=\"/en-US/docs/Web/HTTP/Headers/X-XSS-Protection\">X-XSS-Protection</a></li>\\n                <li><a href=\"https://wiki.mozilla.org/Security/Guidelines/Web_Security\">Mozilla web security guidelines</a></li>\\n                <li><a href=\"https://observatory.mozilla.org/\">Mozilla Observatory</a></li>\\n            </ol>\\n        </details>\\n    </li>\\n\\n    <li><a href=\"/en-US/docs/Web/HTTP/CORS\">HTTP access control (CORS)</a></li>\\n    <li><a href=\"/en-US/docs/Web/HTTP/Authentication\">HTTP authentication</a></li>\\n    <li><a href=\"/en-US/docs/Web/HTTP/Caching\">HTTP caching</a></li>\\n    <li><a href=\"/en-US/docs/Web/HTTP/Compression\">HTTP compression</a></li>\\n    <li><a href=\"/en-US/docs/Web/HTTP/Conditional_requests\">HTTP conditional requests</a></li>\\n    <li><a href=\"/en-US/docs/Web/HTTP/Content_negotiation\">HTTP content negotiation</a></li>\\n    <li><a href=\"/en-US/docs/Web/HTTP/Cookies\">HTTP cookies</a></li>\\n    <li><a href=\"/en-US/docs/Web/HTTP/Range_requests\">HTTP range requests</a></li>\\n    <li><a href=\"/en-US/docs/Web/HTTP/Redirections\">HTTP redirects</a></li>\\n    <li><a href=\"/en-US/docs/Web/HTTP/Resources_and_specifications\">HTTP specifications</a></li>\\n    <li><a href=\"/en-US/docs/Web/HTTP/Feature_Policy\">Feature policy</a></li>\\n    <li><strong>References:</strong></li>\\n    <li class=\"toggle\">\\n        <details>\\n            <summary>HTTP headers</summary>\\n            <ol><li><svg class=\"icon icon-experimental\" tabindex=\"0\">\\n    <use xlink:href=\"/assets/badges.svg#icon-experimental\"></use>\\n</svg><svg class=\"icon icon-nonstandard\" tabindex=\"0\">\\n    <use xlink:href=\"/assets/badges.svg#icon-nonstandard\"></use>\\n</svg><svg class=\"icon icon-deprecated\" tabindex=\"0\">\\n    <use xlink:href=\"/assets/badges.svg#icon-deprecated\"></use>\\n</svg><a href=\"/en-US/docs/Web/HTTP/Headers/Accept-CH-Lifetime\"><code>Accept-CH-Lifetime</code></a></li><li><a href=\"/en-US/docs/Web/HTTP/Headers/Accept-CH\"><code>Accept-CH</code></a></li><li><a href=\"/en-US/docs/Web/HTTP/Headers/Accept-Charset\"><code>Accept-Charset</code></a></li><li><a href=\"/en-US/docs/Web/HTTP/Headers/Accept-Encoding\"><code>Accept-Encoding</code></a></li><li><a href=\"/en-US/docs/Web/HTTP/Headers/Accept-Language\"><code>Accept-Language</code></a></li><li><a href=\"/en-US/docs/Web/HTTP/Headers/Accept-Patch\"><code>Accept-Patch</code></a></li><li><a href=\"/en-US/docs/Web/HTTP/Headers/Accept-Post\"><code>Accept-Post</code></a></li><li><a href=\"/en-US/docs/Web/HTTP/Headers/Accept-Ranges\"><code>Accept-Ranges</code></a></li><li><a href=\"/en-US/docs/Web/HTTP/Headers/Accept\"><code>Accept</code></a></li><li><a href=\"/en-US/docs/Web/HTTP/Headers/Access-Control-Allow-Credentials\"><code>Access-Control-Allow-Credentials</code></a></li><li><a href=\"/en-US/docs/Web/HTTP/Headers/Access-Control-Allow-Headers\"><code>Access-Control-Allow-Headers</code></a></li><li><a href=\"/en-US/docs/Web/HTTP/Headers/Access-Control-Allow-Methods\"><code>Access-Control-Allow-Methods</code></a></li><li><a href=\"/en-US/docs/Web/HTTP/Headers/Access-Control-Allow-Origin\"><code>Access-Control-Allow-Origin</code></a></li><li><a href=\"/en-US/docs/Web/HTTP/Headers/Access-Control-Expose-Headers\"><code>Access-Control-Expose-Headers</code></a></li><li><a href=\"/en-US/docs/Web/HTTP/Headers/Access-Control-Max-Age\"><code>Access-Control-Max-Age</code></a></li><li><a href=\"/en-US/docs/Web/HTTP/Headers/Access-Control-Request-Headers\"><code>Access-Control-Request-Headers</code></a></li><li><a href=\"/en-US/docs/Web/HTTP/Headers/Access-Control-Request-Method\"><code>Access-Control-Request-Method</code></a></li><li><a href=\"/en-US/docs/Web/HTTP/Headers/Age\"><code>Age</code></a></li><li><a href=\"/en-US/docs/Web/HTTP/Headers/Allow\"><code>Allow</code></a></li><li><a href=\"/en-US/docs/Web/HTTP/Headers/Alt-Svc\"><code>Alt-Svc</code></a></li><li><a href=\"/en-US/docs/Web/HTTP/Headers/Authorization\"><code>Authorization</code></a></li><li><a href=\"/en-US/docs/Web/HTTP/Headers/Cache-Control\"><code>Cache-Control</code></a></li><li><a href=\"/en-US/docs/Web/HTTP/Headers/Clear-Site-Data\"><code>Clear-Site-Data</code></a></li><li><a href=\"/en-US/docs/Web/HTTP/Headers/Connection\"><code>Connection</code></a></li><li><a href=\"/en-US/docs/Web/HTTP/Headers/Content-Disposition\"><code>Content-Disposition</code></a></li><li><svg class=\"icon icon-nonstandard\" tabindex=\"0\">\\n    <use xlink:href=\"/assets/badges.svg#icon-nonstandard\"></use>\\n</svg><svg class=\"icon icon-deprecated\" tabindex=\"0\">\\n    <use xlink:href=\"/assets/badges.svg#icon-deprecated\"></use>\\n</svg><a href=\"/en-US/docs/Web/HTTP/Headers/Content-DPR\"><code>Content-DPR</code></a></li><li><a href=\"/en-US/docs/Web/HTTP/Headers/Content-Encoding\"><code>Content-Encoding</code></a></li><li><a href=\"/en-US/docs/Web/HTTP/Headers/Content-Language\"><code>Content-Language</code></a></li><li><a href=\"/en-US/docs/Web/HTTP/Headers/Content-Length\"><code>Content-Length</code></a></li><li><a href=\"/en-US/docs/Web/HTTP/Headers/Content-Location\"><code>Content-Location</code></a></li><li><a href=\"/en-US/docs/Web/HTTP/Headers/Content-Range\"><code>Content-Range</code></a></li><li><a href=\"/en-US/docs/Web/HTTP/Headers/Content-Security-Policy-Report-Only\"><code>Content-Security-Policy-Report-Only</code></a></li><li><a href=\"/en-US/docs/Web/HTTP/Headers/Content-Security-Policy\"><code>Content-Security-Policy</code></a></li><li><a href=\"/en-US/docs/Web/HTTP/Headers/Content-Type\"><code>Content-Type</code></a></li><li><a href=\"/en-US/docs/Web/HTTP/Headers/Cookie\"><code>Cookie</code></a></li><li><svg class=\"icon icon-deprecated\" tabindex=\"0\">\\n    <use xlink:href=\"/assets/badges.svg#icon-deprecated\"></use>\\n</svg><a href=\"/en-US/docs/Web/HTTP/Headers/Cookie2\"><code>Cookie2</code></a></li><li><a href=\"/en-US/docs/Web/HTTP/Headers/Cross-Origin-Embedder-Policy\"><code>Cross-Origin-Embedder-Policy</code></a></li><li><a href=\"/en-US/docs/Web/HTTP/Headers/Cross-Origin-Opener-Policy\"><code>Cross-Origin-Opener-Policy</code></a></li><li><a href=\"/en-US/docs/Web/HTTP/Headers/Cross-Origin-Resource-Policy\"><code>Cross-Origin-Resource-Policy</code></a></li><li><a href=\"/en-US/docs/Web/HTTP/Headers/Date\"><code>Date</code></a></li><li><svg class=\"icon icon-experimental\" tabindex=\"0\">\\n    <use xlink:href=\"/assets/badges.svg#icon-experimental\"></use>\\n</svg><a href=\"/en-US/docs/Web/HTTP/Headers/Device-Memory\"><code>Device-Memory</code></a></li><li><a href=\"/en-US/docs/Web/HTTP/Headers/Digest\"><code>Digest</code></a></li><li><a href=\"/en-US/docs/Web/HTTP/Headers/DNT\"><code>DNT</code></a></li><li><svg class=\"icon icon-experimental\" tabindex=\"0\">\\n    <use xlink:href=\"/assets/badges.svg#icon-experimental\"></use>\\n</svg><a href=\"/en-US/docs/Web/HTTP/Headers/Downlink\"><code>Downlink</code></a></li><li><svg class=\"icon icon-nonstandard\" tabindex=\"0\">\\n    <use xlink:href=\"/assets/badges.svg#icon-nonstandard\"></use>\\n</svg><svg class=\"icon icon-deprecated\" tabindex=\"0\">\\n    <use xlink:href=\"/assets/badges.svg#icon-deprecated\"></use>\\n</svg><a href=\"/en-US/docs/Web/HTTP/Headers/DPR\"><code>DPR</code></a></li><li><svg class=\"icon icon-experimental\" tabindex=\"0\">\\n    <use xlink:href=\"/assets/badges.svg#icon-experimental\"></use>\\n</svg><a href=\"/en-US/docs/Web/HTTP/Headers/Early-Data\"><code>Early-Data</code></a></li><li><svg class=\"icon icon-experimental\" tabindex=\"0\">\\n    <use xlink:href=\"/assets/badges.svg#icon-experimental\"></use>\\n</svg><a href=\"/en-US/docs/Web/HTTP/Headers/ECT\"><code>ECT</code></a></li><li><a href=\"/en-US/docs/Web/HTTP/Headers/ETag\"><code>ETag</code></a></li><li><a href=\"/en-US/docs/Web/HTTP/Headers/Expect-CT\"><code>Expect-CT</code></a></li><li><a href=\"/en-US/docs/Web/HTTP/Headers/Expect\"><code>Expect</code></a></li><li><a href=\"/en-US/docs/Web/HTTP/Headers/Expires\"><code>Expires</code></a></li><li><svg class=\"icon icon-experimental\" tabindex=\"0\">\\n    <use xlink:href=\"/assets/badges.svg#icon-experimental\"></use>\\n</svg><a href=\"/en-US/docs/Web/HTTP/Headers/Feature-Policy\"><code>Feature-Policy</code></a></li><li><a href=\"/en-US/docs/Web/HTTP/Headers/Forwarded\"><code>Forwarded</code></a></li><li><a href=\"/en-US/docs/Web/HTTP/Headers/From\"><code>From</code></a></li><li><a href=\"/en-US/docs/Web/HTTP/Headers/Host\"><code>Host</code></a></li><li><a href=\"/en-US/docs/Web/HTTP/Headers/If-Match\"><code>If-Match</code></a></li><li><a href=\"/en-US/docs/Web/HTTP/Headers/If-Modified-Since\"><code>If-Modified-Since</code></a></li><li><a href=\"/en-US/docs/Web/HTTP/Headers/If-None-Match\"><code>If-None-Match</code></a></li><li><a href=\"/en-US/docs/Web/HTTP/Headers/If-Range\"><code>If-Range</code></a></li><li><a href=\"/en-US/docs/Web/HTTP/Headers/If-Unmodified-Since\"><code>If-Unmodified-Since</code></a></li><li><a href=\"/en-US/docs/Web/HTTP/Headers/Keep-Alive\"><code>Keep-Alive</code></a></li><li><svg class=\"icon icon-nonstandard\" tabindex=\"0\">\\n    <use xlink:href=\"/assets/badges.svg#icon-nonstandard\"></use>\\n</svg><a href=\"/en-US/docs/Web/HTTP/Headers/Large-Allocation\"><code>Large-Allocation</code></a></li><li><a href=\"/en-US/docs/Web/HTTP/Headers/Last-Modified\"><code>Last-Modified</code></a></li><li><a href=\"/en-US/docs/Web/HTTP/Headers/Link\"><code>Link</code></a></li><li><a href=\"/en-US/docs/Web/HTTP/Headers/Location\"><code>Location</code></a></li><li><a href=\"/en-US/docs/Web/HTTP/Headers/NEL\"><code>NEL</code></a></li><li><a href=\"/en-US/docs/Web/HTTP/Headers/Origin\"><code>Origin</code></a></li><li><svg class=\"icon icon-deprecated\" tabindex=\"0\">\\n    <use xlink:href=\"/assets/badges.svg#icon-deprecated\"></use>\\n</svg><a href=\"/en-US/docs/Web/HTTP/Headers/Pragma\"><code>Pragma</code></a></li><li><a href=\"/en-US/docs/Web/HTTP/Headers/Proxy-Authenticate\"><code>Proxy-Authenticate</code></a></li><li><a href=\"/en-US/docs/Web/HTTP/Headers/Proxy-Authorization\"><code>Proxy-Authorization</code></a></li><li><svg class=\"icon icon-deprecated\" tabindex=\"0\">\\n    <use xlink:href=\"/assets/badges.svg#icon-deprecated\"></use>\\n</svg><a href=\"/en-US/docs/Web/HTTP/Headers/Public-Key-Pins-Report-Only\"><code>Public-Key-Pins-Report-Only</code></a></li><li><svg class=\"icon icon-deprecated\" tabindex=\"0\">\\n    <use xlink:href=\"/assets/badges.svg#icon-deprecated\"></use>\\n</svg><a href=\"/en-US/docs/Web/HTTP/Headers/Public-Key-Pins\"><code>Public-Key-Pins</code></a></li><li><a href=\"/en-US/docs/Web/HTTP/Headers/Range\"><code>Range</code></a></li><li><a href=\"/en-US/docs/Web/HTTP/Headers/Referer\"><code>Referer</code></a></li><li><a href=\"/en-US/docs/Web/HTTP/Headers/Referrer-Policy\"><code>Referrer-Policy</code></a></li><li><a href=\"/en-US/docs/Web/HTTP/Headers/Retry-After\"><code>Retry-After</code></a></li><li><svg class=\"icon icon-experimental\" tabindex=\"0\">\\n    <use xlink:href=\"/assets/badges.svg#icon-experimental\"></use>\\n</svg><a href=\"/en-US/docs/Web/HTTP/Headers/RTT\"><code>RTT</code></a></li><li><a href=\"/en-US/docs/Web/HTTP/Headers/Save-Data\"><code>Save-Data</code></a></li><li><a href=\"/en-US/docs/Web/HTTP/Headers/Sec-Fetch-Dest\"><code>Sec-Fetch-Dest</code></a></li><li><a href=\"/en-US/docs/Web/HTTP/Headers/Sec-Fetch-Mode\"><code>Sec-Fetch-Mode</code></a></li><li><a href=\"/en-US/docs/Web/HTTP/Headers/Sec-Fetch-Site\"><code>Sec-Fetch-Site</code></a></li><li><a href=\"/en-US/docs/Web/HTTP/Headers/Sec-Fetch-User\"><code>Sec-Fetch-User</code></a></li><li><a href=\"/en-US/docs/Web/HTTP/Headers/Sec-WebSocket-Accept\"><code>Sec-WebSocket-Accept</code></a></li><li><a href=\"/en-US/docs/Web/HTTP/Headers/Server-Timing\"><code>Server-Timing</code></a></li><li><a href=\"/en-US/docs/Web/HTTP/Headers/Server\"><code>Server</code></a></li><li><a href=\"/en-US/docs/Web/HTTP/Headers/Set-Cookie\"><code>Set-Cookie</code></a></li><li><svg class=\"icon icon-deprecated\" tabindex=\"0\">\\n    <use xlink:href=\"/assets/badges.svg#icon-deprecated\"></use>\\n</svg><a href=\"/en-US/docs/Web/HTTP/Headers/Set-Cookie2\"><code>Set-Cookie2</code></a></li><li><a href=\"/en-US/docs/Web/HTTP/Headers/SourceMap\"><code>SourceMap</code></a></li><li><a href=\"/en-US/docs/Web/HTTP/Headers/Strict-Transport-Security\"><code>Strict-Transport-Security</code></a></li><li><a href=\"/en-US/docs/Web/HTTP/Headers/TE\"><code>TE</code></a></li><li><a href=\"/en-US/docs/Web/HTTP/Headers/Timing-Allow-Origin\"><code>Timing-Allow-Origin</code></a></li><li><a href=\"/en-US/docs/Web/HTTP/Headers/Tk\"><code>Tk</code></a></li><li><a href=\"/en-US/docs/Web/HTTP/Headers/Trailer\"><code>Trailer</code></a></li><li><a href=\"/en-US/docs/Web/HTTP/Headers/Transfer-Encoding\"><code>Transfer-Encoding</code></a></li><li><a href=\"/en-US/docs/Web/HTTP/Headers/Upgrade-Insecure-Requests\"><code>Upgrade-Insecure-Requests</code></a></li><li><a href=\"/en-US/docs/Web/HTTP/Headers/Upgrade\"><code>Upgrade</code></a></li><li><a href=\"/en-US/docs/Web/HTTP/Headers/User-Agent\"><code>User-Agent</code></a></li><li><a href=\"/en-US/docs/Web/HTTP/Headers/Vary\"><code>Vary</code></a></li><li><a href=\"/en-US/docs/Web/HTTP/Headers/Via\"><code>Via</code></a></li><li><svg class=\"icon icon-nonstandard\" tabindex=\"0\">\\n    <use xlink:href=\"/assets/badges.svg#icon-nonstandard\"></use>\\n</svg><svg class=\"icon icon-deprecated\" tabindex=\"0\">\\n    <use xlink:href=\"/assets/badges.svg#icon-deprecated\"></use>\\n</svg><a href=\"/en-US/docs/Web/HTTP/Headers/Viewport-Width\"><code>Viewport-Width</code></a></li><li><a href=\"/en-US/docs/Web/HTTP/Headers/Want-Digest\"><code>Want-Digest</code></a></li><li><a href=\"/en-US/docs/Web/HTTP/Headers/Warning\"><code>Warning</code></a></li><li><svg class=\"icon icon-experimental\" tabindex=\"0\">\\n    <use xlink:href=\"/assets/badges.svg#icon-experimental\"></use>\\n</svg><svg class=\"icon icon-deprecated\" tabindex=\"0\">\\n    <use xlink:href=\"/assets/badges.svg#icon-deprecated\"></use>\\n</svg><a href=\"/en-US/docs/Web/HTTP/Headers/Width\"><code>Width</code></a></li><li><a href=\"/en-US/docs/Web/HTTP/Headers/WWW-Authenticate\"><code>WWW-Authenticate</code></a></li><li><a href=\"/en-US/docs/Web/HTTP/Headers/X-Content-Type-Options\"><code>X-Content-Type-Options</code></a></li><li><a href=\"/en-US/docs/Web/HTTP/Headers/X-DNS-Prefetch-Control\"><code>X-DNS-Prefetch-Control</code></a></li><li><svg class=\"icon icon-nonstandard\" tabindex=\"0\">\\n    <use xlink:href=\"/assets/badges.svg#icon-nonstandard\"></use>\\n</svg><a href=\"/en-US/docs/Web/HTTP/Headers/X-Forwarded-For\"><code>X-Forwarded-For</code></a></li><li><svg class=\"icon icon-nonstandard\" tabindex=\"0\">\\n    <use xlink:href=\"/assets/badges.svg#icon-nonstandard\"></use>\\n</svg><a href=\"/en-US/docs/Web/HTTP/Headers/X-Forwarded-Host\"><code>X-Forwarded-Host</code></a></li><li><svg class=\"icon icon-nonstandard\" tabindex=\"0\">\\n    <use xlink:href=\"/assets/badges.svg#icon-nonstandard\"></use>\\n</svg><a href=\"/en-US/docs/Web/HTTP/Headers/X-Forwarded-Proto\"><code>X-Forwarded-Proto</code></a></li><li><a href=\"/en-US/docs/Web/HTTP/Headers/X-Frame-Options\"><code>X-Frame-Options</code></a></li><li><a href=\"/en-US/docs/Web/HTTP/Headers/X-XSS-Protection\"><code>X-XSS-Protection</code></a></li></ol>\\n        </details>\\n    </li>\\n    <li class=\"toggle\">\\n        <details>\\n            <summary>HTTP request methods</summary>\\n            <ol><li><a href=\"/en-US/docs/Web/HTTP/Methods/CONNECT\"><code>CONNECT</code></a></li><li><a href=\"/en-US/docs/Web/HTTP/Methods/DELETE\"><code>DELETE</code></a></li><li><a href=\"/en-US/docs/Web/HTTP/Methods/GET\"><code>GET</code></a></li><li><a href=\"/en-US/docs/Web/HTTP/Methods/HEAD\"><code>HEAD</code></a></li><li><a href=\"/en-US/docs/Web/HTTP/Methods/OPTIONS\"><code>OPTIONS</code></a></li><li><a href=\"/en-US/docs/Web/HTTP/Methods/PATCH\"><code>PATCH</code></a></li><li><a href=\"/en-US/docs/Web/HTTP/Methods/POST\"><code>POST</code></a></li><li><a href=\"/en-US/docs/Web/HTTP/Methods/PUT\"><code>PUT</code></a></li><li><a href=\"/en-US/docs/Web/HTTP/Methods/TRACE\"><code>TRACE</code></a></li></ol>\\n        </details>\\n    </li>\\n    <li class=\"toggle\">\\n        <details open=\"\">\\n          <summary>HTTP response status codes</summary>\\n          <ol><li><a href=\"/en-US/docs/Web/HTTP/Status/100\"><code>100 Continue</code></a></li><li><a href=\"/en-US/docs/Web/HTTP/Status/101\"><code>101 Switching Protocols</code></a></li><li><a href=\"/en-US/docs/Web/HTTP/Status/103\"><code>103 Early Hints</code></a></li><li><a href=\"/en-US/docs/Web/HTTP/Status/200\"><code>200 OK</code></a></li><li><a href=\"/en-US/docs/Web/HTTP/Status/201\"><code>201 Created</code></a></li><li><a href=\"/en-US/docs/Web/HTTP/Status/202\"><code>202 Accepted</code></a></li><li><a href=\"/en-US/docs/Web/HTTP/Status/203\"><code>203 Non-Authoritative Information</code></a></li><li><a href=\"/en-US/docs/Web/HTTP/Status/204\"><code>204 No Content</code></a></li><li><a href=\"/en-US/docs/Web/HTTP/Status/205\"><code>205 Reset Content</code></a></li><li><a href=\"/en-US/docs/Web/HTTP/Status/206\"><code>206 Partial Content</code></a></li><li><a href=\"/en-US/docs/Web/HTTP/Status/300\"><code>300 Multiple Choices</code></a></li><li><a href=\"/en-US/docs/Web/HTTP/Status/301\"><code>301 Moved Permanently</code></a></li><li><a href=\"/en-US/docs/Web/HTTP/Status/302\"><code>302 Found</code></a></li><li><a href=\"/en-US/docs/Web/HTTP/Status/303\"><code>303 See Other</code></a></li><li><a href=\"/en-US/docs/Web/HTTP/Status/304\"><code>304 Not Modified</code></a></li><li><a href=\"/en-US/docs/Web/HTTP/Status/307\"><code>307 Temporary Redirect</code></a></li><li><a href=\"/en-US/docs/Web/HTTP/Status/308\"><code>308 Permanent Redirect</code></a></li><li><a href=\"/en-US/docs/Web/HTTP/Status/400\"><code>400 Bad Request</code></a></li><li><a href=\"/en-US/docs/Web/HTTP/Status/401\"><code>401 Unauthorized</code></a></li><li><a href=\"/en-US/docs/Web/HTTP/Status/402\"><code>402 Payment Required</code></a></li><li><a href=\"/en-US/docs/Web/HTTP/Status/403\"><code>403 Forbidden</code></a></li><li><a href=\"/en-US/docs/Web/HTTP/Status/404\"><code>404 Not Found</code></a></li><li><a href=\"/en-US/docs/Web/HTTP/Status/405\"><code>405 Method Not Allowed</code></a></li><li><a href=\"/en-US/docs/Web/HTTP/Status/406\"><code>406 Not Acceptable</code></a></li><li><a href=\"/en-US/docs/Web/HTTP/Status/407\"><code>407 Proxy Authentication Required</code></a></li><li><a href=\"/en-US/docs/Web/HTTP/Status/408\"><code>408 Request Timeout</code></a></li><li><a href=\"/en-US/docs/Web/HTTP/Status/409\"><code>409 Conflict</code></a></li><li><a href=\"/en-US/docs/Web/HTTP/Status/410\"><code>410 Gone</code></a></li><li><a href=\"/en-US/docs/Web/HTTP/Status/411\"><code>411 Length Required</code></a></li><li><a href=\"/en-US/docs/Web/HTTP/Status/412\"><code>412 Precondition Failed</code></a></li><li><a href=\"/en-US/docs/Web/HTTP/Status/413\"><code>413 Payload Too Large</code></a></li><li><a href=\"/en-US/docs/Web/HTTP/Status/414\"><code>414 URI Too Long</code></a></li><li><a href=\"/en-US/docs/Web/HTTP/Status/415\"><code>415 Unsupported Media Type</code></a></li><li><a href=\"/en-US/docs/Web/HTTP/Status/416\"><code>416 Range Not Satisfiable</code></a></li><li><a href=\"/en-US/docs/Web/HTTP/Status/417\"><code>417 Expectation Failed</code></a></li><li><a href=\"/en-US/docs/Web/HTTP/Status/418\"><code>418 I\\'m a teapot</code></a></li><li><a href=\"/en-US/docs/Web/HTTP/Status/422\"><code>422 Unprocessable Entity</code></a></li><li><a href=\"/en-US/docs/Web/HTTP/Status/425\"><code>425 Too Early</code></a></li><li><a href=\"/en-US/docs/Web/HTTP/Status/426\"><code>426 Upgrade Required</code></a></li><li><a href=\"/en-US/docs/Web/HTTP/Status/428\"><code>428 Precondition Required</code></a></li><li><a href=\"/en-US/docs/Web/HTTP/Status/429\"><code>429 Too Many Requests</code></a></li><li><a href=\"/en-US/docs/Web/HTTP/Status/431\"><code>431 Request Header Fields Too Large</code></a></li><li><a href=\"/en-US/docs/Web/HTTP/Status/451\"><code>451 Unavailable For Legal Reasons</code></a></li><li><a href=\"/en-US/docs/Web/HTTP/Status/500\"><code>500 Internal Server Error</code></a></li><li><a href=\"/en-US/docs/Web/HTTP/Status/501\"><code>501 Not Implemented</code></a></li><li><a href=\"/en-US/docs/Web/HTTP/Status/502\"><code>502 Bad Gateway</code></a></li><li><a href=\"/en-US/docs/Web/HTTP/Status/503\"><code>503 Service Unavailable</code></a></li><li><a href=\"/en-US/docs/Web/HTTP/Status/504\"><code>504 Gateway Timeout</code></a></li><li><a href=\"/en-US/docs/Web/HTTP/Status/505\"><code>505 HTTP Version Not Supported</code></a></li><li><a href=\"/en-US/docs/Web/HTTP/Status/506\"><code>506 Variant Also Negotiates</code></a></li><li><a href=\"/en-US/docs/Web/HTTP/Status/507\"><code>507 Insufficient Storage</code></a></li><li><a href=\"/en-US/docs/Web/HTTP/Status/508\"><code>508 Loop Detected</code></a></li><li><a href=\"/en-US/docs/Web/HTTP/Status/510\"><code>510 Not Extended</code></a></li><li><a href=\"/en-US/docs/Web/HTTP/Status/511\"><code>511 Network Authentication Required</code></a></li></ol>\\n        </details>\\n    </li>\\n    <li class=\"toggle\">\\n        <details>\\n          <summary>CSP directives</summary>\\n          <ol><li><a href=\"/en-US/docs/Web/HTTP/Headers/Content-Security-Policy/base-uri\"><code>CSP: base-uri</code></a></li><li><a href=\"/en-US/docs/Web/HTTP/Headers/Content-Security-Policy/block-all-mixed-content\"><code>CSP: block-all-mixed-content</code></a></li><li><a href=\"/en-US/docs/Web/HTTP/Headers/Content-Security-Policy/child-src\"><code>CSP: child-src</code></a></li><li><a href=\"/en-US/docs/Web/HTTP/Headers/Content-Security-Policy/connect-src\"><code>CSP: connect-src</code></a></li><li><a href=\"/en-US/docs/Web/HTTP/Headers/Content-Security-Policy/default-src\"><code>CSP: default-src</code></a></li><li><a href=\"/en-US/docs/Web/HTTP/Headers/Content-Security-Policy/font-src\"><code>CSP: font-src</code></a></li><li><a href=\"/en-US/docs/Web/HTTP/Headers/Content-Security-Policy/form-action\"><code>CSP: form-action</code></a></li><li><a href=\"/en-US/docs/Web/HTTP/Headers/Content-Security-Policy/frame-ancestors\"><code>CSP: frame-ancestors</code></a></li><li><a href=\"/en-US/docs/Web/HTTP/Headers/Content-Security-Policy/frame-src\"><code>CSP: frame-src</code></a></li><li><a href=\"/en-US/docs/Web/HTTP/Headers/Content-Security-Policy/img-src\"><code>CSP: img-src</code></a></li><li><a href=\"/en-US/docs/Web/HTTP/Headers/Content-Security-Policy/manifest-src\"><code>CSP: manifest-src</code></a></li><li><a href=\"/en-US/docs/Web/HTTP/Headers/Content-Security-Policy/media-src\"><code>CSP: media-src</code></a></li><li><a href=\"/en-US/docs/Web/HTTP/Headers/Content-Security-Policy/navigate-to\"><code>CSP: navigate-to</code></a></li><li><a href=\"/en-US/docs/Web/HTTP/Headers/Content-Security-Policy/object-src\"><code>CSP: object-src</code></a></li><li><a href=\"/en-US/docs/Web/HTTP/Headers/Content-Security-Policy/plugin-types\"><code>CSP: plugin-types</code></a></li><li><a href=\"/en-US/docs/Web/HTTP/Headers/Content-Security-Policy/prefetch-src\"><code>CSP: prefetch-src</code></a></li><li><svg class=\"icon icon-deprecated\" tabindex=\"0\">\\n    <use xlink:href=\"/assets/badges.svg#icon-deprecated\"></use>\\n</svg><a href=\"/en-US/docs/Web/HTTP/Headers/Content-Security-Policy/referrer\"><code>CSP: referrer</code></a></li><li><a href=\"/en-US/docs/Web/HTTP/Headers/Content-Security-Policy/report-to\"><code>CSP: report-to</code></a></li><li><a href=\"/en-US/docs/Web/HTTP/Headers/Content-Security-Policy/report-uri\"><code>CSP: report-uri</code></a></li><li><a href=\"/en-US/docs/Web/HTTP/Headers/Content-Security-Policy/require-sri-for\"><code>CSP: require-sri-for</code></a></li><li><a href=\"/en-US/docs/Web/HTTP/Headers/Content-Security-Policy/require-trusted-types-for\"><code>CSP: require-trusted-types-for</code></a></li><li><a href=\"/en-US/docs/Web/HTTP/Headers/Content-Security-Policy/sandbox\"><code>CSP: sandbox</code></a></li><li><a href=\"/en-US/docs/Web/HTTP/Headers/Content-Security-Policy/script-src-attr\"><code>CSP: script-src-attr</code></a></li><li><a href=\"/en-US/docs/Web/HTTP/Headers/Content-Security-Policy/script-src-elem\"><code>CSP: script-src-elem</code></a></li><li><a href=\"/en-US/docs/Web/HTTP/Headers/Content-Security-Policy/script-src\"><code>CSP: script-src</code></a></li><li><a href=\"/en-US/docs/Web/HTTP/Headers/Content-Security-Policy/style-src-attr\"><code>CSP: style-src-attr</code></a></li><li><a href=\"/en-US/docs/Web/HTTP/Headers/Content-Security-Policy/style-src-elem\"><code>CSP: style-src-elem</code></a></li><li><a href=\"/en-US/docs/Web/HTTP/Headers/Content-Security-Policy/style-src\"><code>CSP: style-src</code></a></li><li><a href=\"/en-US/docs/Web/HTTP/Headers/Content-Security-Policy/trusted-types\"><code>CSP: trusted-types</code></a></li><li><a href=\"/en-US/docs/Web/HTTP/Headers/Content-Security-Policy/upgrade-insecure-requests\"><code>CSP: upgrade-insecure-requests</code></a></li><li><a href=\"/en-US/docs/Web/HTTP/Headers/Content-Security-Policy/worker-src\"><code>CSP: worker-src</code></a></li></ol>\\n        </details>\\n    </li>\\n    <li class=\"toggle\">\\n        <details>\\n          <summary>CORS errors</summary>\\n          <ol><li><a href=\"/en-US/docs/Web/HTTP/CORS/Errors/CORSAllowOriginNotMatchingOrigin\">Reason: CORS header \\'Access-Control-Allow-Origin\\' does not match \\'xyz\\'</a></li><li><a href=\"/en-US/docs/Web/HTTP/CORS/Errors/CORSDidNotSucceed\">Reason: CORS request did not succeed</a></li><li><a href=\"/en-US/docs/Web/HTTP/CORS/Errors/CORSDisabled\">Reason: CORS disabled</a></li><li><a href=\"/en-US/docs/Web/HTTP/CORS/Errors/CORSExternalRedirectNotAllowed\">Reason: CORS request external redirect not allowed</a></li><li><a href=\"/en-US/docs/Web/HTTP/CORS/Errors/CORSInvalidAllowHeader\">Reason: invalid token ‘xyz’ in CORS header ‘Access-Control-Allow-Headers’</a></li><li><a href=\"/en-US/docs/Web/HTTP/CORS/Errors/CORSInvalidAllowMethod\">Reason: invalid token ‘xyz’ in CORS header ‘Access-Control-Allow-Methods’</a></li><li><a href=\"/en-US/docs/Web/HTTP/CORS/Errors/CORSMethodNotFound\">Reason: Did not find method in CORS header ‘Access-Control-Allow-Methods’</a></li><li><a href=\"/en-US/docs/Web/HTTP/CORS/Errors/CORSMIssingAllowCredentials\">Reason: expected ‘true’ in CORS header ‘Access-Control-Allow-Credentials’</a></li><li><a href=\"/en-US/docs/Web/HTTP/CORS/Errors/CORSMissingAllowHeaderFromPreflight\">Reason: missing token ‘xyz’ in CORS header ‘Access-Control-Allow-Headers’ from CORS preflight channel</a></li><li><a href=\"/en-US/docs/Web/HTTP/CORS/Errors/CORSMissingAllowOrigin\">Reason: CORS header \\'Access-Control-Allow-Origin\\' missing</a></li><li><a href=\"/en-US/docs/Web/HTTP/CORS/Errors/CORSMultipleAllowOriginNotAllowed\">Reason: Multiple CORS header \\'Access-Control-Allow-Origin\\' not allowed</a></li><li><a href=\"/en-US/docs/Web/HTTP/CORS/Errors/CORSNotSupportingCredentials\">Reason: Credential is not supported if the CORS header ‘Access-Control-Allow-Origin’ is ‘*’</a></li><li><a href=\"/en-US/docs/Web/HTTP/CORS/Errors/CORSOriginHeaderNotAdded\">Reason: CORS header ‘Origin’ cannot be added</a></li><li><a href=\"/en-US/docs/Web/HTTP/CORS/Errors/CORSPreflightDidNotSucceed\">Reason: CORS preflight channel did not succeed</a></li><li><a href=\"/en-US/docs/Web/HTTP/CORS/Errors/CORSRequestNotHttp\">Reason: CORS request not HTTP</a></li></ol>\\n        </details>\\n    </li>\\n    <li class=\"toggle\">\\n        <details>\\n          <summary>Feature-Policy directives</summary>\\n          <ol><li><svg class=\"icon icon-experimental\" tabindex=\"0\">\\n    <use xlink:href=\"/assets/badges.svg#icon-experimental\"></use>\\n</svg><a href=\"/en-US/docs/Web/HTTP/Headers/Feature-Policy/accelerometer\">Feature-Policy: accelerometer</a></li><li><svg class=\"icon icon-experimental\" tabindex=\"0\">\\n    <use xlink:href=\"/assets/badges.svg#icon-experimental\"></use>\\n</svg><a href=\"/en-US/docs/Web/HTTP/Headers/Feature-Policy/ambient-light-sensor\">Feature-Policy: ambient-light-sensor</a></li><li><svg class=\"icon icon-experimental\" tabindex=\"0\">\\n    <use xlink:href=\"/assets/badges.svg#icon-experimental\"></use>\\n</svg><a href=\"/en-US/docs/Web/HTTP/Headers/Feature-Policy/autoplay\">Feature-Policy: autoplay</a></li><li><svg class=\"icon icon-experimental\" tabindex=\"0\">\\n    <use xlink:href=\"/assets/badges.svg#icon-experimental\"></use>\\n</svg><a href=\"/en-US/docs/Web/HTTP/Headers/Feature-Policy/battery\">Feature-Policy: battery</a></li><li><svg class=\"icon icon-experimental\" tabindex=\"0\">\\n    <use xlink:href=\"/assets/badges.svg#icon-experimental\"></use>\\n</svg><a href=\"/en-US/docs/Web/HTTP/Headers/Feature-Policy/camera\">Feature-Policy: camera</a></li><li><svg class=\"icon icon-experimental\" tabindex=\"0\">\\n    <use xlink:href=\"/assets/badges.svg#icon-experimental\"></use>\\n</svg><a href=\"/en-US/docs/Web/HTTP/Headers/Feature-Policy/display-capture\">Feature-Policy: display-capture</a></li><li><svg class=\"icon icon-experimental\" tabindex=\"0\">\\n    <use xlink:href=\"/assets/badges.svg#icon-experimental\"></use>\\n</svg><a href=\"/en-US/docs/Web/HTTP/Headers/Feature-Policy/document-domain\">Feature-Policy: document-domain</a></li><li><svg class=\"icon icon-experimental\" tabindex=\"0\">\\n    <use xlink:href=\"/assets/badges.svg#icon-experimental\"></use>\\n</svg><a href=\"/en-US/docs/Web/HTTP/Headers/Feature-Policy/encrypted-media\">Feature-Policy: encrypted-media</a></li><li><svg class=\"icon icon-experimental\" tabindex=\"0\">\\n    <use xlink:href=\"/assets/badges.svg#icon-experimental\"></use>\\n</svg><a href=\"/en-US/docs/Web/HTTP/Headers/Feature-Policy/fullscreen\">Feature-Policy: fullscreen</a></li><li><svg class=\"icon icon-experimental\" tabindex=\"0\">\\n    <use xlink:href=\"/assets/badges.svg#icon-experimental\"></use>\\n</svg><a href=\"/en-US/docs/Web/HTTP/Headers/Feature-Policy/gamepad\">Feature-Policy: gamepad</a></li><li><svg class=\"icon icon-experimental\" tabindex=\"0\">\\n    <use xlink:href=\"/assets/badges.svg#icon-experimental\"></use>\\n</svg><a href=\"/en-US/docs/Web/HTTP/Headers/Feature-Policy/geolocation\">Feature-Policy: geolocation</a></li><li><svg class=\"icon icon-experimental\" tabindex=\"0\">\\n    <use xlink:href=\"/assets/badges.svg#icon-experimental\"></use>\\n</svg><a href=\"/en-US/docs/Web/HTTP/Headers/Feature-Policy/gyroscope\">Feature-Policy: gyroscope</a></li><li><svg class=\"icon icon-experimental\" tabindex=\"0\">\\n    <use xlink:href=\"/assets/badges.svg#icon-experimental\"></use>\\n</svg><svg class=\"icon icon-nonstandard\" tabindex=\"0\">\\n    <use xlink:href=\"/assets/badges.svg#icon-nonstandard\"></use>\\n</svg><a href=\"/en-US/docs/Web/HTTP/Headers/Feature-Policy/layout-animations\">Feature-Policy: layout-animations</a></li><li><svg class=\"icon icon-experimental\" tabindex=\"0\">\\n    <use xlink:href=\"/assets/badges.svg#icon-experimental\"></use>\\n</svg><svg class=\"icon icon-nonstandard\" tabindex=\"0\">\\n    <use xlink:href=\"/assets/badges.svg#icon-nonstandard\"></use>\\n</svg><a href=\"/en-US/docs/Web/HTTP/Headers/Feature-Policy/legacy-image-formats\">Feature-Policy: legacy-image-formats</a></li><li><svg class=\"icon icon-experimental\" tabindex=\"0\">\\n    <use xlink:href=\"/assets/badges.svg#icon-experimental\"></use>\\n</svg><a href=\"/en-US/docs/Web/HTTP/Headers/Feature-Policy/magnetometer\">Feature-Policy: magnetometer</a></li><li><svg class=\"icon icon-experimental\" tabindex=\"0\">\\n    <use xlink:href=\"/assets/badges.svg#icon-experimental\"></use>\\n</svg><a href=\"/en-US/docs/Web/HTTP/Headers/Feature-Policy/microphone\">Feature-Policy: microphone</a></li><li><svg class=\"icon icon-experimental\" tabindex=\"0\">\\n    <use xlink:href=\"/assets/badges.svg#icon-experimental\"></use>\\n</svg><a href=\"/en-US/docs/Web/HTTP/Headers/Feature-Policy/midi\">Feature-Policy: midi</a></li><li><svg class=\"icon icon-experimental\" tabindex=\"0\">\\n    <use xlink:href=\"/assets/badges.svg#icon-experimental\"></use>\\n</svg><svg class=\"icon icon-nonstandard\" tabindex=\"0\">\\n    <use xlink:href=\"/assets/badges.svg#icon-nonstandard\"></use>\\n</svg><a href=\"/en-US/docs/Web/HTTP/Headers/Feature-Policy/oversized-images\">Feature-Policy: oversized-images</a></li><li><svg class=\"icon icon-experimental\" tabindex=\"0\">\\n    <use xlink:href=\"/assets/badges.svg#icon-experimental\"></use>\\n</svg><a href=\"/en-US/docs/Web/HTTP/Headers/Feature-Policy/payment\">Feature-Policy: payment</a></li><li><svg class=\"icon icon-experimental\" tabindex=\"0\">\\n    <use xlink:href=\"/assets/badges.svg#icon-experimental\"></use>\\n</svg><a href=\"/en-US/docs/Web/HTTP/Headers/Feature-Policy/picture-in-picture\">Feature-Policy: picture-in-picture</a></li><li><svg class=\"icon icon-experimental\" tabindex=\"0\">\\n    <use xlink:href=\"/assets/badges.svg#icon-experimental\"></use>\\n</svg><a href=\"/en-US/docs/Web/HTTP/Headers/Feature-Policy/publickey-credentials-get\">Feature-Policy: publickey-credentials-get</a></li><li><svg class=\"icon icon-experimental\" tabindex=\"0\">\\n    <use xlink:href=\"/assets/badges.svg#icon-experimental\"></use>\\n</svg><a href=\"/en-US/docs/Web/HTTP/Headers/Feature-Policy/screen-wake-lock\">Feature-Policy: screen-wake-lock</a></li><li><svg class=\"icon icon-experimental\" tabindex=\"0\">\\n    <use xlink:href=\"/assets/badges.svg#icon-experimental\"></use>\\n</svg><a href=\"/en-US/docs/Web/HTTP/Headers/Feature-Policy/sync-xhr\">Feature-Policy: sync-xhr</a></li><li><svg class=\"icon icon-experimental\" tabindex=\"0\">\\n    <use xlink:href=\"/assets/badges.svg#icon-experimental\"></use>\\n</svg><svg class=\"icon icon-nonstandard\" tabindex=\"0\">\\n    <use xlink:href=\"/assets/badges.svg#icon-nonstandard\"></use>\\n</svg><a href=\"/en-US/docs/Web/HTTP/Headers/Feature-Policy/unoptimized-images\">Feature-Policy: unoptimized-images</a></li><li><svg class=\"icon icon-experimental\" tabindex=\"0\">\\n    <use xlink:href=\"/assets/badges.svg#icon-experimental\"></use>\\n</svg><svg class=\"icon icon-nonstandard\" tabindex=\"0\">\\n    <use xlink:href=\"/assets/badges.svg#icon-nonstandard\"></use>\\n</svg><a href=\"/en-US/docs/Web/HTTP/Headers/Feature-Policy/unsized-media\">Feature-Policy: unsized-media</a></li><li><svg class=\"icon icon-experimental\" tabindex=\"0\">\\n    <use xlink:href=\"/assets/badges.svg#icon-experimental\"></use>\\n</svg><a href=\"/en-US/docs/Web/HTTP/Headers/Feature-Policy/usb\">Feature-Policy: usb</a></li><li><svg class=\"icon icon-experimental\" tabindex=\"0\">\\n    <use xlink:href=\"/assets/badges.svg#icon-experimental\"></use>\\n</svg><svg class=\"icon icon-nonstandard\" tabindex=\"0\">\\n    <use xlink:href=\"/assets/badges.svg#icon-nonstandard\"></use>\\n</svg><svg class=\"icon icon-deprecated\" tabindex=\"0\">\\n    <use xlink:href=\"/assets/badges.svg#icon-deprecated\"></use>\\n</svg><a href=\"/en-US/docs/Web/HTTP/Headers/Feature-Policy/vibrate\">Feature-Policy: vibrate</a></li><li><svg class=\"icon icon-experimental\" tabindex=\"0\">\\n    <use xlink:href=\"/assets/badges.svg#icon-experimental\"></use>\\n</svg><a href=\"/en-US/docs/Web/HTTP/Headers/Feature-Policy/vr\">Feature-Policy: vr</a></li><li><svg class=\"icon icon-experimental\" tabindex=\"0\">\\n    <use xlink:href=\"/assets/badges.svg#icon-experimental\"></use>\\n</svg><a href=\"/en-US/docs/Web/HTTP/Headers/Feature-Policy/web-share\">web-share</a></li><li><svg class=\"icon icon-experimental\" tabindex=\"0\">\\n    <use xlink:href=\"/assets/badges.svg#icon-experimental\"></use>\\n</svg><a href=\"/en-US/docs/Web/HTTP/Headers/Feature-Policy/xr-spatial-tracking\">Feature-Policy: xr-spatial-tracking</a></li><li><svg class=\"icon icon-experimental\" tabindex=\"0\">\\n    <use xlink:href=\"/assets/badges.svg#icon-experimental\"></use>\\n</svg><svg class=\"icon icon-deprecated\" tabindex=\"0\">\\n    <use xlink:href=\"/assets/badges.svg#icon-deprecated\"></use>\\n</svg><a href=\"/en-US/docs/Web/HTTP/Headers/Feature-Policy/xr\">Feature-Policy: xr</a></li></ol>\\n        </details>\\n    </li>\\n  </ol>\\n</div></nav></div><footer id=\"nav-footer\" class=\"page-footer\"><div class=\"content-container\"><div class=\"page-footer-logo\"><a href=\"/en-US/\" class=\"logo\" aria-label=\"MDN Web Docs\"><svg xmlns=\"http://www.w3.org/2000/svg\" viewBox=\"0 0 451.74 135\" fill=\"#fff\"><path d=\"M7.14 8.35v111.06h111.05V8.35zm103.71 56c-.48.92-1 1.79-1.46 2.71a3.44 3.44 0 01-3.54 2 2.4 2.4 0 00-1.55.5c-1.37.9-2.76 1.79-4.18 2.63a7.33 7.33 0 01-6.35.34 29.71 29.71 0 00-10.63-2 11.7 11.7 0 00-9.46 4.31 14.84 14.84 0 00-2.13 4.29c-1.24 3.07-2.3 21.38-2.3 26.05 0 0-17.62-3.42-34.15-20.34l4.31-11.32h-13.5l9.76-10.35h-16.8l9.77-10.34H12.69L30.45 34a40.9 40.9 0 0119.77-10.83c7.1-1.22 8.93-.53 13.31.77l2.43.73.85.25 3.1.95a12.56 12.56 0 006.21.09 11.37 11.37 0 018.25 1 8.24 8.24 0 014.1 6.22 7.29 7.29 0 003.61 5.49 59.45 59.45 0 009.32 4.11c2.27.86 4.54 1.84 6.79 2.72a6.81 6.81 0 012.86 2.06 4.81 4.81 0 011.1 2.73c.14 2 .37 4 .47 6a15.24 15.24 0 01-1.77 8.03zM320.12 39.62a5.42 5.42 0 00-4.53 2.13 7.36 7.36 0 00-1.7 4.43v2.36a6.28 6.28 0 001.7 4.46 5.63 5.63 0 004.3 1.82 5.12 5.12 0 004.57-2.27A9.7 9.7 0 00326 47a8.11 8.11 0 00-1.67-5.52 5.36 5.36 0 00-4.21-1.86zM387.38 39.53a5.52 5.52 0 00-4.7 2.15 8.8 8.8 0 00-1.63 5.49 9.23 9.23 0 001.58 5.45 5.38 5.38 0 004.7 2.25 5.61 5.61 0 004.74-2.2 8.91 8.91 0 001.68-5.59 8.24 8.24 0 00-1.75-5.52 5.76 5.76 0 00-4.62-2.03zM299.47 41.35a4.34 4.34 0 00-4-1.92 4.55 4.55 0 00-3.89 1.73 8.37 8.37 0 00-1.58 4.17h10.48a6.3 6.3 0 00-1.01-3.98zM357.74 30.75H352v23.31h5.72q5.47 0 8.35-3t2.93-8.65q0-5.43-2.88-8.55t-8.38-3.11z\"></path><path d=\"M121.55 8.35v70.8h323V8.35zm42.21 22.45h-4V54h3.68v3.73h-11.25V54h3.31V36.79h-.19l-9.63 19.12h-2.12l-10-19.4h-.19V54h3.45v3.73h-11.15V54h3.68V30.8h-4v-3.73H133l11.66 22.56h.19l11.18-22.56h7.7zm29.12 22.67q-4.11 4.28-11.38 4.28h-14.06v-3.69h3.73V30.75h-3.73v-3.68h13.83q7.59 0 11.66 4.29a15.4 15.4 0 014 11 15.33 15.33 0 01-4.05 11.11zm38.89-22.67h-3.68v27h-2.6L208.08 35h-.19v19h4.67v3.73h-12.22V54h3.49V30.8h-4v-3.73h7.08l16.9 22.09h.19V30.8h-4.58v-3.73h12.32zm43.8 27h-3.31l-7.83-23.18h-.19l-7.55 23.18h-3.35l-8.78-27h-2.65v-3.73H253v3.73h-3.87L255 50.71h.23l6.61-19.91H259v-3.73h11v3.73h-2.78l6.61 20.1h.23l5.43-20.1h-4.15v-3.73h11v3.73h-2.54zm26.71-1.51a9.66 9.66 0 01-6.42 2 10.2 10.2 0 01-7.41-2.74c-1.89-1.82-2.83-4.47-2.83-7.93a12.37 12.37 0 012.64-8.12 9 9 0 017.32-3.21 8.62 8.62 0 016.75 2.69 9.65 9.65 0 012.45 6.52 13.67 13.67 0 01-.28 2.69H290q.29 6.71 6.18 6.7a5.2 5.2 0 003.71-1.18 5.82 5.82 0 001.67-2.83l3.45.71a7.21 7.21 0 01-2.73 4.65zm25.77-1.63c-1.51 2.4-3.92 3.61-7.22 3.61s-5.84-1.29-7.22-3.87c0 .25-.1.82-.21 1.7s-.19 1.44-.22 1.7H309c.16-1 .31-2 .47-3.07a21.42 21.42 0 00.24-3.16v-23h-3.4v-3.3h7.55V40.9a9.76 9.76 0 012.67-3.28 7.33 7.33 0 014.74-1.4 8.48 8.48 0 016.5 2.78q2.55 2.74 2.55 7.74a14.6 14.6 0 01-2.27 7.87zm41.39-1.14q-4.11 4.28-11.37 4.28H344v-3.74h3.73V30.75H344v-3.68h13.83q7.59 0 11.66 4.29a15.41 15.41 0 014.06 11 15.34 15.34 0 01-4.11 11.11zm25.65 1.68a10.53 10.53 0 01-7.9 3.07 10 10 0 01-7.63-3 10.93 10.93 0 01-2.8-7.83 12.13 12.13 0 012.69-7.93q2.69-3.3 8-3.3t8 3.28a12 12 0 012.64 7.76 10.86 10.86 0 01-3 7.9zm22.61.57c-1.4 1.66-3.63 2.5-6.68 2.5a9.58 9.58 0 01-7.15-2.76q-2.72-2.76-2.71-7.91a12.25 12.25 0 012.69-8 9.17 9.17 0 017.5-3.28 15 15 0 013.82.48 10.37 10.37 0 013.5 1.65l.85 5.47-3.35.38-.76-3.54a8.07 8.07 0 00-4.11-1 4.9 4.9 0 00-4.39 2.15 9.93 9.93 0 00-1.41 5.55 8.9 8.9 0 001.5 5.38 5.23 5.23 0 004.44 2c2.92 0 4.67-1.7 5.23-5.1l3.5.71a10.34 10.34 0 01-2.47 5.27zm20.48.75a11.68 11.68 0 01-6.63 1.75 15.52 15.52 0 01-8.26-2.08L424 51l3.26.33-.1 2.74a7 7 0 002.06.66 12.63 12.63 0 002.19.19 8.68 8.68 0 003.66-.75 2.5 2.5 0 001.63-2.36 2.25 2.25 0 00-1.32-2.2 12.65 12.65 0 00-3.28-1 47.39 47.39 0 01-3.9-.82 7.5 7.5 0 01-3.25-1.7 4.67 4.67 0 01-1.33-3.66c0-2.36.88-4 2.62-4.91a12 12 0 015.6-1.37 15 15 0 014.08.55 16.65 16.65 0 013.47 1.39l.47 5.1-3.3.37-.48-3.3a9.5 9.5 0 00-4.06-.9 5.62 5.62 0 00-2.87.66 2.33 2.33 0 00-1.15 2.25 2.13 2.13 0 001.3 2.07 11.91 11.91 0 003.21.92 36.69 36.69 0 013.82.83 7.46 7.46 0 013.21 1.74 4.9 4.9 0 011.3 3.73 5.56 5.56 0 01-2.66 4.91z\"></path><path d=\"M181.17 30.75h-5.71v23.31h5.71q5.47 0 8.36-3t2.88-8.61q0-5.43-2.88-8.55t-8.36-3.15zM121.63 119.32V81.74h114.91v37.58zM153.22 109h-2v-6.85a4.8 4.8 0 00-1.58-4 5.57 5.57 0 00-3.55-1.26 5 5 0 00-4.92 3.26 4.19 4.19 0 00-1.88-2.46 5.82 5.82 0 00-3-.8 4.89 4.89 0 00-4.56 2.56v-2.21h-6.28v3.26h2v8.5h-2v3.23h9.11V109h-2.86v-5.25a4.4 4.4 0 01.69-2.56 2.47 2.47 0 012.21-1q2.57 0 2.56 3.63v8.41h6.29V109h-2v-5.25a4.47 4.47 0 01.67-2.56 2.42 2.42 0 012.19-1q2.63 0 2.63 3.63v8.41h6.28zm9.88-12.07q-4 0-6 2.36a8.41 8.41 0 00-2 5.66 7.25 7.25 0 002.17 5.62 8 8 0 005.65 2 8.54 8.54 0 005.94-2.11 7.27 7.27 0 002.34-5.67 8.21 8.21 0 00-2-5.51q-2.07-2.34-6.1-2.34zm-.1 12.35a3 3 0 01-2.63-1.33 5.68 5.68 0 01-.9-3.26 5 5 0 011-3.28 3.23 3.23 0 012.61-1.18 3.5 3.5 0 012.59 1.08 4.56 4.56 0 011.07 3.31 5.21 5.21 0 01-1 3.41 3.33 3.33 0 01-2.74 1.25zm25-2.3l-3.39-.29-.7 2.32H179l8.32-9.54-.32-2.23h-13.19l-.53 5.25 3.16.34.67-2.36h4.65l-8.25 9.53.44 2.26h13.13zm7.62-9.74h-4.46v5.39h4.46zm0 9.61h-4.46v5.39h4.46zm13.54-17.49h-4.23l-6.48 22.88h4.22zm8.68 0h-4.23l-6.45 22.88h4.19zm15 22.51l-.07-2.26a1.22 1.22 0 01-.56.1c-.69 0-1-.39-1-1.16v-6.49a4.39 4.39 0 00-1.8-3.84 7 7 0 00-4.16-1.28 14.55 14.55 0 00-3.16.3 24.14 24.14 0 00-3.29 1.06l-.56 3.46 3.39.4.5-1.69a2.78 2.78 0 011.08-.37 11.3 11.3 0 011.25-.07c1.19 0 1.89.37 2.09 1.1a8.55 8.55 0 01.3 2.26v.5a8.91 8.91 0 00-1.18-.11h-1.21a12.64 12.64 0 00-4.81.88 3.53 3.53 0 00-2.18 3.64 3.66 3.66 0 001.48 3.33 5.63 5.63 0 003.11 1 4.67 4.67 0 003-.91 6.78 6.78 0 001.8-2 3 3 0 003.33 3 5.54 5.54 0 002.66-.85zm-9.25-2.32a1.69 1.69 0 01-1.36-.52 1.81 1.81 0 01-.43-1.21 1.67 1.67 0 01.86-1.68 4.63 4.63 0 012-.42 7.69 7.69 0 011.07.07l1.06.13a3.58 3.58 0 01-1.08 2.74 3.24 3.24 0 01-2.11.89z\"></path></svg></a></div><ul class=\"link-list-mdn\"><li><a href=\"/en-US/docs/Web\">Web Technologies</a></li><li><a href=\"/en-US/docs/Learn\">Learn Web Development</a></li><li><a href=\"/en-US/docs/MDN/About\">About MDN</a></li><li><a href=\"/en-US/docs/MDN/Feedback\">Feedback</a></li></ul><ul class=\"link-list-moz\"><li><a href=\"https://www.mozilla.org/about/\" target=\"_blank\" rel=\"noopener noreferrer\">About</a></li><li><a href=\"https://shop.spreadshirt.com/mdn-store/\" target=\"_blank\" rel=\"noopener noreferrer\">MDN Web Docs Store</a></li><li><a href=\"https://www.mozilla.org/contact/\" target=\"_blank\" rel=\"noopener noreferrer\">Contact Us</a></li><li><a href=\"https://www.mozilla.org/firefox/?utm_source=developer.mozilla.org&amp;utm_campaign=footer&amp;utm_medium=referral\" target=\"_blank\" rel=\"noopener noreferrer\">Firefox</a></li></ul><div class=\"social social-mdn\"><h4>MDN</h4><ul><li><a class=\"social-icon twitter\" href=\"https://twitter.com/mozdevnet\" target=\"_blank\" rel=\"noopener noreferrer\"><span class=\"visually-hidden\">MDN on Twitter</span></a></li><li><a class=\"social-icon github\" href=\"https://github.com/mdn/\" target=\"_blank\" rel=\"noopener noreferrer\"><span class=\"visually-hidden\">MDN on Github</span></a></li></ul></div><div class=\"social social-moz\"><h4>Mozilla</h4><ul><li><a class=\"social-icon twitter\" href=\"https://twitter.com/mozilla\" target=\"_blank\" rel=\"noopener noreferrer\"><span class=\"visually-hidden\">Mozilla on Twitter</span></a></li><li><a class=\"social-icon instagram\" href=\"https://www.instagram.com/mozillagram/\" target=\"_blank\" rel=\"noopener noreferrer\"><span class=\"visually-hidden\">Mozilla on Instagram</span></a></li></ul></div><p id=\"license\" class=\"footer-license\">© 2005-<!-- -->2021<!-- --> Mozilla and individual contributors. Content is available under<!-- --> <a href=\"/docs/MDN/About#Copyrights_and_licenses\">these licenses</a>.</p><ul class=\"footer-legal\"><li><a href=\"https://www.mozilla.org/about/legal/terms/mozilla\" target=\"_blank\" rel=\"noopener noreferrer\">Terms</a></li><li><a href=\"https://www.mozilla.org/privacy/websites/\" target=\"_blank\" rel=\"noopener noreferrer\">Privacy</a></li><li><a href=\"https://www.mozilla.org/privacy/websites/#cookies\" target=\"_blank\" rel=\"noopener noreferrer\">Cookies</a></li></ul></div></footer><div class=\"page-overlay hidden\"></div></div><script type=\"application/json\" id=\"hydration\">{\"doc\":{\"isMarkdown\":false,\"isTranslated\":false,\"isActive\":true,\"flaws\":{},\"title\":\"HTTP response status codes\",\"mdn_url\":\"/en-US/docs/Web/HTTP/Status\",\"locale\":\"en-US\",\"native\":\"English (US)\",\"sidebarHTML\":\"\\\\n  <ol>\\\\n    <li><a href=\\\\\"/en-US/docs/Web/HTTP\\\\\"><strong><em>HTTP</em></strong></a></li>\\\\n    <li><strong>Guides:</strong></li>\\\\n    <li class=\\\\\"toggle\\\\\">\\\\n        <details>\\\\n            <summary>Resources and URIs</summary>\\\\n            <ol>\\\\n                <li><a href=\\\\\"/en-US/docs/Web/HTTP/Basics_of_HTTP/Identifying_resources_on_the_Web\\\\\">Identifying resources on the Web</a></li>\\\\n                <li><a href=\\\\\"/en-US/docs/Web/HTTP/Basics_of_HTTP/Data_URIs\\\\\">Data URIs</a></li>\\\\n                <li><a href=\\\\\"/en-US/docs/Web/HTTP/Basics_of_HTTP/MIME_Types\\\\\">Introduction to MIME types</a></li>\\\\n                <li><a href=\\\\\"/en-US/docs/Web/HTTP/Basics_of_HTTP/MIME_types/Common_types\\\\\">Common MIME types</a></li>\\\\n                <li><a href=\\\\\"/en-US/docs/Web/HTTP/Basics_of_HTTP/Choosing_between_www_and_non-www_URLs\\\\\">Choosing between www and non-www URLs</a></li>\\\\n            </ol>\\\\n        </details>\\\\n    </li>\\\\n    <li class=\\\\\"toggle\\\\\">\\\\n        <details>\\\\n            <summary>HTTP guide</summary>\\\\n            <ol>\\\\n                <li><a href=\\\\\"/en-US/docs/Web/HTTP/Basics_of_HTTP\\\\\">Basics of HTTP</a></li>\\\\n                <li><a href=\\\\\"/en-US/docs/Web/HTTP/Overview\\\\\">Overview of HTTP</a></li>\\\\n                <li><a href=\\\\\"/en-US/docs/Web/HTTP/Basics_of_HTTP/Evolution_of_HTTP\\\\\">Evolution of HTTP</a></li>\\\\n                <li><a href=\\\\\"/en-US/docs/Web/HTTP/Messages\\\\\">HTTP Messages</a></li>\\\\n                <li><a href=\\\\\"/en-US/docs/Web/HTTP/Session\\\\\">A typical HTTP session</a></li>\\\\n                <li><a href=\\\\\"/en-US/docs/Web/HTTP/Connection_management_in_HTTP_1.x\\\\\">Connection management in HTTP/1.x</a></li>\\\\n                <li><a href=\\\\\"/en-US/docs/Web/HTTP/Protocol_upgrade_mechanism\\\\\">Protocol upgrade mechanism</a></li>\\\\n            </ol>\\\\n        </details>\\\\n    </li>\\\\n    <li class=\\\\\"toggle\\\\\">\\\\n        <details>\\\\n            <summary>HTTP security</summary>\\\\n            <ol>\\\\n                <li><a href=\\\\\"/en-US/docs/Web/HTTP/CSP\\\\\">Content Security Policy (CSP)</a></li>\\\\n                <li><a href=\\\\\"/en-US/docs/Web/HTTP/Public_Key_Pinning\\\\\">HTTP Public Key Pinning (HPKP)</a></li>\\\\n                <li><a href=\\\\\"/en-US/docs/Web/HTTP/Headers/Strict-Transport-Security\\\\\">HTTP Strict Transport Security (HSTS)</a></li>\\\\n                <li><a href=\\\\\"/en-US/docs/Web/HTTP/Cookies#Secure_and_HttpOnly_cookies\\\\\">Cookie security</a></li>\\\\n                <li><a href=\\\\\"/en-US/docs/Web/HTTP/Headers/X-Content-Type-Options\\\\\">X-Content-Type-Options</a></li>\\\\n                <li><a href=\\\\\"/en-US/docs/Web/HTTP/Headers/X-Frame-Options\\\\\">X-Frame-Options</a></li>\\\\n                <li><a href=\\\\\"/en-US/docs/Web/HTTP/Headers/X-XSS-Protection\\\\\">X-XSS-Protection</a></li>\\\\n                <li><a href=\\\\\"https://wiki.mozilla.org/Security/Guidelines/Web_Security\\\\\">Mozilla web security guidelines</a></li>\\\\n                <li><a href=\\\\\"https://observatory.mozilla.org/\\\\\">Mozilla Observatory</a></li>\\\\n            </ol>\\\\n        </details>\\\\n    </li>\\\\n\\\\n    <li><a href=\\\\\"/en-US/docs/Web/HTTP/CORS\\\\\">HTTP access control (CORS)</a></li>\\\\n    <li><a href=\\\\\"/en-US/docs/Web/HTTP/Authentication\\\\\">HTTP authentication</a></li>\\\\n    <li><a href=\\\\\"/en-US/docs/Web/HTTP/Caching\\\\\">HTTP caching</a></li>\\\\n    <li><a href=\\\\\"/en-US/docs/Web/HTTP/Compression\\\\\">HTTP compression</a></li>\\\\n    <li><a href=\\\\\"/en-US/docs/Web/HTTP/Conditional_requests\\\\\">HTTP conditional requests</a></li>\\\\n    <li><a href=\\\\\"/en-US/docs/Web/HTTP/Content_negotiation\\\\\">HTTP content negotiation</a></li>\\\\n    <li><a href=\\\\\"/en-US/docs/Web/HTTP/Cookies\\\\\">HTTP cookies</a></li>\\\\n    <li><a href=\\\\\"/en-US/docs/Web/HTTP/Range_requests\\\\\">HTTP range requests</a></li>\\\\n    <li><a href=\\\\\"/en-US/docs/Web/HTTP/Redirections\\\\\">HTTP redirects</a></li>\\\\n    <li><a href=\\\\\"/en-US/docs/Web/HTTP/Resources_and_specifications\\\\\">HTTP specifications</a></li>\\\\n    <li><a href=\\\\\"/en-US/docs/Web/HTTP/Feature_Policy\\\\\">Feature policy</a></li>\\\\n    <li><strong>References:</strong></li>\\\\n    <li class=\\\\\"toggle\\\\\">\\\\n        <details>\\\\n            <summary>HTTP headers</summary>\\\\n            <ol><li><svg class=\\\\\"icon icon-experimental\\\\\" tabindex=\\\\\"0\\\\\">\\\\n    <use xlink:href=\\\\\"/assets/badges.svg#icon-experimental\\\\\"></use>\\\\n</svg><svg class=\\\\\"icon icon-nonstandard\\\\\" tabindex=\\\\\"0\\\\\">\\\\n    <use xlink:href=\\\\\"/assets/badges.svg#icon-nonstandard\\\\\"></use>\\\\n</svg><svg class=\\\\\"icon icon-deprecated\\\\\" tabindex=\\\\\"0\\\\\">\\\\n    <use xlink:href=\\\\\"/assets/badges.svg#icon-deprecated\\\\\"></use>\\\\n</svg><a href=\\\\\"/en-US/docs/Web/HTTP/Headers/Accept-CH-Lifetime\\\\\"><code>Accept-CH-Lifetime</code></a></li><li><a href=\\\\\"/en-US/docs/Web/HTTP/Headers/Accept-CH\\\\\"><code>Accept-CH</code></a></li><li><a href=\\\\\"/en-US/docs/Web/HTTP/Headers/Accept-Charset\\\\\"><code>Accept-Charset</code></a></li><li><a href=\\\\\"/en-US/docs/Web/HTTP/Headers/Accept-Encoding\\\\\"><code>Accept-Encoding</code></a></li><li><a href=\\\\\"/en-US/docs/Web/HTTP/Headers/Accept-Language\\\\\"><code>Accept-Language</code></a></li><li><a href=\\\\\"/en-US/docs/Web/HTTP/Headers/Accept-Patch\\\\\"><code>Accept-Patch</code></a></li><li><a href=\\\\\"/en-US/docs/Web/HTTP/Headers/Accept-Post\\\\\"><code>Accept-Post</code></a></li><li><a href=\\\\\"/en-US/docs/Web/HTTP/Headers/Accept-Ranges\\\\\"><code>Accept-Ranges</code></a></li><li><a href=\\\\\"/en-US/docs/Web/HTTP/Headers/Accept\\\\\"><code>Accept</code></a></li><li><a href=\\\\\"/en-US/docs/Web/HTTP/Headers/Access-Control-Allow-Credentials\\\\\"><code>Access-Control-Allow-Credentials</code></a></li><li><a href=\\\\\"/en-US/docs/Web/HTTP/Headers/Access-Control-Allow-Headers\\\\\"><code>Access-Control-Allow-Headers</code></a></li><li><a href=\\\\\"/en-US/docs/Web/HTTP/Headers/Access-Control-Allow-Methods\\\\\"><code>Access-Control-Allow-Methods</code></a></li><li><a href=\\\\\"/en-US/docs/Web/HTTP/Headers/Access-Control-Allow-Origin\\\\\"><code>Access-Control-Allow-Origin</code></a></li><li><a href=\\\\\"/en-US/docs/Web/HTTP/Headers/Access-Control-Expose-Headers\\\\\"><code>Access-Control-Expose-Headers</code></a></li><li><a href=\\\\\"/en-US/docs/Web/HTTP/Headers/Access-Control-Max-Age\\\\\"><code>Access-Control-Max-Age</code></a></li><li><a href=\\\\\"/en-US/docs/Web/HTTP/Headers/Access-Control-Request-Headers\\\\\"><code>Access-Control-Request-Headers</code></a></li><li><a href=\\\\\"/en-US/docs/Web/HTTP/Headers/Access-Control-Request-Method\\\\\"><code>Access-Control-Request-Method</code></a></li><li><a href=\\\\\"/en-US/docs/Web/HTTP/Headers/Age\\\\\"><code>Age</code></a></li><li><a href=\\\\\"/en-US/docs/Web/HTTP/Headers/Allow\\\\\"><code>Allow</code></a></li><li><a href=\\\\\"/en-US/docs/Web/HTTP/Headers/Alt-Svc\\\\\"><code>Alt-Svc</code></a></li><li><a href=\\\\\"/en-US/docs/Web/HTTP/Headers/Authorization\\\\\"><code>Authorization</code></a></li><li><a href=\\\\\"/en-US/docs/Web/HTTP/Headers/Cache-Control\\\\\"><code>Cache-Control</code></a></li><li><a href=\\\\\"/en-US/docs/Web/HTTP/Headers/Clear-Site-Data\\\\\"><code>Clear-Site-Data</code></a></li><li><a href=\\\\\"/en-US/docs/Web/HTTP/Headers/Connection\\\\\"><code>Connection</code></a></li><li><a href=\\\\\"/en-US/docs/Web/HTTP/Headers/Content-Disposition\\\\\"><code>Content-Disposition</code></a></li><li><svg class=\\\\\"icon icon-nonstandard\\\\\" tabindex=\\\\\"0\\\\\">\\\\n    <use xlink:href=\\\\\"/assets/badges.svg#icon-nonstandard\\\\\"></use>\\\\n</svg><svg class=\\\\\"icon icon-deprecated\\\\\" tabindex=\\\\\"0\\\\\">\\\\n    <use xlink:href=\\\\\"/assets/badges.svg#icon-deprecated\\\\\"></use>\\\\n</svg><a href=\\\\\"/en-US/docs/Web/HTTP/Headers/Content-DPR\\\\\"><code>Content-DPR</code></a></li><li><a href=\\\\\"/en-US/docs/Web/HTTP/Headers/Content-Encoding\\\\\"><code>Content-Encoding</code></a></li><li><a href=\\\\\"/en-US/docs/Web/HTTP/Headers/Content-Language\\\\\"><code>Content-Language</code></a></li><li><a href=\\\\\"/en-US/docs/Web/HTTP/Headers/Content-Length\\\\\"><code>Content-Length</code></a></li><li><a href=\\\\\"/en-US/docs/Web/HTTP/Headers/Content-Location\\\\\"><code>Content-Location</code></a></li><li><a href=\\\\\"/en-US/docs/Web/HTTP/Headers/Content-Range\\\\\"><code>Content-Range</code></a></li><li><a href=\\\\\"/en-US/docs/Web/HTTP/Headers/Content-Security-Policy-Report-Only\\\\\"><code>Content-Security-Policy-Report-Only</code></a></li><li><a href=\\\\\"/en-US/docs/Web/HTTP/Headers/Content-Security-Policy\\\\\"><code>Content-Security-Policy</code></a></li><li><a href=\\\\\"/en-US/docs/Web/HTTP/Headers/Content-Type\\\\\"><code>Content-Type</code></a></li><li><a href=\\\\\"/en-US/docs/Web/HTTP/Headers/Cookie\\\\\"><code>Cookie</code></a></li><li><svg class=\\\\\"icon icon-deprecated\\\\\" tabindex=\\\\\"0\\\\\">\\\\n    <use xlink:href=\\\\\"/assets/badges.svg#icon-deprecated\\\\\"></use>\\\\n</svg><a href=\\\\\"/en-US/docs/Web/HTTP/Headers/Cookie2\\\\\"><code>Cookie2</code></a></li><li><a href=\\\\\"/en-US/docs/Web/HTTP/Headers/Cross-Origin-Embedder-Policy\\\\\"><code>Cross-Origin-Embedder-Policy</code></a></li><li><a href=\\\\\"/en-US/docs/Web/HTTP/Headers/Cross-Origin-Opener-Policy\\\\\"><code>Cross-Origin-Opener-Policy</code></a></li><li><a href=\\\\\"/en-US/docs/Web/HTTP/Headers/Cross-Origin-Resource-Policy\\\\\"><code>Cross-Origin-Resource-Policy</code></a></li><li><a href=\\\\\"/en-US/docs/Web/HTTP/Headers/Date\\\\\"><code>Date</code></a></li><li><svg class=\\\\\"icon icon-experimental\\\\\" tabindex=\\\\\"0\\\\\">\\\\n    <use xlink:href=\\\\\"/assets/badges.svg#icon-experimental\\\\\"></use>\\\\n</svg><a href=\\\\\"/en-US/docs/Web/HTTP/Headers/Device-Memory\\\\\"><code>Device-Memory</code></a></li><li><a href=\\\\\"/en-US/docs/Web/HTTP/Headers/Digest\\\\\"><code>Digest</code></a></li><li><a href=\\\\\"/en-US/docs/Web/HTTP/Headers/DNT\\\\\"><code>DNT</code></a></li><li><svg class=\\\\\"icon icon-experimental\\\\\" tabindex=\\\\\"0\\\\\">\\\\n    <use xlink:href=\\\\\"/assets/badges.svg#icon-experimental\\\\\"></use>\\\\n</svg><a href=\\\\\"/en-US/docs/Web/HTTP/Headers/Downlink\\\\\"><code>Downlink</code></a></li><li><svg class=\\\\\"icon icon-nonstandard\\\\\" tabindex=\\\\\"0\\\\\">\\\\n    <use xlink:href=\\\\\"/assets/badges.svg#icon-nonstandard\\\\\"></use>\\\\n</svg><svg class=\\\\\"icon icon-deprecated\\\\\" tabindex=\\\\\"0\\\\\">\\\\n    <use xlink:href=\\\\\"/assets/badges.svg#icon-deprecated\\\\\"></use>\\\\n</svg><a href=\\\\\"/en-US/docs/Web/HTTP/Headers/DPR\\\\\"><code>DPR</code></a></li><li><svg class=\\\\\"icon icon-experimental\\\\\" tabindex=\\\\\"0\\\\\">\\\\n    <use xlink:href=\\\\\"/assets/badges.svg#icon-experimental\\\\\"></use>\\\\n</svg><a href=\\\\\"/en-US/docs/Web/HTTP/Headers/Early-Data\\\\\"><code>Early-Data</code></a></li><li><svg class=\\\\\"icon icon-experimental\\\\\" tabindex=\\\\\"0\\\\\">\\\\n    <use xlink:href=\\\\\"/assets/badges.svg#icon-experimental\\\\\"></use>\\\\n</svg><a href=\\\\\"/en-US/docs/Web/HTTP/Headers/ECT\\\\\"><code>ECT</code></a></li><li><a href=\\\\\"/en-US/docs/Web/HTTP/Headers/ETag\\\\\"><code>ETag</code></a></li><li><a href=\\\\\"/en-US/docs/Web/HTTP/Headers/Expect-CT\\\\\"><code>Expect-CT</code></a></li><li><a href=\\\\\"/en-US/docs/Web/HTTP/Headers/Expect\\\\\"><code>Expect</code></a></li><li><a href=\\\\\"/en-US/docs/Web/HTTP/Headers/Expires\\\\\"><code>Expires</code></a></li><li><svg class=\\\\\"icon icon-experimental\\\\\" tabindex=\\\\\"0\\\\\">\\\\n    <use xlink:href=\\\\\"/assets/badges.svg#icon-experimental\\\\\"></use>\\\\n</svg><a href=\\\\\"/en-US/docs/Web/HTTP/Headers/Feature-Policy\\\\\"><code>Feature-Policy</code></a></li><li><a href=\\\\\"/en-US/docs/Web/HTTP/Headers/Forwarded\\\\\"><code>Forwarded</code></a></li><li><a href=\\\\\"/en-US/docs/Web/HTTP/Headers/From\\\\\"><code>From</code></a></li><li><a href=\\\\\"/en-US/docs/Web/HTTP/Headers/Host\\\\\"><code>Host</code></a></li><li><a href=\\\\\"/en-US/docs/Web/HTTP/Headers/If-Match\\\\\"><code>If-Match</code></a></li><li><a href=\\\\\"/en-US/docs/Web/HTTP/Headers/If-Modified-Since\\\\\"><code>If-Modified-Since</code></a></li><li><a href=\\\\\"/en-US/docs/Web/HTTP/Headers/If-None-Match\\\\\"><code>If-None-Match</code></a></li><li><a href=\\\\\"/en-US/docs/Web/HTTP/Headers/If-Range\\\\\"><code>If-Range</code></a></li><li><a href=\\\\\"/en-US/docs/Web/HTTP/Headers/If-Unmodified-Since\\\\\"><code>If-Unmodified-Since</code></a></li><li><a href=\\\\\"/en-US/docs/Web/HTTP/Headers/Keep-Alive\\\\\"><code>Keep-Alive</code></a></li><li><svg class=\\\\\"icon icon-nonstandard\\\\\" tabindex=\\\\\"0\\\\\">\\\\n    <use xlink:href=\\\\\"/assets/badges.svg#icon-nonstandard\\\\\"></use>\\\\n</svg><a href=\\\\\"/en-US/docs/Web/HTTP/Headers/Large-Allocation\\\\\"><code>Large-Allocation</code></a></li><li><a href=\\\\\"/en-US/docs/Web/HTTP/Headers/Last-Modified\\\\\"><code>Last-Modified</code></a></li><li><a href=\\\\\"/en-US/docs/Web/HTTP/Headers/Link\\\\\"><code>Link</code></a></li><li><a href=\\\\\"/en-US/docs/Web/HTTP/Headers/Location\\\\\"><code>Location</code></a></li><li><a href=\\\\\"/en-US/docs/Web/HTTP/Headers/NEL\\\\\"><code>NEL</code></a></li><li><a href=\\\\\"/en-US/docs/Web/HTTP/Headers/Origin\\\\\"><code>Origin</code></a></li><li><svg class=\\\\\"icon icon-deprecated\\\\\" tabindex=\\\\\"0\\\\\">\\\\n    <use xlink:href=\\\\\"/assets/badges.svg#icon-deprecated\\\\\"></use>\\\\n</svg><a href=\\\\\"/en-US/docs/Web/HTTP/Headers/Pragma\\\\\"><code>Pragma</code></a></li><li><a href=\\\\\"/en-US/docs/Web/HTTP/Headers/Proxy-Authenticate\\\\\"><code>Proxy-Authenticate</code></a></li><li><a href=\\\\\"/en-US/docs/Web/HTTP/Headers/Proxy-Authorization\\\\\"><code>Proxy-Authorization</code></a></li><li><svg class=\\\\\"icon icon-deprecated\\\\\" tabindex=\\\\\"0\\\\\">\\\\n    <use xlink:href=\\\\\"/assets/badges.svg#icon-deprecated\\\\\"></use>\\\\n</svg><a href=\\\\\"/en-US/docs/Web/HTTP/Headers/Public-Key-Pins-Report-Only\\\\\"><code>Public-Key-Pins-Report-Only</code></a></li><li><svg class=\\\\\"icon icon-deprecated\\\\\" tabindex=\\\\\"0\\\\\">\\\\n    <use xlink:href=\\\\\"/assets/badges.svg#icon-deprecated\\\\\"></use>\\\\n</svg><a href=\\\\\"/en-US/docs/Web/HTTP/Headers/Public-Key-Pins\\\\\"><code>Public-Key-Pins</code></a></li><li><a href=\\\\\"/en-US/docs/Web/HTTP/Headers/Range\\\\\"><code>Range</code></a></li><li><a href=\\\\\"/en-US/docs/Web/HTTP/Headers/Referer\\\\\"><code>Referer</code></a></li><li><a href=\\\\\"/en-US/docs/Web/HTTP/Headers/Referrer-Policy\\\\\"><code>Referrer-Policy</code></a></li><li><a href=\\\\\"/en-US/docs/Web/HTTP/Headers/Retry-After\\\\\"><code>Retry-After</code></a></li><li><svg class=\\\\\"icon icon-experimental\\\\\" tabindex=\\\\\"0\\\\\">\\\\n    <use xlink:href=\\\\\"/assets/badges.svg#icon-experimental\\\\\"></use>\\\\n</svg><a href=\\\\\"/en-US/docs/Web/HTTP/Headers/RTT\\\\\"><code>RTT</code></a></li><li><a href=\\\\\"/en-US/docs/Web/HTTP/Headers/Save-Data\\\\\"><code>Save-Data</code></a></li><li><a href=\\\\\"/en-US/docs/Web/HTTP/Headers/Sec-Fetch-Dest\\\\\"><code>Sec-Fetch-Dest</code></a></li><li><a href=\\\\\"/en-US/docs/Web/HTTP/Headers/Sec-Fetch-Mode\\\\\"><code>Sec-Fetch-Mode</code></a></li><li><a href=\\\\\"/en-US/docs/Web/HTTP/Headers/Sec-Fetch-Site\\\\\"><code>Sec-Fetch-Site</code></a></li><li><a href=\\\\\"/en-US/docs/Web/HTTP/Headers/Sec-Fetch-User\\\\\"><code>Sec-Fetch-User</code></a></li><li><a href=\\\\\"/en-US/docs/Web/HTTP/Headers/Sec-WebSocket-Accept\\\\\"><code>Sec-WebSocket-Accept</code></a></li><li><a href=\\\\\"/en-US/docs/Web/HTTP/Headers/Server-Timing\\\\\"><code>Server-Timing</code></a></li><li><a href=\\\\\"/en-US/docs/Web/HTTP/Headers/Server\\\\\"><code>Server</code></a></li><li><a href=\\\\\"/en-US/docs/Web/HTTP/Headers/Set-Cookie\\\\\"><code>Set-Cookie</code></a></li><li><svg class=\\\\\"icon icon-deprecated\\\\\" tabindex=\\\\\"0\\\\\">\\\\n    <use xlink:href=\\\\\"/assets/badges.svg#icon-deprecated\\\\\"></use>\\\\n</svg><a href=\\\\\"/en-US/docs/Web/HTTP/Headers/Set-Cookie2\\\\\"><code>Set-Cookie2</code></a></li><li><a href=\\\\\"/en-US/docs/Web/HTTP/Headers/SourceMap\\\\\"><code>SourceMap</code></a></li><li><a href=\\\\\"/en-US/docs/Web/HTTP/Headers/Strict-Transport-Security\\\\\"><code>Strict-Transport-Security</code></a></li><li><a href=\\\\\"/en-US/docs/Web/HTTP/Headers/TE\\\\\"><code>TE</code></a></li><li><a href=\\\\\"/en-US/docs/Web/HTTP/Headers/Timing-Allow-Origin\\\\\"><code>Timing-Allow-Origin</code></a></li><li><a href=\\\\\"/en-US/docs/Web/HTTP/Headers/Tk\\\\\"><code>Tk</code></a></li><li><a href=\\\\\"/en-US/docs/Web/HTTP/Headers/Trailer\\\\\"><code>Trailer</code></a></li><li><a href=\\\\\"/en-US/docs/Web/HTTP/Headers/Transfer-Encoding\\\\\"><code>Transfer-Encoding</code></a></li><li><a href=\\\\\"/en-US/docs/Web/HTTP/Headers/Upgrade-Insecure-Requests\\\\\"><code>Upgrade-Insecure-Requests</code></a></li><li><a href=\\\\\"/en-US/docs/Web/HTTP/Headers/Upgrade\\\\\"><code>Upgrade</code></a></li><li><a href=\\\\\"/en-US/docs/Web/HTTP/Headers/User-Agent\\\\\"><code>User-Agent</code></a></li><li><a href=\\\\\"/en-US/docs/Web/HTTP/Headers/Vary\\\\\"><code>Vary</code></a></li><li><a href=\\\\\"/en-US/docs/Web/HTTP/Headers/Via\\\\\"><code>Via</code></a></li><li><svg class=\\\\\"icon icon-nonstandard\\\\\" tabindex=\\\\\"0\\\\\">\\\\n    <use xlink:href=\\\\\"/assets/badges.svg#icon-nonstandard\\\\\"></use>\\\\n</svg><svg class=\\\\\"icon icon-deprecated\\\\\" tabindex=\\\\\"0\\\\\">\\\\n    <use xlink:href=\\\\\"/assets/badges.svg#icon-deprecated\\\\\"></use>\\\\n</svg><a href=\\\\\"/en-US/docs/Web/HTTP/Headers/Viewport-Width\\\\\"><code>Viewport-Width</code></a></li><li><a href=\\\\\"/en-US/docs/Web/HTTP/Headers/Want-Digest\\\\\"><code>Want-Digest</code></a></li><li><a href=\\\\\"/en-US/docs/Web/HTTP/Headers/Warning\\\\\"><code>Warning</code></a></li><li><svg class=\\\\\"icon icon-experimental\\\\\" tabindex=\\\\\"0\\\\\">\\\\n    <use xlink:href=\\\\\"/assets/badges.svg#icon-experimental\\\\\"></use>\\\\n</svg><svg class=\\\\\"icon icon-deprecated\\\\\" tabindex=\\\\\"0\\\\\">\\\\n    <use xlink:href=\\\\\"/assets/badges.svg#icon-deprecated\\\\\"></use>\\\\n</svg><a href=\\\\\"/en-US/docs/Web/HTTP/Headers/Width\\\\\"><code>Width</code></a></li><li><a href=\\\\\"/en-US/docs/Web/HTTP/Headers/WWW-Authenticate\\\\\"><code>WWW-Authenticate</code></a></li><li><a href=\\\\\"/en-US/docs/Web/HTTP/Headers/X-Content-Type-Options\\\\\"><code>X-Content-Type-Options</code></a></li><li><a href=\\\\\"/en-US/docs/Web/HTTP/Headers/X-DNS-Prefetch-Control\\\\\"><code>X-DNS-Prefetch-Control</code></a></li><li><svg class=\\\\\"icon icon-nonstandard\\\\\" tabindex=\\\\\"0\\\\\">\\\\n    <use xlink:href=\\\\\"/assets/badges.svg#icon-nonstandard\\\\\"></use>\\\\n</svg><a href=\\\\\"/en-US/docs/Web/HTTP/Headers/X-Forwarded-For\\\\\"><code>X-Forwarded-For</code></a></li><li><svg class=\\\\\"icon icon-nonstandard\\\\\" tabindex=\\\\\"0\\\\\">\\\\n    <use xlink:href=\\\\\"/assets/badges.svg#icon-nonstandard\\\\\"></use>\\\\n</svg><a href=\\\\\"/en-US/docs/Web/HTTP/Headers/X-Forwarded-Host\\\\\"><code>X-Forwarded-Host</code></a></li><li><svg class=\\\\\"icon icon-nonstandard\\\\\" tabindex=\\\\\"0\\\\\">\\\\n    <use xlink:href=\\\\\"/assets/badges.svg#icon-nonstandard\\\\\"></use>\\\\n</svg><a href=\\\\\"/en-US/docs/Web/HTTP/Headers/X-Forwarded-Proto\\\\\"><code>X-Forwarded-Proto</code></a></li><li><a href=\\\\\"/en-US/docs/Web/HTTP/Headers/X-Frame-Options\\\\\"><code>X-Frame-Options</code></a></li><li><a href=\\\\\"/en-US/docs/Web/HTTP/Headers/X-XSS-Protection\\\\\"><code>X-XSS-Protection</code></a></li></ol>\\\\n        </details>\\\\n    </li>\\\\n    <li class=\\\\\"toggle\\\\\">\\\\n        <details>\\\\n            <summary>HTTP request methods</summary>\\\\n            <ol><li><a href=\\\\\"/en-US/docs/Web/HTTP/Methods/CONNECT\\\\\"><code>CONNECT</code></a></li><li><a href=\\\\\"/en-US/docs/Web/HTTP/Methods/DELETE\\\\\"><code>DELETE</code></a></li><li><a href=\\\\\"/en-US/docs/Web/HTTP/Methods/GET\\\\\"><code>GET</code></a></li><li><a href=\\\\\"/en-US/docs/Web/HTTP/Methods/HEAD\\\\\"><code>HEAD</code></a></li><li><a href=\\\\\"/en-US/docs/Web/HTTP/Methods/OPTIONS\\\\\"><code>OPTIONS</code></a></li><li><a href=\\\\\"/en-US/docs/Web/HTTP/Methods/PATCH\\\\\"><code>PATCH</code></a></li><li><a href=\\\\\"/en-US/docs/Web/HTTP/Methods/POST\\\\\"><code>POST</code></a></li><li><a href=\\\\\"/en-US/docs/Web/HTTP/Methods/PUT\\\\\"><code>PUT</code></a></li><li><a href=\\\\\"/en-US/docs/Web/HTTP/Methods/TRACE\\\\\"><code>TRACE</code></a></li></ol>\\\\n        </details>\\\\n    </li>\\\\n    <li class=\\\\\"toggle\\\\\">\\\\n        <details open=\\\\\"\\\\\">\\\\n          <summary>HTTP response status codes</summary>\\\\n          <ol><li><a href=\\\\\"/en-US/docs/Web/HTTP/Status/100\\\\\"><code>100 Continue</code></a></li><li><a href=\\\\\"/en-US/docs/Web/HTTP/Status/101\\\\\"><code>101 Switching Protocols</code></a></li><li><a href=\\\\\"/en-US/docs/Web/HTTP/Status/103\\\\\"><code>103 Early Hints</code></a></li><li><a href=\\\\\"/en-US/docs/Web/HTTP/Status/200\\\\\"><code>200 OK</code></a></li><li><a href=\\\\\"/en-US/docs/Web/HTTP/Status/201\\\\\"><code>201 Created</code></a></li><li><a href=\\\\\"/en-US/docs/Web/HTTP/Status/202\\\\\"><code>202 Accepted</code></a></li><li><a href=\\\\\"/en-US/docs/Web/HTTP/Status/203\\\\\"><code>203 Non-Authoritative Information</code></a></li><li><a href=\\\\\"/en-US/docs/Web/HTTP/Status/204\\\\\"><code>204 No Content</code></a></li><li><a href=\\\\\"/en-US/docs/Web/HTTP/Status/205\\\\\"><code>205 Reset Content</code></a></li><li><a href=\\\\\"/en-US/docs/Web/HTTP/Status/206\\\\\"><code>206 Partial Content</code></a></li><li><a href=\\\\\"/en-US/docs/Web/HTTP/Status/300\\\\\"><code>300 Multiple Choices</code></a></li><li><a href=\\\\\"/en-US/docs/Web/HTTP/Status/301\\\\\"><code>301 Moved Permanently</code></a></li><li><a href=\\\\\"/en-US/docs/Web/HTTP/Status/302\\\\\"><code>302 Found</code></a></li><li><a href=\\\\\"/en-US/docs/Web/HTTP/Status/303\\\\\"><code>303 See Other</code></a></li><li><a href=\\\\\"/en-US/docs/Web/HTTP/Status/304\\\\\"><code>304 Not Modified</code></a></li><li><a href=\\\\\"/en-US/docs/Web/HTTP/Status/307\\\\\"><code>307 Temporary Redirect</code></a></li><li><a href=\\\\\"/en-US/docs/Web/HTTP/Status/308\\\\\"><code>308 Permanent Redirect</code></a></li><li><a href=\\\\\"/en-US/docs/Web/HTTP/Status/400\\\\\"><code>400 Bad Request</code></a></li><li><a href=\\\\\"/en-US/docs/Web/HTTP/Status/401\\\\\"><code>401 Unauthorized</code></a></li><li><a href=\\\\\"/en-US/docs/Web/HTTP/Status/402\\\\\"><code>402 Payment Required</code></a></li><li><a href=\\\\\"/en-US/docs/Web/HTTP/Status/403\\\\\"><code>403 Forbidden</code></a></li><li><a href=\\\\\"/en-US/docs/Web/HTTP/Status/404\\\\\"><code>404 Not Found</code></a></li><li><a href=\\\\\"/en-US/docs/Web/HTTP/Status/405\\\\\"><code>405 Method Not Allowed</code></a></li><li><a href=\\\\\"/en-US/docs/Web/HTTP/Status/406\\\\\"><code>406 Not Acceptable</code></a></li><li><a href=\\\\\"/en-US/docs/Web/HTTP/Status/407\\\\\"><code>407 Proxy Authentication Required</code></a></li><li><a href=\\\\\"/en-US/docs/Web/HTTP/Status/408\\\\\"><code>408 Request Timeout</code></a></li><li><a href=\\\\\"/en-US/docs/Web/HTTP/Status/409\\\\\"><code>409 Conflict</code></a></li><li><a href=\\\\\"/en-US/docs/Web/HTTP/Status/410\\\\\"><code>410 Gone</code></a></li><li><a href=\\\\\"/en-US/docs/Web/HTTP/Status/411\\\\\"><code>411 Length Required</code></a></li><li><a href=\\\\\"/en-US/docs/Web/HTTP/Status/412\\\\\"><code>412 Precondition Failed</code></a></li><li><a href=\\\\\"/en-US/docs/Web/HTTP/Status/413\\\\\"><code>413 Payload Too Large</code></a></li><li><a href=\\\\\"/en-US/docs/Web/HTTP/Status/414\\\\\"><code>414 URI Too Long</code></a></li><li><a href=\\\\\"/en-US/docs/Web/HTTP/Status/415\\\\\"><code>415 Unsupported Media Type</code></a></li><li><a href=\\\\\"/en-US/docs/Web/HTTP/Status/416\\\\\"><code>416 Range Not Satisfiable</code></a></li><li><a href=\\\\\"/en-US/docs/Web/HTTP/Status/417\\\\\"><code>417 Expectation Failed</code></a></li><li><a href=\\\\\"/en-US/docs/Web/HTTP/Status/418\\\\\"><code>418 I\\'m a teapot</code></a></li><li><a href=\\\\\"/en-US/docs/Web/HTTP/Status/422\\\\\"><code>422 Unprocessable Entity</code></a></li><li><a href=\\\\\"/en-US/docs/Web/HTTP/Status/425\\\\\"><code>425 Too Early</code></a></li><li><a href=\\\\\"/en-US/docs/Web/HTTP/Status/426\\\\\"><code>426 Upgrade Required</code></a></li><li><a href=\\\\\"/en-US/docs/Web/HTTP/Status/428\\\\\"><code>428 Precondition Required</code></a></li><li><a href=\\\\\"/en-US/docs/Web/HTTP/Status/429\\\\\"><code>429 Too Many Requests</code></a></li><li><a href=\\\\\"/en-US/docs/Web/HTTP/Status/431\\\\\"><code>431 Request Header Fields Too Large</code></a></li><li><a href=\\\\\"/en-US/docs/Web/HTTP/Status/451\\\\\"><code>451 Unavailable For Legal Reasons</code></a></li><li><a href=\\\\\"/en-US/docs/Web/HTTP/Status/500\\\\\"><code>500 Internal Server Error</code></a></li><li><a href=\\\\\"/en-US/docs/Web/HTTP/Status/501\\\\\"><code>501 Not Implemented</code></a></li><li><a href=\\\\\"/en-US/docs/Web/HTTP/Status/502\\\\\"><code>502 Bad Gateway</code></a></li><li><a href=\\\\\"/en-US/docs/Web/HTTP/Status/503\\\\\"><code>503 Service Unavailable</code></a></li><li><a href=\\\\\"/en-US/docs/Web/HTTP/Status/504\\\\\"><code>504 Gateway Timeout</code></a></li><li><a href=\\\\\"/en-US/docs/Web/HTTP/Status/505\\\\\"><code>505 HTTP Version Not Supported</code></a></li><li><a href=\\\\\"/en-US/docs/Web/HTTP/Status/506\\\\\"><code>506 Variant Also Negotiates</code></a></li><li><a href=\\\\\"/en-US/docs/Web/HTTP/Status/507\\\\\"><code>507 Insufficient Storage</code></a></li><li><a href=\\\\\"/en-US/docs/Web/HTTP/Status/508\\\\\"><code>508 Loop Detected</code></a></li><li><a href=\\\\\"/en-US/docs/Web/HTTP/Status/510\\\\\"><code>510 Not Extended</code></a></li><li><a href=\\\\\"/en-US/docs/Web/HTTP/Status/511\\\\\"><code>511 Network Authentication Required</code></a></li></ol>\\\\n        </details>\\\\n    </li>\\\\n    <li class=\\\\\"toggle\\\\\">\\\\n        <details>\\\\n          <summary>CSP directives</summary>\\\\n          <ol><li><a href=\\\\\"/en-US/docs/Web/HTTP/Headers/Content-Security-Policy/base-uri\\\\\"><code>CSP: base-uri</code></a></li><li><a href=\\\\\"/en-US/docs/Web/HTTP/Headers/Content-Security-Policy/block-all-mixed-content\\\\\"><code>CSP: block-all-mixed-content</code></a></li><li><a href=\\\\\"/en-US/docs/Web/HTTP/Headers/Content-Security-Policy/child-src\\\\\"><code>CSP: child-src</code></a></li><li><a href=\\\\\"/en-US/docs/Web/HTTP/Headers/Content-Security-Policy/connect-src\\\\\"><code>CSP: connect-src</code></a></li><li><a href=\\\\\"/en-US/docs/Web/HTTP/Headers/Content-Security-Policy/default-src\\\\\"><code>CSP: default-src</code></a></li><li><a href=\\\\\"/en-US/docs/Web/HTTP/Headers/Content-Security-Policy/font-src\\\\\"><code>CSP: font-src</code></a></li><li><a href=\\\\\"/en-US/docs/Web/HTTP/Headers/Content-Security-Policy/form-action\\\\\"><code>CSP: form-action</code></a></li><li><a href=\\\\\"/en-US/docs/Web/HTTP/Headers/Content-Security-Policy/frame-ancestors\\\\\"><code>CSP: frame-ancestors</code></a></li><li><a href=\\\\\"/en-US/docs/Web/HTTP/Headers/Content-Security-Policy/frame-src\\\\\"><code>CSP: frame-src</code></a></li><li><a href=\\\\\"/en-US/docs/Web/HTTP/Headers/Content-Security-Policy/img-src\\\\\"><code>CSP: img-src</code></a></li><li><a href=\\\\\"/en-US/docs/Web/HTTP/Headers/Content-Security-Policy/manifest-src\\\\\"><code>CSP: manifest-src</code></a></li><li><a href=\\\\\"/en-US/docs/Web/HTTP/Headers/Content-Security-Policy/media-src\\\\\"><code>CSP: media-src</code></a></li><li><a href=\\\\\"/en-US/docs/Web/HTTP/Headers/Content-Security-Policy/navigate-to\\\\\"><code>CSP: navigate-to</code></a></li><li><a href=\\\\\"/en-US/docs/Web/HTTP/Headers/Content-Security-Policy/object-src\\\\\"><code>CSP: object-src</code></a></li><li><a href=\\\\\"/en-US/docs/Web/HTTP/Headers/Content-Security-Policy/plugin-types\\\\\"><code>CSP: plugin-types</code></a></li><li><a href=\\\\\"/en-US/docs/Web/HTTP/Headers/Content-Security-Policy/prefetch-src\\\\\"><code>CSP: prefetch-src</code></a></li><li><svg class=\\\\\"icon icon-deprecated\\\\\" tabindex=\\\\\"0\\\\\">\\\\n    <use xlink:href=\\\\\"/assets/badges.svg#icon-deprecated\\\\\"></use>\\\\n</svg><a href=\\\\\"/en-US/docs/Web/HTTP/Headers/Content-Security-Policy/referrer\\\\\"><code>CSP: referrer</code></a></li><li><a href=\\\\\"/en-US/docs/Web/HTTP/Headers/Content-Security-Policy/report-to\\\\\"><code>CSP: report-to</code></a></li><li><a href=\\\\\"/en-US/docs/Web/HTTP/Headers/Content-Security-Policy/report-uri\\\\\"><code>CSP: report-uri</code></a></li><li><a href=\\\\\"/en-US/docs/Web/HTTP/Headers/Content-Security-Policy/require-sri-for\\\\\"><code>CSP: require-sri-for</code></a></li><li><a href=\\\\\"/en-US/docs/Web/HTTP/Headers/Content-Security-Policy/require-trusted-types-for\\\\\"><code>CSP: require-trusted-types-for</code></a></li><li><a href=\\\\\"/en-US/docs/Web/HTTP/Headers/Content-Security-Policy/sandbox\\\\\"><code>CSP: sandbox</code></a></li><li><a href=\\\\\"/en-US/docs/Web/HTTP/Headers/Content-Security-Policy/script-src-attr\\\\\"><code>CSP: script-src-attr</code></a></li><li><a href=\\\\\"/en-US/docs/Web/HTTP/Headers/Content-Security-Policy/script-src-elem\\\\\"><code>CSP: script-src-elem</code></a></li><li><a href=\\\\\"/en-US/docs/Web/HTTP/Headers/Content-Security-Policy/script-src\\\\\"><code>CSP: script-src</code></a></li><li><a href=\\\\\"/en-US/docs/Web/HTTP/Headers/Content-Security-Policy/style-src-attr\\\\\"><code>CSP: style-src-attr</code></a></li><li><a href=\\\\\"/en-US/docs/Web/HTTP/Headers/Content-Security-Policy/style-src-elem\\\\\"><code>CSP: style-src-elem</code></a></li><li><a href=\\\\\"/en-US/docs/Web/HTTP/Headers/Content-Security-Policy/style-src\\\\\"><code>CSP: style-src</code></a></li><li><a href=\\\\\"/en-US/docs/Web/HTTP/Headers/Content-Security-Policy/trusted-types\\\\\"><code>CSP: trusted-types</code></a></li><li><a href=\\\\\"/en-US/docs/Web/HTTP/Headers/Content-Security-Policy/upgrade-insecure-requests\\\\\"><code>CSP: upgrade-insecure-requests</code></a></li><li><a href=\\\\\"/en-US/docs/Web/HTTP/Headers/Content-Security-Policy/worker-src\\\\\"><code>CSP: worker-src</code></a></li></ol>\\\\n        </details>\\\\n    </li>\\\\n    <li class=\\\\\"toggle\\\\\">\\\\n        <details>\\\\n          <summary>CORS errors</summary>\\\\n          <ol><li><a href=\\\\\"/en-US/docs/Web/HTTP/CORS/Errors/CORSAllowOriginNotMatchingOrigin\\\\\">Reason: CORS header \\'Access-Control-Allow-Origin\\' does not match \\'xyz\\'</a></li><li><a href=\\\\\"/en-US/docs/Web/HTTP/CORS/Errors/CORSDidNotSucceed\\\\\">Reason: CORS request did not succeed</a></li><li><a href=\\\\\"/en-US/docs/Web/HTTP/CORS/Errors/CORSDisabled\\\\\">Reason: CORS disabled</a></li><li><a href=\\\\\"/en-US/docs/Web/HTTP/CORS/Errors/CORSExternalRedirectNotAllowed\\\\\">Reason: CORS request external redirect not allowed</a></li><li><a href=\\\\\"/en-US/docs/Web/HTTP/CORS/Errors/CORSInvalidAllowHeader\\\\\">Reason: invalid token ‘xyz’ in CORS header ‘Access-Control-Allow-Headers’</a></li><li><a href=\\\\\"/en-US/docs/Web/HTTP/CORS/Errors/CORSInvalidAllowMethod\\\\\">Reason: invalid token ‘xyz’ in CORS header ‘Access-Control-Allow-Methods’</a></li><li><a href=\\\\\"/en-US/docs/Web/HTTP/CORS/Errors/CORSMethodNotFound\\\\\">Reason: Did not find method in CORS header ‘Access-Control-Allow-Methods’</a></li><li><a href=\\\\\"/en-US/docs/Web/HTTP/CORS/Errors/CORSMIssingAllowCredentials\\\\\">Reason: expected ‘true’ in CORS header ‘Access-Control-Allow-Credentials’</a></li><li><a href=\\\\\"/en-US/docs/Web/HTTP/CORS/Errors/CORSMissingAllowHeaderFromPreflight\\\\\">Reason: missing token ‘xyz’ in CORS header ‘Access-Control-Allow-Headers’ from CORS preflight channel</a></li><li><a href=\\\\\"/en-US/docs/Web/HTTP/CORS/Errors/CORSMissingAllowOrigin\\\\\">Reason: CORS header \\'Access-Control-Allow-Origin\\' missing</a></li><li><a href=\\\\\"/en-US/docs/Web/HTTP/CORS/Errors/CORSMultipleAllowOriginNotAllowed\\\\\">Reason: Multiple CORS header \\'Access-Control-Allow-Origin\\' not allowed</a></li><li><a href=\\\\\"/en-US/docs/Web/HTTP/CORS/Errors/CORSNotSupportingCredentials\\\\\">Reason: Credential is not supported if the CORS header ‘Access-Control-Allow-Origin’ is ‘*’</a></li><li><a href=\\\\\"/en-US/docs/Web/HTTP/CORS/Errors/CORSOriginHeaderNotAdded\\\\\">Reason: CORS header ‘Origin’ cannot be added</a></li><li><a href=\\\\\"/en-US/docs/Web/HTTP/CORS/Errors/CORSPreflightDidNotSucceed\\\\\">Reason: CORS preflight channel did not succeed</a></li><li><a href=\\\\\"/en-US/docs/Web/HTTP/CORS/Errors/CORSRequestNotHttp\\\\\">Reason: CORS request not HTTP</a></li></ol>\\\\n        </details>\\\\n    </li>\\\\n    <li class=\\\\\"toggle\\\\\">\\\\n        <details>\\\\n          <summary>Feature-Policy directives</summary>\\\\n          <ol><li><svg class=\\\\\"icon icon-experimental\\\\\" tabindex=\\\\\"0\\\\\">\\\\n    <use xlink:href=\\\\\"/assets/badges.svg#icon-experimental\\\\\"></use>\\\\n</svg><a href=\\\\\"/en-US/docs/Web/HTTP/Headers/Feature-Policy/accelerometer\\\\\">Feature-Policy: accelerometer</a></li><li><svg class=\\\\\"icon icon-experimental\\\\\" tabindex=\\\\\"0\\\\\">\\\\n    <use xlink:href=\\\\\"/assets/badges.svg#icon-experimental\\\\\"></use>\\\\n</svg><a href=\\\\\"/en-US/docs/Web/HTTP/Headers/Feature-Policy/ambient-light-sensor\\\\\">Feature-Policy: ambient-light-sensor</a></li><li><svg class=\\\\\"icon icon-experimental\\\\\" tabindex=\\\\\"0\\\\\">\\\\n    <use xlink:href=\\\\\"/assets/badges.svg#icon-experimental\\\\\"></use>\\\\n</svg><a href=\\\\\"/en-US/docs/Web/HTTP/Headers/Feature-Policy/autoplay\\\\\">Feature-Policy: autoplay</a></li><li><svg class=\\\\\"icon icon-experimental\\\\\" tabindex=\\\\\"0\\\\\">\\\\n    <use xlink:href=\\\\\"/assets/badges.svg#icon-experimental\\\\\"></use>\\\\n</svg><a href=\\\\\"/en-US/docs/Web/HTTP/Headers/Feature-Policy/battery\\\\\">Feature-Policy: battery</a></li><li><svg class=\\\\\"icon icon-experimental\\\\\" tabindex=\\\\\"0\\\\\">\\\\n    <use xlink:href=\\\\\"/assets/badges.svg#icon-experimental\\\\\"></use>\\\\n</svg><a href=\\\\\"/en-US/docs/Web/HTTP/Headers/Feature-Policy/camera\\\\\">Feature-Policy: camera</a></li><li><svg class=\\\\\"icon icon-experimental\\\\\" tabindex=\\\\\"0\\\\\">\\\\n    <use xlink:href=\\\\\"/assets/badges.svg#icon-experimental\\\\\"></use>\\\\n</svg><a href=\\\\\"/en-US/docs/Web/HTTP/Headers/Feature-Policy/display-capture\\\\\">Feature-Policy: display-capture</a></li><li><svg class=\\\\\"icon icon-experimental\\\\\" tabindex=\\\\\"0\\\\\">\\\\n    <use xlink:href=\\\\\"/assets/badges.svg#icon-experimental\\\\\"></use>\\\\n</svg><a href=\\\\\"/en-US/docs/Web/HTTP/Headers/Feature-Policy/document-domain\\\\\">Feature-Policy: document-domain</a></li><li><svg class=\\\\\"icon icon-experimental\\\\\" tabindex=\\\\\"0\\\\\">\\\\n    <use xlink:href=\\\\\"/assets/badges.svg#icon-experimental\\\\\"></use>\\\\n</svg><a href=\\\\\"/en-US/docs/Web/HTTP/Headers/Feature-Policy/encrypted-media\\\\\">Feature-Policy: encrypted-media</a></li><li><svg class=\\\\\"icon icon-experimental\\\\\" tabindex=\\\\\"0\\\\\">\\\\n    <use xlink:href=\\\\\"/assets/badges.svg#icon-experimental\\\\\"></use>\\\\n</svg><a href=\\\\\"/en-US/docs/Web/HTTP/Headers/Feature-Policy/fullscreen\\\\\">Feature-Policy: fullscreen</a></li><li><svg class=\\\\\"icon icon-experimental\\\\\" tabindex=\\\\\"0\\\\\">\\\\n    <use xlink:href=\\\\\"/assets/badges.svg#icon-experimental\\\\\"></use>\\\\n</svg><a href=\\\\\"/en-US/docs/Web/HTTP/Headers/Feature-Policy/gamepad\\\\\">Feature-Policy: gamepad</a></li><li><svg class=\\\\\"icon icon-experimental\\\\\" tabindex=\\\\\"0\\\\\">\\\\n    <use xlink:href=\\\\\"/assets/badges.svg#icon-experimental\\\\\"></use>\\\\n</svg><a href=\\\\\"/en-US/docs/Web/HTTP/Headers/Feature-Policy/geolocation\\\\\">Feature-Policy: geolocation</a></li><li><svg class=\\\\\"icon icon-experimental\\\\\" tabindex=\\\\\"0\\\\\">\\\\n    <use xlink:href=\\\\\"/assets/badges.svg#icon-experimental\\\\\"></use>\\\\n</svg><a href=\\\\\"/en-US/docs/Web/HTTP/Headers/Feature-Policy/gyroscope\\\\\">Feature-Policy: gyroscope</a></li><li><svg class=\\\\\"icon icon-experimental\\\\\" tabindex=\\\\\"0\\\\\">\\\\n    <use xlink:href=\\\\\"/assets/badges.svg#icon-experimental\\\\\"></use>\\\\n</svg><svg class=\\\\\"icon icon-nonstandard\\\\\" tabindex=\\\\\"0\\\\\">\\\\n    <use xlink:href=\\\\\"/assets/badges.svg#icon-nonstandard\\\\\"></use>\\\\n</svg><a href=\\\\\"/en-US/docs/Web/HTTP/Headers/Feature-Policy/layout-animations\\\\\">Feature-Policy: layout-animations</a></li><li><svg class=\\\\\"icon icon-experimental\\\\\" tabindex=\\\\\"0\\\\\">\\\\n    <use xlink:href=\\\\\"/assets/badges.svg#icon-experimental\\\\\"></use>\\\\n</svg><svg class=\\\\\"icon icon-nonstandard\\\\\" tabindex=\\\\\"0\\\\\">\\\\n    <use xlink:href=\\\\\"/assets/badges.svg#icon-nonstandard\\\\\"></use>\\\\n</svg><a href=\\\\\"/en-US/docs/Web/HTTP/Headers/Feature-Policy/legacy-image-formats\\\\\">Feature-Policy: legacy-image-formats</a></li><li><svg class=\\\\\"icon icon-experimental\\\\\" tabindex=\\\\\"0\\\\\">\\\\n    <use xlink:href=\\\\\"/assets/badges.svg#icon-experimental\\\\\"></use>\\\\n</svg><a href=\\\\\"/en-US/docs/Web/HTTP/Headers/Feature-Policy/magnetometer\\\\\">Feature-Policy: magnetometer</a></li><li><svg class=\\\\\"icon icon-experimental\\\\\" tabindex=\\\\\"0\\\\\">\\\\n    <use xlink:href=\\\\\"/assets/badges.svg#icon-experimental\\\\\"></use>\\\\n</svg><a href=\\\\\"/en-US/docs/Web/HTTP/Headers/Feature-Policy/microphone\\\\\">Feature-Policy: microphone</a></li><li><svg class=\\\\\"icon icon-experimental\\\\\" tabindex=\\\\\"0\\\\\">\\\\n    <use xlink:href=\\\\\"/assets/badges.svg#icon-experimental\\\\\"></use>\\\\n</svg><a href=\\\\\"/en-US/docs/Web/HTTP/Headers/Feature-Policy/midi\\\\\">Feature-Policy: midi</a></li><li><svg class=\\\\\"icon icon-experimental\\\\\" tabindex=\\\\\"0\\\\\">\\\\n    <use xlink:href=\\\\\"/assets/badges.svg#icon-experimental\\\\\"></use>\\\\n</svg><svg class=\\\\\"icon icon-nonstandard\\\\\" tabindex=\\\\\"0\\\\\">\\\\n    <use xlink:href=\\\\\"/assets/badges.svg#icon-nonstandard\\\\\"></use>\\\\n</svg><a href=\\\\\"/en-US/docs/Web/HTTP/Headers/Feature-Policy/oversized-images\\\\\">Feature-Policy: oversized-images</a></li><li><svg class=\\\\\"icon icon-experimental\\\\\" tabindex=\\\\\"0\\\\\">\\\\n    <use xlink:href=\\\\\"/assets/badges.svg#icon-experimental\\\\\"></use>\\\\n</svg><a href=\\\\\"/en-US/docs/Web/HTTP/Headers/Feature-Policy/payment\\\\\">Feature-Policy: payment</a></li><li><svg class=\\\\\"icon icon-experimental\\\\\" tabindex=\\\\\"0\\\\\">\\\\n    <use xlink:href=\\\\\"/assets/badges.svg#icon-experimental\\\\\"></use>\\\\n</svg><a href=\\\\\"/en-US/docs/Web/HTTP/Headers/Feature-Policy/picture-in-picture\\\\\">Feature-Policy: picture-in-picture</a></li><li><svg class=\\\\\"icon icon-experimental\\\\\" tabindex=\\\\\"0\\\\\">\\\\n    <use xlink:href=\\\\\"/assets/badges.svg#icon-experimental\\\\\"></use>\\\\n</svg><a href=\\\\\"/en-US/docs/Web/HTTP/Headers/Feature-Policy/publickey-credentials-get\\\\\">Feature-Policy: publickey-credentials-get</a></li><li><svg class=\\\\\"icon icon-experimental\\\\\" tabindex=\\\\\"0\\\\\">\\\\n    <use xlink:href=\\\\\"/assets/badges.svg#icon-experimental\\\\\"></use>\\\\n</svg><a href=\\\\\"/en-US/docs/Web/HTTP/Headers/Feature-Policy/screen-wake-lock\\\\\">Feature-Policy: screen-wake-lock</a></li><li><svg class=\\\\\"icon icon-experimental\\\\\" tabindex=\\\\\"0\\\\\">\\\\n    <use xlink:href=\\\\\"/assets/badges.svg#icon-experimental\\\\\"></use>\\\\n</svg><a href=\\\\\"/en-US/docs/Web/HTTP/Headers/Feature-Policy/sync-xhr\\\\\">Feature-Policy: sync-xhr</a></li><li><svg class=\\\\\"icon icon-experimental\\\\\" tabindex=\\\\\"0\\\\\">\\\\n    <use xlink:href=\\\\\"/assets/badges.svg#icon-experimental\\\\\"></use>\\\\n</svg><svg class=\\\\\"icon icon-nonstandard\\\\\" tabindex=\\\\\"0\\\\\">\\\\n    <use xlink:href=\\\\\"/assets/badges.svg#icon-nonstandard\\\\\"></use>\\\\n</svg><a href=\\\\\"/en-US/docs/Web/HTTP/Headers/Feature-Policy/unoptimized-images\\\\\">Feature-Policy: unoptimized-images</a></li><li><svg class=\\\\\"icon icon-experimental\\\\\" tabindex=\\\\\"0\\\\\">\\\\n    <use xlink:href=\\\\\"/assets/badges.svg#icon-experimental\\\\\"></use>\\\\n</svg><svg class=\\\\\"icon icon-nonstandard\\\\\" tabindex=\\\\\"0\\\\\">\\\\n    <use xlink:href=\\\\\"/assets/badges.svg#icon-nonstandard\\\\\"></use>\\\\n</svg><a href=\\\\\"/en-US/docs/Web/HTTP/Headers/Feature-Policy/unsized-media\\\\\">Feature-Policy: unsized-media</a></li><li><svg class=\\\\\"icon icon-experimental\\\\\" tabindex=\\\\\"0\\\\\">\\\\n    <use xlink:href=\\\\\"/assets/badges.svg#icon-experimental\\\\\"></use>\\\\n</svg><a href=\\\\\"/en-US/docs/Web/HTTP/Headers/Feature-Policy/usb\\\\\">Feature-Policy: usb</a></li><li><svg class=\\\\\"icon icon-experimental\\\\\" tabindex=\\\\\"0\\\\\">\\\\n    <use xlink:href=\\\\\"/assets/badges.svg#icon-experimental\\\\\"></use>\\\\n</svg><svg class=\\\\\"icon icon-nonstandard\\\\\" tabindex=\\\\\"0\\\\\">\\\\n    <use xlink:href=\\\\\"/assets/badges.svg#icon-nonstandard\\\\\"></use>\\\\n</svg><svg class=\\\\\"icon icon-deprecated\\\\\" tabindex=\\\\\"0\\\\\">\\\\n    <use xlink:href=\\\\\"/assets/badges.svg#icon-deprecated\\\\\"></use>\\\\n</svg><a href=\\\\\"/en-US/docs/Web/HTTP/Headers/Feature-Policy/vibrate\\\\\">Feature-Policy: vibrate</a></li><li><svg class=\\\\\"icon icon-experimental\\\\\" tabindex=\\\\\"0\\\\\">\\\\n    <use xlink:href=\\\\\"/assets/badges.svg#icon-experimental\\\\\"></use>\\\\n</svg><a href=\\\\\"/en-US/docs/Web/HTTP/Headers/Feature-Policy/vr\\\\\">Feature-Policy: vr</a></li><li><svg class=\\\\\"icon icon-experimental\\\\\" tabindex=\\\\\"0\\\\\">\\\\n    <use xlink:href=\\\\\"/assets/badges.svg#icon-experimental\\\\\"></use>\\\\n</svg><a href=\\\\\"/en-US/docs/Web/HTTP/Headers/Feature-Policy/web-share\\\\\">web-share</a></li><li><svg class=\\\\\"icon icon-experimental\\\\\" tabindex=\\\\\"0\\\\\">\\\\n    <use xlink:href=\\\\\"/assets/badges.svg#icon-experimental\\\\\"></use>\\\\n</svg><a href=\\\\\"/en-US/docs/Web/HTTP/Headers/Feature-Policy/xr-spatial-tracking\\\\\">Feature-Policy: xr-spatial-tracking</a></li><li><svg class=\\\\\"icon icon-experimental\\\\\" tabindex=\\\\\"0\\\\\">\\\\n    <use xlink:href=\\\\\"/assets/badges.svg#icon-experimental\\\\\"></use>\\\\n</svg><svg class=\\\\\"icon icon-deprecated\\\\\" tabindex=\\\\\"0\\\\\">\\\\n    <use xlink:href=\\\\\"/assets/badges.svg#icon-deprecated\\\\\"></use>\\\\n</svg><a href=\\\\\"/en-US/docs/Web/HTTP/Headers/Feature-Policy/xr\\\\\">Feature-Policy: xr</a></li></ol>\\\\n        </details>\\\\n    </li>\\\\n  </ol>\\\\n\",\"body\":[{\"type\":\"prose\",\"value\":{\"id\":null,\"title\":null,\"isH3\":false,\"content\":\"<div></div>\\\\n\\\\n<p class=\\\\\"summary\\\\\">HTTP response status codes indicate whether a specific <a href=\\\\\"/en-US/docs/Web/HTTP\\\\\">HTTP</a> request has been successfully completed. Responses are grouped in five classes:</p>\\\\n\\\\n<ol>\\\\n <li><a href=\\\\\"#information_responses\\\\\">Informational responses</a> (<code>100</code>–<code>199</code>)</li>\\\\n <li><a href=\\\\\"#successful_responses\\\\\">Successful responses</a> (<code>200</code>–<code>299</code>)</li>\\\\n <li><a href=\\\\\"#redirection_messages\\\\\">Redirects</a> (<code>300</code>–<code>399</code>)</li>\\\\n <li><a href=\\\\\"#client_error_responses\\\\\">Client errors</a> (<code>400</code>–<code>499</code>)</li>\\\\n <li><a href=\\\\\"#server_error_responses\\\\\">Server errors</a> (<code>500</code>–<code>599</code>)</li>\\\\n</ol>\\\\n\\\\n<p>The below status codes are defined by <a href=\\\\\"https://datatracker.ietf.org/doc/html/rfc2616#section-10\\\\\" class=\\\\\"external\\\\\" rel=\\\\\" noopener\\\\\">section 10 of RFC 2616</a>. You can find an updated specification in <a href=\\\\\"https://datatracker.ietf.org/doc/html/rfc7231#section-6.5.1\\\\\" class=\\\\\"external\\\\\" rel=\\\\\" noopener\\\\\">RFC 7231</a>.</p>\\\\n\\\\n<div class=\\\\\"notecard note\\\\\">\\\\n  <p><strong>Note:</strong> If you receive a response that is not in this list, it is a non-standard response, possibly custom to the server\\'s software.</p>\\\\n</div>\"}},{\"type\":\"prose\",\"value\":{\"id\":\"Information_responses\",\"title\":\"Information responses\",\"isH3\":false,\"content\":\"<dl>\\\\n <dt><a href=\\\\\"/en-US/docs/Web/HTTP/Status/100\\\\\"><code>100 Continue</code></a></dt>\\\\n <dd>This interim response indicates that everything so far is OK and that the client should continue the request, or ignore the response if the request is already finished.</dd>\\\\n <dt><a href=\\\\\"/en-US/docs/Web/HTTP/Status/101\\\\\"><code>101 Switching Protocol</code></a></dt>\\\\n <dd>This code is sent in response to an <a href=\\\\\"/en-US/docs/Web/HTTP/Headers/Upgrade\\\\\"><code>Upgrade</code></a> request header from the client, and indicates the protocol the server is switching to.</dd>\\\\n <dt><a href=\\\\\"/en-US/docs/Web/HTTP/Status/102\\\\\" class=\\\\\"page-not-created\\\\\" title=\\\\\"This is a link to an unwritten page\\\\\"><code>102 Processing</code></a> (<a href=\\\\\"/en-US/docs/Glossary/WebDAV\\\\\">WebDAV</a>)</dt>\\\\n <dd>This code indicates that the server has received and is processing the request, but no response is available yet.</dd>\\\\n <dt><a href=\\\\\"/en-US/docs/Web/HTTP/Status/103\\\\\"><code>103 Early Hints</code></a></dt>\\\\n <dd>This status code is primarily intended to be used with the <a href=\\\\\"/en-US/docs/Web/HTTP/Headers/Link\\\\\"><code>Link</code></a> header, letting the user agent start <a href=\\\\\"/en-US/docs/Web/HTML/Link_types/preload\\\\\">preloading</a> resources while the server prepares a response.</dd>\\\\n</dl>\"}},{\"type\":\"prose\",\"value\":{\"id\":\"Successful_responses\",\"title\":\"Successful responses\",\"isH3\":false,\"content\":\"<dl>\\\\n <dt><a href=\\\\\"/en-US/docs/Web/HTTP/Status/200\\\\\"><code>200 OK</code></a></dt>\\\\n <dd>The request has succeeded. The meaning of the success depends on the HTTP method:\\\\n <ul>\\\\n  <li><code>GET</code>: The resource has been fetched and is transmitted in the message body.</li>\\\\n  <li><code>HEAD</code>: The representation headers are included in the response without any&nbsp;message body.</li>\\\\n  <li><code>PUT</code> or <code>POST</code>: The resource describing the result of the action is transmitted in the message body.</li>\\\\n  <li><code>TRACE</code>: The message body contains the request message as received by the server.</li>\\\\n </ul>\\\\n </dd>\\\\n <dt><a href=\\\\\"/en-US/docs/Web/HTTP/Status/201\\\\\"><code>201 Created</code></a></dt>\\\\n <dd>The request has succeeded and a new resource has been created as a result. This is typically the response sent after <code>POST</code> requests, or some <code>PUT</code> requests.</dd>\\\\n <dt><a href=\\\\\"/en-US/docs/Web/HTTP/Status/202\\\\\"><code>202 Accepted</code></a></dt>\\\\n <dd>The request has been received but not yet acted upon. It is noncommittal, since there is no way in HTTP to later send an asynchronous response indicating the outcome of the request. It is intended for cases where another process or server handles the request, or for batch processing.</dd>\\\\n <dt><a href=\\\\\"/en-US/docs/Web/HTTP/Status/203\\\\\"><code>203 Non-Authoritative Information</code></a></dt>\\\\n <dd>This response code means the returned meta-information is not exactly the same as is available from the origin server, but is collected from a local or a third-party copy. This is mostly used for mirrors or backups of another resource. Except for that specific case, the \\\\\"200 OK\\\\\" response is preferred to this status.</dd>\\\\n <dt><a href=\\\\\"/en-US/docs/Web/HTTP/Status/204\\\\\"><code>204 No Content</code></a></dt>\\\\n <dd>There is no content to send for this request, but the headers may be useful. The user-agent may update its cached headers for this resource with the new ones.</dd>\\\\n <dt><a href=\\\\\"/en-US/docs/Web/HTTP/Status/205\\\\\"><code>205 Reset Content</code></a></dt>\\\\n <dd>Tells the user-agent to reset the document which sent this request.</dd>\\\\n <dt><a href=\\\\\"/en-US/docs/Web/HTTP/Status/206\\\\\"><code>206 Partial Content</code></a></dt>\\\\n <dd>This response code is used when the <a href=\\\\\"/en-US/docs/Web/HTTP/Headers/Range\\\\\"><code>Range</code></a> header is sent from the client to request only part of a resource.</dd>\\\\n <dt><a href=\\\\\"/en-US/docs/Web/HTTP/Status/207\\\\\" class=\\\\\"page-not-created\\\\\" title=\\\\\"This is a link to an unwritten page\\\\\"><code>207 Multi-Status</code></a> (<a href=\\\\\"/en-US/docs/Glossary/WebDAV\\\\\">WebDAV</a>)</dt>\\\\n <dd>Conveys information about multiple resources, for situations where multiple status codes might be appropriate.</dd>\\\\n <dt><a href=\\\\\"/en-US/docs/Web/HTTP/Status/208\\\\\" class=\\\\\"page-not-created\\\\\" title=\\\\\"This is a link to an unwritten page\\\\\"><code>208 Already Reported</code></a> (<a href=\\\\\"/en-US/docs/Glossary/WebDAV\\\\\">WebDAV</a>)</dt>\\\\n <dd>Used inside a <code>&lt;dav:propstat&gt;</code> response element to avoid repeatedly enumerating the internal members of multiple bindings to the same collection.</dd>\\\\n <dt><a href=\\\\\"/en-US/docs/Web/HTTP/Status/226\\\\\" class=\\\\\"page-not-created\\\\\" title=\\\\\"This is a link to an unwritten page\\\\\"><code>226 IM Used</code></a> (<a href=\\\\\"https://datatracker.ietf.org/doc/html/rfc3229\\\\\" class=\\\\\"external\\\\\" rel=\\\\\" noopener\\\\\">HTTP Delta encoding</a>)</dt>\\\\n <dd>The server has fulfilled a <code>GET</code> request for the resource, and the response is a representation of the result of one or more instance-manipulations applied to the current instance.</dd>\\\\n</dl>\"}},{\"type\":\"prose\",\"value\":{\"id\":\"Redirection_messages\",\"title\":\"Redirection messages\",\"isH3\":false,\"content\":\"<dl>\\\\n <dt><a href=\\\\\"/en-US/docs/Web/HTTP/Status/300\\\\\"><code>300 Multiple Choice</code></a></dt>\\\\n <dd>The request has more than one possible response. The user-agent or user should choose one of them. (There is no standardized way of choosing one of the responses, but HTML links to the possibilities are recommended so the user can pick.)</dd>\\\\n <dt><a href=\\\\\"/en-US/docs/Web/HTTP/Status/301\\\\\"><code>301 Moved Permanently</code></a></dt>\\\\n <dd>The URL of the requested resource has been changed permanently. The new URL is given in the response.</dd>\\\\n <dt><a href=\\\\\"/en-US/docs/Web/HTTP/Status/302\\\\\"><code>302 Found</code></a></dt>\\\\n <dd>This response code means that the URI of requested resource has been changed <em>temporarily</em>. Further changes in the URI might be made in the future. Therefore, this same URI should be used by the client in future requests.</dd>\\\\n <dt><a href=\\\\\"/en-US/docs/Web/HTTP/Status/303\\\\\"><code>303 See Other</code></a></dt>\\\\n <dd>The server sent this response to direct the client to get the requested resource at another URI with a GET request.</dd>\\\\n <dt><a href=\\\\\"/en-US/docs/Web/HTTP/Status/304\\\\\"><code>304 Not Modified</code></a></dt>\\\\n <dd>This is used for caching purposes. It tells the client that the response has not been modified, so the client can continue to use the same cached version of the response.</dd>\\\\n <dt><code>305 Use Proxy</code> <svg class=\\\\\"icon icon-deprecated\\\\\" tabindex=\\\\\"0\\\\\">\\\\n    <use xlink:href=\\\\\"/assets/badges.svg#icon-deprecated\\\\\"></use>\\\\n</svg></dt>\\\\n <dd>Defined in a previous version of the HTTP specification to indicate that a requested response must be accessed by a proxy. It has been deprecated due to security concerns regarding in-band configuration of a proxy.</dd>\\\\n <dt><code>306 unused</code></dt>\\\\n <dd>This response code is no longer used; it is just reserved. It was used in a previous version of the HTTP/1.1 specification.</dd>\\\\n <dt><a href=\\\\\"/en-US/docs/Web/HTTP/Status/307\\\\\"><code>307 Temporary Redirect</code></a></dt>\\\\n <dd>The server sends this response to direct the client to get the requested resource at another URI with same method that was used in the prior request. This has the same semantics as the <code>302 Found</code> HTTP response code, with the exception that the user agent <em>must not</em> change the HTTP method used: If a <code>POST</code> was used in the first request, a <code>POST</code> must be used in the second request.</dd>\\\\n <dt><a href=\\\\\"/en-US/docs/Web/HTTP/Status/308\\\\\"><code>308 Permanent Redirect</code></a></dt>\\\\n <dd>This means that the resource is now permanently located at another URI, specified by the <code>Location:</code> HTTP Response header. This has the same semantics as the <code>301 Moved Permanently</code> HTTP response code, with the exception that the user agent <em>must not</em> change the HTTP method used: If a <code>POST</code> was used in the first request, a <code>POST</code> must be used in the second request.</dd>\\\\n</dl>\"}},{\"type\":\"prose\",\"value\":{\"id\":\"Client_error_responses\",\"title\":\"Client error responses\",\"isH3\":false,\"content\":\"<dl>\\\\n <dt><a href=\\\\\"/en-US/docs/Web/HTTP/Status/400\\\\\"><code>400 Bad Request</code></a></dt>\\\\n <dd>The server could not understand the request due to invalid syntax.</dd>\\\\n <dt><a href=\\\\\"/en-US/docs/Web/HTTP/Status/401\\\\\"><code>401 Unauthorized</code></a></dt>\\\\n <dd>Although the HTTP standard specifies \\\\\"unauthorized\\\\\", semantically this response means \\\\\"unauthenticated\\\\\". That is, the client must authenticate itself to get the requested response.</dd>\\\\n <dt><a href=\\\\\"/en-US/docs/Web/HTTP/Status/402\\\\\"><code>402 Payment Required</code></a> <svg class=\\\\\"icon icon-experimental\\\\\" tabindex=\\\\\"0\\\\\">\\\\n    <use xlink:href=\\\\\"/assets/badges.svg#icon-experimental\\\\\"></use>\\\\n</svg></dt>\\\\n <dd>This response code is reserved for future use. The initial aim for creating this code was using it for digital payment systems, however this status code is used very rarely and no standard convention exists.</dd>\\\\n <dt><a href=\\\\\"/en-US/docs/Web/HTTP/Status/403\\\\\"><code>403 Forbidden</code></a></dt>\\\\n <dd>The client does not have access rights to the content; that is, it is unauthorized, so the server is refusing to give the requested resource. Unlike 401, the client\\'s identity is known to the server.</dd>\\\\n <dt><a href=\\\\\"/en-US/docs/Web/HTTP/Status/404\\\\\"><code>404 Not Found</code></a></dt>\\\\n <dd>The server can not find the requested resource. In the browser, this means the URL is not recognized. In an API, this can also mean that the endpoint is valid but the resource itself does not exist. Servers may also send this response instead of 403 to hide the existence of a resource from an unauthorized client. This response code is probably the most famous one due to its frequent occurrence on the web.</dd>\\\\n <dt><a href=\\\\\"/en-US/docs/Web/HTTP/Status/405\\\\\"><code>405 Method Not Allowed</code></a></dt>\\\\n <dd>The request method is known by the server but is not supported by the target resource. For example, an API may forbid DELETE-ing a resource.</dd>\\\\n <dt><a href=\\\\\"/en-US/docs/Web/HTTP/Status/406\\\\\"><code>406 Not Acceptable</code></a></dt>\\\\n <dd>This response is sent when the web server, after performing <a href=\\\\\"/en-US/docs/Web/HTTP/Content_negotiation#server-driven_negotiation\\\\\">server-driven content negotiation</a>, doesn\\'t find any content that conforms to the criteria given by the user agent.</dd>\\\\n <dt><a href=\\\\\"/en-US/docs/Web/HTTP/Status/407\\\\\"><code>407 Proxy Authentication Required</code></a></dt>\\\\n <dd>This is similar to 401 but authentication is needed to be done by a proxy.</dd>\\\\n <dt><a href=\\\\\"/en-US/docs/Web/HTTP/Status/408\\\\\"><code>408 Request Timeout</code></a></dt>\\\\n <dd>This response is sent on an idle connection by some servers, even without any previous request by the client. It means that the server would like to shut down this unused connection. This response is used much more since some browsers, like Chrome, Firefox 27+, or IE9, use HTTP pre-connection mechanisms to speed up surfing. Also note that some servers merely shut down the connection without sending this message.</dd>\\\\n <dt><a href=\\\\\"/en-US/docs/Web/HTTP/Status/409\\\\\"><code>409 Conflict</code></a></dt>\\\\n <dd>This response is sent when a request conflicts with the current state of the server.</dd>\\\\n <dt><a href=\\\\\"/en-US/docs/Web/HTTP/Status/410\\\\\"><code>410 Gone</code></a></dt>\\\\n <dd>This response is sent when the requested content has been permanently deleted from server, with no forwarding address. Clients are expected to remove their caches and links to the resource. The HTTP specification intends this status code to be used for \\\\\"limited-time, promotional services\\\\\". APIs should not feel compelled to indicate resources that have been deleted with this status code.</dd>\\\\n <dt><a href=\\\\\"/en-US/docs/Web/HTTP/Status/411\\\\\"><code>411 Length Required</code></a></dt>\\\\n <dd>Server rejected the request because the <code>Content-Length</code> header field is not defined and the server requires it.</dd>\\\\n <dt><a href=\\\\\"/en-US/docs/Web/HTTP/Status/412\\\\\"><code>412 Precondition Failed</code></a></dt>\\\\n <dd>The client has indicated preconditions in its headers which the server does not meet.</dd>\\\\n <dt><a href=\\\\\"/en-US/docs/Web/HTTP/Status/413\\\\\"><code>413 Payload Too Large</code></a></dt>\\\\n <dd>Request entity is larger than limits defined by server; the server might close the connection or return an <code>Retry-After</code> header field.</dd>\\\\n <dt><a href=\\\\\"/en-US/docs/Web/HTTP/Status/414\\\\\"><code>414 URI Too Long</code></a></dt>\\\\n <dd>The URI requested by the client is longer than the server is willing to interpret.</dd>\\\\n <dt><a href=\\\\\"/en-US/docs/Web/HTTP/Status/415\\\\\"><code>415 Unsupported Media Type</code></a></dt>\\\\n <dd>The media format of the requested data is not supported by the server, so the server is rejecting the request.</dd>\\\\n <dt><a href=\\\\\"/en-US/docs/Web/HTTP/Status/416\\\\\"><code>416 Range Not Satisfiable</code></a></dt>\\\\n <dd>The range specified by the <code>Range</code> header field in the request can\\'t be fulfilled; it\\'s possible that the range is outside the size of the target URI\\'s data.</dd>\\\\n <dt><a href=\\\\\"/en-US/docs/Web/HTTP/Status/417\\\\\"><code>417 Expectation Failed</code></a></dt>\\\\n <dd>This response code means the expectation indicated by the <code>Expect</code> request header field can\\'t be met by the server.</dd>\\\\n <dt><a href=\\\\\"/en-US/docs/Web/HTTP/Status/418\\\\\"><code>418 I\\'m a teapot</code></a></dt>\\\\n <dd>The server refuses the attempt to brew coffee with a teapot.</dd>\\\\n <dt><a href=\\\\\"/en-US/docs/Web/HTTP/Status/421\\\\\" class=\\\\\"page-not-created\\\\\" title=\\\\\"This is a link to an unwritten page\\\\\"><code>421 Misdirected Request</code></a></dt>\\\\n <dd>The request was directed at a server that is not able to produce a response. This can be sent by a server that is not configured to produce responses for the combination of scheme and authority that are included in the request URI.</dd>\\\\n <dt><a href=\\\\\"/en-US/docs/Web/HTTP/Status/422\\\\\"><code>422 Unprocessable Entity</code></a> (<a href=\\\\\"/en-US/docs/Glossary/WebDAV\\\\\">WebDAV</a>)</dt>\\\\n <dd>The request was well-formed but was unable to be followed due to semantic errors.</dd>\\\\n <dt><a href=\\\\\"/en-US/docs/Web/HTTP/Status/423\\\\\" class=\\\\\"page-not-created\\\\\" title=\\\\\"This is a link to an unwritten page\\\\\"><code>423 Locked</code></a> (<a href=\\\\\"/en-US/docs/Glossary/WebDAV\\\\\">WebDAV</a>)</dt>\\\\n <dd>The resource that is being accessed is locked.</dd>\\\\n <dt><a href=\\\\\"/en-US/docs/Web/HTTP/Status/424\\\\\" class=\\\\\"page-not-created\\\\\" title=\\\\\"This is a link to an unwritten page\\\\\"><code>424 Failed Dependency</code></a> (<a href=\\\\\"/en-US/docs/Glossary/WebDAV\\\\\">WebDAV</a>)</dt>\\\\n <dd>The request failed due to failure of a previous request.</dd>\\\\n <dt><a href=\\\\\"/en-US/docs/Web/HTTP/Status/425\\\\\"><code>425 Too Early</code></a> <svg class=\\\\\"icon icon-experimental\\\\\" tabindex=\\\\\"0\\\\\">\\\\n    <use xlink:href=\\\\\"/assets/badges.svg#icon-experimental\\\\\"></use>\\\\n</svg></dt>\\\\n <dd>Indicates that the server is unwilling to risk processing a request that might be replayed.</dd>\\\\n <dt><a href=\\\\\"/en-US/docs/Web/HTTP/Status/426\\\\\"><code>426 Upgrade Required</code></a></dt>\\\\n <dd>The server refuses to perform the request using the current protocol but might be willing to do so after the client upgrades to a different protocol. The server sends an <a href=\\\\\"/en-US/docs/Web/HTTP/Headers/Upgrade\\\\\"><code>Upgrade</code></a> header in a 426 response to indicate the required protocol(s).</dd>\\\\n <dt><a href=\\\\\"/en-US/docs/Web/HTTP/Status/428\\\\\"><code>428 Precondition Required</code></a></dt>\\\\n <dd>The origin server requires the request to be conditional. This response is intended to prevent the \\'lost update\\' problem, where a client GETs a resource\\'s state, modifies it, and PUTs it back to the server, when meanwhile a third party has modified the state on the server, leading to a conflict.</dd>\\\\n <dt><a href=\\\\\"/en-US/docs/Web/HTTP/Status/429\\\\\"><code>429 Too Many Requests</code></a></dt>\\\\n <dd>The user has sent too many requests in a given amount of time (\\\\\"rate limiting\\\\\").</dd>\\\\n <dt><a href=\\\\\"/en-US/docs/Web/HTTP/Status/431\\\\\"><code>431 Request Header Fields Too Large</code></a></dt>\\\\n <dd>The server is unwilling to process the request because its header fields are too large. The request may be resubmitted after reducing the size of the request header fields.</dd>\\\\n <dt><a href=\\\\\"/en-US/docs/Web/HTTP/Status/451\\\\\"><code>451 Unavailable For Legal Reasons</code></a></dt>\\\\n <dd>The user-agent requested a resource that cannot legally be provided, such as a web page censored by a government.</dd>\\\\n</dl>\"}},{\"type\":\"prose\",\"value\":{\"id\":\"Server_error_responses\",\"title\":\"Server error responses\",\"isH3\":false,\"content\":\"<dl>\\\\n <dt><a href=\\\\\"/en-US/docs/Web/HTTP/Status/500\\\\\"><code>500 Internal Server Error</code></a></dt>\\\\n <dd>The server has encountered a situation it doesn\\'t know how to handle.</dd>\\\\n <dt><a href=\\\\\"/en-US/docs/Web/HTTP/Status/501\\\\\"><code>501 Not Implemented</code></a></dt>\\\\n <dd>The request method is not supported by the server and cannot be handled. The only methods that servers are required to support (and therefore that must not return this code) are <code>GET</code> and <code>HEAD</code>.</dd>\\\\n <dt><a href=\\\\\"/en-US/docs/Web/HTTP/Status/502\\\\\"><code>502 Bad Gateway</code></a></dt>\\\\n <dd>This error response means that the server, while working as a gateway to get a response needed to handle the request, got an invalid response.</dd>\\\\n <dt><a href=\\\\\"/en-US/docs/Web/HTTP/Status/503\\\\\"><code>503 Service Unavailable</code></a></dt>\\\\n <dd>The server is not ready to handle the request. Common causes are a server that is down for maintenance or that is overloaded. Note that together with this response, a user-friendly page explaining the problem should be sent. This response should be used for temporary conditions and the <code>Retry-After:</code> HTTP header should, if possible, contain the estimated time before the recovery of the service. The webmaster must also take care about the caching-related headers that are sent along with this response, as these temporary condition responses should usually not be cached.</dd>\\\\n <dt><a href=\\\\\"/en-US/docs/Web/HTTP/Status/504\\\\\"><code>504 Gateway Timeout</code></a></dt>\\\\n <dd>This error response is given when the server is acting as a gateway and cannot get a response in time.</dd>\\\\n <dt><a href=\\\\\"/en-US/docs/Web/HTTP/Status/505\\\\\"><code>505 HTTP Version Not Supported</code></a></dt>\\\\n <dd>The HTTP version used in the request is not supported by the server.</dd>\\\\n <dt><a href=\\\\\"/en-US/docs/Web/HTTP/Status/506\\\\\"><code>506 Variant Also Negotiates</code></a></dt>\\\\n <dd>The server has an internal configuration error: the chosen variant resource is configured to engage in transparent content negotiation itself, and is therefore not a proper end point in the negotiation process.</dd>\\\\n <dt><a href=\\\\\"/en-US/docs/Web/HTTP/Status/507\\\\\"><code>507 Insufficient Storage</code></a> (<a href=\\\\\"/en-US/docs/Glossary/WebDAV\\\\\">WebDAV</a>)</dt>\\\\n <dd>The method could not be performed on the resource because the server is unable to store the representation needed to successfully complete the request.</dd>\\\\n <dt><a href=\\\\\"/en-US/docs/Web/HTTP/Status/508\\\\\"><code>508 Loop Detected</code></a> (<a href=\\\\\"/en-US/docs/Glossary/WebDAV\\\\\">WebDAV</a>)</dt>\\\\n <dd>The server detected an infinite loop while processing the request.</dd>\\\\n <dt><a href=\\\\\"/en-US/docs/Web/HTTP/Status/510\\\\\"><code>510 Not Extended</code></a></dt>\\\\n <dd>Further extensions to the request are required for the server to fulfill it.</dd>\\\\n <dt><a href=\\\\\"/en-US/docs/Web/HTTP/Status/511\\\\\"><code>511 Network Authentication Required</code></a></dt>\\\\n <dd>The 511 status code indicates that the client needs to authenticate to gain network access.</dd>\\\\n</dl>\"}},{\"type\":\"browser_compatibility\",\"value\":{\"title\":\"Browser compatibility\",\"id\":\"Browser_compatibility\",\"isH3\":false,\"query\":\"http.status\",\"dataURL\":\"/en-US/docs/Web/HTTP/Status/bcd.json\"}},{\"type\":\"prose\",\"value\":{\"id\":null,\"title\":null,\"isH3\":false,\"content\":\"<p></p><p></p>\"}},{\"type\":\"prose\",\"value\":{\"id\":\"See_also\",\"title\":\"See also\",\"isH3\":false,\"content\":\"<ul>\\\\n <li><a href=\\\\\"https://en.wikipedia.org/wiki/List_of_HTTP_status_codes\\\\\" class=\\\\\"external\\\\\" rel=\\\\\" noopener\\\\\">List of HTTP status codes on Wikipedia</a></li>\\\\n <li><a href=\\\\\"https://www.iana.org/assignments/http-status-codes/http-status-codes.xhtml\\\\\" class=\\\\\"external\\\\\" rel=\\\\\" noopener\\\\\">IANA official registry of HTTP status codes </a></li>\\\\n</ul>\"}}],\"toc\":[{\"text\":\"Information responses\",\"id\":\"Information_responses\"},{\"text\":\"Successful responses\",\"id\":\"Successful_responses\"},{\"text\":\"Redirection messages\",\"id\":\"Redirection_messages\"},{\"text\":\"Client error responses\",\"id\":\"Client_error_responses\"},{\"text\":\"Server error responses\",\"id\":\"Server_error_responses\"},{\"text\":\"Browser compatibility\",\"id\":\"Browser_compatibility\"},{\"text\":\"See also\",\"id\":\"See_also\"}],\"summary\":\"HTTP response status codes indicate whether a specific HTTP request has been successfully completed. Responses are grouped in five classes:\",\"popularity\":0.2184,\"modified\":\"2021-08-05T15:52:30.000Z\",\"other_translations\":[{\"title\":\"HTTP response status codes\",\"locale\":\"de\",\"native\":\"Deutsch\"},{\"title\":\"Códigos de estado de respuesta HTTP\",\"locale\":\"es\",\"native\":\"Español\"},{\"title\":\"Codes de réponse HTTP\",\"locale\":\"fr\",\"native\":\"Français\"},{\"title\":\"HTTP レスポンスステータスコード\",\"locale\":\"ja\",\"native\":\"日本語\"},{\"title\":\"HTTP 상태 코드\",\"locale\":\"ko\",\"native\":\"한국어\"},{\"title\":\"Códigos de status de respostas HTTP\",\"locale\":\"pt-BR\",\"native\":\"Português (do\\xa0Brasil)\"},{\"title\":\"Коды ответа HTTP\",\"locale\":\"ru\",\"native\":\"Русский\"},{\"title\":\"HTTP 响应代码\",\"locale\":\"zh-CN\",\"native\":\"中文 (简体)\"},{\"title\":\"HTTP 狀態碼\",\"locale\":\"zh-TW\",\"native\":\"正體中文 (繁體)\"}],\"source\":{\"folder\":\"en-us/web/http/status\",\"github_url\":\"https://github.com/mdn/content/blob/main/files/en-us/web/http/status/index.html\",\"last_commit_url\":\"https://github.com/mdn/content/commit/1b5d81207cee7fc8c41bed8ba9673ef14a82c907\",\"filename\":\"index.html\"},\"parents\":[{\"uri\":\"/en-US/docs/Web\",\"title\":\"Web technology for developers\"},{\"uri\":\"/en-US/docs/Web/HTTP\",\"title\":\"HTTP\"},{\"uri\":\"/en-US/docs/Web/HTTP/Status\",\"title\":\"HTTP response status codes\"}],\"pageTitle\":\"HTTP response status codes - HTTP | MDN\",\"noIndexing\":false}}</script></body></html>'"
            ]
          },
          "metadata": {
            "tags": []
          },
          "execution_count": 15
        }
      ]
    },
    {
      "cell_type": "markdown",
      "metadata": {
        "id": "6b3f7594"
      },
      "source": [
        "Let's create a BeautifoulSoup object that contains several properties and methods for extracting information from the HTML document. You can look up the documentation of BeautifulSoup or search online to find what you need when you need it."
      ],
      "id": "6b3f7594"
    },
    {
      "cell_type": "code",
      "metadata": {
        "id": "f0dcf3ef"
      },
      "source": [
        "doc = BeautifulSoup(html_source, 'html.parser')"
      ],
      "id": "f0dcf3ef",
      "execution_count": null,
      "outputs": []
    },
    {
      "cell_type": "code",
      "metadata": {
        "id": "f7652b30"
      },
      "source": [
        "#Example: Find the title of the page\n",
        "title_tag = doc.title"
      ],
      "id": "f7652b30",
      "execution_count": null,
      "outputs": []
    },
    {
      "cell_type": "code",
      "metadata": {
        "colab": {
          "base_uri": "https://localhost:8080/"
        },
        "id": "63449e09",
        "outputId": "4d5fdaaa-9fd2-4aa6-a16a-4a82d031c408"
      },
      "source": [
        "print(title_tag)"
      ],
      "id": "63449e09",
      "execution_count": null,
      "outputs": [
        {
          "output_type": "stream",
          "text": [
            "<title>HTTP response status codes - HTTP | MDN</title>\n"
          ],
          "name": "stdout"
        }
      ]
    },
    {
      "cell_type": "code",
      "metadata": {
        "colab": {
          "base_uri": "https://localhost:8080/"
        },
        "id": "76c245b2",
        "outputId": "aa76a933-78a8-4993-ffe5-ac52719da235"
      },
      "source": [
        "print(title_tag.text)"
      ],
      "id": "76c245b2",
      "execution_count": null,
      "outputs": [
        {
          "output_type": "stream",
          "text": [
            "HTTP response status codes - HTTP | MDN\n"
          ],
          "name": "stdout"
        }
      ]
    },
    {
      "cell_type": "code",
      "metadata": {
        "colab": {
          "base_uri": "https://localhost:8080/"
        },
        "id": "4008bc3c",
        "outputId": "28708e5f-1f33-45ee-bc19-42cb53a21471"
      },
      "source": [
        "# This helps you identify properties and method of the doc object. We can work with all these methods starting with find\n",
        "dir(doc)"
      ],
      "id": "4008bc3c",
      "execution_count": null,
      "outputs": [
        {
          "output_type": "execute_result",
          "data": {
            "text/plain": [
              "['ASCII_SPACES',\n",
              " 'DEFAULT_BUILDER_FEATURES',\n",
              " 'NO_PARSER_SPECIFIED_WARNING',\n",
              " 'ROOT_TAG_NAME',\n",
              " '__bool__',\n",
              " '__call__',\n",
              " '__class__',\n",
              " '__contains__',\n",
              " '__copy__',\n",
              " '__delattr__',\n",
              " '__delitem__',\n",
              " '__dict__',\n",
              " '__dir__',\n",
              " '__doc__',\n",
              " '__eq__',\n",
              " '__format__',\n",
              " '__ge__',\n",
              " '__getattr__',\n",
              " '__getattribute__',\n",
              " '__getitem__',\n",
              " '__getstate__',\n",
              " '__gt__',\n",
              " '__hash__',\n",
              " '__init__',\n",
              " '__init_subclass__',\n",
              " '__iter__',\n",
              " '__le__',\n",
              " '__len__',\n",
              " '__lt__',\n",
              " '__module__',\n",
              " '__ne__',\n",
              " '__new__',\n",
              " '__reduce__',\n",
              " '__reduce_ex__',\n",
              " '__repr__',\n",
              " '__setattr__',\n",
              " '__setitem__',\n",
              " '__sizeof__',\n",
              " '__str__',\n",
              " '__subclasshook__',\n",
              " '__unicode__',\n",
              " '__weakref__',\n",
              " '_all_strings',\n",
              " '_check_markup_is_url',\n",
              " '_decode_markup',\n",
              " '_feed',\n",
              " '_find_all',\n",
              " '_find_one',\n",
              " '_is_xml',\n",
              " '_lastRecursiveChild',\n",
              " '_last_descendant',\n",
              " '_linkage_fixer',\n",
              " '_most_recent_element',\n",
              " '_namespaces',\n",
              " '_popToTag',\n",
              " '_should_pretty_print',\n",
              " 'append',\n",
              " 'attrs',\n",
              " 'builder',\n",
              " 'can_be_empty_element',\n",
              " 'cdata_list_attributes',\n",
              " 'childGenerator',\n",
              " 'children',\n",
              " 'clear',\n",
              " 'contains_replacement_characters',\n",
              " 'contents',\n",
              " 'currentTag',\n",
              " 'current_data',\n",
              " 'declared_html_encoding',\n",
              " 'decode',\n",
              " 'decode_contents',\n",
              " 'decompose',\n",
              " 'decomposed',\n",
              " 'descendants',\n",
              " 'element_classes',\n",
              " 'encode',\n",
              " 'encode_contents',\n",
              " 'endData',\n",
              " 'extend',\n",
              " 'extract',\n",
              " 'fetchNextSiblings',\n",
              " 'fetchParents',\n",
              " 'fetchPrevious',\n",
              " 'fetchPreviousSiblings',\n",
              " 'find',\n",
              " 'findAll',\n",
              " 'findAllNext',\n",
              " 'findAllPrevious',\n",
              " 'findChild',\n",
              " 'findChildren',\n",
              " 'findNext',\n",
              " 'findNextSibling',\n",
              " 'findNextSiblings',\n",
              " 'findParent',\n",
              " 'findParents',\n",
              " 'findPrevious',\n",
              " 'findPreviousSibling',\n",
              " 'findPreviousSiblings',\n",
              " 'find_all',\n",
              " 'find_all_next',\n",
              " 'find_all_previous',\n",
              " 'find_next',\n",
              " 'find_next_sibling',\n",
              " 'find_next_siblings',\n",
              " 'find_parent',\n",
              " 'find_parents',\n",
              " 'find_previous',\n",
              " 'find_previous_sibling',\n",
              " 'find_previous_siblings',\n",
              " 'format_string',\n",
              " 'formatter_for_name',\n",
              " 'get',\n",
              " 'getText',\n",
              " 'get_attribute_list',\n",
              " 'get_text',\n",
              " 'handle_data',\n",
              " 'handle_endtag',\n",
              " 'handle_starttag',\n",
              " 'has_attr',\n",
              " 'has_key',\n",
              " 'hidden',\n",
              " 'index',\n",
              " 'insert',\n",
              " 'insert_after',\n",
              " 'insert_before',\n",
              " 'isSelfClosing',\n",
              " 'is_empty_element',\n",
              " 'is_xml',\n",
              " 'known_xml',\n",
              " 'markup',\n",
              " 'name',\n",
              " 'namespace',\n",
              " 'new_string',\n",
              " 'new_tag',\n",
              " 'next',\n",
              " 'nextGenerator',\n",
              " 'nextSibling',\n",
              " 'nextSiblingGenerator',\n",
              " 'next_element',\n",
              " 'next_elements',\n",
              " 'next_sibling',\n",
              " 'next_siblings',\n",
              " 'object_was_parsed',\n",
              " 'open_tag_counter',\n",
              " 'original_encoding',\n",
              " 'parent',\n",
              " 'parentGenerator',\n",
              " 'parents',\n",
              " 'parse_only',\n",
              " 'parserClass',\n",
              " 'parser_class',\n",
              " 'popTag',\n",
              " 'prefix',\n",
              " 'preserve_whitespace_tag_stack',\n",
              " 'preserve_whitespace_tags',\n",
              " 'prettify',\n",
              " 'previous',\n",
              " 'previousGenerator',\n",
              " 'previousSibling',\n",
              " 'previousSiblingGenerator',\n",
              " 'previous_element',\n",
              " 'previous_elements',\n",
              " 'previous_sibling',\n",
              " 'previous_siblings',\n",
              " 'pushTag',\n",
              " 'recursiveChildGenerator',\n",
              " 'renderContents',\n",
              " 'replaceWith',\n",
              " 'replaceWithChildren',\n",
              " 'replace_with',\n",
              " 'replace_with_children',\n",
              " 'reset',\n",
              " 'select',\n",
              " 'select_one',\n",
              " 'setup',\n",
              " 'smooth',\n",
              " 'string',\n",
              " 'string_container',\n",
              " 'string_container_stack',\n",
              " 'strings',\n",
              " 'stripped_strings',\n",
              " 'tagStack',\n",
              " 'text',\n",
              " 'unwrap',\n",
              " 'wrap']"
            ]
          },
          "metadata": {
            "tags": []
          },
          "execution_count": 20
        }
      ]
    },
    {
      "cell_type": "code",
      "metadata": {
        "id": "57223073"
      },
      "source": [
        "# Let's define a function that will help us get the tag we want using find\n",
        "def get_tag(doc, tag_name):\n",
        "    '''\n",
        "    Get a tag and it's the content. \n",
        "    :param arg1: the reference for the BeautifulSoup object created\n",
        "    :param arg2: the name of the tag\n",
        "    :type arg1: BeautifulSoup object\n",
        "    :type arg2: str\n",
        "    :return : the tag and it's content\n",
        "    '''\n",
        "    return doc.find(tag_name)\n",
        "    \n",
        "    \n",
        "    "
      ],
      "id": "57223073",
      "execution_count": null,
      "outputs": []
    },
    {
      "cell_type": "code",
      "metadata": {
        "id": "568c598a"
      },
      "source": [
        "# Let's define a function that will help us get the tag we want using find_all\n",
        "def get_groups_of_tag(doc, tag_name):\n",
        "    '''\n",
        "    Get groups of same tag in the page. \n",
        "    :param arg1: the reference for the BeautifulSoup object created\n",
        "    :param arg2: the name of the tag\n",
        "    :type arg1: BeautifulSoup object\n",
        "    :type arg2: str\n",
        "    :return : a list of same tag and their content\n",
        "    '''\n",
        "    return doc.findAll(tag_name)\n",
        "    "
      ],
      "id": "568c598a",
      "execution_count": null,
      "outputs": []
    },
    {
      "cell_type": "code",
      "metadata": {
        "id": "b7b71308"
      },
      "source": [
        "#Example: get the title\n",
        "title_tag = get_tag(doc,'title')"
      ],
      "id": "b7b71308",
      "execution_count": null,
      "outputs": []
    },
    {
      "cell_type": "code",
      "metadata": {
        "id": "b0ddfef8"
      },
      "source": [
        "#Example: get all the links\n",
        "a_tag = get_groups_of_tag(doc,'a')"
      ],
      "id": "b0ddfef8",
      "execution_count": null,
      "outputs": []
    },
    {
      "cell_type": "code",
      "metadata": {
        "colab": {
          "base_uri": "https://localhost:8080/"
        },
        "id": "e6451fdf",
        "outputId": "b0c93722-2c9d-424d-e2a6-d03a2fe732d6"
      },
      "source": [
        "str = 'title'\n",
        "print(title_tag)"
      ],
      "id": "e6451fdf",
      "execution_count": null,
      "outputs": [
        {
          "output_type": "stream",
          "text": [
            "<title>HTTP response status codes - HTTP | MDN</title>\n"
          ],
          "name": "stdout"
        }
      ]
    },
    {
      "cell_type": "code",
      "metadata": {
        "colab": {
          "base_uri": "https://localhost:8080/"
        },
        "id": "ed64b474",
        "outputId": "702cacaf-0c6b-4a90-86dc-82f0138579d0"
      },
      "source": [
        "print(a_tag)"
      ],
      "id": "ed64b474",
      "execution_count": null,
      "outputs": [
        {
          "output_type": "stream",
          "text": [
            "[<a href=\"#content\" id=\"skip-main\">Skip to main content</a>, <a href=\"#main-q\" id=\"skip-search\">Skip to search</a>, <a href=\"#select-language\" id=\"skip-select-language\">Skip to select language</a>, <a aria-label=\"MDN Web Docs\" class=\"logo\" href=\"/en-US/\"><svg viewbox=\"0 0 451.74 135\" xmlns=\"http://www.w3.org/2000/svg\"><path d=\"M7.14 8.35v111.06h111.05V8.35zm103.71 56c-.48.92-1 1.79-1.46 2.71a3.44 3.44 0 01-3.54 2 2.4 2.4 0 00-1.55.5c-1.37.9-2.76 1.79-4.18 2.63a7.33 7.33 0 01-6.35.34 29.71 29.71 0 00-10.63-2 11.7 11.7 0 00-9.46 4.31 14.84 14.84 0 00-2.13 4.29c-1.24 3.07-2.3 21.38-2.3 26.05 0 0-17.62-3.42-34.15-20.34l4.31-11.32h-13.5l9.76-10.35h-16.8l9.77-10.34H12.69L30.45 34a40.9 40.9 0 0119.77-10.83c7.1-1.22 8.93-.53 13.31.77l2.43.73.85.25 3.1.95a12.56 12.56 0 006.21.09 11.37 11.37 0 018.25 1 8.24 8.24 0 014.1 6.22 7.29 7.29 0 003.61 5.49 59.45 59.45 0 009.32 4.11c2.27.86 4.54 1.84 6.79 2.72a6.81 6.81 0 012.86 2.06 4.81 4.81 0 011.1 2.73c.14 2 .37 4 .47 6a15.24 15.24 0 01-1.77 8.03zM320.12 39.62a5.42 5.42 0 00-4.53 2.13 7.36 7.36 0 00-1.7 4.43v2.36a6.28 6.28 0 001.7 4.46 5.63 5.63 0 004.3 1.82 5.12 5.12 0 004.57-2.27A9.7 9.7 0 00326 47a8.11 8.11 0 00-1.67-5.52 5.36 5.36 0 00-4.21-1.86zM387.38 39.53a5.52 5.52 0 00-4.7 2.15 8.8 8.8 0 00-1.63 5.49 9.23 9.23 0 001.58 5.45 5.38 5.38 0 004.7 2.25 5.61 5.61 0 004.74-2.2 8.91 8.91 0 001.68-5.59 8.24 8.24 0 00-1.75-5.52 5.76 5.76 0 00-4.62-2.03zM299.47 41.35a4.34 4.34 0 00-4-1.92 4.55 4.55 0 00-3.89 1.73 8.37 8.37 0 00-1.58 4.17h10.48a6.3 6.3 0 00-1.01-3.98zM357.74 30.75H352v23.31h5.72q5.47 0 8.35-3t2.93-8.65q0-5.43-2.88-8.55t-8.38-3.11z\"></path><path d=\"M121.55 8.35v70.8h323V8.35zm42.21 22.45h-4V54h3.68v3.73h-11.25V54h3.31V36.79h-.19l-9.63 19.12h-2.12l-10-19.4h-.19V54h3.45v3.73h-11.15V54h3.68V30.8h-4v-3.73H133l11.66 22.56h.19l11.18-22.56h7.7zm29.12 22.67q-4.11 4.28-11.38 4.28h-14.06v-3.69h3.73V30.75h-3.73v-3.68h13.83q7.59 0 11.66 4.29a15.4 15.4 0 014 11 15.33 15.33 0 01-4.05 11.11zm38.89-22.67h-3.68v27h-2.6L208.08 35h-.19v19h4.67v3.73h-12.22V54h3.49V30.8h-4v-3.73h7.08l16.9 22.09h.19V30.8h-4.58v-3.73h12.32zm43.8 27h-3.31l-7.83-23.18h-.19l-7.55 23.18h-3.35l-8.78-27h-2.65v-3.73H253v3.73h-3.87L255 50.71h.23l6.61-19.91H259v-3.73h11v3.73h-2.78l6.61 20.1h.23l5.43-20.1h-4.15v-3.73h11v3.73h-2.54zm26.71-1.51a9.66 9.66 0 01-6.42 2 10.2 10.2 0 01-7.41-2.74c-1.89-1.82-2.83-4.47-2.83-7.93a12.37 12.37 0 012.64-8.12 9 9 0 017.32-3.21 8.62 8.62 0 016.75 2.69 9.65 9.65 0 012.45 6.52 13.67 13.67 0 01-.28 2.69H290q.29 6.71 6.18 6.7a5.2 5.2 0 003.71-1.18 5.82 5.82 0 001.67-2.83l3.45.71a7.21 7.21 0 01-2.73 4.65zm25.77-1.63c-1.51 2.4-3.92 3.61-7.22 3.61s-5.84-1.29-7.22-3.87c0 .25-.1.82-.21 1.7s-.19 1.44-.22 1.7H309c.16-1 .31-2 .47-3.07a21.42 21.42 0 00.24-3.16v-23h-3.4v-3.3h7.55V40.9a9.76 9.76 0 012.67-3.28 7.33 7.33 0 014.74-1.4 8.48 8.48 0 016.5 2.78q2.55 2.74 2.55 7.74a14.6 14.6 0 01-2.27 7.87zm41.39-1.14q-4.11 4.28-11.37 4.28H344v-3.74h3.73V30.75H344v-3.68h13.83q7.59 0 11.66 4.29a15.41 15.41 0 014.06 11 15.34 15.34 0 01-4.11 11.11zm25.65 1.68a10.53 10.53 0 01-7.9 3.07 10 10 0 01-7.63-3 10.93 10.93 0 01-2.8-7.83 12.13 12.13 0 012.69-7.93q2.69-3.3 8-3.3t8 3.28a12 12 0 012.64 7.76 10.86 10.86 0 01-3 7.9zm22.61.57c-1.4 1.66-3.63 2.5-6.68 2.5a9.58 9.58 0 01-7.15-2.76q-2.72-2.76-2.71-7.91a12.25 12.25 0 012.69-8 9.17 9.17 0 017.5-3.28 15 15 0 013.82.48 10.37 10.37 0 013.5 1.65l.85 5.47-3.35.38-.76-3.54a8.07 8.07 0 00-4.11-1 4.9 4.9 0 00-4.39 2.15 9.93 9.93 0 00-1.41 5.55 8.9 8.9 0 001.5 5.38 5.23 5.23 0 004.44 2c2.92 0 4.67-1.7 5.23-5.1l3.5.71a10.34 10.34 0 01-2.47 5.27zm20.48.75a11.68 11.68 0 01-6.63 1.75 15.52 15.52 0 01-8.26-2.08L424 51l3.26.33-.1 2.74a7 7 0 002.06.66 12.63 12.63 0 002.19.19 8.68 8.68 0 003.66-.75 2.5 2.5 0 001.63-2.36 2.25 2.25 0 00-1.32-2.2 12.65 12.65 0 00-3.28-1 47.39 47.39 0 01-3.9-.82 7.5 7.5 0 01-3.25-1.7 4.67 4.67 0 01-1.33-3.66c0-2.36.88-4 2.62-4.91a12 12 0 015.6-1.37 15 15 0 014.08.55 16.65 16.65 0 013.47 1.39l.47 5.1-3.3.37-.48-3.3a9.5 9.5 0 00-4.06-.9 5.62 5.62 0 00-2.87.66 2.33 2.33 0 00-1.15 2.25 2.13 2.13 0 001.3 2.07 11.91 11.91 0 003.21.92 36.69 36.69 0 013.82.83 7.46 7.46 0 013.21 1.74 4.9 4.9 0 011.3 3.73 5.56 5.56 0 01-2.66 4.91z\"></path><path d=\"M181.17 30.75h-5.71v23.31h5.71q5.47 0 8.36-3t2.88-8.61q0-5.43-2.88-8.55t-8.36-3.15zM121.63 119.32V81.74h114.91v37.58zM153.22 109h-2v-6.85a4.8 4.8 0 00-1.58-4 5.57 5.57 0 00-3.55-1.26 5 5 0 00-4.92 3.26 4.19 4.19 0 00-1.88-2.46 5.82 5.82 0 00-3-.8 4.89 4.89 0 00-4.56 2.56v-2.21h-6.28v3.26h2v8.5h-2v3.23h9.11V109h-2.86v-5.25a4.4 4.4 0 01.69-2.56 2.47 2.47 0 012.21-1q2.57 0 2.56 3.63v8.41h6.29V109h-2v-5.25a4.47 4.47 0 01.67-2.56 2.42 2.42 0 012.19-1q2.63 0 2.63 3.63v8.41h6.28zm9.88-12.07q-4 0-6 2.36a8.41 8.41 0 00-2 5.66 7.25 7.25 0 002.17 5.62 8 8 0 005.65 2 8.54 8.54 0 005.94-2.11 7.27 7.27 0 002.34-5.67 8.21 8.21 0 00-2-5.51q-2.07-2.34-6.1-2.34zm-.1 12.35a3 3 0 01-2.63-1.33 5.68 5.68 0 01-.9-3.26 5 5 0 011-3.28 3.23 3.23 0 012.61-1.18 3.5 3.5 0 012.59 1.08 4.56 4.56 0 011.07 3.31 5.21 5.21 0 01-1 3.41 3.33 3.33 0 01-2.74 1.25zm25-2.3l-3.39-.29-.7 2.32H179l8.32-9.54-.32-2.23h-13.19l-.53 5.25 3.16.34.67-2.36h4.65l-8.25 9.53.44 2.26h13.13zm7.62-9.74h-4.46v5.39h4.46zm0 9.61h-4.46v5.39h4.46zm13.54-17.49h-4.23l-6.48 22.88h4.22zm8.68 0h-4.23l-6.45 22.88h4.19zm15 22.51l-.07-2.26a1.22 1.22 0 01-.56.1c-.69 0-1-.39-1-1.16v-6.49a4.39 4.39 0 00-1.8-3.84 7 7 0 00-4.16-1.28 14.55 14.55 0 00-3.16.3 24.14 24.14 0 00-3.29 1.06l-.56 3.46 3.39.4.5-1.69a2.78 2.78 0 011.08-.37 11.3 11.3 0 011.25-.07c1.19 0 1.89.37 2.09 1.1a8.55 8.55 0 01.3 2.26v.5a8.91 8.91 0 00-1.18-.11h-1.21a12.64 12.64 0 00-4.81.88 3.53 3.53 0 00-2.18 3.64 3.66 3.66 0 001.48 3.33 5.63 5.63 0 003.11 1 4.67 4.67 0 003-.91 6.78 6.78 0 001.8-2 3 3 0 003.33 3 5.54 5.54 0 002.66-.85zm-9.25-2.32a1.69 1.69 0 01-1.36-.52 1.81 1.81 0 01-.43-1.21 1.67 1.67 0 01.86-1.68 4.63 4.63 0 012-.42 7.69 7.69 0 011.07.07l1.06.13a3.58 3.58 0 01-1.08 2.74 3.24 3.24 0 01-2.11.89z\"></path></svg></a>, <a href=\"/en-US/docs/Web\" role=\"menuitem\" tabindex=\"-1\">Technologies Overview</a>, <a href=\"/en-US/docs/Web/HTML\" role=\"menuitem\" tabindex=\"-1\">HTML</a>, <a href=\"/en-US/docs/Web/CSS\" role=\"menuitem\" tabindex=\"-1\">CSS</a>, <a href=\"/en-US/docs/Web/JavaScript\" role=\"menuitem\" tabindex=\"-1\">JavaScript</a>, <a href=\"/en-US/docs/Web/Guide/Graphics\" role=\"menuitem\" tabindex=\"-1\">Graphics</a>, <a href=\"/en-US/docs/Web/HTTP\" role=\"menuitem\" tabindex=\"-1\">HTTP</a>, <a href=\"/en-US/docs/Web/API\" role=\"menuitem\" tabindex=\"-1\">APIs</a>, <a href=\"/en-US/docs/Mozilla/Add-ons/WebExtensions\" role=\"menuitem\" tabindex=\"-1\">Browser Extensions</a>, <a href=\"/en-US/docs/Web/MathML\" role=\"menuitem\" tabindex=\"-1\">MathML</a>, <a href=\"/en-US/docs/Learn\" role=\"menuitem\" tabindex=\"-1\">Learn web development</a>, <a href=\"/en-US/docs/Web/Tutorials\" role=\"menuitem\" tabindex=\"-1\">Tutorials</a>, <a href=\"/en-US/docs/Web/Reference\" role=\"menuitem\" tabindex=\"-1\">References</a>, <a href=\"/en-US/docs/Web/Guide\" role=\"menuitem\" tabindex=\"-1\">Developer Guides</a>, <a href=\"/en-US/docs/Web/Accessibility\" role=\"menuitem\" tabindex=\"-1\">Accessibility</a>, <a href=\"/en-US/docs/Games\" role=\"menuitem\" tabindex=\"-1\">Game development</a>, <a href=\"/en-US/docs/Web\" role=\"menuitem\" tabindex=\"-1\">...more docs</a>, <a href=\"/en-US/docs/MDN/Contribute/Feedback\" role=\"menuitem\" tabindex=\"-1\">Send Feedback</a>, <a href=\"/en-US/docs/MDN/Contribute\" role=\"menuitem\" tabindex=\"-1\">Contribute to MDN</a>, <a href=\"https://github.com/mdn/content/issues/new\" rel=\"noopener noreferrer\" role=\"menuitem\" tabindex=\"-1\" target=\"_blank\">Report a content issue<!-- --> 🌐</a>, <a href=\"https://github.com/mdn/yari/issues/new\" rel=\"noopener noreferrer\" role=\"menuitem\" tabindex=\"-1\" target=\"_blank\">Report a platform issue<!-- --> 🌐</a>, <a class=\"breadcrumb\" href=\"/en-US/docs/Web\" property=\"item\" typeof=\"WebPage\"><span property=\"name\">Web technology for developers</span></a>, <a class=\"breadcrumb-penultimate\" href=\"/en-US/docs/Web/HTTP\" property=\"item\" typeof=\"WebPage\"><span property=\"name\">HTTP</span></a>, <a class=\"breadcrumb-current-page\" href=\"/en-US/docs/Web/HTTP/Status\" property=\"item\" typeof=\"WebPage\"><span property=\"name\">HTTP response status codes</span></a>, <a class=\"language-icon\" href=\"#select-language\"><span class=\"show-desktop\">Change language</span></a>, <a href=\"#information_responses\">Information responses</a>, <a href=\"#successful_responses\">Successful responses</a>, <a href=\"#redirection_messages\">Redirection messages</a>, <a href=\"#client_error_responses\">Client error responses</a>, <a href=\"#server_error_responses\">Server error responses</a>, <a href=\"#browser_compatibility\">Browser compatibility</a>, <a href=\"#see_also\">See also</a>, <a href=\"/en-US/docs/Web/HTTP\">HTTP</a>, <a href=\"#information_responses\">Informational responses</a>, <a href=\"#successful_responses\">Successful responses</a>, <a href=\"#redirection_messages\">Redirects</a>, <a href=\"#client_error_responses\">Client errors</a>, <a href=\"#server_error_responses\">Server errors</a>, <a class=\"external\" href=\"https://datatracker.ietf.org/doc/html/rfc2616#section-10\" rel=\"noopener\">section 10 of RFC 2616</a>, <a class=\"external\" href=\"https://datatracker.ietf.org/doc/html/rfc7231#section-6.5.1\" rel=\"noopener\">RFC 7231</a>, <a href=\"#information_responses\" title=\"Permalink to Information responses\">Information responses</a>, <a href=\"/en-US/docs/Web/HTTP/Status/100\"><code>100 Continue</code></a>, <a href=\"/en-US/docs/Web/HTTP/Status/101\"><code>101 Switching Protocol</code></a>, <a href=\"/en-US/docs/Web/HTTP/Headers/Upgrade\"><code>Upgrade</code></a>, <a class=\"page-not-created\" href=\"/en-US/docs/Web/HTTP/Status/102\" title=\"This is a link to an unwritten page\"><code>102 Processing</code></a>, <a href=\"/en-US/docs/Glossary/WebDAV\">WebDAV</a>, <a href=\"/en-US/docs/Web/HTTP/Status/103\"><code>103 Early Hints</code></a>, <a href=\"/en-US/docs/Web/HTTP/Headers/Link\"><code>Link</code></a>, <a href=\"/en-US/docs/Web/HTML/Link_types/preload\">preloading</a>, <a href=\"#successful_responses\" title=\"Permalink to Successful responses\">Successful responses</a>, <a href=\"/en-US/docs/Web/HTTP/Status/200\"><code>200 OK</code></a>, <a href=\"/en-US/docs/Web/HTTP/Status/201\"><code>201 Created</code></a>, <a href=\"/en-US/docs/Web/HTTP/Status/202\"><code>202 Accepted</code></a>, <a href=\"/en-US/docs/Web/HTTP/Status/203\"><code>203 Non-Authoritative Information</code></a>, <a href=\"/en-US/docs/Web/HTTP/Status/204\"><code>204 No Content</code></a>, <a href=\"/en-US/docs/Web/HTTP/Status/205\"><code>205 Reset Content</code></a>, <a href=\"/en-US/docs/Web/HTTP/Status/206\"><code>206 Partial Content</code></a>, <a href=\"/en-US/docs/Web/HTTP/Headers/Range\"><code>Range</code></a>, <a class=\"page-not-created\" href=\"/en-US/docs/Web/HTTP/Status/207\" title=\"This is a link to an unwritten page\"><code>207 Multi-Status</code></a>, <a href=\"/en-US/docs/Glossary/WebDAV\">WebDAV</a>, <a class=\"page-not-created\" href=\"/en-US/docs/Web/HTTP/Status/208\" title=\"This is a link to an unwritten page\"><code>208 Already Reported</code></a>, <a href=\"/en-US/docs/Glossary/WebDAV\">WebDAV</a>, <a class=\"page-not-created\" href=\"/en-US/docs/Web/HTTP/Status/226\" title=\"This is a link to an unwritten page\"><code>226 IM Used</code></a>, <a class=\"external\" href=\"https://datatracker.ietf.org/doc/html/rfc3229\" rel=\"noopener\">HTTP Delta encoding</a>, <a href=\"#redirection_messages\" title=\"Permalink to Redirection messages\">Redirection messages</a>, <a href=\"/en-US/docs/Web/HTTP/Status/300\"><code>300 Multiple Choice</code></a>, <a href=\"/en-US/docs/Web/HTTP/Status/301\"><code>301 Moved Permanently</code></a>, <a href=\"/en-US/docs/Web/HTTP/Status/302\"><code>302 Found</code></a>, <a href=\"/en-US/docs/Web/HTTP/Status/303\"><code>303 See Other</code></a>, <a href=\"/en-US/docs/Web/HTTP/Status/304\"><code>304 Not Modified</code></a>, <a href=\"/en-US/docs/Web/HTTP/Status/307\"><code>307 Temporary Redirect</code></a>, <a href=\"/en-US/docs/Web/HTTP/Status/308\"><code>308 Permanent Redirect</code></a>, <a href=\"#client_error_responses\" title=\"Permalink to Client error responses\">Client error responses</a>, <a href=\"/en-US/docs/Web/HTTP/Status/400\"><code>400 Bad Request</code></a>, <a href=\"/en-US/docs/Web/HTTP/Status/401\"><code>401 Unauthorized</code></a>, <a href=\"/en-US/docs/Web/HTTP/Status/402\"><code>402 Payment Required</code></a>, <a href=\"/en-US/docs/Web/HTTP/Status/403\"><code>403 Forbidden</code></a>, <a href=\"/en-US/docs/Web/HTTP/Status/404\"><code>404 Not Found</code></a>, <a href=\"/en-US/docs/Web/HTTP/Status/405\"><code>405 Method Not Allowed</code></a>, <a href=\"/en-US/docs/Web/HTTP/Status/406\"><code>406 Not Acceptable</code></a>, <a href=\"/en-US/docs/Web/HTTP/Content_negotiation#server-driven_negotiation\">server-driven content negotiation</a>, <a href=\"/en-US/docs/Web/HTTP/Status/407\"><code>407 Proxy Authentication Required</code></a>, <a href=\"/en-US/docs/Web/HTTP/Status/408\"><code>408 Request Timeout</code></a>, <a href=\"/en-US/docs/Web/HTTP/Status/409\"><code>409 Conflict</code></a>, <a href=\"/en-US/docs/Web/HTTP/Status/410\"><code>410 Gone</code></a>, <a href=\"/en-US/docs/Web/HTTP/Status/411\"><code>411 Length Required</code></a>, <a href=\"/en-US/docs/Web/HTTP/Status/412\"><code>412 Precondition Failed</code></a>, <a href=\"/en-US/docs/Web/HTTP/Status/413\"><code>413 Payload Too Large</code></a>, <a href=\"/en-US/docs/Web/HTTP/Status/414\"><code>414 URI Too Long</code></a>, <a href=\"/en-US/docs/Web/HTTP/Status/415\"><code>415 Unsupported Media Type</code></a>, <a href=\"/en-US/docs/Web/HTTP/Status/416\"><code>416 Range Not Satisfiable</code></a>, <a href=\"/en-US/docs/Web/HTTP/Status/417\"><code>417 Expectation Failed</code></a>, <a href=\"/en-US/docs/Web/HTTP/Status/418\"><code>418 I'm a teapot</code></a>, <a class=\"page-not-created\" href=\"/en-US/docs/Web/HTTP/Status/421\" title=\"This is a link to an unwritten page\"><code>421 Misdirected Request</code></a>, <a href=\"/en-US/docs/Web/HTTP/Status/422\"><code>422 Unprocessable Entity</code></a>, <a href=\"/en-US/docs/Glossary/WebDAV\">WebDAV</a>, <a class=\"page-not-created\" href=\"/en-US/docs/Web/HTTP/Status/423\" title=\"This is a link to an unwritten page\"><code>423 Locked</code></a>, <a href=\"/en-US/docs/Glossary/WebDAV\">WebDAV</a>, <a class=\"page-not-created\" href=\"/en-US/docs/Web/HTTP/Status/424\" title=\"This is a link to an unwritten page\"><code>424 Failed Dependency</code></a>, <a href=\"/en-US/docs/Glossary/WebDAV\">WebDAV</a>, <a href=\"/en-US/docs/Web/HTTP/Status/425\"><code>425 Too Early</code></a>, <a href=\"/en-US/docs/Web/HTTP/Status/426\"><code>426 Upgrade Required</code></a>, <a href=\"/en-US/docs/Web/HTTP/Headers/Upgrade\"><code>Upgrade</code></a>, <a href=\"/en-US/docs/Web/HTTP/Status/428\"><code>428 Precondition Required</code></a>, <a href=\"/en-US/docs/Web/HTTP/Status/429\"><code>429 Too Many Requests</code></a>, <a href=\"/en-US/docs/Web/HTTP/Status/431\"><code>431 Request Header Fields Too Large</code></a>, <a href=\"/en-US/docs/Web/HTTP/Status/451\"><code>451 Unavailable For Legal Reasons</code></a>, <a href=\"#server_error_responses\" title=\"Permalink to Server error responses\">Server error responses</a>, <a href=\"/en-US/docs/Web/HTTP/Status/500\"><code>500 Internal Server Error</code></a>, <a href=\"/en-US/docs/Web/HTTP/Status/501\"><code>501 Not Implemented</code></a>, <a href=\"/en-US/docs/Web/HTTP/Status/502\"><code>502 Bad Gateway</code></a>, <a href=\"/en-US/docs/Web/HTTP/Status/503\"><code>503 Service Unavailable</code></a>, <a href=\"/en-US/docs/Web/HTTP/Status/504\"><code>504 Gateway Timeout</code></a>, <a href=\"/en-US/docs/Web/HTTP/Status/505\"><code>505 HTTP Version Not Supported</code></a>, <a href=\"/en-US/docs/Web/HTTP/Status/506\"><code>506 Variant Also Negotiates</code></a>, <a href=\"/en-US/docs/Web/HTTP/Status/507\"><code>507 Insufficient Storage</code></a>, <a href=\"/en-US/docs/Glossary/WebDAV\">WebDAV</a>, <a href=\"/en-US/docs/Web/HTTP/Status/508\"><code>508 Loop Detected</code></a>, <a href=\"/en-US/docs/Glossary/WebDAV\">WebDAV</a>, <a href=\"/en-US/docs/Web/HTTP/Status/510\"><code>510 Not Extended</code></a>, <a href=\"/en-US/docs/Web/HTTP/Status/511\"><code>511 Network Authentication Required</code></a>, <a href=\"#browser_compatibility\" title=\"Permalink to Browser compatibility\">Browser compatibility</a>, <a href=\"#see_also\" title=\"Permalink to See also\">See also</a>, <a class=\"external\" href=\"https://en.wikipedia.org/wiki/List_of_HTTP_status_codes\" rel=\"noopener\">List of HTTP status codes on Wikipedia</a>, <a class=\"external\" href=\"https://www.iana.org/assignments/http-status-codes/http-status-codes.xhtml\" rel=\"noopener\">IANA official registry of HTTP status codes </a>, <a href=\"https://github.com/mdn/content/edit/main/files/en-us/web/http/status/index.html\" rel=\"noopener noreferrer\" target=\"_blank\" title=\"You're going to need to sign in to GitHub first (Opens in a new tab)\">Edit on <b>GitHub</b></a>, <a href=\"https://github.com/mdn/content/blob/main/files/en-us/web/http/status/index.html\" rel=\"noopener noreferrer\" target=\"_blank\" title=\"Folder: en-us/web/http/status (Opens in a new tab)\">Source on <b>GitHub</b></a>, <a href=\"https://github.com/mdn/content/issues/new?body=MDN+URL%3A+https%3A%2F%2Fdeveloper.mozilla.org%2Fen-US%2Fdocs%2FWeb%2FHTTP%2FStatus%0A%0A%23%23%23%23+What+information+was+incorrect%2C+unhelpful%2C+or+incomplete%3F%0A%0A%0A%23%23%23%23+Specific+section+or+headline%3F%0A%0A%0A%23%23%23%23+What+did+you+expect+to+see%3F%0A%0A%0A%23%23%23%23+Did+you+test+this%3F+If+so%2C+how%3F%0A%0A%0A%3C%21--+Do+not+make+changes+below+this+line+--%3E%0A%3Cdetails%3E%0A%3Csummary%3EMDN+Content+page+report+details%3C%2Fsummary%3E%0A%0A*+Folder%3A+%60en-us%2Fweb%2Fhttp%2Fstatus%60%0A*+MDN+URL%3A+https%3A%2F%2Fdeveloper.mozilla.org%2Fen-US%2Fdocs%2FWeb%2FHTTP%2FStatus%0A*+GitHub+URL%3A+https%3A%2F%2Fgithub.com%2Fmdn%2Fcontent%2Fblob%2Fmain%2Ffiles%2Fen-us%2Fweb%2Fhttp%2Fstatus%2Findex.html%0A*+Last+commit%3A+https%3A%2F%2Fgithub.com%2Fmdn%2Fcontent%2Fcommit%2F1b5d81207cee7fc8c41bed8ba9673ef14a82c907%0A*+Document+last+modified%3A+2021-08-05T15%3A52%3A30.000Z%0A%0A%3C%2Fdetails%3E&amp;title=Issue+with+%22HTTP+response+status+codes%22%3A+%28short+summary+here+please%29&amp;labels=needs-triage%2CContent%3AHTTP\" rel=\"noopener noreferrer\" target=\"_blank\" title=\"This will take you to https://github.com/mdn/content to file a new issue\">Report a problem with this content on <b>GitHub</b></a>, <a href=\"https://github.com/mdn/content/blob/main/README.md\" rel=\"noopener noreferrer\" target=\"_blank\">our Contribution guide</a>, <a href=\"/en-US/docs/Web/HTTP/Status/contributors.txt\">by MDN contributors</a>, <a href=\"/en-US/docs/Web/HTTP\"><strong><em>HTTP</em></strong></a>, <a href=\"/en-US/docs/Web/HTTP/Basics_of_HTTP/Identifying_resources_on_the_Web\">Identifying resources on the Web</a>, <a href=\"/en-US/docs/Web/HTTP/Basics_of_HTTP/Data_URIs\">Data URIs</a>, <a href=\"/en-US/docs/Web/HTTP/Basics_of_HTTP/MIME_Types\">Introduction to MIME types</a>, <a href=\"/en-US/docs/Web/HTTP/Basics_of_HTTP/MIME_types/Common_types\">Common MIME types</a>, <a href=\"/en-US/docs/Web/HTTP/Basics_of_HTTP/Choosing_between_www_and_non-www_URLs\">Choosing between www and non-www URLs</a>, <a href=\"/en-US/docs/Web/HTTP/Basics_of_HTTP\">Basics of HTTP</a>, <a href=\"/en-US/docs/Web/HTTP/Overview\">Overview of HTTP</a>, <a href=\"/en-US/docs/Web/HTTP/Basics_of_HTTP/Evolution_of_HTTP\">Evolution of HTTP</a>, <a href=\"/en-US/docs/Web/HTTP/Messages\">HTTP Messages</a>, <a href=\"/en-US/docs/Web/HTTP/Session\">A typical HTTP session</a>, <a href=\"/en-US/docs/Web/HTTP/Connection_management_in_HTTP_1.x\">Connection management in HTTP/1.x</a>, <a href=\"/en-US/docs/Web/HTTP/Protocol_upgrade_mechanism\">Protocol upgrade mechanism</a>, <a href=\"/en-US/docs/Web/HTTP/CSP\">Content Security Policy (CSP)</a>, <a href=\"/en-US/docs/Web/HTTP/Public_Key_Pinning\">HTTP Public Key Pinning (HPKP)</a>, <a href=\"/en-US/docs/Web/HTTP/Headers/Strict-Transport-Security\">HTTP Strict Transport Security (HSTS)</a>, <a href=\"/en-US/docs/Web/HTTP/Cookies#Secure_and_HttpOnly_cookies\">Cookie security</a>, <a href=\"/en-US/docs/Web/HTTP/Headers/X-Content-Type-Options\">X-Content-Type-Options</a>, <a href=\"/en-US/docs/Web/HTTP/Headers/X-Frame-Options\">X-Frame-Options</a>, <a href=\"/en-US/docs/Web/HTTP/Headers/X-XSS-Protection\">X-XSS-Protection</a>, <a href=\"https://wiki.mozilla.org/Security/Guidelines/Web_Security\">Mozilla web security guidelines</a>, <a href=\"https://observatory.mozilla.org/\">Mozilla Observatory</a>, <a href=\"/en-US/docs/Web/HTTP/CORS\">HTTP access control (CORS)</a>, <a href=\"/en-US/docs/Web/HTTP/Authentication\">HTTP authentication</a>, <a href=\"/en-US/docs/Web/HTTP/Caching\">HTTP caching</a>, <a href=\"/en-US/docs/Web/HTTP/Compression\">HTTP compression</a>, <a href=\"/en-US/docs/Web/HTTP/Conditional_requests\">HTTP conditional requests</a>, <a href=\"/en-US/docs/Web/HTTP/Content_negotiation\">HTTP content negotiation</a>, <a href=\"/en-US/docs/Web/HTTP/Cookies\">HTTP cookies</a>, <a href=\"/en-US/docs/Web/HTTP/Range_requests\">HTTP range requests</a>, <a href=\"/en-US/docs/Web/HTTP/Redirections\">HTTP redirects</a>, <a href=\"/en-US/docs/Web/HTTP/Resources_and_specifications\">HTTP specifications</a>, <a href=\"/en-US/docs/Web/HTTP/Feature_Policy\">Feature policy</a>, <a href=\"/en-US/docs/Web/HTTP/Headers/Accept-CH-Lifetime\"><code>Accept-CH-Lifetime</code></a>, <a href=\"/en-US/docs/Web/HTTP/Headers/Accept-CH\"><code>Accept-CH</code></a>, <a href=\"/en-US/docs/Web/HTTP/Headers/Accept-Charset\"><code>Accept-Charset</code></a>, <a href=\"/en-US/docs/Web/HTTP/Headers/Accept-Encoding\"><code>Accept-Encoding</code></a>, <a href=\"/en-US/docs/Web/HTTP/Headers/Accept-Language\"><code>Accept-Language</code></a>, <a href=\"/en-US/docs/Web/HTTP/Headers/Accept-Patch\"><code>Accept-Patch</code></a>, <a href=\"/en-US/docs/Web/HTTP/Headers/Accept-Post\"><code>Accept-Post</code></a>, <a href=\"/en-US/docs/Web/HTTP/Headers/Accept-Ranges\"><code>Accept-Ranges</code></a>, <a href=\"/en-US/docs/Web/HTTP/Headers/Accept\"><code>Accept</code></a>, <a href=\"/en-US/docs/Web/HTTP/Headers/Access-Control-Allow-Credentials\"><code>Access-Control-Allow-Credentials</code></a>, <a href=\"/en-US/docs/Web/HTTP/Headers/Access-Control-Allow-Headers\"><code>Access-Control-Allow-Headers</code></a>, <a href=\"/en-US/docs/Web/HTTP/Headers/Access-Control-Allow-Methods\"><code>Access-Control-Allow-Methods</code></a>, <a href=\"/en-US/docs/Web/HTTP/Headers/Access-Control-Allow-Origin\"><code>Access-Control-Allow-Origin</code></a>, <a href=\"/en-US/docs/Web/HTTP/Headers/Access-Control-Expose-Headers\"><code>Access-Control-Expose-Headers</code></a>, <a href=\"/en-US/docs/Web/HTTP/Headers/Access-Control-Max-Age\"><code>Access-Control-Max-Age</code></a>, <a href=\"/en-US/docs/Web/HTTP/Headers/Access-Control-Request-Headers\"><code>Access-Control-Request-Headers</code></a>, <a href=\"/en-US/docs/Web/HTTP/Headers/Access-Control-Request-Method\"><code>Access-Control-Request-Method</code></a>, <a href=\"/en-US/docs/Web/HTTP/Headers/Age\"><code>Age</code></a>, <a href=\"/en-US/docs/Web/HTTP/Headers/Allow\"><code>Allow</code></a>, <a href=\"/en-US/docs/Web/HTTP/Headers/Alt-Svc\"><code>Alt-Svc</code></a>, <a href=\"/en-US/docs/Web/HTTP/Headers/Authorization\"><code>Authorization</code></a>, <a href=\"/en-US/docs/Web/HTTP/Headers/Cache-Control\"><code>Cache-Control</code></a>, <a href=\"/en-US/docs/Web/HTTP/Headers/Clear-Site-Data\"><code>Clear-Site-Data</code></a>, <a href=\"/en-US/docs/Web/HTTP/Headers/Connection\"><code>Connection</code></a>, <a href=\"/en-US/docs/Web/HTTP/Headers/Content-Disposition\"><code>Content-Disposition</code></a>, <a href=\"/en-US/docs/Web/HTTP/Headers/Content-DPR\"><code>Content-DPR</code></a>, <a href=\"/en-US/docs/Web/HTTP/Headers/Content-Encoding\"><code>Content-Encoding</code></a>, <a href=\"/en-US/docs/Web/HTTP/Headers/Content-Language\"><code>Content-Language</code></a>, <a href=\"/en-US/docs/Web/HTTP/Headers/Content-Length\"><code>Content-Length</code></a>, <a href=\"/en-US/docs/Web/HTTP/Headers/Content-Location\"><code>Content-Location</code></a>, <a href=\"/en-US/docs/Web/HTTP/Headers/Content-Range\"><code>Content-Range</code></a>, <a href=\"/en-US/docs/Web/HTTP/Headers/Content-Security-Policy-Report-Only\"><code>Content-Security-Policy-Report-Only</code></a>, <a href=\"/en-US/docs/Web/HTTP/Headers/Content-Security-Policy\"><code>Content-Security-Policy</code></a>, <a href=\"/en-US/docs/Web/HTTP/Headers/Content-Type\"><code>Content-Type</code></a>, <a href=\"/en-US/docs/Web/HTTP/Headers/Cookie\"><code>Cookie</code></a>, <a href=\"/en-US/docs/Web/HTTP/Headers/Cookie2\"><code>Cookie2</code></a>, <a href=\"/en-US/docs/Web/HTTP/Headers/Cross-Origin-Embedder-Policy\"><code>Cross-Origin-Embedder-Policy</code></a>, <a href=\"/en-US/docs/Web/HTTP/Headers/Cross-Origin-Opener-Policy\"><code>Cross-Origin-Opener-Policy</code></a>, <a href=\"/en-US/docs/Web/HTTP/Headers/Cross-Origin-Resource-Policy\"><code>Cross-Origin-Resource-Policy</code></a>, <a href=\"/en-US/docs/Web/HTTP/Headers/Date\"><code>Date</code></a>, <a href=\"/en-US/docs/Web/HTTP/Headers/Device-Memory\"><code>Device-Memory</code></a>, <a href=\"/en-US/docs/Web/HTTP/Headers/Digest\"><code>Digest</code></a>, <a href=\"/en-US/docs/Web/HTTP/Headers/DNT\"><code>DNT</code></a>, <a href=\"/en-US/docs/Web/HTTP/Headers/Downlink\"><code>Downlink</code></a>, <a href=\"/en-US/docs/Web/HTTP/Headers/DPR\"><code>DPR</code></a>, <a href=\"/en-US/docs/Web/HTTP/Headers/Early-Data\"><code>Early-Data</code></a>, <a href=\"/en-US/docs/Web/HTTP/Headers/ECT\"><code>ECT</code></a>, <a href=\"/en-US/docs/Web/HTTP/Headers/ETag\"><code>ETag</code></a>, <a href=\"/en-US/docs/Web/HTTP/Headers/Expect-CT\"><code>Expect-CT</code></a>, <a href=\"/en-US/docs/Web/HTTP/Headers/Expect\"><code>Expect</code></a>, <a href=\"/en-US/docs/Web/HTTP/Headers/Expires\"><code>Expires</code></a>, <a href=\"/en-US/docs/Web/HTTP/Headers/Feature-Policy\"><code>Feature-Policy</code></a>, <a href=\"/en-US/docs/Web/HTTP/Headers/Forwarded\"><code>Forwarded</code></a>, <a href=\"/en-US/docs/Web/HTTP/Headers/From\"><code>From</code></a>, <a href=\"/en-US/docs/Web/HTTP/Headers/Host\"><code>Host</code></a>, <a href=\"/en-US/docs/Web/HTTP/Headers/If-Match\"><code>If-Match</code></a>, <a href=\"/en-US/docs/Web/HTTP/Headers/If-Modified-Since\"><code>If-Modified-Since</code></a>, <a href=\"/en-US/docs/Web/HTTP/Headers/If-None-Match\"><code>If-None-Match</code></a>, <a href=\"/en-US/docs/Web/HTTP/Headers/If-Range\"><code>If-Range</code></a>, <a href=\"/en-US/docs/Web/HTTP/Headers/If-Unmodified-Since\"><code>If-Unmodified-Since</code></a>, <a href=\"/en-US/docs/Web/HTTP/Headers/Keep-Alive\"><code>Keep-Alive</code></a>, <a href=\"/en-US/docs/Web/HTTP/Headers/Large-Allocation\"><code>Large-Allocation</code></a>, <a href=\"/en-US/docs/Web/HTTP/Headers/Last-Modified\"><code>Last-Modified</code></a>, <a href=\"/en-US/docs/Web/HTTP/Headers/Link\"><code>Link</code></a>, <a href=\"/en-US/docs/Web/HTTP/Headers/Location\"><code>Location</code></a>, <a href=\"/en-US/docs/Web/HTTP/Headers/NEL\"><code>NEL</code></a>, <a href=\"/en-US/docs/Web/HTTP/Headers/Origin\"><code>Origin</code></a>, <a href=\"/en-US/docs/Web/HTTP/Headers/Pragma\"><code>Pragma</code></a>, <a href=\"/en-US/docs/Web/HTTP/Headers/Proxy-Authenticate\"><code>Proxy-Authenticate</code></a>, <a href=\"/en-US/docs/Web/HTTP/Headers/Proxy-Authorization\"><code>Proxy-Authorization</code></a>, <a href=\"/en-US/docs/Web/HTTP/Headers/Public-Key-Pins-Report-Only\"><code>Public-Key-Pins-Report-Only</code></a>, <a href=\"/en-US/docs/Web/HTTP/Headers/Public-Key-Pins\"><code>Public-Key-Pins</code></a>, <a href=\"/en-US/docs/Web/HTTP/Headers/Range\"><code>Range</code></a>, <a href=\"/en-US/docs/Web/HTTP/Headers/Referer\"><code>Referer</code></a>, <a href=\"/en-US/docs/Web/HTTP/Headers/Referrer-Policy\"><code>Referrer-Policy</code></a>, <a href=\"/en-US/docs/Web/HTTP/Headers/Retry-After\"><code>Retry-After</code></a>, <a href=\"/en-US/docs/Web/HTTP/Headers/RTT\"><code>RTT</code></a>, <a href=\"/en-US/docs/Web/HTTP/Headers/Save-Data\"><code>Save-Data</code></a>, <a href=\"/en-US/docs/Web/HTTP/Headers/Sec-Fetch-Dest\"><code>Sec-Fetch-Dest</code></a>, <a href=\"/en-US/docs/Web/HTTP/Headers/Sec-Fetch-Mode\"><code>Sec-Fetch-Mode</code></a>, <a href=\"/en-US/docs/Web/HTTP/Headers/Sec-Fetch-Site\"><code>Sec-Fetch-Site</code></a>, <a href=\"/en-US/docs/Web/HTTP/Headers/Sec-Fetch-User\"><code>Sec-Fetch-User</code></a>, <a href=\"/en-US/docs/Web/HTTP/Headers/Sec-WebSocket-Accept\"><code>Sec-WebSocket-Accept</code></a>, <a href=\"/en-US/docs/Web/HTTP/Headers/Server-Timing\"><code>Server-Timing</code></a>, <a href=\"/en-US/docs/Web/HTTP/Headers/Server\"><code>Server</code></a>, <a href=\"/en-US/docs/Web/HTTP/Headers/Set-Cookie\"><code>Set-Cookie</code></a>, <a href=\"/en-US/docs/Web/HTTP/Headers/Set-Cookie2\"><code>Set-Cookie2</code></a>, <a href=\"/en-US/docs/Web/HTTP/Headers/SourceMap\"><code>SourceMap</code></a>, <a href=\"/en-US/docs/Web/HTTP/Headers/Strict-Transport-Security\"><code>Strict-Transport-Security</code></a>, <a href=\"/en-US/docs/Web/HTTP/Headers/TE\"><code>TE</code></a>, <a href=\"/en-US/docs/Web/HTTP/Headers/Timing-Allow-Origin\"><code>Timing-Allow-Origin</code></a>, <a href=\"/en-US/docs/Web/HTTP/Headers/Tk\"><code>Tk</code></a>, <a href=\"/en-US/docs/Web/HTTP/Headers/Trailer\"><code>Trailer</code></a>, <a href=\"/en-US/docs/Web/HTTP/Headers/Transfer-Encoding\"><code>Transfer-Encoding</code></a>, <a href=\"/en-US/docs/Web/HTTP/Headers/Upgrade-Insecure-Requests\"><code>Upgrade-Insecure-Requests</code></a>, <a href=\"/en-US/docs/Web/HTTP/Headers/Upgrade\"><code>Upgrade</code></a>, <a href=\"/en-US/docs/Web/HTTP/Headers/User-Agent\"><code>User-Agent</code></a>, <a href=\"/en-US/docs/Web/HTTP/Headers/Vary\"><code>Vary</code></a>, <a href=\"/en-US/docs/Web/HTTP/Headers/Via\"><code>Via</code></a>, <a href=\"/en-US/docs/Web/HTTP/Headers/Viewport-Width\"><code>Viewport-Width</code></a>, <a href=\"/en-US/docs/Web/HTTP/Headers/Want-Digest\"><code>Want-Digest</code></a>, <a href=\"/en-US/docs/Web/HTTP/Headers/Warning\"><code>Warning</code></a>, <a href=\"/en-US/docs/Web/HTTP/Headers/Width\"><code>Width</code></a>, <a href=\"/en-US/docs/Web/HTTP/Headers/WWW-Authenticate\"><code>WWW-Authenticate</code></a>, <a href=\"/en-US/docs/Web/HTTP/Headers/X-Content-Type-Options\"><code>X-Content-Type-Options</code></a>, <a href=\"/en-US/docs/Web/HTTP/Headers/X-DNS-Prefetch-Control\"><code>X-DNS-Prefetch-Control</code></a>, <a href=\"/en-US/docs/Web/HTTP/Headers/X-Forwarded-For\"><code>X-Forwarded-For</code></a>, <a href=\"/en-US/docs/Web/HTTP/Headers/X-Forwarded-Host\"><code>X-Forwarded-Host</code></a>, <a href=\"/en-US/docs/Web/HTTP/Headers/X-Forwarded-Proto\"><code>X-Forwarded-Proto</code></a>, <a href=\"/en-US/docs/Web/HTTP/Headers/X-Frame-Options\"><code>X-Frame-Options</code></a>, <a href=\"/en-US/docs/Web/HTTP/Headers/X-XSS-Protection\"><code>X-XSS-Protection</code></a>, <a href=\"/en-US/docs/Web/HTTP/Methods/CONNECT\"><code>CONNECT</code></a>, <a href=\"/en-US/docs/Web/HTTP/Methods/DELETE\"><code>DELETE</code></a>, <a href=\"/en-US/docs/Web/HTTP/Methods/GET\"><code>GET</code></a>, <a href=\"/en-US/docs/Web/HTTP/Methods/HEAD\"><code>HEAD</code></a>, <a href=\"/en-US/docs/Web/HTTP/Methods/OPTIONS\"><code>OPTIONS</code></a>, <a href=\"/en-US/docs/Web/HTTP/Methods/PATCH\"><code>PATCH</code></a>, <a href=\"/en-US/docs/Web/HTTP/Methods/POST\"><code>POST</code></a>, <a href=\"/en-US/docs/Web/HTTP/Methods/PUT\"><code>PUT</code></a>, <a href=\"/en-US/docs/Web/HTTP/Methods/TRACE\"><code>TRACE</code></a>, <a href=\"/en-US/docs/Web/HTTP/Status/100\"><code>100 Continue</code></a>, <a href=\"/en-US/docs/Web/HTTP/Status/101\"><code>101 Switching Protocols</code></a>, <a href=\"/en-US/docs/Web/HTTP/Status/103\"><code>103 Early Hints</code></a>, <a href=\"/en-US/docs/Web/HTTP/Status/200\"><code>200 OK</code></a>, <a href=\"/en-US/docs/Web/HTTP/Status/201\"><code>201 Created</code></a>, <a href=\"/en-US/docs/Web/HTTP/Status/202\"><code>202 Accepted</code></a>, <a href=\"/en-US/docs/Web/HTTP/Status/203\"><code>203 Non-Authoritative Information</code></a>, <a href=\"/en-US/docs/Web/HTTP/Status/204\"><code>204 No Content</code></a>, <a href=\"/en-US/docs/Web/HTTP/Status/205\"><code>205 Reset Content</code></a>, <a href=\"/en-US/docs/Web/HTTP/Status/206\"><code>206 Partial Content</code></a>, <a href=\"/en-US/docs/Web/HTTP/Status/300\"><code>300 Multiple Choices</code></a>, <a href=\"/en-US/docs/Web/HTTP/Status/301\"><code>301 Moved Permanently</code></a>, <a href=\"/en-US/docs/Web/HTTP/Status/302\"><code>302 Found</code></a>, <a href=\"/en-US/docs/Web/HTTP/Status/303\"><code>303 See Other</code></a>, <a href=\"/en-US/docs/Web/HTTP/Status/304\"><code>304 Not Modified</code></a>, <a href=\"/en-US/docs/Web/HTTP/Status/307\"><code>307 Temporary Redirect</code></a>, <a href=\"/en-US/docs/Web/HTTP/Status/308\"><code>308 Permanent Redirect</code></a>, <a href=\"/en-US/docs/Web/HTTP/Status/400\"><code>400 Bad Request</code></a>, <a href=\"/en-US/docs/Web/HTTP/Status/401\"><code>401 Unauthorized</code></a>, <a href=\"/en-US/docs/Web/HTTP/Status/402\"><code>402 Payment Required</code></a>, <a href=\"/en-US/docs/Web/HTTP/Status/403\"><code>403 Forbidden</code></a>, <a href=\"/en-US/docs/Web/HTTP/Status/404\"><code>404 Not Found</code></a>, <a href=\"/en-US/docs/Web/HTTP/Status/405\"><code>405 Method Not Allowed</code></a>, <a href=\"/en-US/docs/Web/HTTP/Status/406\"><code>406 Not Acceptable</code></a>, <a href=\"/en-US/docs/Web/HTTP/Status/407\"><code>407 Proxy Authentication Required</code></a>, <a href=\"/en-US/docs/Web/HTTP/Status/408\"><code>408 Request Timeout</code></a>, <a href=\"/en-US/docs/Web/HTTP/Status/409\"><code>409 Conflict</code></a>, <a href=\"/en-US/docs/Web/HTTP/Status/410\"><code>410 Gone</code></a>, <a href=\"/en-US/docs/Web/HTTP/Status/411\"><code>411 Length Required</code></a>, <a href=\"/en-US/docs/Web/HTTP/Status/412\"><code>412 Precondition Failed</code></a>, <a href=\"/en-US/docs/Web/HTTP/Status/413\"><code>413 Payload Too Large</code></a>, <a href=\"/en-US/docs/Web/HTTP/Status/414\"><code>414 URI Too Long</code></a>, <a href=\"/en-US/docs/Web/HTTP/Status/415\"><code>415 Unsupported Media Type</code></a>, <a href=\"/en-US/docs/Web/HTTP/Status/416\"><code>416 Range Not Satisfiable</code></a>, <a href=\"/en-US/docs/Web/HTTP/Status/417\"><code>417 Expectation Failed</code></a>, <a href=\"/en-US/docs/Web/HTTP/Status/418\"><code>418 I'm a teapot</code></a>, <a href=\"/en-US/docs/Web/HTTP/Status/422\"><code>422 Unprocessable Entity</code></a>, <a href=\"/en-US/docs/Web/HTTP/Status/425\"><code>425 Too Early</code></a>, <a href=\"/en-US/docs/Web/HTTP/Status/426\"><code>426 Upgrade Required</code></a>, <a href=\"/en-US/docs/Web/HTTP/Status/428\"><code>428 Precondition Required</code></a>, <a href=\"/en-US/docs/Web/HTTP/Status/429\"><code>429 Too Many Requests</code></a>, <a href=\"/en-US/docs/Web/HTTP/Status/431\"><code>431 Request Header Fields Too Large</code></a>, <a href=\"/en-US/docs/Web/HTTP/Status/451\"><code>451 Unavailable For Legal Reasons</code></a>, <a href=\"/en-US/docs/Web/HTTP/Status/500\"><code>500 Internal Server Error</code></a>, <a href=\"/en-US/docs/Web/HTTP/Status/501\"><code>501 Not Implemented</code></a>, <a href=\"/en-US/docs/Web/HTTP/Status/502\"><code>502 Bad Gateway</code></a>, <a href=\"/en-US/docs/Web/HTTP/Status/503\"><code>503 Service Unavailable</code></a>, <a href=\"/en-US/docs/Web/HTTP/Status/504\"><code>504 Gateway Timeout</code></a>, <a href=\"/en-US/docs/Web/HTTP/Status/505\"><code>505 HTTP Version Not Supported</code></a>, <a href=\"/en-US/docs/Web/HTTP/Status/506\"><code>506 Variant Also Negotiates</code></a>, <a href=\"/en-US/docs/Web/HTTP/Status/507\"><code>507 Insufficient Storage</code></a>, <a href=\"/en-US/docs/Web/HTTP/Status/508\"><code>508 Loop Detected</code></a>, <a href=\"/en-US/docs/Web/HTTP/Status/510\"><code>510 Not Extended</code></a>, <a href=\"/en-US/docs/Web/HTTP/Status/511\"><code>511 Network Authentication Required</code></a>, <a href=\"/en-US/docs/Web/HTTP/Headers/Content-Security-Policy/base-uri\"><code>CSP: base-uri</code></a>, <a href=\"/en-US/docs/Web/HTTP/Headers/Content-Security-Policy/block-all-mixed-content\"><code>CSP: block-all-mixed-content</code></a>, <a href=\"/en-US/docs/Web/HTTP/Headers/Content-Security-Policy/child-src\"><code>CSP: child-src</code></a>, <a href=\"/en-US/docs/Web/HTTP/Headers/Content-Security-Policy/connect-src\"><code>CSP: connect-src</code></a>, <a href=\"/en-US/docs/Web/HTTP/Headers/Content-Security-Policy/default-src\"><code>CSP: default-src</code></a>, <a href=\"/en-US/docs/Web/HTTP/Headers/Content-Security-Policy/font-src\"><code>CSP: font-src</code></a>, <a href=\"/en-US/docs/Web/HTTP/Headers/Content-Security-Policy/form-action\"><code>CSP: form-action</code></a>, <a href=\"/en-US/docs/Web/HTTP/Headers/Content-Security-Policy/frame-ancestors\"><code>CSP: frame-ancestors</code></a>, <a href=\"/en-US/docs/Web/HTTP/Headers/Content-Security-Policy/frame-src\"><code>CSP: frame-src</code></a>, <a href=\"/en-US/docs/Web/HTTP/Headers/Content-Security-Policy/img-src\"><code>CSP: img-src</code></a>, <a href=\"/en-US/docs/Web/HTTP/Headers/Content-Security-Policy/manifest-src\"><code>CSP: manifest-src</code></a>, <a href=\"/en-US/docs/Web/HTTP/Headers/Content-Security-Policy/media-src\"><code>CSP: media-src</code></a>, <a href=\"/en-US/docs/Web/HTTP/Headers/Content-Security-Policy/navigate-to\"><code>CSP: navigate-to</code></a>, <a href=\"/en-US/docs/Web/HTTP/Headers/Content-Security-Policy/object-src\"><code>CSP: object-src</code></a>, <a href=\"/en-US/docs/Web/HTTP/Headers/Content-Security-Policy/plugin-types\"><code>CSP: plugin-types</code></a>, <a href=\"/en-US/docs/Web/HTTP/Headers/Content-Security-Policy/prefetch-src\"><code>CSP: prefetch-src</code></a>, <a href=\"/en-US/docs/Web/HTTP/Headers/Content-Security-Policy/referrer\"><code>CSP: referrer</code></a>, <a href=\"/en-US/docs/Web/HTTP/Headers/Content-Security-Policy/report-to\"><code>CSP: report-to</code></a>, <a href=\"/en-US/docs/Web/HTTP/Headers/Content-Security-Policy/report-uri\"><code>CSP: report-uri</code></a>, <a href=\"/en-US/docs/Web/HTTP/Headers/Content-Security-Policy/require-sri-for\"><code>CSP: require-sri-for</code></a>, <a href=\"/en-US/docs/Web/HTTP/Headers/Content-Security-Policy/require-trusted-types-for\"><code>CSP: require-trusted-types-for</code></a>, <a href=\"/en-US/docs/Web/HTTP/Headers/Content-Security-Policy/sandbox\"><code>CSP: sandbox</code></a>, <a href=\"/en-US/docs/Web/HTTP/Headers/Content-Security-Policy/script-src-attr\"><code>CSP: script-src-attr</code></a>, <a href=\"/en-US/docs/Web/HTTP/Headers/Content-Security-Policy/script-src-elem\"><code>CSP: script-src-elem</code></a>, <a href=\"/en-US/docs/Web/HTTP/Headers/Content-Security-Policy/script-src\"><code>CSP: script-src</code></a>, <a href=\"/en-US/docs/Web/HTTP/Headers/Content-Security-Policy/style-src-attr\"><code>CSP: style-src-attr</code></a>, <a href=\"/en-US/docs/Web/HTTP/Headers/Content-Security-Policy/style-src-elem\"><code>CSP: style-src-elem</code></a>, <a href=\"/en-US/docs/Web/HTTP/Headers/Content-Security-Policy/style-src\"><code>CSP: style-src</code></a>, <a href=\"/en-US/docs/Web/HTTP/Headers/Content-Security-Policy/trusted-types\"><code>CSP: trusted-types</code></a>, <a href=\"/en-US/docs/Web/HTTP/Headers/Content-Security-Policy/upgrade-insecure-requests\"><code>CSP: upgrade-insecure-requests</code></a>, <a href=\"/en-US/docs/Web/HTTP/Headers/Content-Security-Policy/worker-src\"><code>CSP: worker-src</code></a>, <a href=\"/en-US/docs/Web/HTTP/CORS/Errors/CORSAllowOriginNotMatchingOrigin\">Reason: CORS header 'Access-Control-Allow-Origin' does not match 'xyz'</a>, <a href=\"/en-US/docs/Web/HTTP/CORS/Errors/CORSDidNotSucceed\">Reason: CORS request did not succeed</a>, <a href=\"/en-US/docs/Web/HTTP/CORS/Errors/CORSDisabled\">Reason: CORS disabled</a>, <a href=\"/en-US/docs/Web/HTTP/CORS/Errors/CORSExternalRedirectNotAllowed\">Reason: CORS request external redirect not allowed</a>, <a href=\"/en-US/docs/Web/HTTP/CORS/Errors/CORSInvalidAllowHeader\">Reason: invalid token ‘xyz’ in CORS header ‘Access-Control-Allow-Headers’</a>, <a href=\"/en-US/docs/Web/HTTP/CORS/Errors/CORSInvalidAllowMethod\">Reason: invalid token ‘xyz’ in CORS header ‘Access-Control-Allow-Methods’</a>, <a href=\"/en-US/docs/Web/HTTP/CORS/Errors/CORSMethodNotFound\">Reason: Did not find method in CORS header ‘Access-Control-Allow-Methods’</a>, <a href=\"/en-US/docs/Web/HTTP/CORS/Errors/CORSMIssingAllowCredentials\">Reason: expected ‘true’ in CORS header ‘Access-Control-Allow-Credentials’</a>, <a href=\"/en-US/docs/Web/HTTP/CORS/Errors/CORSMissingAllowHeaderFromPreflight\">Reason: missing token ‘xyz’ in CORS header ‘Access-Control-Allow-Headers’ from CORS preflight channel</a>, <a href=\"/en-US/docs/Web/HTTP/CORS/Errors/CORSMissingAllowOrigin\">Reason: CORS header 'Access-Control-Allow-Origin' missing</a>, <a href=\"/en-US/docs/Web/HTTP/CORS/Errors/CORSMultipleAllowOriginNotAllowed\">Reason: Multiple CORS header 'Access-Control-Allow-Origin' not allowed</a>, <a href=\"/en-US/docs/Web/HTTP/CORS/Errors/CORSNotSupportingCredentials\">Reason: Credential is not supported if the CORS header ‘Access-Control-Allow-Origin’ is ‘*’</a>, <a href=\"/en-US/docs/Web/HTTP/CORS/Errors/CORSOriginHeaderNotAdded\">Reason: CORS header ‘Origin’ cannot be added</a>, <a href=\"/en-US/docs/Web/HTTP/CORS/Errors/CORSPreflightDidNotSucceed\">Reason: CORS preflight channel did not succeed</a>, <a href=\"/en-US/docs/Web/HTTP/CORS/Errors/CORSRequestNotHttp\">Reason: CORS request not HTTP</a>, <a href=\"/en-US/docs/Web/HTTP/Headers/Feature-Policy/accelerometer\">Feature-Policy: accelerometer</a>, <a href=\"/en-US/docs/Web/HTTP/Headers/Feature-Policy/ambient-light-sensor\">Feature-Policy: ambient-light-sensor</a>, <a href=\"/en-US/docs/Web/HTTP/Headers/Feature-Policy/autoplay\">Feature-Policy: autoplay</a>, <a href=\"/en-US/docs/Web/HTTP/Headers/Feature-Policy/battery\">Feature-Policy: battery</a>, <a href=\"/en-US/docs/Web/HTTP/Headers/Feature-Policy/camera\">Feature-Policy: camera</a>, <a href=\"/en-US/docs/Web/HTTP/Headers/Feature-Policy/display-capture\">Feature-Policy: display-capture</a>, <a href=\"/en-US/docs/Web/HTTP/Headers/Feature-Policy/document-domain\">Feature-Policy: document-domain</a>, <a href=\"/en-US/docs/Web/HTTP/Headers/Feature-Policy/encrypted-media\">Feature-Policy: encrypted-media</a>, <a href=\"/en-US/docs/Web/HTTP/Headers/Feature-Policy/fullscreen\">Feature-Policy: fullscreen</a>, <a href=\"/en-US/docs/Web/HTTP/Headers/Feature-Policy/gamepad\">Feature-Policy: gamepad</a>, <a href=\"/en-US/docs/Web/HTTP/Headers/Feature-Policy/geolocation\">Feature-Policy: geolocation</a>, <a href=\"/en-US/docs/Web/HTTP/Headers/Feature-Policy/gyroscope\">Feature-Policy: gyroscope</a>, <a href=\"/en-US/docs/Web/HTTP/Headers/Feature-Policy/layout-animations\">Feature-Policy: layout-animations</a>, <a href=\"/en-US/docs/Web/HTTP/Headers/Feature-Policy/legacy-image-formats\">Feature-Policy: legacy-image-formats</a>, <a href=\"/en-US/docs/Web/HTTP/Headers/Feature-Policy/magnetometer\">Feature-Policy: magnetometer</a>, <a href=\"/en-US/docs/Web/HTTP/Headers/Feature-Policy/microphone\">Feature-Policy: microphone</a>, <a href=\"/en-US/docs/Web/HTTP/Headers/Feature-Policy/midi\">Feature-Policy: midi</a>, <a href=\"/en-US/docs/Web/HTTP/Headers/Feature-Policy/oversized-images\">Feature-Policy: oversized-images</a>, <a href=\"/en-US/docs/Web/HTTP/Headers/Feature-Policy/payment\">Feature-Policy: payment</a>, <a href=\"/en-US/docs/Web/HTTP/Headers/Feature-Policy/picture-in-picture\">Feature-Policy: picture-in-picture</a>, <a href=\"/en-US/docs/Web/HTTP/Headers/Feature-Policy/publickey-credentials-get\">Feature-Policy: publickey-credentials-get</a>, <a href=\"/en-US/docs/Web/HTTP/Headers/Feature-Policy/screen-wake-lock\">Feature-Policy: screen-wake-lock</a>, <a href=\"/en-US/docs/Web/HTTP/Headers/Feature-Policy/sync-xhr\">Feature-Policy: sync-xhr</a>, <a href=\"/en-US/docs/Web/HTTP/Headers/Feature-Policy/unoptimized-images\">Feature-Policy: unoptimized-images</a>, <a href=\"/en-US/docs/Web/HTTP/Headers/Feature-Policy/unsized-media\">Feature-Policy: unsized-media</a>, <a href=\"/en-US/docs/Web/HTTP/Headers/Feature-Policy/usb\">Feature-Policy: usb</a>, <a href=\"/en-US/docs/Web/HTTP/Headers/Feature-Policy/vibrate\">Feature-Policy: vibrate</a>, <a href=\"/en-US/docs/Web/HTTP/Headers/Feature-Policy/vr\">Feature-Policy: vr</a>, <a href=\"/en-US/docs/Web/HTTP/Headers/Feature-Policy/web-share\">web-share</a>, <a href=\"/en-US/docs/Web/HTTP/Headers/Feature-Policy/xr-spatial-tracking\">Feature-Policy: xr-spatial-tracking</a>, <a href=\"/en-US/docs/Web/HTTP/Headers/Feature-Policy/xr\">Feature-Policy: xr</a>, <a aria-label=\"MDN Web Docs\" class=\"logo\" href=\"/en-US/\"><svg fill=\"#fff\" viewbox=\"0 0 451.74 135\" xmlns=\"http://www.w3.org/2000/svg\"><path d=\"M7.14 8.35v111.06h111.05V8.35zm103.71 56c-.48.92-1 1.79-1.46 2.71a3.44 3.44 0 01-3.54 2 2.4 2.4 0 00-1.55.5c-1.37.9-2.76 1.79-4.18 2.63a7.33 7.33 0 01-6.35.34 29.71 29.71 0 00-10.63-2 11.7 11.7 0 00-9.46 4.31 14.84 14.84 0 00-2.13 4.29c-1.24 3.07-2.3 21.38-2.3 26.05 0 0-17.62-3.42-34.15-20.34l4.31-11.32h-13.5l9.76-10.35h-16.8l9.77-10.34H12.69L30.45 34a40.9 40.9 0 0119.77-10.83c7.1-1.22 8.93-.53 13.31.77l2.43.73.85.25 3.1.95a12.56 12.56 0 006.21.09 11.37 11.37 0 018.25 1 8.24 8.24 0 014.1 6.22 7.29 7.29 0 003.61 5.49 59.45 59.45 0 009.32 4.11c2.27.86 4.54 1.84 6.79 2.72a6.81 6.81 0 012.86 2.06 4.81 4.81 0 011.1 2.73c.14 2 .37 4 .47 6a15.24 15.24 0 01-1.77 8.03zM320.12 39.62a5.42 5.42 0 00-4.53 2.13 7.36 7.36 0 00-1.7 4.43v2.36a6.28 6.28 0 001.7 4.46 5.63 5.63 0 004.3 1.82 5.12 5.12 0 004.57-2.27A9.7 9.7 0 00326 47a8.11 8.11 0 00-1.67-5.52 5.36 5.36 0 00-4.21-1.86zM387.38 39.53a5.52 5.52 0 00-4.7 2.15 8.8 8.8 0 00-1.63 5.49 9.23 9.23 0 001.58 5.45 5.38 5.38 0 004.7 2.25 5.61 5.61 0 004.74-2.2 8.91 8.91 0 001.68-5.59 8.24 8.24 0 00-1.75-5.52 5.76 5.76 0 00-4.62-2.03zM299.47 41.35a4.34 4.34 0 00-4-1.92 4.55 4.55 0 00-3.89 1.73 8.37 8.37 0 00-1.58 4.17h10.48a6.3 6.3 0 00-1.01-3.98zM357.74 30.75H352v23.31h5.72q5.47 0 8.35-3t2.93-8.65q0-5.43-2.88-8.55t-8.38-3.11z\"></path><path d=\"M121.55 8.35v70.8h323V8.35zm42.21 22.45h-4V54h3.68v3.73h-11.25V54h3.31V36.79h-.19l-9.63 19.12h-2.12l-10-19.4h-.19V54h3.45v3.73h-11.15V54h3.68V30.8h-4v-3.73H133l11.66 22.56h.19l11.18-22.56h7.7zm29.12 22.67q-4.11 4.28-11.38 4.28h-14.06v-3.69h3.73V30.75h-3.73v-3.68h13.83q7.59 0 11.66 4.29a15.4 15.4 0 014 11 15.33 15.33 0 01-4.05 11.11zm38.89-22.67h-3.68v27h-2.6L208.08 35h-.19v19h4.67v3.73h-12.22V54h3.49V30.8h-4v-3.73h7.08l16.9 22.09h.19V30.8h-4.58v-3.73h12.32zm43.8 27h-3.31l-7.83-23.18h-.19l-7.55 23.18h-3.35l-8.78-27h-2.65v-3.73H253v3.73h-3.87L255 50.71h.23l6.61-19.91H259v-3.73h11v3.73h-2.78l6.61 20.1h.23l5.43-20.1h-4.15v-3.73h11v3.73h-2.54zm26.71-1.51a9.66 9.66 0 01-6.42 2 10.2 10.2 0 01-7.41-2.74c-1.89-1.82-2.83-4.47-2.83-7.93a12.37 12.37 0 012.64-8.12 9 9 0 017.32-3.21 8.62 8.62 0 016.75 2.69 9.65 9.65 0 012.45 6.52 13.67 13.67 0 01-.28 2.69H290q.29 6.71 6.18 6.7a5.2 5.2 0 003.71-1.18 5.82 5.82 0 001.67-2.83l3.45.71a7.21 7.21 0 01-2.73 4.65zm25.77-1.63c-1.51 2.4-3.92 3.61-7.22 3.61s-5.84-1.29-7.22-3.87c0 .25-.1.82-.21 1.7s-.19 1.44-.22 1.7H309c.16-1 .31-2 .47-3.07a21.42 21.42 0 00.24-3.16v-23h-3.4v-3.3h7.55V40.9a9.76 9.76 0 012.67-3.28 7.33 7.33 0 014.74-1.4 8.48 8.48 0 016.5 2.78q2.55 2.74 2.55 7.74a14.6 14.6 0 01-2.27 7.87zm41.39-1.14q-4.11 4.28-11.37 4.28H344v-3.74h3.73V30.75H344v-3.68h13.83q7.59 0 11.66 4.29a15.41 15.41 0 014.06 11 15.34 15.34 0 01-4.11 11.11zm25.65 1.68a10.53 10.53 0 01-7.9 3.07 10 10 0 01-7.63-3 10.93 10.93 0 01-2.8-7.83 12.13 12.13 0 012.69-7.93q2.69-3.3 8-3.3t8 3.28a12 12 0 012.64 7.76 10.86 10.86 0 01-3 7.9zm22.61.57c-1.4 1.66-3.63 2.5-6.68 2.5a9.58 9.58 0 01-7.15-2.76q-2.72-2.76-2.71-7.91a12.25 12.25 0 012.69-8 9.17 9.17 0 017.5-3.28 15 15 0 013.82.48 10.37 10.37 0 013.5 1.65l.85 5.47-3.35.38-.76-3.54a8.07 8.07 0 00-4.11-1 4.9 4.9 0 00-4.39 2.15 9.93 9.93 0 00-1.41 5.55 8.9 8.9 0 001.5 5.38 5.23 5.23 0 004.44 2c2.92 0 4.67-1.7 5.23-5.1l3.5.71a10.34 10.34 0 01-2.47 5.27zm20.48.75a11.68 11.68 0 01-6.63 1.75 15.52 15.52 0 01-8.26-2.08L424 51l3.26.33-.1 2.74a7 7 0 002.06.66 12.63 12.63 0 002.19.19 8.68 8.68 0 003.66-.75 2.5 2.5 0 001.63-2.36 2.25 2.25 0 00-1.32-2.2 12.65 12.65 0 00-3.28-1 47.39 47.39 0 01-3.9-.82 7.5 7.5 0 01-3.25-1.7 4.67 4.67 0 01-1.33-3.66c0-2.36.88-4 2.62-4.91a12 12 0 015.6-1.37 15 15 0 014.08.55 16.65 16.65 0 013.47 1.39l.47 5.1-3.3.37-.48-3.3a9.5 9.5 0 00-4.06-.9 5.62 5.62 0 00-2.87.66 2.33 2.33 0 00-1.15 2.25 2.13 2.13 0 001.3 2.07 11.91 11.91 0 003.21.92 36.69 36.69 0 013.82.83 7.46 7.46 0 013.21 1.74 4.9 4.9 0 011.3 3.73 5.56 5.56 0 01-2.66 4.91z\"></path><path d=\"M181.17 30.75h-5.71v23.31h5.71q5.47 0 8.36-3t2.88-8.61q0-5.43-2.88-8.55t-8.36-3.15zM121.63 119.32V81.74h114.91v37.58zM153.22 109h-2v-6.85a4.8 4.8 0 00-1.58-4 5.57 5.57 0 00-3.55-1.26 5 5 0 00-4.92 3.26 4.19 4.19 0 00-1.88-2.46 5.82 5.82 0 00-3-.8 4.89 4.89 0 00-4.56 2.56v-2.21h-6.28v3.26h2v8.5h-2v3.23h9.11V109h-2.86v-5.25a4.4 4.4 0 01.69-2.56 2.47 2.47 0 012.21-1q2.57 0 2.56 3.63v8.41h6.29V109h-2v-5.25a4.47 4.47 0 01.67-2.56 2.42 2.42 0 012.19-1q2.63 0 2.63 3.63v8.41h6.28zm9.88-12.07q-4 0-6 2.36a8.41 8.41 0 00-2 5.66 7.25 7.25 0 002.17 5.62 8 8 0 005.65 2 8.54 8.54 0 005.94-2.11 7.27 7.27 0 002.34-5.67 8.21 8.21 0 00-2-5.51q-2.07-2.34-6.1-2.34zm-.1 12.35a3 3 0 01-2.63-1.33 5.68 5.68 0 01-.9-3.26 5 5 0 011-3.28 3.23 3.23 0 012.61-1.18 3.5 3.5 0 012.59 1.08 4.56 4.56 0 011.07 3.31 5.21 5.21 0 01-1 3.41 3.33 3.33 0 01-2.74 1.25zm25-2.3l-3.39-.29-.7 2.32H179l8.32-9.54-.32-2.23h-13.19l-.53 5.25 3.16.34.67-2.36h4.65l-8.25 9.53.44 2.26h13.13zm7.62-9.74h-4.46v5.39h4.46zm0 9.61h-4.46v5.39h4.46zm13.54-17.49h-4.23l-6.48 22.88h4.22zm8.68 0h-4.23l-6.45 22.88h4.19zm15 22.51l-.07-2.26a1.22 1.22 0 01-.56.1c-.69 0-1-.39-1-1.16v-6.49a4.39 4.39 0 00-1.8-3.84 7 7 0 00-4.16-1.28 14.55 14.55 0 00-3.16.3 24.14 24.14 0 00-3.29 1.06l-.56 3.46 3.39.4.5-1.69a2.78 2.78 0 011.08-.37 11.3 11.3 0 011.25-.07c1.19 0 1.89.37 2.09 1.1a8.55 8.55 0 01.3 2.26v.5a8.91 8.91 0 00-1.18-.11h-1.21a12.64 12.64 0 00-4.81.88 3.53 3.53 0 00-2.18 3.64 3.66 3.66 0 001.48 3.33 5.63 5.63 0 003.11 1 4.67 4.67 0 003-.91 6.78 6.78 0 001.8-2 3 3 0 003.33 3 5.54 5.54 0 002.66-.85zm-9.25-2.32a1.69 1.69 0 01-1.36-.52 1.81 1.81 0 01-.43-1.21 1.67 1.67 0 01.86-1.68 4.63 4.63 0 012-.42 7.69 7.69 0 011.07.07l1.06.13a3.58 3.58 0 01-1.08 2.74 3.24 3.24 0 01-2.11.89z\"></path></svg></a>, <a href=\"/en-US/docs/Web\">Web Technologies</a>, <a href=\"/en-US/docs/Learn\">Learn Web Development</a>, <a href=\"/en-US/docs/MDN/About\">About MDN</a>, <a href=\"/en-US/docs/MDN/Feedback\">Feedback</a>, <a href=\"https://www.mozilla.org/about/\" rel=\"noopener noreferrer\" target=\"_blank\">About</a>, <a href=\"https://shop.spreadshirt.com/mdn-store/\" rel=\"noopener noreferrer\" target=\"_blank\">MDN Web Docs Store</a>, <a href=\"https://www.mozilla.org/contact/\" rel=\"noopener noreferrer\" target=\"_blank\">Contact Us</a>, <a href=\"https://www.mozilla.org/firefox/?utm_source=developer.mozilla.org&amp;utm_campaign=footer&amp;utm_medium=referral\" rel=\"noopener noreferrer\" target=\"_blank\">Firefox</a>, <a class=\"social-icon twitter\" href=\"https://twitter.com/mozdevnet\" rel=\"noopener noreferrer\" target=\"_blank\"><span class=\"visually-hidden\">MDN on Twitter</span></a>, <a class=\"social-icon github\" href=\"https://github.com/mdn/\" rel=\"noopener noreferrer\" target=\"_blank\"><span class=\"visually-hidden\">MDN on Github</span></a>, <a class=\"social-icon twitter\" href=\"https://twitter.com/mozilla\" rel=\"noopener noreferrer\" target=\"_blank\"><span class=\"visually-hidden\">Mozilla on Twitter</span></a>, <a class=\"social-icon instagram\" href=\"https://www.instagram.com/mozillagram/\" rel=\"noopener noreferrer\" target=\"_blank\"><span class=\"visually-hidden\">Mozilla on Instagram</span></a>, <a href=\"/docs/MDN/About#Copyrights_and_licenses\">these licenses</a>, <a href=\"https://www.mozilla.org/about/legal/terms/mozilla\" rel=\"noopener noreferrer\" target=\"_blank\">Terms</a>, <a href=\"https://www.mozilla.org/privacy/websites/\" rel=\"noopener noreferrer\" target=\"_blank\">Privacy</a>, <a href=\"https://www.mozilla.org/privacy/websites/#cookies\" rel=\"noopener noreferrer\" target=\"_blank\">Cookies</a>]\n"
          ],
          "name": "stdout"
        }
      ]
    },
    {
      "cell_type": "code",
      "metadata": {
        "id": "efb3f482",
        "colab": {
          "base_uri": "https://localhost:8080/"
        },
        "outputId": "673a80f3-6fbf-457e-e78b-bccf57c2b7ef"
      },
      "source": [
        "a_tag[2]"
      ],
      "id": "efb3f482",
      "execution_count": null,
      "outputs": [
        {
          "output_type": "execute_result",
          "data": {
            "text/plain": [
              "<a href=\"#select-language\" id=\"skip-select-language\">Skip to select language</a>"
            ]
          },
          "metadata": {
            "tags": []
          },
          "execution_count": 27
        }
      ]
    },
    {
      "cell_type": "markdown",
      "metadata": {
        "id": "6da1b208"
      },
      "source": [
        "> **EXERCISE**: Get a list of all the `img` tags on the page. How many images does the page contain?"
      ],
      "id": "6da1b208"
    },
    {
      "cell_type": "markdown",
      "metadata": {
        "id": "xh8SqRJrj8d6"
      },
      "source": [
        "### Accessing attributes\n",
        "\n",
        "The attributes of a tag can be accessed using the indexing notation, e.g., `first_link['href']`"
      ],
      "id": "xh8SqRJrj8d6"
    },
    {
      "cell_type": "code",
      "metadata": {
        "id": "77f99aaa"
      },
      "source": [
        "def get_tag_and_attribute(doc,tag_name,attr):\n",
        "  '''\n",
        "  get the tab and a value of one attribute\n",
        "  :param arg1: the reference for the BeautifulSoup object created\n",
        "  :param arg2: the name of the tag\n",
        "  :param arg3: the name of the attribute\n",
        "  :type arg1: BeautifulSoup object\n",
        "  :type arg2: str\n",
        "  :type arg3: str\n",
        "  :return : a str that represents the value of the attribute\n",
        "  '''\n",
        "  try: \n",
        "    assert attr  in doc.find(tag_name).attrs.keys()\n",
        "    return doc.find(tag_name)[attr]\n",
        "  except AssertionError:\n",
        "    print(f\"Attribute {attr} doesn't exist in tag {tag_name}\")\n",
        "    return ''\n",
        "    \n",
        "  \n",
        "  \n"
      ],
      "id": "77f99aaa",
      "execution_count": null,
      "outputs": []
    },
    {
      "cell_type": "code",
      "metadata": {
        "id": "v3D1wjWomPjr"
      },
      "source": [
        "attr = get_tag_and_attribute(doc,'a','href')"
      ],
      "id": "v3D1wjWomPjr",
      "execution_count": null,
      "outputs": []
    },
    {
      "cell_type": "code",
      "metadata": {
        "colab": {
          "base_uri": "https://localhost:8080/",
          "height": 35
        },
        "id": "IOs_93j-mqHT",
        "outputId": "fa36705c-df48-49c4-a0d1-76fa33872c57"
      },
      "source": [
        "attr"
      ],
      "id": "IOs_93j-mqHT",
      "execution_count": null,
      "outputs": [
        {
          "output_type": "execute_result",
          "data": {
            "application/vnd.google.colaboratory.intrinsic+json": {
              "type": "string"
            },
            "text/plain": [
              "'#content'"
            ]
          },
          "metadata": {
            "tags": []
          },
          "execution_count": 30
        }
      ]
    },
    {
      "cell_type": "markdown",
      "metadata": {
        "id": "RqBk-2lnqAkg"
      },
      "source": [
        "> **EXERCISE**: Find the 1st IMAGE tag on the page (counting from 0). Which attributes does the tag contain? Find the values of the `src` and `alt` attributes of the tag."
      ],
      "id": "RqBk-2lnqAkg"
    },
    {
      "cell_type": "markdown",
      "metadata": {
        "id": "VsN6m2ZdqPFP"
      },
      "source": [
        "### Searching by Attribute Value\n",
        "\n",
        "> **PROBLEM**: Find the `a` tag(s) on the page with the `href` attribute set to `#select-language`.\n",
        "\n",
        "We can provide a dictionary of attributes as the second argument to `find_all`"
      ],
      "id": "VsN6m2ZdqPFP"
    },
    {
      "cell_type": "code",
      "metadata": {
        "id": "L8frAfFdqE3u"
      },
      "source": [
        "def find_tag_with_attributes(doc,tag_name,attr_dict):\n",
        "  \n",
        "    '''\n",
        "    Get groups of same tag in the page. \n",
        "    :param arg1: the reference for the BeautifulSoup object created\n",
        "    :param arg2: the name of the tag\n",
        "    :param arg3: A dictionnary of attribute-values\n",
        "    :type arg1: BeautifulSoup object\n",
        "    :type arg2: str\n",
        "    :type arg3: dictionnary\n",
        "    :return : a list of same tag having the same attributes defined in the attr_dict\n",
        "    '''\n",
        "    return doc.findAll(tag_name,attr_dict)\n",
        "    "
      ],
      "id": "L8frAfFdqE3u",
      "execution_count": null,
      "outputs": []
    },
    {
      "cell_type": "code",
      "metadata": {
        "colab": {
          "base_uri": "https://localhost:8080/"
        },
        "id": "swI74ZqPss9p",
        "outputId": "dec38476-a397-4626-b790-aadf4842f860"
      },
      "source": [
        "find_tag_with_attributes(doc,'a',{'href':'#content'})"
      ],
      "id": "swI74ZqPss9p",
      "execution_count": null,
      "outputs": [
        {
          "output_type": "execute_result",
          "data": {
            "text/plain": [
              "[<a href=\"#content\" id=\"skip-main\">Skip to main content</a>]"
            ]
          },
          "metadata": {
            "tags": []
          },
          "execution_count": 32
        }
      ]
    },
    {
      "cell_type": "markdown",
      "metadata": {
        "id": "gA_skPqYtY9Q"
      },
      "source": [
        "### Job 5: Parsing Information from Tags\n",
        "\n",
        "Once we have a list of tags matching some criteria, it's easy to extract information and convert it to a more convenient format.\n",
        "\n",
        "> **QUESTION**: Find the link text and URL of all the links related to social network on https://www.reddit.com/ .\n",
        "\n",
        "We'll create a list of dictionaries containing the required information. We'll add the base URL https://www.reddit.com as a prefix because the `href` attribute only contains the relative path e.g. `/explore`."
      ],
      "id": "gA_skPqYtY9Q"
    },
    {
      "cell_type": "code",
      "metadata": {
        "colab": {
          "base_uri": "https://localhost:8080/"
        },
        "id": "YspYhtNRu5Yc",
        "outputId": "3364aaeb-31b6-4b99-909b-846eacdc163c"
      },
      "source": [
        "# Let's first try to scrape www.reddit.com\n",
        "topic_url = \"https://www.reddit.com\"\n",
        "code,pagecontentred = getWebPage(topic_url)\n",
        "print(code)"
      ],
      "id": "YspYhtNRu5Yc",
      "execution_count": null,
      "outputs": [
        {
          "output_type": "stream",
          "text": [
            "200\n"
          ],
          "name": "stdout"
        }
      ]
    },
    {
      "cell_type": "code",
      "metadata": {
        "colab": {
          "base_uri": "https://localhost:8080/",
          "height": 154
        },
        "id": "vpr0QT86vA5e",
        "outputId": "610263cd-6cc3-4f1b-b772-dc77d136adb7"
      },
      "source": [
        "pagecontentred[:1000]"
      ],
      "id": "vpr0QT86vA5e",
      "execution_count": null,
      "outputs": [
        {
          "output_type": "execute_result",
          "data": {
            "application/vnd.google.colaboratory.intrinsic+json": {
              "type": "string"
            },
            "text/plain": [
              "'\\n    <!DOCTYPE html>\\n    <html lang=\"en-US\">\\n      <head>\\n        <script>\\n    var __SUPPORTS_TIMING_API = typeof performance === \\'object\\' && !!performance.mark && !! performance.measure && !!performance.getEntriesByType;\\n    function __perfMark(name) { __SUPPORTS_TIMING_API && performance.mark(name); };\\n    var __firstPostLoaded = false;\\n    function __markFirstPostVisible() {\\n      if (__firstPostLoaded) { return; }\\n      __firstPostLoaded = true;\\n      __perfMark(\"first_post_title_image_loaded\");\\n    }\\n    var __firstCommentLoaded = false;\\n    function __markFirstCommentVisible() {\\n      if (__firstCommentLoaded) { return; }\\n      __firstCommentLoaded = true;\\n      __perfMark(\"first_comment_loaded\");\\n    }\\n  </script>\\n        <script>__perfMark(\\'head_tag_start\\');</script>\\n        <meta charSet=\"utf-8\"/>\\n        <meta name=\"viewport\" content=\"width=device-width, initial-scale=1\" />\\n        <meta name=\"referrer\" content=\"origin-when-cross-origin\" />\\n        <style>\\n  /* http://meyerwe'"
            ]
          },
          "metadata": {
            "tags": []
          },
          "execution_count": 34
        }
      ]
    },
    {
      "cell_type": "code",
      "metadata": {
        "id": "0JykmcIqyyIX"
      },
      "source": [
        "# Let's declare a BeatifoulSoup Object for reddit website\n",
        "docreddit = BeautifulSoup(pagecontentred, 'html.parser')"
      ],
      "id": "0JykmcIqyyIX",
      "execution_count": null,
      "outputs": []
    },
    {
      "cell_type": "code",
      "metadata": {
        "id": "rfx8ZDy1zFf-"
      },
      "source": [
        "# Let's explore all the links\n",
        "a_tag = get_groups_of_tag(docreddit,'a')"
      ],
      "id": "rfx8ZDy1zFf-",
      "execution_count": null,
      "outputs": []
    },
    {
      "cell_type": "code",
      "metadata": {
        "colab": {
          "base_uri": "https://localhost:8080/"
        },
        "id": "2YcG8BX2zJV9",
        "outputId": "4b5dde99-cb32-42d9-89aa-fcdeb3c86fde"
      },
      "source": [
        "a_tag"
      ],
      "id": "2YcG8BX2zJV9",
      "execution_count": null,
      "outputs": [
        {
          "output_type": "execute_result",
          "data": {
            "text/plain": [
              "[<a aria-label=\"Home\" class=\"_30BbATRhFv3V83DHNDjJAO\" href=\"/\"><svg class=\"_1O4jTk-dZ-VIxsCuYB6OR8 _32hLJ8_m9mplK6bwNXysk8\" viewbox=\"0 0 20 20\" xmlns=\"http://www.w3.org/2000/svg\"><g><circle cx=\"10\" cy=\"10\" fill=\"#FF4500\" r=\"10\"></circle><path d=\"M16.67,10A1.46,1.46,0,0,0,14.2,9a7.12,7.12,0,0,0-3.85-1.23L11,4.65,13.14,5.1a1,1,0,1,0,.13-0.61L10.82,4a0.31,0.31,0,0,0-.37.24L9.71,7.71a7.14,7.14,0,0,0-3.9,1.23A1.46,1.46,0,1,0,4.2,11.33a2.87,2.87,0,0,0,0,.44c0,2.24,2.61,4.06,5.83,4.06s5.83-1.82,5.83-4.06a2.87,2.87,0,0,0,0-.44A1.46,1.46,0,0,0,16.67,10Zm-10,1a1,1,0,1,1,1,1A1,1,0,0,1,6.67,11Zm5.81,2.75a3.84,3.84,0,0,1-2.47.77,3.84,3.84,0,0,1-2.47-.77,0.27,0.27,0,0,1,.38-0.38A3.27,3.27,0,0,0,10,14a3.28,3.28,0,0,0,2.09-.61A0.27,0.27,0,1,1,12.48,13.79Zm-0.18-1.71a1,1,0,1,1,1-1A1,1,0,0,1,12.29,12.08Z\" fill=\"#FFF\"></path></g></svg><svg class=\"_1bWuGs_1sq4Pqy099x_yy-\" viewbox=\"0 0 57 18\" xmlns=\"http://www.w3.org/2000/svg\"><g fill=\"#1c1c1c\"><path d=\"M54.63,16.52V7.68h1a1,1,0,0,0,1.09-1V6.65a1,1,0,0,0-.93-1.12H54.63V3.88a1.23,1.23,0,0,0-1.12-1.23,1.2,1.2,0,0,0-1.27,1.11V5.55h-1a1,1,0,0,0-1.09,1v.07a1,1,0,0,0,.93,1.12h1.13v8.81a1.19,1.19,0,0,0,1.19,1.19h0a1.19,1.19,0,0,0,1.25-1.12A.17.17,0,0,0,54.63,16.52Z\"></path><circle cx=\"47.26\" cy=\"3.44\" fill=\"#FF4500\" r=\"2.12\"></circle><path d=\"M48.44,7.81a1.19,1.19,0,1,0-2.38,0h0v8.71a1.19,1.19,0,0,0,2.38,0Z\"></path><path d=\"M30.84,1.19A1.19,1.19,0,0,0,29.65,0h0a1.19,1.19,0,0,0-1.19,1.19V6.51a4.11,4.11,0,0,0-3-1.21c-3.1,0-5.69,2.85-5.69,6.35S22.28,18,25.42,18a4.26,4.26,0,0,0,3.1-1.23,1.17,1.17,0,0,0,1.47.8,1.2,1.2,0,0,0,.85-1.05ZM25.41,15.64c-1.83,0-3.32-1.77-3.32-4s1.48-4,3.32-4,3.31,1.78,3.31,4-1.47,3.95-3.3,3.95Z\"></path><path d=\"M43.28,1.19A1.19,1.19,0,0,0,42.09,0h0a1.18,1.18,0,0,0-1.18,1.19h0V6.51a4.15,4.15,0,0,0-3-1.21c-3.1,0-5.69,2.85-5.69,6.35S34.72,18,37.86,18A4.26,4.26,0,0,0,41,16.77a1.17,1.17,0,0,0,1.47.8,1.19,1.19,0,0,0,.85-1.05ZM37.85,15.64c-1.83,0-3.31-1.77-3.31-4s1.47-4,3.31-4,3.31,1.78,3.31,4-1.47,3.95-3.3,3.95Z\"></path><path d=\"M17.27,12.44a1.49,1.49,0,0,0,1.59-1.38v-.15a4.81,4.81,0,0,0-.1-.85A5.83,5.83,0,0,0,13.25,5.3c-3.1,0-5.69,2.85-5.69,6.35S10.11,18,13.25,18a5.66,5.66,0,0,0,4.39-1.84,1.23,1.23,0,0,0-.08-1.74l-.11-.09a1.29,1.29,0,0,0-1.58.17,3.91,3.91,0,0,1-2.62,1.12A3.54,3.54,0,0,1,10,12.44h7.27Zm-4-4.76a3.41,3.41,0,0,1,3.09,2.64H10.14A3.41,3.41,0,0,1,13.24,7.68Z\"></path><path d=\"M7.68,6.53a1.19,1.19,0,0,0-1-1.18A4.56,4.56,0,0,0,2.39,6.91V6.75A1.2,1.2,0,0,0,0,6.75v9.77a1.23,1.23,0,0,0,1.12,1.24,1.19,1.19,0,0,0,1.26-1.1.66.66,0,0,0,0-.14v-5A3.62,3.62,0,0,1,5.81,7.7a4.87,4.87,0,0,1,.54,0h.24A1.18,1.18,0,0,0,7.68,6.53Z\"></path></g></svg></a>,\n",
              " <a class=\"_3Wg53T10KuuPmyWOMWsY2F _2iuoyPiKHN3kfOoeIQalDT _2tU8R9NTqhvBrhoNAXWWcP HNozj_dKjQZ59ZsfEegz8 _2nelDm85zKKmuD94NequP0\" href=\"https://www.reddit.com/login/?dest=https%3A%2F%2Fwww.reddit.com%2F\" role=\"button\" tabindex=\"0\">Log In</a>,\n",
              " <a class=\"Z_HUY3BUsGOBOtdmH94ZS _3Wg53T10KuuPmyWOMWsY2F _2iuoyPiKHN3kfOoeIQalDT _10BQ7pjWbeYP63SAPNS8Ts HNozj_dKjQZ59ZsfEegz8 _2nelDm85zKKmuD94NequP0\" href=\"https://www.reddit.com/register/?dest=https%3A%2F%2Fwww.reddit.com%2F\" role=\"button\" tabindex=\"0\">Sign Up</a>,\n",
              " <a class=\"_39Glgtoolpdt4PIzcnjPSW _3LwUIE7yX7CZQKmD2L87vf _3LjUrsRA9MkUFLGB6ZCWaX _1yVJwSS9tASrkJ6R6wvXpT _1oYEKCssGFjqxQ9jJMNj5G _1IKtbRloF_LV1hPqMzP3MC\" href=\"/hot/\" role=\"menuitem\"><span class=\"pthKOcceozMuXLYrLlbL1\"><i class=\"_3HQa2czyzeTD5qteZcHyI2 icon icon-hot\"></i></span><span class=\"_2-cXnP74241WI7fpcpfPmg\">Hot</span></a>,\n",
              " <a class=\"_39Glgtoolpdt4PIzcnjPSW _3LwUIE7yX7CZQKmD2L87vf _3LjUrsRA9MkUFLGB6ZCWaX _1oYEKCssGFjqxQ9jJMNj5G\" href=\"/new/\" role=\"menuitem\"><span class=\"pthKOcceozMuXLYrLlbL1\"><i class=\"_3HQa2czyzeTD5qteZcHyI2 icon icon-new\"></i></span><span class=\"_2-cXnP74241WI7fpcpfPmg\">New</span></a>,\n",
              " <a class=\"_39Glgtoolpdt4PIzcnjPSW _3LwUIE7yX7CZQKmD2L87vf _3LjUrsRA9MkUFLGB6ZCWaX _1oYEKCssGFjqxQ9jJMNj5G\" href=\"/top/\" role=\"menuitem\"><span class=\"pthKOcceozMuXLYrLlbL1\"><i class=\"_3HQa2czyzeTD5qteZcHyI2 icon icon-top\"></i></span><span class=\"_2-cXnP74241WI7fpcpfPmg\">Top</span></a>,\n",
              " <a class=\"_39Glgtoolpdt4PIzcnjPSW _3LwUIE7yX7CZQKmD2L87vf _3LjUrsRA9MkUFLGB6ZCWaX _1oYEKCssGFjqxQ9jJMNj5G\" href=\"/rising/\" role=\"menuitem\"><span class=\"pthKOcceozMuXLYrLlbL1\"><i class=\"_3HQa2czyzeTD5qteZcHyI2 icon icon-rising\"></i></span><span class=\"_2-cXnP74241WI7fpcpfPmg\">Rising</span></a>,\n",
              " <a class=\"M2Hk_S2yvXpsNPfZMBMur _1s79QnBguPbckxiiPvFXGP _2iuoyPiKHN3kfOoeIQalDT _3zbhtNO0bdck0oYbYRhjMC HNozj_dKjQZ59ZsfEegz8\" href=\"/hot/\" role=\"button\" tabindex=\"0\"><i class=\"_2bDYspp_i6ETGHhD6zIa94 _1mvTX6krm3Q2d1CSyUm28s icon icon-hot_fill\"></i><span>Hot</span></a>,\n",
              " <a class=\"M2Hk_S2yvXpsNPfZMBMur _2iuoyPiKHN3kfOoeIQalDT _3zbhtNO0bdck0oYbYRhjMC HNozj_dKjQZ59ZsfEegz8\" href=\"/new/\" role=\"button\" tabindex=\"0\"><i class=\"_2bDYspp_i6ETGHhD6zIa94 _1mvTX6krm3Q2d1CSyUm28s icon icon-new\"></i><span>New</span></a>,\n",
              " <a class=\"M2Hk_S2yvXpsNPfZMBMur _2iuoyPiKHN3kfOoeIQalDT _3zbhtNO0bdck0oYbYRhjMC HNozj_dKjQZ59ZsfEegz8\" href=\"/top/\" role=\"button\" tabindex=\"0\"><i class=\"_2bDYspp_i6ETGHhD6zIa94 _1mvTX6krm3Q2d1CSyUm28s icon icon-top\"></i><span>Top</span></a>,\n",
              " <a class=\"_39Glgtoolpdt4PIzcnjPSW _3LwUIE7yX7CZQKmD2L87vf _3LjUrsRA9MkUFLGB6ZCWaX _1oYEKCssGFjqxQ9jJMNj5G\" href=\"/rising/\" role=\"menuitem\"><span class=\"pthKOcceozMuXLYrLlbL1\"><i class=\"_3HQa2czyzeTD5qteZcHyI2 icon icon-rising\"></i></span><span class=\"_2-cXnP74241WI7fpcpfPmg\">Rising</span></a>,\n",
              " <a class=\"_3ryJoIoycVkA88fy40qNJc\" data-click-id=\"subreddit\" href=\"/r/AskReddit/\"><img alt=\"Subreddit Icon\" class=\"_34CfAAowTqdbNDYXz5tBTW _1WX5Y5qFVBTdr6hCPpARDB\" role=\"presentation\" src=\"https://styles.redditmedia.com/t5_2qh1i/styles/communityIcon_tijjpyw1qe201.png\" style=\"background-color:#646D73\"/></a>,\n",
              " <a class=\"_3jOxDPIQ0KaOWpzvSQo-1s\" data-click-id=\"timestamp\" href=\"https://www.reddit.com/r/AskReddit/comments/ozksxb/whats_the_worst_business_idea_youve_seen_someone/\" rel=\"nofollow noopener noreferrer\" style=\"color:#787C7E\" target=\"_blank\">9 hours ago</a>,\n",
              " <a class=\"SQnoC3ObvgnGjWt90zD9Z _2INHSNB8V5eaWp4P0rY_mE\" data-click-id=\"body\" href=\"/r/AskReddit/comments/ozksxb/whats_the_worst_business_idea_youve_seen_someone/\"><div class=\"_2SdHzo12ISmrC8H86TgSCp _3wqmjmv3tb_k-PROt7qFZe\" style=\"--posttitletextcolor:#222222\"><h3 class=\"_eYtD2XCVieq6emjKBH3m\">What’s the worst business idea you’ve seen someone try to execute?</h3></div></a>,\n",
              " <a class=\"_1UoeAeSRhOKSNdY_h3iS1O _1Hw7tY9pMr-T1F4P1C-xNU _3U_7i38RDPV5eBv7m4M-9J _2qww3J5KKzsD7e5DO0BvvU\" data-click-id=\"comments\" data-test-id=\"comments-page-link-num-comments\" href=\"/r/AskReddit/comments/ozksxb/whats_the_worst_business_idea_youve_seen_someone/\" rel=\"nofollow\"><i class=\"icon icon-comment _3DVrpDrMM9NLT6TlsTUMxC\" role=\"presentation\"></i><span class=\"FHCV02u6Cp2zYL0fhQPsO\">4.9k comments</span></a>,\n",
              " <a class=\"_3ryJoIoycVkA88fy40qNJc\" data-click-id=\"subreddit\" href=\"/r/taiwan/\"><img alt=\"Subreddit Icon\" class=\"_34CfAAowTqdbNDYXz5tBTW _1WX5Y5qFVBTdr6hCPpARDB\" role=\"presentation\" src=\"https://styles.redditmedia.com/t5_2qhrg/styles/communityIcon_d1cso044dj861.png\" style=\"background-color:#EDEFF1\"/></a>,\n",
              " <a class=\"_3jOxDPIQ0KaOWpzvSQo-1s\" data-click-id=\"timestamp\" href=\"https://www.reddit.com/r/taiwan/comments/ozo9y3/my_favourite_asian_country_czechoslovakia/\" rel=\"nofollow noopener noreferrer\" style=\"color:#787C7E\" target=\"_blank\">5 hours ago</a>,\n",
              " <a class=\"SQnoC3ObvgnGjWt90zD9Z _2INHSNB8V5eaWp4P0rY_mE\" data-click-id=\"body\" href=\"/r/taiwan/comments/ozo9y3/my_favourite_asian_country_czechoslovakia/\"><div class=\"_2SdHzo12ISmrC8H86TgSCp _3wqmjmv3tb_k-PROt7qFZe\" style=\"--posttitletextcolor:#222222\"><h3 class=\"_eYtD2XCVieq6emjKBH3m\">My favourite Asian country Czechoslovakia</h3></div></a>,\n",
              " <a class=\"_3jOxDPIQ0KaOWpzvSQo-1s\" data-click-id=\"timestamp\" href=\"https://www.reddit.com/r/geography/comments/oyw8ls/my_favourite_asian_country_czechoslovakia/\" rel=\"nofollow noopener noreferrer\" style=\"color:#787C7E\" target=\"_blank\">1 day ago</a>,\n",
              " <a class=\"SQnoC3ObvgnGjWt90zD9Z _2INHSNB8V5eaWp4P0rY_mE\" data-click-id=\"body\" href=\"/r/geography/comments/oyw8ls/my_favourite_asian_country_czechoslovakia/\"><div class=\"_2SdHzo12ISmrC8H86TgSCp uWdXen_41bh0iwLrgzFkc\" style=\"--posttitletextcolor:#222222\"><h3 class=\"_eYtD2XCVieq6emjKBH3m\">My favourite Asian country Czechoslovakia</h3></div></a>,\n",
              " <a href=\"/r/geography/comments/oyw8ls/my_favourite_asian_country_czechoslovakia/\"><div class=\"_3Oa0THmZ3f5iZXAQ0hBJ0k\" style=\"max-height:512px;margin:0 auto\"><div><img alt=\"Post image\" class=\"_2_tDEnGMLxpM6uOa2kaDB3 ImageBox-image media-element _1XWObl-3b9tPy64oaG6fax\" src=\"https://preview.redd.it/f8s12vze0nf71.jpg?width=640&amp;height=853&amp;crop=smart&amp;auto=webp&amp;s=8890c85da8ad915da55c481bda1bce89e8eb6928\" style=\"max-height:512px\"/></div></div></a>,\n",
              " <a data-click-id=\"comments\" href=\"/r/geography/comments/oyw8ls/my_favourite_asian_country_czechoslovakia/\">34 comments</a>,\n",
              " <a class=\"_1UoeAeSRhOKSNdY_h3iS1O _1Hw7tY9pMr-T1F4P1C-xNU _3U_7i38RDPV5eBv7m4M-9J _2qww3J5KKzsD7e5DO0BvvU\" data-click-id=\"comments\" data-test-id=\"comments-page-link-num-comments\" href=\"/r/taiwan/comments/ozo9y3/my_favourite_asian_country_czechoslovakia/\" rel=\"nofollow\"><i class=\"icon icon-comment _3DVrpDrMM9NLT6TlsTUMxC\" role=\"presentation\"></i><span class=\"FHCV02u6Cp2zYL0fhQPsO\">28 comments</span></a>,\n",
              " <a class=\"_3ryJoIoycVkA88fy40qNJc\" data-click-id=\"subreddit\" href=\"/r/WatchPeopleDieInside/\"><img alt=\"Subreddit Icon\" class=\"_34CfAAowTqdbNDYXz5tBTW _1WX5Y5qFVBTdr6hCPpARDB\" role=\"presentation\" src=\"https://a.thumbs.redditmedia.com/tbLwsQpnObxDoRK-zP_O5-vAgnYemyDmGFSqyUVe5s0.png\" style=\"background-color:#0079D3\"/></a>,\n",
              " <a class=\"_3jOxDPIQ0KaOWpzvSQo-1s\" data-click-id=\"timestamp\" href=\"https://www.reddit.com/r/WatchPeopleDieInside/comments/ozo2t3/an_introvert_among_extroverts/\" rel=\"nofollow noopener noreferrer\" style=\"color:#787C7E\" target=\"_blank\">5 hours ago</a>,\n",
              " <a class=\"SQnoC3ObvgnGjWt90zD9Z _2INHSNB8V5eaWp4P0rY_mE\" data-click-id=\"body\" href=\"/r/WatchPeopleDieInside/comments/ozo2t3/an_introvert_among_extroverts/\"><div class=\"_2SdHzo12ISmrC8H86TgSCp _3wqmjmv3tb_k-PROt7qFZe\" style=\"--posttitletextcolor:#222222\"><h3 class=\"_eYtD2XCVieq6emjKBH3m\">An introvert among extroverts</h3></div></a>,\n",
              " <a class=\"_13svhQIUZqD9PVzFcLwOKT styled-outbound-link\" data-testid=\"outbound-link\" href=\"https://gfycat.com/gloomyagonizingdog\" post=\"[object Object]\" rel=\"noopener nofollow ugc\" target=\"_blank\">gfycat.com/gloomy...<i class=\"icon icon-external_link_fill _2WV2dTLgPlEXLVEmIexAxf\"></i></a>,\n",
              " <a class=\"_1UoeAeSRhOKSNdY_h3iS1O _1Hw7tY9pMr-T1F4P1C-xNU _3U_7i38RDPV5eBv7m4M-9J _2qww3J5KKzsD7e5DO0BvvU\" data-click-id=\"comments\" data-test-id=\"comments-page-link-num-comments\" href=\"/r/WatchPeopleDieInside/comments/ozo2t3/an_introvert_among_extroverts/\" rel=\"nofollow\"><i class=\"icon icon-comment _3DVrpDrMM9NLT6TlsTUMxC\" role=\"presentation\"></i><span class=\"FHCV02u6Cp2zYL0fhQPsO\">1.1k comments</span></a>,\n",
              " <a class=\"_3ryJoIoycVkA88fy40qNJc\" data-click-id=\"subreddit\" href=\"/r/taiwan/\"><img alt=\"Subreddit Icon\" class=\"_34CfAAowTqdbNDYXz5tBTW _1WX5Y5qFVBTdr6hCPpARDB\" role=\"presentation\" src=\"https://styles.redditmedia.com/t5_2qhrg/styles/communityIcon_d1cso044dj861.png\" style=\"background-color:#EDEFF1\"/></a>,\n",
              " <a class=\"_3jOxDPIQ0KaOWpzvSQo-1s\" data-click-id=\"timestamp\" href=\"https://www.reddit.com/r/taiwan/comments/oznw4d/10_new_confirmed_cases_of_covid19_6_local_and_4/\" rel=\"nofollow noopener noreferrer\" style=\"color:#787C7E\" target=\"_blank\">5 hours ago</a>,\n",
              " <a class=\"SQnoC3ObvgnGjWt90zD9Z _2INHSNB8V5eaWp4P0rY_mE\" data-click-id=\"body\" href=\"/r/taiwan/comments/oznw4d/10_new_confirmed_cases_of_covid19_6_local_and_4/\"><div class=\"_2SdHzo12ISmrC8H86TgSCp _3wqmjmv3tb_k-PROt7qFZe\" style=\"--posttitletextcolor:#222222\"><h3 class=\"_eYtD2XCVieq6emjKBH3m\">10 new confirmed cases of COVID-19, 6 local and 4 overseas immigration</h3></div></a>,\n",
              " <a href=\"/r/taiwan/?f=flair_name%3A%22News%22\"><div class=\"_2X6EB3ZhEeXCh1eIVA64XM _2hSecp_zkPm_s5ddV2htoj _2VqfzH0dZ9dIl3XWNxs42y aJrgrewN9C8x1Fusdx4hh\" style=\"background-color:#EA0027;color:#FFFFFF\"><span>News</span></div></a>,\n",
              " <a class=\"_13svhQIUZqD9PVzFcLwOKT styled-outbound-link\" data-testid=\"outbound-link\" href=\"https://www.cdc.gov.tw/Bulletin/Detail/rEkGqTzLoF3TtCb1mBaaSg?typeid=9\" post=\"[object Object]\" rel=\"noopener nofollow ugc\" target=\"_blank\">cdc.gov.tw/Bullet...<i class=\"icon icon-external_link_fill _2WV2dTLgPlEXLVEmIexAxf\"></i></a>,\n",
              " <a class=\"_1UoeAeSRhOKSNdY_h3iS1O _1Hw7tY9pMr-T1F4P1C-xNU _3U_7i38RDPV5eBv7m4M-9J _2qww3J5KKzsD7e5DO0BvvU\" data-click-id=\"comments\" data-test-id=\"comments-page-link-num-comments\" href=\"/r/taiwan/comments/oznw4d/10_new_confirmed_cases_of_covid19_6_local_and_4/\" rel=\"nofollow\"><i class=\"icon icon-comment _3DVrpDrMM9NLT6TlsTUMxC\" role=\"presentation\"></i><span class=\"FHCV02u6Cp2zYL0fhQPsO\">20 comments</span></a>,\n",
              " <a class=\"_3ryJoIoycVkA88fy40qNJc\" data-click-id=\"subreddit\" href=\"/r/taiwan/\"><img alt=\"Subreddit Icon\" class=\"_34CfAAowTqdbNDYXz5tBTW _1WX5Y5qFVBTdr6hCPpARDB\" role=\"presentation\" src=\"https://styles.redditmedia.com/t5_2qhrg/styles/communityIcon_d1cso044dj861.png\" style=\"background-color:#EDEFF1\"/></a>,\n",
              " <a class=\"_3jOxDPIQ0KaOWpzvSQo-1s\" data-click-id=\"timestamp\" href=\"https://www.reddit.com/r/taiwan/comments/ozn3mx/hanging_out_in_the_rain_in_hsinchu/\" rel=\"nofollow noopener noreferrer\" style=\"color:#787C7E\" target=\"_blank\">6 hours ago</a>,\n",
              " <a class=\"SQnoC3ObvgnGjWt90zD9Z _2INHSNB8V5eaWp4P0rY_mE\" data-click-id=\"body\" href=\"/r/taiwan/comments/ozn3mx/hanging_out_in_the_rain_in_hsinchu/\"><div class=\"_2SdHzo12ISmrC8H86TgSCp _3wqmjmv3tb_k-PROt7qFZe\" style=\"--posttitletextcolor:#222222\"><h3 class=\"_eYtD2XCVieq6emjKBH3m\">Hanging out in the rain in Hsinchu</h3></div></a>,\n",
              " <a href=\"/r/taiwan/comments/ozn3mx/hanging_out_in_the_rain_in_hsinchu/\"><div class=\"_3Oa0THmZ3f5iZXAQ0hBJ0k\" style=\"max-height:512px;margin:0 auto\"><div><img alt=\"Post image\" class=\"_2_tDEnGMLxpM6uOa2kaDB3 ImageBox-image media-element _1XWObl-3b9tPy64oaG6fax\" src=\"https://preview.redd.it/j5k03iflbvf71.jpg?width=640&amp;height=853&amp;crop=smart&amp;auto=webp&amp;s=cdfaec0ad921cd68c41837e2c5f74762a5bc4aad\" style=\"max-height:512px\"/></div></div></a>,\n",
              " <a class=\"_1UoeAeSRhOKSNdY_h3iS1O _1Hw7tY9pMr-T1F4P1C-xNU _3U_7i38RDPV5eBv7m4M-9J _2qww3J5KKzsD7e5DO0BvvU\" data-click-id=\"comments\" data-test-id=\"comments-page-link-num-comments\" href=\"/r/taiwan/comments/ozn3mx/hanging_out_in_the_rain_in_hsinchu/\" rel=\"nofollow\"><i class=\"icon icon-comment _3DVrpDrMM9NLT6TlsTUMxC\" role=\"presentation\"></i><span class=\"FHCV02u6Cp2zYL0fhQPsO\">10 comments</span></a>,\n",
              " <a class=\"_3ryJoIoycVkA88fy40qNJc\" data-click-id=\"subreddit\" href=\"/r/LivestreamFail/\"><img alt=\"Subreddit Icon\" class=\"_34CfAAowTqdbNDYXz5tBTW _1WX5Y5qFVBTdr6hCPpARDB\" role=\"presentation\" src=\"https://styles.redditmedia.com/t5_38jf0/styles/communityIcon_9o27r8mvttb51.png\" style=\"background-color:#0079D3\"/></a>,\n",
              " <a class=\"_3jOxDPIQ0KaOWpzvSQo-1s\" data-click-id=\"timestamp\" href=\"https://www.reddit.com/r/LivestreamFail/comments/ozp89y/xqcs_statement_on_his_relationship_with_adept/\" rel=\"nofollow noopener noreferrer\" style=\"color:#787C7E\" target=\"_blank\">3 hours ago</a>,\n",
              " <a class=\"SQnoC3ObvgnGjWt90zD9Z _2INHSNB8V5eaWp4P0rY_mE\" data-click-id=\"body\" href=\"/r/LivestreamFail/comments/ozp89y/xqcs_statement_on_his_relationship_with_adept/\"><div class=\"_2SdHzo12ISmrC8H86TgSCp _3wqmjmv3tb_k-PROt7qFZe\" style=\"--posttitletextcolor:#222222\"><h3 class=\"_eYtD2XCVieq6emjKBH3m\">xQc's statement on his relationship with Adept</h3></div></a>,\n",
              " <a href=\"/r/LivestreamFail/?f=flair_name%3A%22Drama%22\"><div class=\"_2X6EB3ZhEeXCh1eIVA64XM _2hSecp_zkPm_s5ddV2htoj _2VqfzH0dZ9dIl3XWNxs42y aJrgrewN9C8x1Fusdx4hh\" style=\"background-color:#CA73EA;color:#FFFFFF\"><span>Drama</span></div></a>,\n",
              " <a class=\"_13svhQIUZqD9PVzFcLwOKT styled-outbound-link\" data-testid=\"outbound-link\" href=\"https://twitter.com/xQc/status/1423916075989667848\" post=\"[object Object]\" rel=\"noopener nofollow ugc\" target=\"_blank\">twitter.com/xQc/st...<i class=\"icon icon-external_link_fill _2WV2dTLgPlEXLVEmIexAxf\"></i></a>,\n",
              " <a class=\"_1UoeAeSRhOKSNdY_h3iS1O _1Hw7tY9pMr-T1F4P1C-xNU _3U_7i38RDPV5eBv7m4M-9J _2qww3J5KKzsD7e5DO0BvvU\" data-click-id=\"comments\" data-test-id=\"comments-page-link-num-comments\" href=\"/r/LivestreamFail/comments/ozp89y/xqcs_statement_on_his_relationship_with_adept/\" rel=\"nofollow\"><i class=\"icon icon-comment _3DVrpDrMM9NLT6TlsTUMxC\" role=\"presentation\"></i><span class=\"FHCV02u6Cp2zYL0fhQPsO\">571 comments</span></a>,\n",
              " <a class=\"_3Eyh3vRo5o4IfzVZXhaWAG\" href=\"https://www.redditinc.com/policies/user-agreement\">User Agreement</a>,\n",
              " <a class=\"_3Eyh3vRo5o4IfzVZXhaWAG\" href=\"https://www.redditinc.com/policies/privacy-policy\">Privacy policy</a>,\n",
              " <a class=\"_3Eyh3vRo5o4IfzVZXhaWAG\" href=\"https://www.redditinc.com/policies/content-policy\">Content policy</a>,\n",
              " <a class=\"_3Eyh3vRo5o4IfzVZXhaWAG\" href=\"https://www.redditinc.com/policies/moderator-guidelines\">Moderator Guidelines</a>]"
            ]
          },
          "metadata": {
            "tags": []
          },
          "execution_count": 37
        }
      ]
    },
    {
      "cell_type": "code",
      "metadata": {
        "id": "4cKvKhUGvgHX"
      },
      "source": [
        "# We will explore all the links from reddit\n",
        "reddit_link_tags = find_tag_with_attributes(docreddit,'a',{'class':'_3Eyh3vRo5o4IfzVZXhaWAG'})"
      ],
      "id": "4cKvKhUGvgHX",
      "execution_count": null,
      "outputs": []
    },
    {
      "cell_type": "code",
      "metadata": {
        "colab": {
          "base_uri": "https://localhost:8080/"
        },
        "id": "DyMRPfZ_v6Rb",
        "outputId": "722a3d42-a9e9-4996-f500-6b0d2ed61b88"
      },
      "source": [
        "reddit_link_tags"
      ],
      "id": "DyMRPfZ_v6Rb",
      "execution_count": null,
      "outputs": [
        {
          "output_type": "execute_result",
          "data": {
            "text/plain": [
              "[<a class=\"_3Eyh3vRo5o4IfzVZXhaWAG\" href=\"https://www.redditinc.com/policies/user-agreement\">User Agreement</a>,\n",
              " <a class=\"_3Eyh3vRo5o4IfzVZXhaWAG\" href=\"https://www.redditinc.com/policies/privacy-policy\">Privacy policy</a>,\n",
              " <a class=\"_3Eyh3vRo5o4IfzVZXhaWAG\" href=\"https://www.redditinc.com/policies/content-policy\">Content policy</a>,\n",
              " <a class=\"_3Eyh3vRo5o4IfzVZXhaWAG\" href=\"https://www.redditinc.com/policies/moderator-guidelines\">Moderator Guidelines</a>]"
            ]
          },
          "metadata": {
            "tags": []
          },
          "execution_count": 39
        }
      ]
    },
    {
      "cell_type": "code",
      "metadata": {
        "colab": {
          "base_uri": "https://localhost:8080/"
        },
        "id": "FEHcBI1ix2zO",
        "outputId": "d7bdce11-7319-40d9-9d73-ebb673807363"
      },
      "source": [
        "reddit_links = []\n",
        "\n",
        "\n",
        "for tag in reddit_link_tags:\n",
        "    reddit_links.append({ 'title': tag.text.strip(), 'url': tag['href']})\n",
        "    \n",
        "reddit_links"
      ],
      "id": "FEHcBI1ix2zO",
      "execution_count": null,
      "outputs": [
        {
          "output_type": "execute_result",
          "data": {
            "text/plain": [
              "[{'title': 'User Agreement',\n",
              "  'url': 'https://www.redditinc.com/policies/user-agreement'},\n",
              " {'title': 'Privacy policy',\n",
              "  'url': 'https://www.redditinc.com/policies/privacy-policy'},\n",
              " {'title': 'Content policy',\n",
              "  'url': 'https://www.redditinc.com/policies/content-policy'},\n",
              " {'title': 'Moderator Guidelines',\n",
              "  'url': 'https://www.redditinc.com/policies/moderator-guidelines'}]"
            ]
          },
          "metadata": {
            "tags": []
          },
          "execution_count": 40
        }
      ]
    },
    {
      "cell_type": "code",
      "metadata": {
        "id": "UiSClD7T0ZpS"
      },
      "source": [
        "def findChildren(beautyobject,tagvalue,childvalue,classname,deeper=False):\n",
        "  '''\n",
        "  Get for a tag and its child and little child.\n",
        "  :param arg1: the beautifulsoup object linked to the data scraped\n",
        "  :param arg2: the tag for which you search for its child\n",
        "  :param arg3: the tag for child you are searching for\n",
        "  :param arg4: the class for father tag\n",
        "  :param arg5: the deeper you want to go in the tree\n",
        "  :type arg1: BeautifulSoup object\n",
        "  :type arg2: str\n",
        "  :type arg3: str\n",
        "  :type arg4: str\n",
        "  :type arg5: boolean\n",
        "  :return: a list of children of the tag\n",
        "  '''\n",
        "  return beautyobject.find(tagvalue,class_=classname).find_all(childvalue,recursive= deeper)\n",
        "  \n",
        "\n"
      ],
      "id": "UiSClD7T0ZpS",
      "execution_count": null,
      "outputs": []
    },
    {
      "cell_type": "code",
      "metadata": {
        "id": "5yXMg_Q9kAgS"
      },
      "source": [
        "l = findChildren(docreddit,'div','div','STit0dLageRsa2yR4te_b')"
      ],
      "id": "5yXMg_Q9kAgS",
      "execution_count": null,
      "outputs": []
    },
    {
      "cell_type": "code",
      "metadata": {
        "colab": {
          "base_uri": "https://localhost:8080/"
        },
        "id": "zvLHesGdnOoB",
        "outputId": "b0396e49-c595-4a01-fd15-c86d97e98a7a"
      },
      "source": [
        "print(l)"
      ],
      "id": "zvLHesGdnOoB",
      "execution_count": null,
      "outputs": [
        {
          "output_type": "stream",
          "text": [
            "[]\n"
          ],
          "name": "stdout"
        }
      ]
    },
    {
      "cell_type": "code",
      "metadata": {
        "id": "pw9I54lGnOst"
      },
      "source": [
        "def findTagAttr(doc,tagname,classname,*attributes):\n",
        "  '''\n",
        "  Get a list of dictionnaries representing for each tag of class classname theirs attributes and their values \n",
        "    :param arg1: the reference for the BeautifulSoup object created\n",
        "    :param arg2: the name of the  tag\n",
        "    :param arg3: the name of the class of the tag\n",
        "    :param arg4: the list of attributes we need\n",
        "    :type arg1: BeautifulSoup object\n",
        "    :type arg2: str\n",
        "    :type arg3: str\n",
        "    :type arg4: list of variables arguments\n",
        "    :return : a list of  dictionnaries where the attributes names are the keys and their values the corresponding values\n",
        "  '''\n",
        "  attrList = []\n",
        "  tags = find_tag_with_attributes(docreddit,tagname,{'class':classname})\n",
        "  for tag in tags:\n",
        "    \n",
        "    listval = []\n",
        "    for attr in attributes:\n",
        "      listval.append(tag[attr])\n",
        "      # Add the text of the tag\n",
        "      \n",
        "    dictattr = dict(zip(list(attributes),listval))\n",
        "    # Add the text of the tag if it exists\n",
        "    if tag.text!= '':\n",
        "      dictattr['text']=tag.text.strip()\n",
        "    attrList.append(dictattr)\n",
        "  return attrList\n",
        "  \n"
      ],
      "id": "pw9I54lGnOst",
      "execution_count": null,
      "outputs": []
    },
    {
      "cell_type": "code",
      "metadata": {
        "id": "xrndtLVXVGho"
      },
      "source": [
        "dictscrape = findTagAttr(doc,'a','_3Eyh3vRo5o4IfzVZXhaWAG','href')"
      ],
      "id": "xrndtLVXVGho",
      "execution_count": null,
      "outputs": []
    },
    {
      "cell_type": "code",
      "metadata": {
        "colab": {
          "base_uri": "https://localhost:8080/"
        },
        "id": "T57GrLI5bAIV",
        "outputId": "3b5fed37-f8d5-4f55-b17e-38833bf8aaa0"
      },
      "source": [
        "dictscrape"
      ],
      "id": "T57GrLI5bAIV",
      "execution_count": null,
      "outputs": [
        {
          "output_type": "execute_result",
          "data": {
            "text/plain": [
              "[{'href': 'https://www.redditinc.com/policies/user-agreement',\n",
              "  'text': 'User Agreement'},\n",
              " {'href': 'https://www.redditinc.com/policies/privacy-policy',\n",
              "  'text': 'Privacy policy'},\n",
              " {'href': 'https://www.redditinc.com/policies/content-policy',\n",
              "  'text': 'Content policy'},\n",
              " {'href': 'https://www.redditinc.com/policies/moderator-guidelines',\n",
              "  'text': 'Moderator Guidelines'}]"
            ]
          },
          "metadata": {
            "tags": []
          },
          "execution_count": 57
        }
      ]
    },
    {
      "cell_type": "markdown",
      "metadata": {
        "id": "9WF6r4hoZ0if"
      },
      "source": [
        "## Write the dictionnary to a csv file"
      ],
      "id": "9WF6r4hoZ0if"
    },
    {
      "cell_type": "code",
      "metadata": {
        "id": "Y350P5ZJZ0Dv"
      },
      "source": [
        ""
      ],
      "id": "Y350P5ZJZ0Dv",
      "execution_count": null,
      "outputs": []
    },
    {
      "cell_type": "code",
      "metadata": {
        "id": "9samGRi6ZJfW"
      },
      "source": [
        "def write_csv(items, path):\n",
        "    # Open the file in write mode\n",
        "    with open(path, 'w') as f:\n",
        "        # Return if there's nothing to write\n",
        "        if len(items) == 0:\n",
        "            return\n",
        "        \n",
        "        # Write the headers in the first line\n",
        "        headers = list(items[0].keys())\n",
        "        f.write(','.join(headers) + '\\n')\n",
        "        \n",
        "        # Write one item per line\n",
        "        for item in items:\n",
        "            values = []\n",
        "            for header in headers:\n",
        "                values.append(item.get(header, \"\"))\n",
        "            f.write(','.join(values) + \"\\n\")"
      ],
      "id": "9samGRi6ZJfW",
      "execution_count": null,
      "outputs": []
    },
    {
      "cell_type": "code",
      "metadata": {
        "id": "VcaGGIW-aIfV"
      },
      "source": [
        "write_csv(dictscrape, 'datascrape.csv')"
      ],
      "id": "VcaGGIW-aIfV",
      "execution_count": null,
      "outputs": []
    }
  ]
}