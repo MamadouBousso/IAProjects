{
  "nbformat": 4,
  "nbformat_minor": 0,
  "metadata": {
    "kernelspec": {
      "display_name": "Python 3",
      "language": "python",
      "name": "python3"
    },
    "language_info": {
      "codemirror_mode": {
        "name": "ipython",
        "version": 3
      },
      "file_extension": ".py",
      "mimetype": "text/x-python",
      "name": "python",
      "nbconvert_exporter": "python",
      "pygments_lexer": "ipython3",
      "version": "3.6.2"
    },
    "colab": {
      "name": "ProjetFinalAlgo.ipynb",
      "provenance": [],
      "toc_visible": true,
      "include_colab_link": true
    }
  },
  "cells": [
    {
      "cell_type": "markdown",
      "metadata": {
        "id": "view-in-github",
        "colab_type": "text"
      },
      "source": [
        "<a href=\"https://colab.research.google.com/github/MamadouBousso/IAProjects/blob/master/ProjetFinalAlgo.ipynb\" target=\"_parent\"><img src=\"https://colab.research.google.com/assets/colab-badge.svg\" alt=\"Open In Colab\"/></a>"
      ]
    },
    {
      "cell_type": "markdown",
      "metadata": {
        "id": "GWB8C-MGyp8Y",
        "colab_type": "text"
      },
      "source": [
        "## Projet final algorithmique\n",
        "### Objectifs\n",
        "* Decouvrir les librairies pandas, networkx, folium\n",
        "* Comprendre les ADT et implementer une File, une Pile\n",
        "https://en.wikipedia.org/wiki/Abstract_data_type\n",
        "* Comprendre les methodes de parcours de graphe\n",
        "* BFS ou parcours en largeur https://fr.wikipedia.org/wiki/Algorithme_de_parcours_en_largeur\n",
        "* DFS ou parcours en profondeur\n",
        "https://fr.wikipedia.org/wiki/Algorithme_de_parcours_en_profondeur\n",
        "* Comprendre les heuristiques de search en IA\n",
        "https://online-learning.harvard.edu/course/cs50s-introduction-artificial-intelligence-python"
      ]
    },
    {
      "cell_type": "markdown",
      "metadata": {
        "id": "KTUNwkMCyp8Z",
        "colab_type": "text"
      },
      "source": [
        "### Partie 1\n",
        "* Decouvrir les librairies pandas, networkx, folium"
      ]
    },
    {
      "cell_type": "code",
      "metadata": {
        "id": "DTpBzmvLzBOw",
        "colab_type": "code",
        "colab": {
          "base_uri": "https://localhost:8080/",
          "height": 54
        },
        "outputId": "921b7914-b766-4432-c67b-30c4164ecae3"
      },
      "source": [
        "from google.colab import drive\n",
        "drive.mount('/content/drive')"
      ],
      "execution_count": 7,
      "outputs": [
        {
          "output_type": "stream",
          "text": [
            "Drive already mounted at /content/drive; to attempt to forcibly remount, call drive.mount(\"/content/drive\", force_remount=True).\n"
          ],
          "name": "stdout"
        }
      ]
    },
    {
      "cell_type": "code",
      "metadata": {
        "id": "MBDCmy22yp8a",
        "colab_type": "code",
        "colab": {}
      },
      "source": [
        "import pandas as pd\n",
        "import networkx as nx\n",
        "import matplotlib.pyplot as plt\n",
        "import csv\n",
        "\n",
        "%matplotlib inline"
      ],
      "execution_count": 6,
      "outputs": []
    },
    {
      "cell_type": "code",
      "metadata": {
        "id": "N00qG3p5zS1B",
        "colab_type": "code",
        "colab": {}
      },
      "source": [
        "data = '/content/drive/My Drive/Colab Notebooks/ProjetMasterALgo/ProjetGraph/data'"
      ],
      "execution_count": 8,
      "outputs": []
    },
    {
      "cell_type": "markdown",
      "metadata": {
        "id": "ofVja6mxyp8e",
        "colab_type": "text"
      },
      "source": [
        "### Lire le fichier de graphe avec pandas en utilisant read_csv\n",
        "* Documentation sur pandas: http://www.python-simple.com/python-pandas/dataframes-indexation.php"
      ]
    },
    {
      "cell_type": "code",
      "metadata": {
        "id": "uF3dVeLzyp8f",
        "colab_type": "code",
        "colab": {}
      },
      "source": [
        "transport_nodes = pd.read_csv(data+'/transport-nodes.csv')"
      ],
      "execution_count": 11,
      "outputs": []
    },
    {
      "cell_type": "code",
      "metadata": {
        "id": "nZXBU_Qwyp8i",
        "colab_type": "code",
        "colab": {},
        "outputId": "f39a2b28-9293-4c49-f5f9-4f61a64472be"
      },
      "source": [
        "transport_nodes"
      ],
      "execution_count": null,
      "outputs": [
        {
          "output_type": "execute_result",
          "data": {
            "text/html": [
              "<div>\n",
              "<style>\n",
              "    .dataframe thead tr:only-child th {\n",
              "        text-align: right;\n",
              "    }\n",
              "\n",
              "    .dataframe thead th {\n",
              "        text-align: left;\n",
              "    }\n",
              "\n",
              "    .dataframe tbody tr th {\n",
              "        vertical-align: top;\n",
              "    }\n",
              "</style>\n",
              "<table border=\"1\" class=\"dataframe\">\n",
              "  <thead>\n",
              "    <tr style=\"text-align: right;\">\n",
              "      <th></th>\n",
              "      <th>id</th>\n",
              "      <th>latitude</th>\n",
              "      <th>longitude</th>\n",
              "      <th>population</th>\n",
              "    </tr>\n",
              "  </thead>\n",
              "  <tbody>\n",
              "    <tr>\n",
              "      <th>0</th>\n",
              "      <td>Amsterdam</td>\n",
              "      <td>52.379189</td>\n",
              "      <td>4.899431</td>\n",
              "      <td>821752</td>\n",
              "    </tr>\n",
              "    <tr>\n",
              "      <th>1</th>\n",
              "      <td>Utrecht</td>\n",
              "      <td>52.092876</td>\n",
              "      <td>5.104480</td>\n",
              "      <td>334176</td>\n",
              "    </tr>\n",
              "    <tr>\n",
              "      <th>2</th>\n",
              "      <td>Den Haag</td>\n",
              "      <td>52.078663</td>\n",
              "      <td>4.288788</td>\n",
              "      <td>514861</td>\n",
              "    </tr>\n",
              "    <tr>\n",
              "      <th>3</th>\n",
              "      <td>Immingham</td>\n",
              "      <td>53.612390</td>\n",
              "      <td>-0.222190</td>\n",
              "      <td>9642</td>\n",
              "    </tr>\n",
              "    <tr>\n",
              "      <th>4</th>\n",
              "      <td>Doncaster</td>\n",
              "      <td>53.522850</td>\n",
              "      <td>-1.131160</td>\n",
              "      <td>302400</td>\n",
              "    </tr>\n",
              "    <tr>\n",
              "      <th>5</th>\n",
              "      <td>Hoek van Holland</td>\n",
              "      <td>51.977500</td>\n",
              "      <td>4.133330</td>\n",
              "      <td>9382</td>\n",
              "    </tr>\n",
              "    <tr>\n",
              "      <th>6</th>\n",
              "      <td>Felixstowe</td>\n",
              "      <td>51.963750</td>\n",
              "      <td>1.351100</td>\n",
              "      <td>23689</td>\n",
              "    </tr>\n",
              "    <tr>\n",
              "      <th>7</th>\n",
              "      <td>Ipswich</td>\n",
              "      <td>52.059170</td>\n",
              "      <td>1.155450</td>\n",
              "      <td>133384</td>\n",
              "    </tr>\n",
              "    <tr>\n",
              "      <th>8</th>\n",
              "      <td>Colchester</td>\n",
              "      <td>51.889210</td>\n",
              "      <td>0.904210</td>\n",
              "      <td>104390</td>\n",
              "    </tr>\n",
              "    <tr>\n",
              "      <th>9</th>\n",
              "      <td>London</td>\n",
              "      <td>51.509865</td>\n",
              "      <td>-0.118092</td>\n",
              "      <td>8787892</td>\n",
              "    </tr>\n",
              "    <tr>\n",
              "      <th>10</th>\n",
              "      <td>Rotterdam</td>\n",
              "      <td>51.922500</td>\n",
              "      <td>4.479170</td>\n",
              "      <td>623652</td>\n",
              "    </tr>\n",
              "    <tr>\n",
              "      <th>11</th>\n",
              "      <td>Gouda</td>\n",
              "      <td>52.016670</td>\n",
              "      <td>4.708330</td>\n",
              "      <td>70939</td>\n",
              "    </tr>\n",
              "  </tbody>\n",
              "</table>\n",
              "</div>"
            ],
            "text/plain": [
              "                  id   latitude  longitude  population\n",
              "0          Amsterdam  52.379189   4.899431      821752\n",
              "1            Utrecht  52.092876   5.104480      334176\n",
              "2           Den Haag  52.078663   4.288788      514861\n",
              "3          Immingham  53.612390  -0.222190        9642\n",
              "4          Doncaster  53.522850  -1.131160      302400\n",
              "5   Hoek van Holland  51.977500   4.133330        9382\n",
              "6         Felixstowe  51.963750   1.351100       23689\n",
              "7            Ipswich  52.059170   1.155450      133384\n",
              "8         Colchester  51.889210   0.904210      104390\n",
              "9             London  51.509865  -0.118092     8787892\n",
              "10         Rotterdam  51.922500   4.479170      623652\n",
              "11             Gouda  52.016670   4.708330       70939"
            ]
          },
          "metadata": {
            "tags": []
          },
          "execution_count": 3
        }
      ]
    },
    {
      "cell_type": "code",
      "metadata": {
        "id": "SRVUV3Qlyp8l",
        "colab_type": "code",
        "colab": {}
      },
      "source": [
        "transport_arcs = pd.read_csv(data+'/transport-relationships.csv')"
      ],
      "execution_count": 12,
      "outputs": []
    },
    {
      "cell_type": "code",
      "metadata": {
        "id": "SQBMI_OGyp8o",
        "colab_type": "code",
        "colab": {},
        "outputId": "7df1921c-c0f3-44e3-9649-8941a2e8748f"
      },
      "source": [
        "transport_arcs"
      ],
      "execution_count": null,
      "outputs": [
        {
          "output_type": "execute_result",
          "data": {
            "text/html": [
              "<div>\n",
              "<style>\n",
              "    .dataframe thead tr:only-child th {\n",
              "        text-align: right;\n",
              "    }\n",
              "\n",
              "    .dataframe thead th {\n",
              "        text-align: left;\n",
              "    }\n",
              "\n",
              "    .dataframe tbody tr th {\n",
              "        vertical-align: top;\n",
              "    }\n",
              "</style>\n",
              "<table border=\"1\" class=\"dataframe\">\n",
              "  <thead>\n",
              "    <tr style=\"text-align: right;\">\n",
              "      <th></th>\n",
              "      <th>src</th>\n",
              "      <th>dst</th>\n",
              "      <th>relationship</th>\n",
              "      <th>cost</th>\n",
              "    </tr>\n",
              "  </thead>\n",
              "  <tbody>\n",
              "    <tr>\n",
              "      <th>0</th>\n",
              "      <td>Amsterdam</td>\n",
              "      <td>Utrecht</td>\n",
              "      <td>EROAD</td>\n",
              "      <td>46</td>\n",
              "    </tr>\n",
              "    <tr>\n",
              "      <th>1</th>\n",
              "      <td>Amsterdam</td>\n",
              "      <td>Den Haag</td>\n",
              "      <td>EROAD</td>\n",
              "      <td>59</td>\n",
              "    </tr>\n",
              "    <tr>\n",
              "      <th>2</th>\n",
              "      <td>Den Haag</td>\n",
              "      <td>Rotterdam</td>\n",
              "      <td>EROAD</td>\n",
              "      <td>26</td>\n",
              "    </tr>\n",
              "    <tr>\n",
              "      <th>3</th>\n",
              "      <td>Amsterdam</td>\n",
              "      <td>Immingham</td>\n",
              "      <td>EROAD</td>\n",
              "      <td>369</td>\n",
              "    </tr>\n",
              "    <tr>\n",
              "      <th>4</th>\n",
              "      <td>Immingham</td>\n",
              "      <td>Doncaster</td>\n",
              "      <td>EROAD</td>\n",
              "      <td>74</td>\n",
              "    </tr>\n",
              "    <tr>\n",
              "      <th>5</th>\n",
              "      <td>Doncaster</td>\n",
              "      <td>London</td>\n",
              "      <td>EROAD</td>\n",
              "      <td>277</td>\n",
              "    </tr>\n",
              "    <tr>\n",
              "      <th>6</th>\n",
              "      <td>Hoek van Holland</td>\n",
              "      <td>Den Haag</td>\n",
              "      <td>EROAD</td>\n",
              "      <td>27</td>\n",
              "    </tr>\n",
              "    <tr>\n",
              "      <th>7</th>\n",
              "      <td>Felixstowe</td>\n",
              "      <td>Hoek van Holland</td>\n",
              "      <td>EROAD</td>\n",
              "      <td>207</td>\n",
              "    </tr>\n",
              "    <tr>\n",
              "      <th>8</th>\n",
              "      <td>Ipswich</td>\n",
              "      <td>Felixstowe</td>\n",
              "      <td>EROAD</td>\n",
              "      <td>22</td>\n",
              "    </tr>\n",
              "    <tr>\n",
              "      <th>9</th>\n",
              "      <td>Colchester</td>\n",
              "      <td>Ipswich</td>\n",
              "      <td>EROAD</td>\n",
              "      <td>32</td>\n",
              "    </tr>\n",
              "    <tr>\n",
              "      <th>10</th>\n",
              "      <td>London</td>\n",
              "      <td>Colchester</td>\n",
              "      <td>EROAD</td>\n",
              "      <td>106</td>\n",
              "    </tr>\n",
              "    <tr>\n",
              "      <th>11</th>\n",
              "      <td>Gouda</td>\n",
              "      <td>Rotterdam</td>\n",
              "      <td>EROAD</td>\n",
              "      <td>25</td>\n",
              "    </tr>\n",
              "    <tr>\n",
              "      <th>12</th>\n",
              "      <td>Gouda</td>\n",
              "      <td>Utrecht</td>\n",
              "      <td>EROAD</td>\n",
              "      <td>35</td>\n",
              "    </tr>\n",
              "    <tr>\n",
              "      <th>13</th>\n",
              "      <td>Den Haag</td>\n",
              "      <td>Gouda</td>\n",
              "      <td>EROAD</td>\n",
              "      <td>32</td>\n",
              "    </tr>\n",
              "    <tr>\n",
              "      <th>14</th>\n",
              "      <td>Hoek van Holland</td>\n",
              "      <td>Rotterdam</td>\n",
              "      <td>EROAD</td>\n",
              "      <td>33</td>\n",
              "    </tr>\n",
              "  </tbody>\n",
              "</table>\n",
              "</div>"
            ],
            "text/plain": [
              "                 src               dst relationship  cost\n",
              "0          Amsterdam           Utrecht        EROAD    46\n",
              "1          Amsterdam          Den Haag        EROAD    59\n",
              "2           Den Haag         Rotterdam        EROAD    26\n",
              "3          Amsterdam         Immingham        EROAD   369\n",
              "4          Immingham         Doncaster        EROAD    74\n",
              "5          Doncaster            London        EROAD   277\n",
              "6   Hoek van Holland          Den Haag        EROAD    27\n",
              "7         Felixstowe  Hoek van Holland        EROAD   207\n",
              "8            Ipswich        Felixstowe        EROAD    22\n",
              "9         Colchester           Ipswich        EROAD    32\n",
              "10            London        Colchester        EROAD   106\n",
              "11             Gouda         Rotterdam        EROAD    25\n",
              "12             Gouda           Utrecht        EROAD    35\n",
              "13          Den Haag             Gouda        EROAD    32\n",
              "14  Hoek van Holland         Rotterdam        EROAD    33"
            ]
          },
          "metadata": {
            "tags": []
          },
          "execution_count": 5
        }
      ]
    },
    {
      "cell_type": "markdown",
      "metadata": {
        "id": "sogvA8fHyp8r",
        "colab_type": "text"
      },
      "source": [
        "### Construire le graphe et le visualiser avec networkx avec la fonction from_pandas_dataframe de networkx\n",
        "https://networkx.github.io/"
      ]
    },
    {
      "cell_type": "code",
      "metadata": {
        "id": "eoX6-srByp8s",
        "colab_type": "code",
        "colab": {
          "base_uri": "https://localhost:8080/",
          "height": 319
        },
        "outputId": "1c79a10d-fccc-47ef-8548-b5f2a201c60b"
      },
      "source": [
        "#Graphe = nx.from_pandas_dataframe(transport_arcs, 'src', 'dst', ['relationship', 'cost'])\n",
        "# Build your graph\n",
        "Graphe = nx.from_pandas_edgelist(transport_arcs, 'src', 'dst',['relationship', 'cost'])\n",
        "\n",
        "# Plot it\n",
        "nx.draw(Graphe, with_labels=True)\n",
        "plt.show()"
      ],
      "execution_count": 14,
      "outputs": [
        {
          "output_type": "display_data",
          "data": {
            "image/png": "[encoded data removed]",
            "text/plain": [
              "<Figure size 432x288 with 1 Axes>"
            ]
          },
          "metadata": {
            "tags": []
          }
        }
      ]
    },
    {
      "cell_type": "code",
      "metadata": {
        "id": "12H-qbMLyp8v",
        "colab_type": "code",
        "colab": {
          "base_uri": "https://localhost:8080/",
          "height": 34
        },
        "outputId": "386e28b0-f967-453c-fda3-9cc0565af4ce"
      },
      "source": [
        "Graphe"
      ],
      "execution_count": 15,
      "outputs": [
        {
          "output_type": "execute_result",
          "data": {
            "text/plain": [
              "<networkx.classes.graph.Graph at 0x7fe4db8ff160>"
            ]
          },
          "metadata": {
            "tags": []
          },
          "execution_count": 15
        }
      ]
    },
    {
      "cell_type": "code",
      "metadata": {
        "id": "TuOKMfZ9yp8y",
        "colab_type": "code",
        "colab": {
          "base_uri": "https://localhost:8080/",
          "height": 319
        },
        "outputId": "e0314ace-d818-4d9c-9052-e941c9b44441"
      },
      "source": [
        "nx.draw(Graphe)\n"
      ],
      "execution_count": 16,
      "outputs": [
        {
          "output_type": "display_data",
          "data": {
            "image/png": "[encoded data removed]",
            "text/plain": [
              "<Figure size 432x288 with 1 Axes>"
            ]
          },
          "metadata": {
            "tags": []
          }
        }
      ]
    },
    {
      "cell_type": "markdown",
      "metadata": {
        "id": "6bYQN0aVyp80",
        "colab_type": "text"
      },
      "source": [
        "### Ajouter des attributs longitude et latitude aux noeuds avec Networkx en utilisant:\n",
        "* le dictionnaire \"node\" de networkx qui contient les noeuds\n",
        "* le dataframe transportnode defini plus haut\n",
        "* Des exemples d'utilisation de la fonction set_node_attributes\n",
        "https://www.programcreek.com/python/example/89530/networkx.set_node_attributes"
      ]
    },
    {
      "cell_type": "code",
      "metadata": {
        "id": "nMve9MMbyp81",
        "colab_type": "code",
        "colab": {
          "base_uri": "https://localhost:8080/",
          "height": 54
        },
        "outputId": "e247a373-4c9a-4eed-8185-e34bef5852da"
      },
      "source": [
        "Graphe.nodes"
      ],
      "execution_count": 18,
      "outputs": [
        {
          "output_type": "execute_result",
          "data": {
            "text/plain": [
              "NodeView(('Amsterdam', 'Utrecht', 'Den Haag', 'Rotterdam', 'Immingham', 'Doncaster', 'London', 'Hoek van Holland', 'Felixstowe', 'Ipswich', 'Colchester', 'Gouda'))"
            ]
          },
          "metadata": {
            "tags": []
          },
          "execution_count": 18
        }
      ]
    },
    {
      "cell_type": "code",
      "metadata": {
        "id": "niOEhJD4yp83",
        "colab_type": "code",
        "colab": {}
      },
      "source": [
        "def ajouterAttribut(myGraphe,dfnoeuds, nomAttribut,nomIndex):\n",
        "    nx.set_node_attributes(myGraphe, name= nomAttribut, values = dfnoeuds.set_index(nomIndex)[nomAttribut].to_dict())"
      ],
      "execution_count": 19,
      "outputs": []
    },
    {
      "cell_type": "code",
      "metadata": {
        "id": "Aqv4BUppyp87",
        "colab_type": "code",
        "colab": {}
      },
      "source": [
        "ajouterAttribut(Graphe,transport_nodes,'latitude','id')\n",
        "ajouterAttribut(Graphe,transport_nodes,'longitude','id')\n",
        "ajouterAttribut(Graphe,transport_nodes,'population','id')"
      ],
      "execution_count": 20,
      "outputs": []
    },
    {
      "cell_type": "code",
      "metadata": {
        "id": "SumCnoLtyp89",
        "colab_type": "code",
        "colab": {
          "base_uri": "https://localhost:8080/",
          "height": 54
        },
        "outputId": "8fb120e7-08f8-4342-963e-429b51dcef41"
      },
      "source": [
        "Graphe.nodes"
      ],
      "execution_count": 22,
      "outputs": [
        {
          "output_type": "execute_result",
          "data": {
            "text/plain": [
              "NodeView(('Amsterdam', 'Utrecht', 'Den Haag', 'Rotterdam', 'Immingham', 'Doncaster', 'London', 'Hoek van Holland', 'Felixstowe', 'Ipswich', 'Colchester', 'Gouda'))"
            ]
          },
          "metadata": {
            "tags": []
          },
          "execution_count": 22
        }
      ]
    },
    {
      "cell_type": "code",
      "metadata": {
        "id": "wBnzJ_J7yp9A",
        "colab_type": "code",
        "colab": {
          "base_uri": "https://localhost:8080/",
          "height": 54
        },
        "outputId": "7a61d6df-271b-436e-9dc7-dc013e0c6556"
      },
      "source": [
        "Graphe.edges"
      ],
      "execution_count": 24,
      "outputs": [
        {
          "output_type": "execute_result",
          "data": {
            "text/plain": [
              "EdgeView([('Amsterdam', 'Utrecht'), ('Amsterdam', 'Den Haag'), ('Amsterdam', 'Immingham'), ('Utrecht', 'Gouda'), ('Den Haag', 'Rotterdam'), ('Den Haag', 'Hoek van Holland'), ('Den Haag', 'Gouda'), ('Rotterdam', 'Gouda'), ('Rotterdam', 'Hoek van Holland'), ('Immingham', 'Doncaster'), ('Doncaster', 'London'), ('London', 'Colchester'), ('Hoek van Holland', 'Felixstowe'), ('Felixstowe', 'Ipswich'), ('Ipswich', 'Colchester')])"
            ]
          },
          "metadata": {
            "tags": []
          },
          "execution_count": 24
        }
      ]
    },
    {
      "cell_type": "markdown",
      "metadata": {
        "id": "x5GcS_Rayp9C",
        "colab_type": "text"
      },
      "source": [
        "### Representer les noeuds sur une carte avec Folium"
      ]
    },
    {
      "cell_type": "code",
      "metadata": {
        "id": "V8t8DOEcyp9D",
        "colab_type": "code",
        "colab": {}
      },
      "source": [
        "import folium\n",
        "basemap = folium.Map(\n",
        "    location=[52.3791890, 4.899431],\n",
        "    zoom_start=12,\n",
        "    tiles='Stamen Toner'\n",
        ")\n"
      ],
      "execution_count": 25,
      "outputs": []
    },
    {
      "cell_type": "code",
      "metadata": {
        "id": "99jqpgGAyp9F",
        "colab_type": "code",
        "colab": {
          "base_uri": "https://localhost:8080/",
          "height": 531
        },
        "outputId": "613c01e5-6a0e-406d-d54a-74bb200d16b2"
      },
      "source": [
        "basemap"
      ],
      "execution_count": 26,
      "outputs": [
        {
          "output_type": "execute_result",
          "data": {
            "text/html": [
              "<div style=\"width:100%;\"><div style=\"position:relative;width:100%;height:0;padding-bottom:60%;\"><span style=\"color:#565656\">Make this Notebook Trusted to load map: File -> Trust Notebook</span><iframe src=\"about:blank\" style=\"position:absolute;width:100%;height:100%;left:0;top:0;border:none !important;\" data-html=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 onload=\"this.contentDocument.open();this.contentDocument.write(atob(this.getAttribute('data-html')));this.contentDocument.close();\" allowfullscreen webkitallowfullscreen mozallowfullscreen></iframe></div></div>"
            ],
            "text/plain": [
              "<folium.folium.Map at 0x7fe4d8b706a0>"
            ]
          },
          "metadata": {
            "tags": []
          },
          "execution_count": 26
        }
      ]
    },
    {
      "cell_type": "markdown",
      "metadata": {
        "id": "wvjaVBOIyp9I",
        "colab_type": "text"
      },
      "source": [
        "### Ajouter des marqueurs pour tous les noeuds du reseau avec folium.Marker"
      ]
    },
    {
      "cell_type": "code",
      "metadata": {
        "id": "z4fqlgrqyp9I",
        "colab_type": "code",
        "colab": {}
      },
      "source": [
        "for i in Graphe.nodes:\n",
        "    folium.Marker([Graphe.nodes[i]['latitude'],Graphe.nodes[i]['longitude']],tooltip = 'Population '+str(Graphe.nodes[i]['longitude'])).add_to(basemap)"
      ],
      "execution_count": 30,
      "outputs": []
    },
    {
      "cell_type": "code",
      "metadata": {
        "id": "gIh7UYbvyp9M",
        "colab_type": "code",
        "colab": {},
        "outputId": "c31ea177-0952-49cb-e321-1459d5ddfdfd"
      },
      "source": [
        "basemap"
      ],
      "execution_count": null,
      "outputs": [
        {
          "output_type": "execute_result",
          "data": {
            "text/html": [
              "<div style=\"width:100%;\"><div style=\"position:relative;width:100%;height:0;padding-bottom:60%;\"><span style=\"color:#565656\">Make this Notebook Trusted to load map: File -> Trust Notebook</span><iframe src=\"about:blank\" style=\"position:absolute;width:100%;height:100%;left:0;top:0;border:none !important;\" data-html=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 onload=\"this.contentDocument.open();this.contentDocument.write(atob(this.getAttribute('data-html')));this.contentDocument.close();\" allowfullscreen webkitallowfullscreen mozallowfullscreen></iframe></div></div>"
            ],
            "text/plain": [
              "<folium.folium.Map at 0x151aed8400>"
            ]
          },
          "metadata": {
            "tags": []
          },
          "execution_count": 17
        }
      ]
    },
    {
      "cell_type": "code",
      "metadata": {
        "id": "p8GfnF0Yyp9O",
        "colab_type": "code",
        "colab": {}
      },
      "source": [
        "'''\n",
        "Cette fonction permet de construire une liste de liste comprenant pour chaque\n",
        "sous-liste ses coordonnées et celles d'un voisin\n",
        "Ces points peuvent etre utilisés pour représenter les lignes dans la carte\n",
        "'''\n",
        "def construirePointsImage(myGraphe):\n",
        "    points = []\n",
        "    for i in myGraphe.nodes:\n",
        "        \n",
        "        for neighbor in myGraphe.neighbors(i):\n",
        "            S = []\n",
        "            S.append([myGraphe.nodes[i][\"latitude\"],myGraphe.nodes[i][\"longitude\"]])\n",
        "            S.append([myGraphe.nodes[neighbor][\"latitude\"],myGraphe.nodes[neighbor][\"longitude\"]])\n",
        "            points.append(S)\n",
        "    return points\n",
        "        \n"
      ],
      "execution_count": 33,
      "outputs": []
    },
    {
      "cell_type": "code",
      "metadata": {
        "id": "wjg4c5rGyp9Q",
        "colab_type": "code",
        "colab": {}
      },
      "source": [
        "coordonneesvoisins = construirePointsImage(Graphe)"
      ],
      "execution_count": 34,
      "outputs": []
    },
    {
      "cell_type": "code",
      "metadata": {
        "id": "sYE3bWgTyp9T",
        "colab_type": "code",
        "colab": {}
      },
      "source": [
        "'''\n",
        "A faire\n",
        "Permet de visualiser une carte du graphe avec ses noeuds et les arcs sous forme lignes\n",
        "Prend en entrée:\n",
        "- un graphe\n",
        "- les coordonnées entre chaque point et ses voisins calculées avec la fonction ci-dessus\n",
        "- Une location par defaut\n",
        "- Un paramétrage de folium\n",
        "'''\n",
        "        \n",
        "def visualiserFolium(myGraphe, points, locationpardefaut = [52.3791890, 4.899431],tiles='Stamen Toner' ):\n",
        "    \n",
        "    basemap = folium.Map(location= locationpardefaut,zoom_start=6,tiles=tiles)\n",
        "    \n",
        "    for i in Graphe.nodes:\n",
        "        folium.Marker([Graphe.nodes[i]['latitude'],Graphe.nodes[i]['longitude']],tooltip = 'Population '+str(Graphe.nodes[i]['longitude'])).add_to(basemap)\n",
        "    \n",
        "    folium.PolyLine(points, color=\"red\", weight=2.5, opacity=1).add_to(basemap)\n",
        "\n",
        "    return basemap"
      ],
      "execution_count": 37,
      "outputs": []
    },
    {
      "cell_type": "code",
      "metadata": {
        "id": "RPEONFKCyp9V",
        "colab_type": "code",
        "colab": {
          "base_uri": "https://localhost:8080/",
          "height": 531
        },
        "outputId": "748eed33-f2bd-4865-e72f-cde3e1a1ef80"
      },
      "source": [
        "visualiserFolium(Graphe,coordonneesvoisins)"
      ],
      "execution_count": 38,
      "outputs": [
        {
          "output_type": "execute_result",
          "data": {
            "text/html": [
              "<div style=\"width:100%;\"><div style=\"position:relative;width:100%;height:0;padding-bottom:60%;\"><span style=\"color:#565656\">Make this Notebook Trusted to load map: File -> Trust Notebook</span><iframe src=\"about:blank\" style=\"position:absolute;width:100%;height:100%;left:0;top:0;border:none !important;\" data-html=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 onload=\"this.contentDocument.open();this.contentDocument.write(atob(this.getAttribute('data-html')));this.contentDocument.close();\" allowfullscreen webkitallowfullscreen mozallowfullscreen></iframe></div></div>"
            ],
            "text/plain": [
              "<folium.folium.Map at 0x7fe4d8577748>"
            ]
          },
          "metadata": {
            "tags": []
          },
          "execution_count": 38
        }
      ]
    },
    {
      "cell_type": "markdown",
      "metadata": {
        "collapsed": true,
        "id": "-zEiIt--yp9X",
        "colab_type": "text"
      },
      "source": [
        "### Partie 2\n",
        "* Dans cette partie vous allez implémenter des ADT: Noeud, Graphe, File, Pile\n",
        "\n"
      ]
    },
    {
      "cell_type": "markdown",
      "metadata": {
        "id": "jGS3eeJ6yp9X",
        "colab_type": "text"
      },
      "source": [
        "#### Implementer la classe Noeud\n",
        "* Un noeud a un nom\n",
        "* Un noeud a des attributs sous forme de dictionnaire pyton avec comme cle:\n",
        "    une liste de coordonnes ( latitude, longitude)\n",
        "    \n",
        "    la taille de la population\n",
        "* La liste des voisins sera initialisée à la création des arcs dans le graphe \n",
        "*  Vous ajouterez toutes les methodes nécessaires \n",
        "        \n",
        "    \n",
        "        "
      ]
    },
    {
      "cell_type": "code",
      "metadata": {
        "id": "LpYYLZhYyp9Y",
        "colab_type": "code",
        "colab": {}
      },
      "source": [
        "class Noeud:\n",
        "    def __init__(self,name):\n",
        "        self.name = name\n",
        "        self.attributs = {}\n",
        "        self.listeNomVoisin = []\n",
        "        \n",
        "    def setAttribut(self,key, values):\n",
        "        self.attributs[key] = values\n",
        "        \n",
        "    def getAttribut(self,key):\n",
        "        return self.attributs[key]\n",
        "    \n",
        "    def getName(self):\n",
        "        return self.name\n",
        "    '''\n",
        "    Deux noeuds sont egaux s'ils ont même name\n",
        "    '''\n",
        "    def egal(self, noeud):\n",
        "        return self.name == noeud.name"
      ],
      "execution_count": 39,
      "outputs": []
    },
    {
      "cell_type": "markdown",
      "metadata": {
        "id": "J8MSssdDyp9a",
        "colab_type": "text"
      },
      "source": [
        "#### Implementer la classe Graphe\n",
        "* Les noeuds des graphes doivent être initialisé à l'aide du fichier \n",
        "transport-node.csv ( vous n'utiliserez plus pandas). Vous initiliserez aussi les attributs\n",
        "* Les arcs des graphes doivent être initialisé à l'aide du fichier \n",
        "transport-relations.csv ( vous n'utiliserez plus pandas). Vous initiliserez aussi les attributs\n",
        "* On doit pouvoir retrouver les coordonnées d'un noeud grâce à son nom\n",
        "* On doit avoir la liste des noeuds voisins d'un noeud donné. Le graphe est non orienté donc le voisinage est reciproque\n",
        "        "
      ]
    },
    {
      "cell_type": "code",
      "metadata": {
        "id": "ZHAGMYf3yp9c",
        "colab_type": "code",
        "colab": {}
      },
      "source": [
        "class Graphe:\n",
        "    def __init__(self):\n",
        "        self.noeuds = []\n",
        "        self.arcs = {}\n",
        "    '''\n",
        "    Creer les neouds avec le fichier transport-node.csv\n",
        "    On peut mettre tous les noeuds dans une liste\n",
        "    '''    \n",
        "    def creerNoeuds(self,fichiernoeuds):\n",
        "        \n",
        "\n",
        "        with open(fichiernoeuds) as csv_file:\n",
        "            csv_reader = csv.reader(csv_file, delimiter=',')\n",
        "            line_count = 0\n",
        "            for row in csv_reader:\n",
        "                if line_count == 0:\n",
        "                    print(f'Column names are {\", \".join(row)}')\n",
        "                    line_count += 1\n",
        "                else:\n",
        "                    N = Noeud(row[0])\n",
        "                    N.setAttribut('coordonnees',[float(row[1]),float(row[2])])\n",
        "                    N.setAttribut('population',int(row[3]))\n",
        "                    self.noeuds.append(N)\n",
        "                    self.arcs.update({N.name:[]})\n",
        "                    line_count += 1\n",
        "            print(f'Processed {line_count} lines.')\n",
        "    '''\n",
        "    - Creer les neouds avec le fichier transport-node.csv\n",
        "    - Utilisez un dictionnaire pour les arcs\n",
        "    - N'oubliez pas que le graphe est non oriente.\n",
        "    - Il faudra initialiser la liste des voisins pour chaque noeud\n",
        "    '''   \n",
        "    def creerArc(self, fichierarcs):\n",
        "        with open(fichierarcs) as csv_file:\n",
        "            csv_reader = csv.reader(csv_file, delimiter=',')\n",
        "            line_count = 0\n",
        "            for row in csv_reader:\n",
        "                if line_count == 0:\n",
        "                    print(f'Column names are {\", \".join(row)}')\n",
        "                    line_count += 1\n",
        "                else:\n",
        "                    self.arcs[row[0]].append((row[1],row[3]))\n",
        "                    \n",
        "                    line_count += 1\n",
        "            print(f'Processed {line_count} lines.')\n",
        "    '''\n",
        "    Retrouver un noeud à partir de son nom\n",
        "    '''   \n",
        "    def getNoeud(self,name):\n",
        "        \n",
        "        for n in self.noeuds:\n",
        "            if n.name == name:\n",
        "                return n\n",
        "        raise Exception(\"name not exist\")\n",
        "    '''\n",
        "    Trouver les noeuds voisins d'un noeud donne\n",
        "    '''\n",
        "    def getVoisins(self,noeud):\n",
        "        return self.arcs[noeud.name]\n",
        "    \n",
        "    '''\n",
        "    Recuperer pour un noeud donne les latitudes et longitudes de ses voisins\n",
        "    Constituer des pairs de listes de coordonnées entre le point et ses voisins\n",
        "    pour une representation sous folium\n",
        "    \n",
        "    '''\n",
        "    def getCoordonnesVoisins(self, noeud):\n",
        "        listecoord = []\n",
        "        # voise est un tuple et je veux recuperer le nom du noeud voisin \n",
        "        # qui est le premier lement du tuple\n",
        "        \n",
        "        for voise in self.getVoisins(noeud):\n",
        "            # Recupere un noeud voisin\n",
        "            noeudVoisin = self.getNoeud(voise[0])\n",
        "            listecoord.append([noeud.getAttribut('coordonnees'),noeudVoisin.getAttribut('coordonnees')])\n",
        "        return listecoord\n",
        "    \n",
        "    '''\n",
        "    Recuperer les coordonnees d'une liste de neouds pour visualiser sous folium\n",
        "    Prend en entrée une liste de nom de noeud\n",
        "    Retourne une liste de sous-listes à deux elements de coordonnées\n",
        "    '''\n",
        "    def getListeCoordonnees(self,listeNoeuds):\n",
        "        coord = []\n",
        "        for name in listeNoeuds:\n",
        "            coord.append(self.getNoeud(name).getAttribut('coordonnees'))\n",
        "        return coord\n",
        "    \n",
        "    '''\n",
        "    Visualiser les noeuds et les arcs sous folium\n",
        "    '''\n",
        "    \n",
        "    def visualiserFolium(self, locationpardefaut = [52.3791890, 4.899431],tiles='Stamen Toner',explored = None ):\n",
        "    \n",
        "        basemap = folium.Map(location= locationpardefaut,zoom_start=6,tiles=tiles)\n",
        "        \n",
        "        \n",
        "        \n",
        "        for i in self.noeuds:\n",
        "            \n",
        "            folium.Marker(i.getAttribut('coordonnees'),tooltip = 'Population '+str(i.getAttribut('population'))).add_to(basemap)\n",
        "            locations = self.getCoordonnesVoisins(i)\n",
        "            if len(locations)!= 0:\n",
        "                folium.PolyLine(self.getCoordonnesVoisins(i), color=\"red\", weight=2.5, opacity=1).add_to(basemap)\n",
        "        if explored != None:\n",
        "            folium.PolyLine(self.getListeCoordonnees(explored), color=\"green\", weight=2.5, opacity=1).add_to(basemap)\n",
        "        return basemap"
      ],
      "execution_count": 40,
      "outputs": []
    },
    {
      "cell_type": "code",
      "metadata": {
        "id": "OUx5NZJNyp9e",
        "colab_type": "code",
        "colab": {
          "base_uri": "https://localhost:8080/",
          "height": 51
        },
        "outputId": "3544de56-bfe1-4aa6-9457-cdfaecb62cb9"
      },
      "source": [
        "G = Graphe()\n",
        "G.creerNoeuds(data+'/transport-nodes.csv')"
      ],
      "execution_count": 42,
      "outputs": [
        {
          "output_type": "stream",
          "text": [
            "Column names are id, latitude, longitude, population\n",
            "Processed 13 lines.\n"
          ],
          "name": "stdout"
        }
      ]
    },
    {
      "cell_type": "code",
      "metadata": {
        "id": "za0Vn16gyp9h",
        "colab_type": "code",
        "colab": {
          "base_uri": "https://localhost:8080/",
          "height": 51
        },
        "outputId": "3b123e25-59c2-4def-8191-55c7a55001f6"
      },
      "source": [
        "G.creerArc(data +'/transport-relationships.csv')"
      ],
      "execution_count": 43,
      "outputs": [
        {
          "output_type": "stream",
          "text": [
            "Column names are src, dst, relationship, cost\n",
            "Processed 16 lines.\n"
          ],
          "name": "stdout"
        }
      ]
    },
    {
      "cell_type": "code",
      "metadata": {
        "id": "SBfcv2Tayp9k",
        "colab_type": "code",
        "colab": {
          "base_uri": "https://localhost:8080/",
          "height": 531
        },
        "outputId": "b8a6651c-3b76-49ba-edba-12d5ba6bb98f"
      },
      "source": [
        "G.visualiserFolium()"
      ],
      "execution_count": 44,
      "outputs": [
        {
          "output_type": "execute_result",
          "data": {
            "text/html": [
              "<div style=\"width:100%;\"><div style=\"position:relative;width:100%;height:0;padding-bottom:60%;\"><span style=\"color:#565656\">Make this Notebook Trusted to load map: File -> Trust Notebook</span><iframe src=\"about:blank\" style=\"position:absolute;width:100%;height:100%;left:0;top:0;border:none !important;\" data-html=PCFET0NUWVBFIGh0bWw+CjxoZWFkPiAgICAKICAgIDxtZXRhIGh0dHAtZXF1aXY9ImNvbnRlbnQtdHlwZSIgY29udGVudD0idGV4dC9odG1sOyBjaGFyc2V0PVVURi04IiAvPgogICAgPHNjcmlwdD5MX1BSRUZFUl9DQU5WQVM9ZmFsc2U7IExfTk9fVE9VQ0g9ZmFsc2U7IExfRElTQUJMRV8zRD1mYWxzZTs8L3NjcmlwdD4KICAgIDxzY3JpcHQgc3JjPSJodHRwczovL2Nkbi5qc2RlbGl2ci5uZXQvbnBtL2xlYWZsZXRAMS40LjAvZGlzdC9sZWFmbGV0LmpzIj48L3NjcmlwdD4KICAgIDxzY3JpcHQgc3JjPSJodHRwczovL2NvZGUuanF1ZXJ5LmNvbS9qcXVlcnktMS4xMi40Lm1pbi5qcyI+PC9zY3JpcHQ+CiAgICA8c2NyaXB0IHNyYz0iaHR0cHM6Ly9tYXhjZG4uYm9vdHN0cmFwY2RuLmNvbS9ib290c3RyYXAvMy4yLjAvanMvYm9vdHN0cmFwLm1pbi5qcyI+PC9zY3JpcHQ+CiAgICA8c2NyaXB0IHNyYz0iaHR0cHM6Ly9jZG5qcy5jbG91ZGZsYXJlLmNvbS9hamF4L2xpYnMvTGVhZmxldC5hd2Vzb21lLW1hcmtlcnMvMi4wLjIvbGVhZmxldC5hd2Vzb21lLW1hcmtlcnMuanMiPjwvc2NyaXB0PgogICAgPGxpbmsgcmVsPSJzdHlsZXNoZWV0IiBocmVmPSJodHRwczovL2Nkbi5qc2RlbGl2ci5uZXQvbnBtL2xlYWZsZXRAMS40LjAvZGlzdC9sZWFmbGV0LmNzcyIvPgogICAgPGxpbmsgcmVsPSJzdHlsZXNoZWV0IiBocmVmPSJodHRwczovL21heGNkbi5ib290c3RyYXBjZG4uY29tL2Jvb3RzdHJhcC8zLjIuMC9jc3MvYm9vdHN0cmFwLm1pbi5jc3MiLz4KICAgIDxsaW5rIHJlbD0ic3R5bGVzaGVldCIgaHJlZj0iaHR0cHM6Ly9tYXhjZG4uYm9vdHN0cmFwY2RuLmNvbS9ib290c3RyYXAvMy4yLjAvY3NzL2Jvb3RzdHJhcC10aGVtZS5taW4uY3NzIi8+CiAgICA8bGluayByZWw9InN0eWxlc2hlZXQiIGhyZWY9Imh0dHBzOi8vbWF4Y2RuLmJvb3RzdHJhcGNkbi5jb20vZm9udC1hd2Vzb21lLzQuNi4zL2Nzcy9mb250LWF3ZXNvbWUubWluLmNzcyIvPgogICAgPGxpbmsgcmVsPSJzdHlsZXNoZWV0IiBocmVmPSJodHRwczovL2NkbmpzLmNsb3VkZmxhcmUuY29tL2FqYXgvbGlicy9MZWFmbGV0LmF3ZXNvbWUtbWFya2Vycy8yLjAuMi9sZWFmbGV0LmF3ZXNvbWUtbWFya2Vycy5jc3MiLz4KICAgIDxsaW5rIHJlbD0ic3R5bGVzaGVldCIgaHJlZj0iaHR0cHM6Ly9yYXdjZG4uZ2l0aGFjay5jb20vcHl0aG9uLXZpc3VhbGl6YXRpb24vZm9saXVtL21hc3Rlci9mb2xpdW0vdGVtcGxhdGVzL2xlYWZsZXQuYXdlc29tZS5yb3RhdGUuY3NzIi8+CiAgICA8c3R5bGU+aHRtbCwgYm9keSB7d2lkdGg6IDEwMCU7aGVpZ2h0OiAxMDAlO21hcmdpbjogMDtwYWRkaW5nOiAwO308L3N0eWxlPgogICAgPHN0eWxlPiNtYXAge3Bvc2l0aW9uOmFic29sdXRlO3RvcDowO2JvdHRvbTowO3JpZ2h0OjA7bGVmdDowO308L3N0eWxlPgogICAgCiAgICA8bWV0YSBuYW1lPSJ2aWV3cG9ydCIgY29udGVudD0id2lkdGg9ZGV2aWNlLXdpZHRoLAogICAgICAgIGluaXRpYWwtc2NhbGU9MS4wLCBtYXhpbXVtLXNjYWxlPTEuMCwgdXNlci1zY2FsYWJsZT1ubyIgLz4KICAgIDxzdHlsZT4jbWFwX2JmNzZmZDkwOGMyZTQ5OWFiYjg3MjE4YTNmN2JiNjQ0IHsKICAgICAgICBwb3NpdGlvbjogcmVsYXRpdmU7CiAgICAgICAgd2lkdGg6IDEwMC4wJTsKICAgICAgICBoZWlnaHQ6IDEwMC4wJTsKICAgICAgICBsZWZ0OiAwLjAlOwogICAgICAgIHRvcDogMC4wJTsKICAgICAgICB9CiAgICA8L3N0eWxlPgo8L2hlYWQ+Cjxib2R5PiAgICAKICAgIAogICAgPGRpdiBjbGFzcz0iZm9saXVtLW1hcCIgaWQ9Im1hcF9iZjc2ZmQ5MDhjMmU0OTlhYmI4NzIxOGEzZjdiYjY0NCIgPjwvZGl2Pgo8L2JvZHk+CjxzY3JpcHQ+ICAgIAogICAgCiAgICAKICAgICAgICB2YXIgYm91bmRzID0gbnVsbDsKICAgIAoKICAgIHZhciBtYXBfYmY3NmZkOTA4YzJlNDk5YWJiODcyMThhM2Y3YmI2NDQgPSBMLm1hcCgKICAgICAgICAnbWFwX2JmNzZmZDkwOGMyZTQ5OWFiYjg3MjE4YTNmN2JiNjQ0JywgewogICAgICAgIGNlbnRlcjogWzUyLjM3OTE4OSwgNC44OTk0MzFdLAogICAgICAgIHpvb206IDYsCiAgICAgICAgbWF4Qm91bmRzOiBib3VuZHMsCiAgICAgICAgbGF5ZXJzOiBbXSwKICAgICAgICB3b3JsZENvcHlKdW1wOiBmYWxzZSwKICAgICAgICBjcnM6IEwuQ1JTLkVQU0czODU3LAogICAgICAgIHpvb21Db250cm9sOiB0cnVlLAogICAgICAgIH0pOwoKCiAgICAKICAgIHZhciB0aWxlX2xheWVyX2JmNTVlNjJhMmZjNzQyYjBiYjY4MDFhYzhmMWFkYjFkID0gTC50aWxlTGF5ZXIoCiAgICAgICAgJ2h0dHBzOi8vc3RhbWVuLXRpbGVzLXtzfS5hLnNzbC5mYXN0bHkubmV0L3RvbmVyL3t6fS97eH0ve3l9LnBuZycsCiAgICAgICAgewogICAgICAgICJhdHRyaWJ1dGlvbiI6IG51bGwsCiAgICAgICAgImRldGVjdFJldGluYSI6IGZhbHNlLAogICAgICAgICJtYXhOYXRpdmVab29tIjogMTgsCiAgICAgICAgIm1heFpvb20iOiAxOCwKICAgICAgICAibWluWm9vbSI6IDAsCiAgICAgICAgIm5vV3JhcCI6IGZhbHNlLAogICAgICAgICJvcGFjaXR5IjogMSwKICAgICAgICAic3ViZG9tYWlucyI6ICJhYmMiLAogICAgICAgICJ0bXMiOiBmYWxzZQp9KS5hZGRUbyhtYXBfYmY3NmZkOTA4YzJlNDk5YWJiODcyMThhM2Y3YmI2NDQpOwogICAgCiAgICAgICAgdmFyIG1hcmtlcl81ZWE2MWQ4NjFhY2U0MWYxYjkyNjgyMjcyYzM4MTgzOCA9IEwubWFya2VyKAogICAgICAgICAgICBbNTIuMzc5MTg5LCA0Ljg5OTQzMV0sCiAgICAgICAgICAgIHsKICAgICAgICAgICAgICAgIGljb246IG5ldyBMLkljb24uRGVmYXVsdCgpLAogICAgICAgICAgICAgICAgfQogICAgICAgICAgICApLmFkZFRvKG1hcF9iZjc2ZmQ5MDhjMmU0OTlhYmI4NzIxOGEzZjdiYjY0NCk7CiAgICAgICAgCiAgICAKICAgICAgICBtYXJrZXJfNWVhNjFkODYxYWNlNDFmMWI5MjY4MjI3MmMzODE4MzguYmluZFRvb2x0aXAoCiAgICAgICAgICAgIGA8ZGl2PmAKICAgICAgICAgICAgKyBgUG9wdWxhdGlvbiA4MjE3NTJgICsgYDwvZGl2PmAsCiAgICAgICAgICAgIHsic3RpY2t5IjogdHJ1ZX0KICAgICAgICApOwogICAgICAgIAogICAgCiAgICAgICAgICAgICAgICB2YXIgcG9seV9saW5lXzhjY2FiZjIwZWJiOTQxOTc5MzEzZmFkODg1MDE0Y2VkID0gTC5wb2x5bGluZSgKICAgICAgICAgICAgICAgICAgICBbW1s1Mi4zNzkxODksIDQuODk5NDMxXSwgWzUyLjA5Mjg3NiwgNS4xMDQ0OF1dLCBbWzUyLjM3OTE4OSwgNC44OTk0MzFdLCBbNTIuMDc4NjYzLCA0LjI4ODc4OF1dLCBbWzUyLjM3OTE4OSwgNC44OTk0MzFdLCBbNTMuNjEyMzksIC0wLjIyMjE5XV1dLAogICAgICAgICAgICAgICAgICAgIHsKICAiYnViYmxpbmdNb3VzZUV2ZW50cyI6IHRydWUsCiAgImNvbG9yIjogInJlZCIsCiAgImRhc2hBcnJheSI6IG51bGwsCiAgImRhc2hPZmZzZXQiOiBudWxsLAogICJmaWxsIjogZmFsc2UsCiAgImZpbGxDb2xvciI6ICJyZWQiLAogICJmaWxsT3BhY2l0eSI6IDAuMiwKICAiZmlsbFJ1bGUiOiAiZXZlbm9kZCIsCiAgImxpbmVDYXAiOiAicm91bmQiLAogICJsaW5lSm9pbiI6ICJyb3VuZCIsCiAgIm5vQ2xpcCI6IGZhbHNlLAogICJvcGFjaXR5IjogMSwKICAic21vb3RoRmFjdG9yIjogMS4wLAogICJzdHJva2UiOiB0cnVlLAogICJ3ZWlnaHQiOiAyLjUKfQogICAgICAgICAgICAgICAgICAgICkKICAgICAgICAgICAgICAgICAgICAuYWRkVG8obWFwX2JmNzZmZDkwOGMyZTQ5OWFiYjg3MjE4YTNmN2JiNjQ0KTsKICAgICAgICAgICAgCiAgICAKICAgICAgICB2YXIgbWFya2VyX2RjYzg2MGU2MGMzYTRmNGVhZTlhNzBjYTE4OWMzZmYzID0gTC5tYXJrZXIoCiAgICAgICAgICAgIFs1Mi4wOTI4NzYsIDUuMTA0NDhdLAogICAgICAgICAgICB7CiAgICAgICAgICAgICAgICBpY29uOiBuZXcgTC5JY29uLkRlZmF1bHQoKSwKICAgICAgICAgICAgICAgIH0KICAgICAgICAgICAgKS5hZGRUbyhtYXBfYmY3NmZkOTA4YzJlNDk5YWJiODcyMThhM2Y3YmI2NDQpOwogICAgICAgIAogICAgCiAgICAgICAgbWFya2VyX2RjYzg2MGU2MGMzYTRmNGVhZTlhNzBjYTE4OWMzZmYzLmJpbmRUb29sdGlwKAogICAgICAgICAgICBgPGRpdj5gCiAgICAgICAgICAgICsgYFBvcHVsYXRpb24gMzM0MTc2YCArIGA8L2Rpdj5gLAogICAgICAgICAgICB7InN0aWNreSI6IHRydWV9CiAgICAgICAgKTsKICAgICAgICAKICAgIAogICAgICAgIHZhciBtYXJrZXJfNjc4ZGMxOWZjZmU2NDViMjgzZGFmMjVjZjM4NDI4NmYgPSBMLm1hcmtlcigKICAgICAgICAgICAgWzUyLjA3ODY2MywgNC4yODg3ODhdLAogICAgICAgICAgICB7CiAgICAgICAgICAgICAgICBpY29uOiBuZXcgTC5JY29uLkRlZmF1bHQoKSwKICAgICAgICAgICAgICAgIH0KICAgICAgICAgICAgKS5hZGRUbyhtYXBfYmY3NmZkOTA4YzJlNDk5YWJiODcyMThhM2Y3YmI2NDQpOwogICAgICAgIAogICAgCiAgICAgICAgbWFya2VyXzY3OGRjMTlmY2ZlNjQ1YjI4M2RhZjI1Y2YzODQyODZmLmJpbmRUb29sdGlwKAogICAgICAgICAgICBgPGRpdj5gCiAgICAgICAgICAgICsgYFBvcHVsYXRpb24gNTE0ODYxYCArIGA8L2Rpdj5gLAogICAgICAgICAgICB7InN0aWNreSI6IHRydWV9CiAgICAgICAgKTsKICAgICAgICAKICAgIAogICAgICAgICAgICAgICAgdmFyIHBvbHlfbGluZV81OWRmYmNhMjRhMDk0YjI1YmZlNWMyOTA0ODgyMWY2OCA9IEwucG9seWxpbmUoCiAgICAgICAgICAgICAgICAgICAgW1tbNTIuMDc4NjYzLCA0LjI4ODc4OF0sIFs1MS45MjI1LCA0LjQ3OTE3XV0sIFtbNTIuMDc4NjYzLCA0LjI4ODc4OF0sIFs1Mi4wMTY2NywgNC43MDgzM11dXSwKICAgICAgICAgICAgICAgICAgICB7CiAgImJ1YmJsaW5nTW91c2VFdmVudHMiOiB0cnVlLAogICJjb2xvciI6ICJyZWQiLAogICJkYXNoQXJyYXkiOiBudWxsLAogICJkYXNoT2Zmc2V0IjogbnVsbCwKICAiZmlsbCI6IGZhbHNlLAogICJmaWxsQ29sb3IiOiAicmVkIiwKICAiZmlsbE9wYWNpdHkiOiAwLjIsCiAgImZpbGxSdWxlIjogImV2ZW5vZGQiLAogICJsaW5lQ2FwIjogInJvdW5kIiwKICAibGluZUpvaW4iOiAicm91bmQiLAogICJub0NsaXAiOiBmYWxzZSwKICAib3BhY2l0eSI6IDEsCiAgInNtb290aEZhY3RvciI6IDEuMCwKICAic3Ryb2tlIjogdHJ1ZSwKICAid2VpZ2h0IjogMi41Cn0KICAgICAgICAgICAgICAgICAgICApCiAgICAgICAgICAgICAgICAgICAgLmFkZFRvKG1hcF9iZjc2ZmQ5MDhjMmU0OTlhYmI4NzIxOGEzZjdiYjY0NCk7CiAgICAgICAgICAgIAogICAgCiAgICAgICAgdmFyIG1hcmtlcl8wNjc3NWFkZjEyMjg0MjIzOGUyZTFiYjBmYjBmY2U5MSA9IEwubWFya2VyKAogICAgICAgICAgICBbNTMuNjEyMzksIC0wLjIyMjE5XSwKICAgICAgICAgICAgewogICAgICAgICAgICAgICAgaWNvbjogbmV3IEwuSWNvbi5EZWZhdWx0KCksCiAgICAgICAgICAgICAgICB9CiAgICAgICAgICAgICkuYWRkVG8obWFwX2JmNzZmZDkwOGMyZTQ5OWFiYjg3MjE4YTNmN2JiNjQ0KTsKICAgICAgICAKICAgIAogICAgICAgIG1hcmtlcl8wNjc3NWFkZjEyMjg0MjIzOGUyZTFiYjBmYjBmY2U5MS5iaW5kVG9vbHRpcCgKICAgICAgICAgICAgYDxkaXY+YAogICAgICAgICAgICArIGBQb3B1bGF0aW9uIDk2NDJgICsgYDwvZGl2PmAsCiAgICAgICAgICAgIHsic3RpY2t5IjogdHJ1ZX0KICAgICAgICApOwogICAgICAgIAogICAgCiAgICAgICAgICAgICAgICB2YXIgcG9seV9saW5lXzJjNTExYTI4YWYyYTQ1YzI5OGUzYTQ0MThmOTUyMjI0ID0gTC5wb2x5bGluZSgKICAgICAgICAgICAgICAgICAgICBbW1s1My42MTIzOSwgLTAuMjIyMTldLCBbNTMuNTIyODUsIC0xLjEzMTE2XV1dLAogICAgICAgICAgICAgICAgICAgIHsKICAiYnViYmxpbmdNb3VzZUV2ZW50cyI6IHRydWUsCiAgImNvbG9yIjogInJlZCIsCiAgImRhc2hBcnJheSI6IG51bGwsCiAgImRhc2hPZmZzZXQiOiBudWxsLAogICJmaWxsIjogZmFsc2UsCiAgImZpbGxDb2xvciI6ICJyZWQiLAogICJmaWxsT3BhY2l0eSI6IDAuMiwKICAiZmlsbFJ1bGUiOiAiZXZlbm9kZCIsCiAgImxpbmVDYXAiOiAicm91bmQiLAogICJsaW5lSm9pbiI6ICJyb3VuZCIsCiAgIm5vQ2xpcCI6IGZhbHNlLAogICJvcGFjaXR5IjogMSwKICAic21vb3RoRmFjdG9yIjogMS4wLAogICJzdHJva2UiOiB0cnVlLAogICJ3ZWlnaHQiOiAyLjUKfQogICAgICAgICAgICAgICAgICAgICkKICAgICAgICAgICAgICAgICAgICAuYWRkVG8obWFwX2JmNzZmZDkwOGMyZTQ5OWFiYjg3MjE4YTNmN2JiNjQ0KTsKICAgICAgICAgICAgCiAgICAKICAgICAgICB2YXIgbWFya2VyXzVlMGRlM2Q1ZWJmZDRlOTliMzEzMTA2NTdkYWUzMjE1ID0gTC5tYXJrZXIoCiAgICAgICAgICAgIFs1My41MjI4NSwgLTEuMTMxMTZdLAogICAgICAgICAgICB7CiAgICAgICAgICAgICAgICBpY29uOiBuZXcgTC5JY29uLkRlZmF1bHQoKSwKICAgICAgICAgICAgICAgIH0KICAgICAgICAgICAgKS5hZGRUbyhtYXBfYmY3NmZkOTA4YzJlNDk5YWJiODcyMThhM2Y3YmI2NDQpOwogICAgICAgIAogICAgCiAgICAgICAgbWFya2VyXzVlMGRlM2Q1ZWJmZDRlOTliMzEzMTA2NTdkYWUzMjE1LmJpbmRUb29sdGlwKAogICAgICAgICAgICBgPGRpdj5gCiAgICAgICAgICAgICsgYFBvcHVsYXRpb24gMzAyNDAwYCArIGA8L2Rpdj5gLAogICAgICAgICAgICB7InN0aWNreSI6IHRydWV9CiAgICAgICAgKTsKICAgICAgICAKICAgIAogICAgICAgICAgICAgICAgdmFyIHBvbHlfbGluZV9kYWQ2Y2UyZTJkYjg0MTVlODBkMTNmOTUyM2I4ZjhlNSA9IEwucG9seWxpbmUoCiAgICAgICAgICAgICAgICAgICAgW1tbNTMuNTIyODUsIC0xLjEzMTE2XSwgWzUxLjUwOTg2NSwgLTAuMTE4MDkyXV1dLAogICAgICAgICAgICAgICAgICAgIHsKICAiYnViYmxpbmdNb3VzZUV2ZW50cyI6IHRydWUsCiAgImNvbG9yIjogInJlZCIsCiAgImRhc2hBcnJheSI6IG51bGwsCiAgImRhc2hPZmZzZXQiOiBudWxsLAogICJmaWxsIjogZmFsc2UsCiAgImZpbGxDb2xvciI6ICJyZWQiLAogICJmaWxsT3BhY2l0eSI6IDAuMiwKICAiZmlsbFJ1bGUiOiAiZXZlbm9kZCIsCiAgImxpbmVDYXAiOiAicm91bmQiLAogICJsaW5lSm9pbiI6ICJyb3VuZCIsCiAgIm5vQ2xpcCI6IGZhbHNlLAogICJvcGFjaXR5IjogMSwKICAic21vb3RoRmFjdG9yIjogMS4wLAogICJzdHJva2UiOiB0cnVlLAogICJ3ZWlnaHQiOiAyLjUKfQogICAgICAgICAgICAgICAgICAgICkKICAgICAgICAgICAgICAgICAgICAuYWRkVG8obWFwX2JmNzZmZDkwOGMyZTQ5OWFiYjg3MjE4YTNmN2JiNjQ0KTsKICAgICAgICAgICAgCiAgICAKICAgICAgICB2YXIgbWFya2VyXzU4MWI4NzA0ZDc4ZDRjNGY5MDQwODE5YWUwOGY4N2U2ID0gTC5tYXJrZXIoCiAgICAgICAgICAgIFs1MS45Nzc1LCA0LjEzMzMzXSwKICAgICAgICAgICAgewogICAgICAgICAgICAgICAgaWNvbjogbmV3IEwuSWNvbi5EZWZhdWx0KCksCiAgICAgICAgICAgICAgICB9CiAgICAgICAgICAgICkuYWRkVG8obWFwX2JmNzZmZDkwOGMyZTQ5OWFiYjg3MjE4YTNmN2JiNjQ0KTsKICAgICAgICAKICAgIAogICAgICAgIG1hcmtlcl81ODFiODcwNGQ3OGQ0YzRmOTA0MDgxOWFlMDhmODdlNi5iaW5kVG9vbHRpcCgKICAgICAgICAgICAgYDxkaXY+YAogICAgICAgICAgICArIGBQb3B1bGF0aW9uIDkzODJgICsgYDwvZGl2PmAsCiAgICAgICAgICAgIHsic3RpY2t5IjogdHJ1ZX0KICAgICAgICApOwogICAgICAgIAogICAgCiAgICAgICAgICAgICAgICB2YXIgcG9seV9saW5lXzNkYjNkMTZhYWJmNjRlNGM5NDg2YWZhYWYxMjdkNTFlID0gTC5wb2x5bGluZSgKICAgICAgICAgICAgICAgICAgICBbW1s1MS45Nzc1LCA0LjEzMzMzXSwgWzUyLjA3ODY2MywgNC4yODg3ODhdXSwgW1s1MS45Nzc1LCA0LjEzMzMzXSwgWzUxLjkyMjUsIDQuNDc5MTddXV0sCiAgICAgICAgICAgICAgICAgICAgewogICJidWJibGluZ01vdXNlRXZlbnRzIjogdHJ1ZSwKICAiY29sb3IiOiAicmVkIiwKICAiZGFzaEFycmF5IjogbnVsbCwKICAiZGFzaE9mZnNldCI6IG51bGwsCiAgImZpbGwiOiBmYWxzZSwKICAiZmlsbENvbG9yIjogInJlZCIsCiAgImZpbGxPcGFjaXR5IjogMC4yLAogICJmaWxsUnVsZSI6ICJldmVub2RkIiwKICAibGluZUNhcCI6ICJyb3VuZCIsCiAgImxpbmVKb2luIjogInJvdW5kIiwKICAibm9DbGlwIjogZmFsc2UsCiAgIm9wYWNpdHkiOiAxLAogICJzbW9vdGhGYWN0b3IiOiAxLjAsCiAgInN0cm9rZSI6IHRydWUsCiAgIndlaWdodCI6IDIuNQp9CiAgICAgICAgICAgICAgICAgICAgKQogICAgICAgICAgICAgICAgICAgIC5hZGRUbyhtYXBfYmY3NmZkOTA4YzJlNDk5YWJiODcyMThhM2Y3YmI2NDQpOwogICAgICAgICAgICAKICAgIAogICAgICAgIHZhciBtYXJrZXJfZGRjZGJiZTVkZjNlNDQyN2JjNGViZGRhMGEzNTkxOGIgPSBMLm1hcmtlcigKICAgICAgICAgICAgWzUxLjk2Mzc1LCAxLjM1MTFdLAogICAgICAgICAgICB7CiAgICAgICAgICAgICAgICBpY29uOiBuZXcgTC5JY29uLkRlZmF1bHQoKSwKICAgICAgICAgICAgICAgIH0KICAgICAgICAgICAgKS5hZGRUbyhtYXBfYmY3NmZkOTA4YzJlNDk5YWJiODcyMThhM2Y3YmI2NDQpOwogICAgICAgIAogICAgCiAgICAgICAgbWFya2VyX2RkY2RiYmU1ZGYzZTQ0MjdiYzRlYmRkYTBhMzU5MThiLmJpbmRUb29sdGlwKAogICAgICAgICAgICBgPGRpdj5gCiAgICAgICAgICAgICsgYFBvcHVsYXRpb24gMjM2ODlgICsgYDwvZGl2PmAsCiAgICAgICAgICAgIHsic3RpY2t5IjogdHJ1ZX0KICAgICAgICApOwogICAgICAgIAogICAgCiAgICAgICAgICAgICAgICB2YXIgcG9seV9saW5lX2NlMjgzOTNmNjBhZDRkNzRiOGU4MzU3MWIxZmY4OTM2ID0gTC5wb2x5bGluZSgKICAgICAgICAgICAgICAgICAgICBbW1s1MS45NjM3NSwgMS4zNTExXSwgWzUxLjk3NzUsIDQuMTMzMzNdXV0sCiAgICAgICAgICAgICAgICAgICAgewogICJidWJibGluZ01vdXNlRXZlbnRzIjogdHJ1ZSwKICAiY29sb3IiOiAicmVkIiwKICAiZGFzaEFycmF5IjogbnVsbCwKICAiZGFzaE9mZnNldCI6IG51bGwsCiAgImZpbGwiOiBmYWxzZSwKICAiZmlsbENvbG9yIjogInJlZCIsCiAgImZpbGxPcGFjaXR5IjogMC4yLAogICJmaWxsUnVsZSI6ICJldmVub2RkIiwKICAibGluZUNhcCI6ICJyb3VuZCIsCiAgImxpbmVKb2luIjogInJvdW5kIiwKICAibm9DbGlwIjogZmFsc2UsCiAgIm9wYWNpdHkiOiAxLAogICJzbW9vdGhGYWN0b3IiOiAxLjAsCiAgInN0cm9rZSI6IHRydWUsCiAgIndlaWdodCI6IDIuNQp9CiAgICAgICAgICAgICAgICAgICAgKQogICAgICAgICAgICAgICAgICAgIC5hZGRUbyhtYXBfYmY3NmZkOTA4YzJlNDk5YWJiODcyMThhM2Y3YmI2NDQpOwogICAgICAgICAgICAKICAgIAogICAgICAgIHZhciBtYXJrZXJfMmUyYTQ2MGU0NmRmNGM0YThhMmU0MGE1ZWM0ZjUzNzUgPSBMLm1hcmtlcigKICAgICAgICAgICAgWzUyLjA1OTE3LCAxLjE1NTQ1XSwKICAgICAgICAgICAgewogICAgICAgICAgICAgICAgaWNvbjogbmV3IEwuSWNvbi5EZWZhdWx0KCksCiAgICAgICAgICAgICAgICB9CiAgICAgICAgICAgICkuYWRkVG8obWFwX2JmNzZmZDkwOGMyZTQ5OWFiYjg3MjE4YTNmN2JiNjQ0KTsKICAgICAgICAKICAgIAogICAgICAgIG1hcmtlcl8yZTJhNDYwZTQ2ZGY0YzRhOGEyZTQwYTVlYzRmNTM3NS5iaW5kVG9vbHRpcCgKICAgICAgICAgICAgYDxkaXY+YAogICAgICAgICAgICArIGBQb3B1bGF0aW9uIDEzMzM4NGAgKyBgPC9kaXY+YCwKICAgICAgICAgICAgeyJzdGlja3kiOiB0cnVlfQogICAgICAgICk7CiAgICAgICAgCiAgICAKICAgICAgICAgICAgICAgIHZhciBwb2x5X2xpbmVfZWFiZmE5MTNmOWE2NDY3NGIwMTYwMzE5YmU3ZDYxNDcgPSBMLnBvbHlsaW5lKAogICAgICAgICAgICAgICAgICAgIFtbWzUyLjA1OTE3LCAxLjE1NTQ1XSwgWzUxLjk2Mzc1LCAxLjM1MTFdXV0sCiAgICAgICAgICAgICAgICAgICAgewogICJidWJibGluZ01vdXNlRXZlbnRzIjogdHJ1ZSwKICAiY29sb3IiOiAicmVkIiwKICAiZGFzaEFycmF5IjogbnVsbCwKICAiZGFzaE9mZnNldCI6IG51bGwsCiAgImZpbGwiOiBmYWxzZSwKICAiZmlsbENvbG9yIjogInJlZCIsCiAgImZpbGxPcGFjaXR5IjogMC4yLAogICJmaWxsUnVsZSI6ICJldmVub2RkIiwKICAibGluZUNhcCI6ICJyb3VuZCIsCiAgImxpbmVKb2luIjogInJvdW5kIiwKICAibm9DbGlwIjogZmFsc2UsCiAgIm9wYWNpdHkiOiAxLAogICJzbW9vdGhGYWN0b3IiOiAxLjAsCiAgInN0cm9rZSI6IHRydWUsCiAgIndlaWdodCI6IDIuNQp9CiAgICAgICAgICAgICAgICAgICAgKQogICAgICAgICAgICAgICAgICAgIC5hZGRUbyhtYXBfYmY3NmZkOTA4YzJlNDk5YWJiODcyMThhM2Y3YmI2NDQpOwogICAgICAgICAgICAKICAgIAogICAgICAgIHZhciBtYXJrZXJfNWM2ZTgwNGZmMTA0NGNkZjg4ZmRlNWJkNGE5Yzc5MGIgPSBMLm1hcmtlcigKICAgICAgICAgICAgWzUxLjg4OTIxLCAwLjkwNDIxXSwKICAgICAgICAgICAgewogICAgICAgICAgICAgICAgaWNvbjogbmV3IEwuSWNvbi5EZWZhdWx0KCksCiAgICAgICAgICAgICAgICB9CiAgICAgICAgICAgICkuYWRkVG8obWFwX2JmNzZmZDkwOGMyZTQ5OWFiYjg3MjE4YTNmN2JiNjQ0KTsKICAgICAgICAKICAgIAogICAgICAgIG1hcmtlcl81YzZlODA0ZmYxMDQ0Y2RmODhmZGU1YmQ0YTljNzkwYi5iaW5kVG9vbHRpcCgKICAgICAgICAgICAgYDxkaXY+YAogICAgICAgICAgICArIGBQb3B1bGF0aW9uIDEwNDM5MGAgKyBgPC9kaXY+YCwKICAgICAgICAgICAgeyJzdGlja3kiOiB0cnVlfQogICAgICAgICk7CiAgICAgICAgCiAgICAKICAgICAgICAgICAgICAgIHZhciBwb2x5X2xpbmVfYzE4NzMxMGRmZTFjNDM5Yzg3ODI3NDMzZWFkNWQ2MzkgPSBMLnBvbHlsaW5lKAogICAgICAgICAgICAgICAgICAgIFtbWzUxLjg4OTIxLCAwLjkwNDIxXSwgWzUyLjA1OTE3LCAxLjE1NTQ1XV1dLAogICAgICAgICAgICAgICAgICAgIHsKICAiYnViYmxpbmdNb3VzZUV2ZW50cyI6IHRydWUsCiAgImNvbG9yIjogInJlZCIsCiAgImRhc2hBcnJheSI6IG51bGwsCiAgImRhc2hPZmZzZXQiOiBudWxsLAogICJmaWxsIjogZmFsc2UsCiAgImZpbGxDb2xvciI6ICJyZWQiLAogICJmaWxsT3BhY2l0eSI6IDAuMiwKICAiZmlsbFJ1bGUiOiAiZXZlbm9kZCIsCiAgImxpbmVDYXAiOiAicm91bmQiLAogICJsaW5lSm9pbiI6ICJyb3VuZCIsCiAgIm5vQ2xpcCI6IGZhbHNlLAogICJvcGFjaXR5IjogMSwKICAic21vb3RoRmFjdG9yIjogMS4wLAogICJzdHJva2UiOiB0cnVlLAogICJ3ZWlnaHQiOiAyLjUKfQogICAgICAgICAgICAgICAgICAgICkKICAgICAgICAgICAgICAgICAgICAuYWRkVG8obWFwX2JmNzZmZDkwOGMyZTQ5OWFiYjg3MjE4YTNmN2JiNjQ0KTsKICAgICAgICAgICAgCiAgICAKICAgICAgICB2YXIgbWFya2VyX2I3Y2Y2MjVhY2QwNjQ5MDQ5Y2VmMThhZWZlOWViMmVkID0gTC5tYXJrZXIoCiAgICAgICAgICAgIFs1MS41MDk4NjUsIC0wLjExODA5Ml0sCiAgICAgICAgICAgIHsKICAgICAgICAgICAgICAgIGljb246IG5ldyBMLkljb24uRGVmYXVsdCgpLAogICAgICAgICAgICAgICAgfQogICAgICAgICAgICApLmFkZFRvKG1hcF9iZjc2ZmQ5MDhjMmU0OTlhYmI4NzIxOGEzZjdiYjY0NCk7CiAgICAgICAgCiAgICAKICAgICAgICBtYXJrZXJfYjdjZjYyNWFjZDA2NDkwNDljZWYxOGFlZmU5ZWIyZWQuYmluZFRvb2x0aXAoCiAgICAgICAgICAgIGA8ZGl2PmAKICAgICAgICAgICAgKyBgUG9wdWxhdGlvbiA4Nzg3ODkyYCArIGA8L2Rpdj5gLAogICAgICAgICAgICB7InN0aWNreSI6IHRydWV9CiAgICAgICAgKTsKICAgICAgICAKICAgIAogICAgICAgICAgICAgICAgdmFyIHBvbHlfbGluZV84ZGIzODAxY2I5Nzg0YjlkODg4OTdiZGYwMWM0N2RmOSA9IEwucG9seWxpbmUoCiAgICAgICAgICAgICAgICAgICAgW1tbNTEuNTA5ODY1LCAtMC4xMTgwOTJdLCBbNTEuODg5MjEsIDAuOTA0MjFdXV0sCiAgICAgICAgICAgICAgICAgICAgewogICJidWJibGluZ01vdXNlRXZlbnRzIjogdHJ1ZSwKICAiY29sb3IiOiAicmVkIiwKICAiZGFzaEFycmF5IjogbnVsbCwKICAiZGFzaE9mZnNldCI6IG51bGwsCiAgImZpbGwiOiBmYWxzZSwKICAiZmlsbENvbG9yIjogInJlZCIsCiAgImZpbGxPcGFjaXR5IjogMC4yLAogICJmaWxsUnVsZSI6ICJldmVub2RkIiwKICAibGluZUNhcCI6ICJyb3VuZCIsCiAgImxpbmVKb2luIjogInJvdW5kIiwKICAibm9DbGlwIjogZmFsc2UsCiAgIm9wYWNpdHkiOiAxLAogICJzbW9vdGhGYWN0b3IiOiAxLjAsCiAgInN0cm9rZSI6IHRydWUsCiAgIndlaWdodCI6IDIuNQp9CiAgICAgICAgICAgICAgICAgICAgKQogICAgICAgICAgICAgICAgICAgIC5hZGRUbyhtYXBfYmY3NmZkOTA4YzJlNDk5YWJiODcyMThhM2Y3YmI2NDQpOwogICAgICAgICAgICAKICAgIAogICAgICAgIHZhciBtYXJrZXJfNmQyNWVkMTg4ZGM4NDQyMWE4ZDM5YmRkMWU5ZGUxOTcgPSBMLm1hcmtlcigKICAgICAgICAgICAgWzUxLjkyMjUsIDQuNDc5MTddLAogICAgICAgICAgICB7CiAgICAgICAgICAgICAgICBpY29uOiBuZXcgTC5JY29uLkRlZmF1bHQoKSwKICAgICAgICAgICAgICAgIH0KICAgICAgICAgICAgKS5hZGRUbyhtYXBfYmY3NmZkOTA4YzJlNDk5YWJiODcyMThhM2Y3YmI2NDQpOwogICAgICAgIAogICAgCiAgICAgICAgbWFya2VyXzZkMjVlZDE4OGRjODQ0MjFhOGQzOWJkZDFlOWRlMTk3LmJpbmRUb29sdGlwKAogICAgICAgICAgICBgPGRpdj5gCiAgICAgICAgICAgICsgYFBvcHVsYXRpb24gNjIzNjUyYCArIGA8L2Rpdj5gLAogICAgICAgICAgICB7InN0aWNreSI6IHRydWV9CiAgICAgICAgKTsKICAgICAgICAKICAgIAogICAgICAgIHZhciBtYXJrZXJfYjFjZTYxMDYzMTk2NGNlYjlkMDg3NDE2MGE5OGYwNGYgPSBMLm1hcmtlcigKICAgICAgICAgICAgWzUyLjAxNjY3LCA0LjcwODMzXSwKICAgICAgICAgICAgewogICAgICAgICAgICAgICAgaWNvbjogbmV3IEwuSWNvbi5EZWZhdWx0KCksCiAgICAgICAgICAgICAgICB9CiAgICAgICAgICAgICkuYWRkVG8obWFwX2JmNzZmZDkwOGMyZTQ5OWFiYjg3MjE4YTNmN2JiNjQ0KTsKICAgICAgICAKICAgIAogICAgICAgIG1hcmtlcl9iMWNlNjEwNjMxOTY0Y2ViOWQwODc0MTYwYTk4ZjA0Zi5iaW5kVG9vbHRpcCgKICAgICAgICAgICAgYDxkaXY+YAogICAgICAgICAgICArIGBQb3B1bGF0aW9uIDcwOTM5YCArIGA8L2Rpdj5gLAogICAgICAgICAgICB7InN0aWNreSI6IHRydWV9CiAgICAgICAgKTsKICAgICAgICAKICAgIAogICAgICAgICAgICAgICAgdmFyIHBvbHlfbGluZV9lZGJjZDcyYTkxNWE0MmI3ODc5YzA5MTBmNWNiMWE4ZiA9IEwucG9seWxpbmUoCiAgICAgICAgICAgICAgICAgICAgW1tbNTIuMDE2NjcsIDQuNzA4MzNdLCBbNTEuOTIyNSwgNC40NzkxN11dLCBbWzUyLjAxNjY3LCA0LjcwODMzXSwgWzUyLjA5Mjg3NiwgNS4xMDQ0OF1dXSwKICAgICAgICAgICAgICAgICAgICB7CiAgImJ1YmJsaW5nTW91c2VFdmVudHMiOiB0cnVlLAogICJjb2xvciI6ICJyZWQiLAogICJkYXNoQXJyYXkiOiBudWxsLAogICJkYXNoT2Zmc2V0IjogbnVsbCwKICAiZmlsbCI6IGZhbHNlLAogICJmaWxsQ29sb3IiOiAicmVkIiwKICAiZmlsbE9wYWNpdHkiOiAwLjIsCiAgImZpbGxSdWxlIjogImV2ZW5vZGQiLAogICJsaW5lQ2FwIjogInJvdW5kIiwKICAibGluZUpvaW4iOiAicm91bmQiLAogICJub0NsaXAiOiBmYWxzZSwKICAib3BhY2l0eSI6IDEsCiAgInNtb290aEZhY3RvciI6IDEuMCwKICAic3Ryb2tlIjogdHJ1ZSwKICAid2VpZ2h0IjogMi41Cn0KICAgICAgICAgICAgICAgICAgICApCiAgICAgICAgICAgICAgICAgICAgLmFkZFRvKG1hcF9iZjc2ZmQ5MDhjMmU0OTlhYmI4NzIxOGEzZjdiYjY0NCk7CiAgICAgICAgICAgIAo8L3NjcmlwdD4= onload=\"this.contentDocument.open();this.contentDocument.write(atob(this.getAttribute('data-html')));this.contentDocument.close();\" allowfullscreen webkitallowfullscreen mozallowfullscreen></iframe></div></div>"
            ],
            "text/plain": [
              "<folium.folium.Map at 0x7fe4d8577668>"
            ]
          },
          "metadata": {
            "tags": []
          },
          "execution_count": 44
        }
      ]
    },
    {
      "cell_type": "markdown",
      "metadata": {
        "id": "lCrpcENTyp9m",
        "colab_type": "text"
      },
      "source": [
        "### Partie 3\n",
        "* Implementer les classes File et Pile en utilisant les list en python\n",
        "* Quelques liens interessants:\n",
        "https://openclassrooms.com/fr/courses/900279-apprenez-a-programmer-avec-ada/2144666-les-types-abstraits-de-donnees-listes-files-piles\n",
        "\n",
        "https://fr.wikipedia.org/wiki/Type_abstrait\n",
        "\n",
        "http://www.csi.uottawa.ca/~flocchin/CSI2510/CSI2510PileFile.pdf\n",
        "\n"
      ]
    },
    {
      "cell_type": "code",
      "metadata": {
        "id": "ubZTFMRvyp9m",
        "colab_type": "code",
        "colab": {}
      },
      "source": [
        "\n",
        "\n",
        "class Pile():\n",
        "    '''\n",
        "    Classe Pile: voir les definitions ci-dessous\n",
        "    La classe dispose d'une structure de type list pour ranger les données\n",
        "    Les consultations, les insertions, les suppressions se font du même cote\n",
        "    Dernier arrive premier servi : LIFO\n",
        "    '''\n",
        "    def __init__(self):\n",
        "        self.elements = []\n",
        "    '''\n",
        "    Insere un objet en tete de la pile\n",
        "    '''\n",
        "    def push(self,noeud):\n",
        "        self.elements.append(noeud)\n",
        "    '''\n",
        "    Retourne True si  un noeud est dans la pile\n",
        "    '''\n",
        "    \n",
        "    def contains_noeud(self, name):\n",
        "        \n",
        "        for noeud in self.elements:\n",
        "            if noeud.name == name:\n",
        "                return True\n",
        "        return False\n",
        "                \n",
        "    '''\n",
        "    Retourne true si la pile est vide\n",
        "    '''\n",
        "    def empty(self):\n",
        "        return len(self.elements) == 0\n",
        "    '''\n",
        "    Retourne et supprime l'element en tete de pile\n",
        "    Retourne une exception si la pile est vide\n",
        "    '''\n",
        "    def remove(self):\n",
        "        if self.empty():\n",
        "            raise Exception(\"Pile vide\")\n",
        "        else:\n",
        "            noeud = self.elements[-1]\n",
        "            self.elements = self.elements[:-1]\n",
        "            return noeud\n",
        "\n",
        "\n",
        "\n"
      ],
      "execution_count": 45,
      "outputs": []
    },
    {
      "cell_type": "code",
      "metadata": {
        "id": "t1s7Dh_-yp9p",
        "colab_type": "code",
        "colab": {}
      },
      "source": [
        "\n",
        "class File(Pile):\n",
        "    '''\n",
        "    Classe File: voir les definitions ci-dessous\n",
        "    La classe dispose d'une structure de type list pour ranger les données\n",
        "    Les éléments sont enfilés (insérés) du coté arrière et défilés (retirés)\n",
        "    du coté avant\n",
        "    Premier arrive premier servi : FIFO\n",
        "    File et Pile peuvent partager certaines methodes donc utilisez l'heritage pour definir\n",
        "    la classe File. \n",
        "    Normalement vous ne devez changer l'implementation d'une seule methode\n",
        "    '''\n",
        "\n",
        "    def remove(self):\n",
        "        if self.empty():\n",
        "            raise Exception(\"empty frontier\")\n",
        "        else:\n",
        "            noeud = self.elements[0]\n",
        "            self.elements = self.elements[1:]\n",
        "            return noeud"
      ],
      "execution_count": 46,
      "outputs": []
    },
    {
      "cell_type": "markdown",
      "metadata": {
        "collapsed": true,
        "id": "g_OlzA8Zyp9s",
        "colab_type": "text"
      },
      "source": [
        "### Partie 3\n",
        "* Implementer les algorithmes de parcours de graphe: BFS ET DFS\n",
        "* Algorithme BFS et DFS\n",
        "https://fr.wikipedia.org/wiki/Algorithme_de_parcours_en_largeur\n",
        "https://fr.wikipedia.org/wiki/Algorithme_de_parcours_en_profondeur\n",
        "Les deux parcours utilisent le même algorithme mais différent suivant la structure de données utilisée comme frontiére. La frontiére est une structure de données qui permet manipuler les noeuds intermediaires. \n",
        "#### Algorithme\n",
        "* On met le noeud source dans la frontiére\n",
        "* On cree une structure vide devant contenir les noeuds explorés\n",
        "* Repeter\n",
        "    * Si la frontiere est vide pas de solution\n",
        "    * Prendre un noeud dans la frontiere ( idée de suppression)\n",
        "    * Si le noeud est le noeud destination alors solution\n",
        "    * Sinon:\n",
        "        * Mettre le noeud dans l'ensemble des noeuds deja explorés\n",
        "        * Ajouter les voisins dans la frontiére s'ils ne sont pas dans la frontiere et s'ils ne sont pas deja explores\n",
        "\n"
      ]
    },
    {
      "cell_type": "code",
      "metadata": {
        "id": "16Ru1a1wyp9s",
        "colab_type": "code",
        "colab": {}
      },
      "source": [
        "'''\n",
        "Implémenter le parcours en profondeur non recursif entre deux noeuds\n",
        "'''\n",
        "\n",
        "def parcoursDFS(myGraphe,noeudSRC,noeudDST):\n",
        "        \"\"\"Trouver un parcours DFS entre noeudSRC et noeudDST\"\"\"\n",
        "\n",
        "        # Keep track of number of states explored\n",
        "        num_explored = 0\n",
        "\n",
        "        # Initialize frontier to just the starting position\n",
        "        #start = Node(state=self.start, parent=None, action=None)\n",
        "        frontiere = Pile()\n",
        "        frontiere.push(noeudSRC)\n",
        "\n",
        "        # Initialize an empty explored set\n",
        "        explored = set()\n",
        "\n",
        "        # Keep looping until solution found\n",
        "        while True:\n",
        "\n",
        "            # If nothing left in frontier, then no path\n",
        "            if frontiere.empty():\n",
        "                raise Exception(\"no solution\")\n",
        "\n",
        "            # Choose a node from the frontier\n",
        "            node = frontiere.remove()\n",
        "            num_explored += 1\n",
        "\n",
        "            # If node is the goal, then we have a solution\n",
        "            if node.egal(noeudDST):\n",
        "                \n",
        "                \n",
        "                explored.add(noeudDST.name)\n",
        "                return explored, num_explored\n",
        "\n",
        "            # Mark node as explored\n",
        "            explored.add(node.name)\n",
        "\n",
        "            # Add neighbors to frontier\n",
        "            for n in myGraphe.getVoisins(node):\n",
        "                \n",
        "                if not frontiere.contains_noeud(n[0]) and n[0] not in explored:\n",
        "                    \n",
        "                    frontiere.push(myGraphe.getNoeud(n[0]))\n",
        "\n"
      ],
      "execution_count": 47,
      "outputs": []
    },
    {
      "cell_type": "code",
      "metadata": {
        "id": "3mj-kAssyp9v",
        "colab_type": "code",
        "colab": {
          "base_uri": "https://localhost:8080/",
          "height": 531
        },
        "outputId": "a9c3b632-6d3c-4091-b062-43a4689c2e88"
      },
      "source": [
        "G.visualiserFolium(explored = list(parcoursDFS(G,G.noeuds[0],G.noeuds[1])[0]))"
      ],
      "execution_count": 48,
      "outputs": [
        {
          "output_type": "execute_result",
          "data": {
            "text/html": [
              "<div style=\"width:100%;\"><div style=\"position:relative;width:100%;height:0;padding-bottom:60%;\"><span style=\"color:#565656\">Make this Notebook Trusted to load map: File -> Trust Notebook</span><iframe src=\"about:blank\" style=\"position:absolute;width:100%;height:100%;left:0;top:0;border:none !important;\" data-html=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 onload=\"this.contentDocument.open();this.contentDocument.write(atob(this.getAttribute('data-html')));this.contentDocument.close();\" allowfullscreen webkitallowfullscreen mozallowfullscreen></iframe></div></div>"
            ],
            "text/plain": [
              "<folium.folium.Map at 0x7fe4d84eca20>"
            ]
          },
          "metadata": {
            "tags": []
          },
          "execution_count": 48
        }
      ]
    },
    {
      "cell_type": "code",
      "metadata": {
        "id": "zDmFuGh7yp9x",
        "colab_type": "code",
        "colab": {}
      },
      "source": [
        ""
      ],
      "execution_count": null,
      "outputs": []
    },
    {
      "cell_type": "code",
      "metadata": {
        "id": "LNa76FCvyp9z",
        "colab_type": "code",
        "colab": {}
      },
      "source": [
        "#### Exercice: Implementer le parcours en profondeur recursif"
      ],
      "execution_count": null,
      "outputs": []
    },
    {
      "cell_type": "code",
      "metadata": {
        "id": "ATPpXyS-yp91",
        "colab_type": "code",
        "colab": {}
      },
      "source": [
        "'''\n",
        "Implémenter le parcours en profondeur non recursif entre deux noeuds\n",
        "'''\n",
        "\n",
        "def parcoursBFS(myGraphe,noeudSRC,noeudDST):\n",
        "        \"\"\"Trouver un parcours DFS entre noeudSRC et noeudDST\"\"\"\n",
        "\n",
        "        # Keep track of number of states explored\n",
        "        num_explored = 0\n",
        "\n",
        "        # Initialize frontier to just the starting position\n",
        "        #start = Node(state=self.start, parent=None, action=None)\n",
        "        frontiere = File()\n",
        "        frontiere.push(noeudSRC)\n",
        "\n",
        "        # Initialize an empty explored set\n",
        "        explored = set()\n",
        "\n",
        "        # Keep looping until solution found\n",
        "        while True:\n",
        "\n",
        "            # If nothing left in frontier, then no path\n",
        "            if frontiere.empty():\n",
        "                raise Exception(\"no solution\")\n",
        "\n",
        "            # Choose a node from the frontier\n",
        "            node = frontiere.remove()\n",
        "            num_explored += 1\n",
        "\n",
        "            # If node is the goal, then we have a solution\n",
        "            if node.egal(noeudDST):\n",
        "                \n",
        "                \n",
        "                explored.add(noeudDST.name)\n",
        "                return explored, num_explored\n",
        "\n",
        "            # Mark node as explored\n",
        "            explored.add(node.name)\n",
        "\n",
        "            # Add neighbors to frontier\n",
        "            for n in myGraphe.getVoisins(node):\n",
        "                \n",
        "                if not frontiere.contains_noeud(n[0]) and n[0] not in explored:\n",
        "                    \n",
        "                    frontiere.push(myGraphe.getNoeud(n[0]))\n",
        "\n"
      ],
      "execution_count": 49,
      "outputs": []
    },
    {
      "cell_type": "code",
      "metadata": {
        "id": "lR3lzwbnyp93",
        "colab_type": "code",
        "colab": {
          "base_uri": "https://localhost:8080/",
          "height": 531
        },
        "outputId": "0ee1e3a5-aa9b-4ff3-dfe1-05c5c69aac17"
      },
      "source": [
        "G.visualiserFolium(explored = list(parcoursBFS(G,G.noeuds[0],G.noeuds[1])[0]))"
      ],
      "execution_count": 50,
      "outputs": [
        {
          "output_type": "execute_result",
          "data": {
            "text/html": [
              "<div style=\"width:100%;\"><div style=\"position:relative;width:100%;height:0;padding-bottom:60%;\"><span style=\"color:#565656\">Make this Notebook Trusted to load map: File -> Trust Notebook</span><iframe src=\"about:blank\" style=\"position:absolute;width:100%;height:100%;left:0;top:0;border:none !important;\" data-html=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 onload=\"this.contentDocument.open();this.contentDocument.write(atob(this.getAttribute('data-html')));this.contentDocument.close();\" allowfullscreen webkitallowfullscreen mozallowfullscreen></iframe></div></div>"
            ],
            "text/plain": [
              "<folium.folium.Map at 0x7fe4d8491e10>"
            ]
          },
          "metadata": {
            "tags": []
          },
          "execution_count": 50
        }
      ]
    },
    {
      "cell_type": "markdown",
      "metadata": {
        "collapsed": true,
        "id": "Gb7kFDRfyp95",
        "colab_type": "text"
      },
      "source": [
        "### Partie 4\n",
        "* Implementer les algorithmes A star où le choix se portera sur le voisin ayant le plus petit coût\n",
        "\n"
      ]
    },
    {
      "cell_type": "code",
      "metadata": {
        "id": "deyskZUJyp96",
        "colab_type": "code",
        "colab": {}
      },
      "source": [
        ""
      ],
      "execution_count": null,
      "outputs": []
    }
  ]
}